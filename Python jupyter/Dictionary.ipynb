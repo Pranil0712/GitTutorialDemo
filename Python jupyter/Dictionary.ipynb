{
 "cells": [
  {
   "cell_type": "code",
   "execution_count": 1,
   "id": "51b24477",
   "metadata": {},
   "outputs": [
    {
     "name": "stdout",
     "output_type": "stream",
     "text": [
      "{'x': 300, 'y': 400} 2\n"
     ]
    }
   ],
   "source": [
    "p={\"x\":100,\"y\":200,\"y\":400,\"x\":300}\n",
    "print(p,len(p))"
   ]
  },
  {
   "cell_type": "code",
   "execution_count": 3,
   "id": "f6dab740",
   "metadata": {},
   "outputs": [
    {
     "name": "stdout",
     "output_type": "stream",
     "text": [
      "name <class 'str'>\n",
      "age <class 'str'>\n",
      "height <class 'str'>\n",
      "Ajay\n",
      "25\n",
      "6.2\n"
     ]
    }
   ],
   "source": [
    "details={\"name\":\"Ajay\",\"age\":25,\"height\":6.2}\n",
    "for p in details:\n",
    "    print(p,type(p))\n",
    "for p in details:\n",
    "    print(details[p])"
   ]
  },
  {
   "cell_type": "code",
   "execution_count": 6,
   "id": "5ab39918",
   "metadata": {},
   "outputs": [
    {
     "name": "stdout",
     "output_type": "stream",
     "text": [
      "{}\n",
      "<class 'dict'>\n"
     ]
    }
   ],
   "source": [
    "a={}\n",
    "print(a)\n",
    "print(type(a))"
   ]
  },
  {
   "cell_type": "code",
   "execution_count": 7,
   "id": "014a0331",
   "metadata": {},
   "outputs": [
    {
     "name": "stdout",
     "output_type": "stream",
     "text": [
      "{10, 20} <class 'set'>\n"
     ]
    }
   ],
   "source": [
    "a={10,20}\n",
    "print(a,type(a))"
   ]
  },
  {
   "cell_type": "code",
   "execution_count": 12,
   "id": "5803d049",
   "metadata": {},
   "outputs": [
    {
     "name": "stdout",
     "output_type": "stream",
     "text": [
      "{'rank': 15} 1939755713088 1 1939755713088\n"
     ]
    }
   ],
   "source": [
    "d={\"rank\":15}\n",
    "print(d,id(d),len(d),id(d))"
   ]
  },
  {
   "cell_type": "code",
   "execution_count": 10,
   "id": "74e182ad",
   "metadata": {},
   "outputs": [
    {
     "name": "stdout",
     "output_type": "stream",
     "text": [
      "{'rank': 15} <class 'dict'> 1 1939755779264\n"
     ]
    }
   ],
   "source": [
    "c=dict(d)\n",
    "print(c,type(c),len(c),id(c))"
   ]
  },
  {
   "cell_type": "code",
   "execution_count": 13,
   "id": "c4a53375",
   "metadata": {},
   "outputs": [
    {
     "name": "stdout",
     "output_type": "stream",
     "text": [
      "{'rank': 15} <class 'dict'> 1939755713088 1\n",
      "{'rank': 15} <class 'dict'> 1939755713088 1\n"
     ]
    }
   ],
   "source": [
    "e=d\n",
    "print(e,type(e),id(e),len(e))\n",
    "print(d,type(d),id(d),len(d))"
   ]
  },
  {
   "cell_type": "code",
   "execution_count": 15,
   "id": "7aec0ac4",
   "metadata": {},
   "outputs": [
    {
     "name": "stdout",
     "output_type": "stream",
     "text": [
      "10 <class 'int'>\n"
     ]
    }
   ],
   "source": [
    "x=int(\"10\")\n",
    "print(x,type(x))"
   ]
  },
  {
   "cell_type": "code",
   "execution_count": 17,
   "id": "87468d61",
   "metadata": {},
   "outputs": [
    {
     "ename": "SyntaxError",
     "evalue": "invalid syntax (3926475876.py, line 1)",
     "output_type": "error",
     "traceback": [
      "\u001b[1;36m  Input \u001b[1;32mIn [17]\u001b[1;36m\u001b[0m\n\u001b[1;33m    p=dict{[(\"kohli\",30),(\"Dhoni\",36),(\"Rohith\",)]}\u001b[0m\n\u001b[1;37m          ^\u001b[0m\n\u001b[1;31mSyntaxError\u001b[0m\u001b[1;31m:\u001b[0m invalid syntax\n"
     ]
    }
   ],
   "source": [
    "p=dict{[(\"kohli\",30),(\"Dhoni\",36),(\"Rohith\",)]}\n",
    "print(p,type(p))"
   ]
  },
  {
   "cell_type": "code",
   "execution_count": 20,
   "id": "ab2055b3",
   "metadata": {},
   "outputs": [
    {
     "name": "stdout",
     "output_type": "stream",
     "text": [
      "{'emps': ['John', 'Miller', 'Rahul', 'Ajay'], 'eid': [101, 102, 103, 104]} 2\n",
      "['John', 'Miller', 'Rahul', 'Ajay']\n",
      "dict['emps']\n"
     ]
    }
   ],
   "source": [
    "x={\"emps\":[\"John\",\"Miller\",\"Rahul\",\"Ajay\"],\"eid\":[101,102,103,104]}\n",
    "print(x,len(x))\n",
    "print(x[\"emps\"])\n",
    "print(type(x)[\"emps\"])"
   ]
  },
  {
   "cell_type": "code",
   "execution_count": 21,
   "id": "b6080762",
   "metadata": {},
   "outputs": [
    {
     "name": "stdout",
     "output_type": "stream",
     "text": [
      "[101, 102, 103, 104]\n"
     ]
    }
   ],
   "source": [
    "print(x[\"eid\"])"
   ]
  },
  {
   "cell_type": "code",
   "execution_count": 22,
   "id": "c2616e39",
   "metadata": {},
   "outputs": [
    {
     "name": "stdout",
     "output_type": "stream",
     "text": [
      "Rahul\n",
      "103\n"
     ]
    }
   ],
   "source": [
    "print(x[\"emps\"][2])\n",
    "print(x[\"eid\"][2])"
   ]
  },
  {
   "cell_type": "code",
   "execution_count": 23,
   "id": "6a40db7c",
   "metadata": {},
   "outputs": [
    {
     "name": "stdout",
     "output_type": "stream",
     "text": [
      "['Miller', 'Rahul']\n"
     ]
    }
   ],
   "source": [
    "print(x[\"emps\"][1:3])"
   ]
  },
  {
   "cell_type": "code",
   "execution_count": 25,
   "id": "0b9d9f63",
   "metadata": {},
   "outputs": [
    {
     "name": "stdout",
     "output_type": "stream",
     "text": [
      "John : 101\n",
      "Miller : 102\n",
      "Rahul : 103\n",
      "Ajay : 104\n"
     ]
    }
   ],
   "source": [
    "i=0\n",
    "for p in x[\"emps\"]:\n",
    "    print(p,\":\",x[\"eid\"][i])\n",
    "    i=i+1"
   ]
  },
  {
   "cell_type": "code",
   "execution_count": 1,
   "id": "aa5fbb92",
   "metadata": {},
   "outputs": [
    {
     "data": {
      "text/plain": [
       "dict_items([(1, 'A'), (2, 'B')])"
      ]
     },
     "execution_count": 1,
     "metadata": {},
     "output_type": "execute_result"
    }
   ],
   "source": [
    "d={1:\"A\",2:\"B\"}\n",
    "d.items()"
   ]
  },
  {
   "cell_type": "code",
   "execution_count": 4,
   "id": "b50677ad",
   "metadata": {},
   "outputs": [
    {
     "name": "stdout",
     "output_type": "stream",
     "text": [
      "{1: 10, 2: 20, 3: 30, 4: 40, 5: 50, 6: 60}\n"
     ]
    }
   ],
   "source": [
    "dic1={1:10, 2:20}\n",
    "dic2={3:30, 4:40}\n",
    "dic3={5:50,6:60}\n",
    "dic4={}\n",
    "for d in (dic1,dic2,dic3): dic4.update(d)\n",
    "print(dic4)"
   ]
  },
  {
   "cell_type": "code",
   "execution_count": 3,
   "id": "987de51e",
   "metadata": {},
   "outputs": [
    {
     "name": "stdout",
     "output_type": "stream",
     "text": [
      "Enter the no.of students3\n",
      "Enter Student name:Durga\n",
      "Enter Student marks:56\n",
      "Enter Student name:Ravi\n",
      "Enter Student marks:76\n",
      "Enter Student name:Murali\n",
      "Enter Student marks:95\n",
      "Name of Students \t % of Marks\n",
      "\t Durga \t\t 56\n",
      "\t Ravi \t\t 76\n",
      "\t Murali \t\t 95\n"
     ]
    }
   ],
   "source": [
    "#Program to enter name and percentage marks in a dictionary and display information on the screen\n",
    "rec={}\n",
    "n=int(input(\"Enter the no.of students\"))\n",
    "i=1\n",
    "while i<=n:\n",
    "    name=input(\"Enter Student name:\")\n",
    "    marks=int(input(\"Enter Student marks:\"))\n",
    "    rec[name]=marks\n",
    "    i+=1\n",
    "print(\"Name of Students\",\"\\t\",\"% of Marks\")\n",
    "for x in rec:\n",
    "    print(\"\\t\",x,\"\\t\\t\",rec[x])"
   ]
  },
  {
   "cell_type": "code",
   "execution_count": 9,
   "id": "528c8d62",
   "metadata": {},
   "outputs": [
    {
     "name": "stdout",
     "output_type": "stream",
     "text": [
      "Enter any word:mississippi\n",
      "m occurred 1 times\n",
      "i occurred 4 times\n",
      "s occurred 4 times\n",
      "p occurred 2 times\n"
     ]
    }
   ],
   "source": [
    "word=input(\"Enter any word:\")\n",
    "d={}\n",
    "for x in word:\n",
    "    d[x]=d.get(x,0)+1\n",
    "for k,v in d.items():   # or sorted(d.items())\n",
    "    print(k,\"occurred\",v,\"times\")"
   ]
  },
  {
   "cell_type": "code",
   "execution_count": 10,
   "id": "96783df7",
   "metadata": {},
   "outputs": [
    {
     "name": "stdout",
     "output_type": "stream",
     "text": [
      "Enter any word:Pranil\n",
      "a occured 1 times\n",
      "i occured 1 times\n"
     ]
    }
   ],
   "source": [
    "vowels={'a','e','i','o','u'}\n",
    "word=input(\"Enter any word:\")\n",
    "d={}\n",
    "for x in word:\n",
    "    if x in vowels:\n",
    "        d[x]=d.get(x,0)+1\n",
    "for k,v in sorted(d.items()):\n",
    "    print(k,\"occured\",v,\"times\")"
   ]
  },
  {
   "cell_type": "code",
   "execution_count": null,
   "id": "ab11b50a",
   "metadata": {},
   "outputs": [],
   "source": []
  }
 ],
 "metadata": {
  "kernelspec": {
   "display_name": "Python 3 (ipykernel)",
   "language": "python",
   "name": "python3"
  },
  "language_info": {
   "codemirror_mode": {
    "name": "ipython",
    "version": 3
   },
   "file_extension": ".py",
   "mimetype": "text/x-python",
   "name": "python",
   "nbconvert_exporter": "python",
   "pygments_lexer": "ipython3",
   "version": "3.9.12"
  }
 },
 "nbformat": 4,
 "nbformat_minor": 5
}
