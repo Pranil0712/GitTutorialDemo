{
 "cells": [
  {
   "cell_type": "code",
   "execution_count": 1,
   "id": "391c7108",
   "metadata": {},
   "outputs": [
    {
     "name": "stdout",
     "output_type": "stream",
     "text": [
      "Hello World\n"
     ]
    }
   ],
   "source": [
    "print(\"Hello World\")"
   ]
  },
  {
   "cell_type": "code",
   "execution_count": 4,
   "id": "f8bac086",
   "metadata": {},
   "outputs": [
    {
     "name": "stdout",
     "output_type": "stream",
     "text": [
      "[10, 20, 30, 40, 120]\n"
     ]
    }
   ],
   "source": [
    "l=[10,20,30,40]\n",
    "l.append(120)\n",
    "print(l)"
   ]
  },
  {
   "cell_type": "code",
   "execution_count": 5,
   "id": "1109b253",
   "metadata": {},
   "outputs": [
    {
     "name": "stdout",
     "output_type": "stream",
     "text": [
      "0\n",
      "1\n",
      "2\n",
      "3\n",
      "4\n",
      "5\n",
      "6\n",
      "7\n",
      "8\n",
      "9\n"
     ]
    }
   ],
   "source": [
    "r=range(10)\n",
    "for i in r: print(i)"
   ]
  },
  {
   "cell_type": "code",
   "execution_count": null,
   "id": "a6723fe6",
   "metadata": {},
   "outputs": [],
   "source": [
    "Arithmetic operations on boolean and float"
   ]
  },
  {
   "cell_type": "code",
   "execution_count": 13,
   "id": "bdd791fd",
   "metadata": {},
   "outputs": [
    {
     "name": "stdout",
     "output_type": "stream",
     "text": [
      "1\n",
      "3\n",
      "5\n",
      "7\n",
      "9\n"
     ]
    }
   ],
   "source": [
    "r=range(1,10,2)\n",
    "for i in r: print(i)"
   ]
  },
  {
   "cell_type": "code",
   "execution_count": 2,
   "id": "c8288a9e",
   "metadata": {},
   "outputs": [
    {
     "name": "stdout",
     "output_type": "stream",
     "text": [
      "hello3\n"
     ]
    }
   ],
   "source": [
    "print(\"hello\"+\"3\")"
   ]
  },
  {
   "cell_type": "code",
   "execution_count": 3,
   "id": "2a66e481",
   "metadata": {},
   "outputs": [
    {
     "name": "stdout",
     "output_type": "stream",
     "text": [
      "hello3\n"
     ]
    }
   ],
   "source": [
    "print(\"hello\"+str(3))"
   ]
  },
  {
   "cell_type": "code",
   "execution_count": 4,
   "id": "b2e98421",
   "metadata": {},
   "outputs": [
    {
     "name": "stdout",
     "output_type": "stream",
     "text": [
      "hellohellohello\n"
     ]
    }
   ],
   "source": [
    "print(\"hello\"*3)"
   ]
  },
  {
   "cell_type": "code",
   "execution_count": 5,
   "id": "931d0179",
   "metadata": {},
   "outputs": [
    {
     "name": "stdout",
     "output_type": "stream",
     "text": [
      "hellohellohello\n"
     ]
    }
   ],
   "source": [
    "print(3*\"hello\")"
   ]
  },
  {
   "cell_type": "code",
   "execution_count": 8,
   "id": "b9dd8c5f",
   "metadata": {},
   "outputs": [
    {
     "name": "stdout",
     "output_type": "stream",
     "text": [
      "True\n"
     ]
    }
   ],
   "source": [
    "x=10\n",
    "y=10\n",
    "print(x>=y)"
   ]
  },
  {
   "cell_type": "code",
   "execution_count": 9,
   "id": "5afd85df",
   "metadata": {},
   "outputs": [
    {
     "name": "stdout",
     "output_type": "stream",
     "text": [
      "True\n"
     ]
    }
   ],
   "source": [
    "print(x==y)"
   ]
  },
  {
   "cell_type": "code",
   "execution_count": 13,
   "id": "b1e5deed",
   "metadata": {},
   "outputs": [
    {
     "name": "stdout",
     "output_type": "stream",
     "text": [
      "True\n"
     ]
    }
   ],
   "source": [
    "x=10\n",
    "y=20\n",
    "z=30\n",
    "q=(x>y) and (z>x) or (y!=z)\n",
    "print(q)"
   ]
  },
  {
   "cell_type": "code",
   "execution_count": null,
   "id": "490f8d91",
   "metadata": {},
   "outputs": [],
   "source": [
    "q=(x>y) and (z>x) or (y!=z)\n",
    "print(q)"
   ]
  },
  {
   "cell_type": "code",
   "execution_count": 15,
   "id": "75bc6b0a",
   "metadata": {},
   "outputs": [
    {
     "name": "stdout",
     "output_type": "stream",
     "text": [
      "1000\n"
     ]
    }
   ],
   "source": [
    "x**=3\n",
    "print(x)"
   ]
  },
  {
   "cell_type": "code",
   "execution_count": 1,
   "id": "3ff0ec7e",
   "metadata": {},
   "outputs": [
    {
     "name": "stdout",
     "output_type": "stream",
     "text": [
      "10 1479648242256\n",
      "10 1479648242256\n"
     ]
    }
   ],
   "source": [
    "a=10\n",
    "b=10\n",
    "print(a,id(a))\n",
    "print(b,id(b))"
   ]
  },
  {
   "cell_type": "code",
   "execution_count": 2,
   "id": "f8228861",
   "metadata": {},
   "outputs": [
    {
     "name": "stdout",
     "output_type": "stream",
     "text": [
      "True\n"
     ]
    }
   ],
   "source": [
    "print(a is b)"
   ]
  },
  {
   "cell_type": "code",
   "execution_count": 5,
   "id": "9d7dee9f",
   "metadata": {},
   "outputs": [
    {
     "name": "stdout",
     "output_type": "stream",
     "text": [
      "True\n",
      "True\n",
      "False\n"
     ]
    }
   ],
   "source": [
    "print(a is b)\n",
    "print(a == b)\n",
    "print(a is not b)"
   ]
  },
  {
   "cell_type": "code",
   "execution_count": 8,
   "id": "27fd180f",
   "metadata": {},
   "outputs": [
    {
     "name": "stdout",
     "output_type": "stream",
     "text": [
      "[10, 20, 30, 40, 50] 1479734975744\n",
      "[10, 20, 30, 40, 50] 1479734965568\n",
      "False\n",
      "True\n"
     ]
    }
   ],
   "source": [
    "x=[10,20,30,40,50]\n",
    "y=[10,20,30,40,50]\n",
    "print(x,id(x))\n",
    "print(y,id(y))\n",
    "print(x is y)\n",
    "print(x == y)"
   ]
  },
  {
   "cell_type": "code",
   "execution_count": 9,
   "id": "519bdb05",
   "metadata": {},
   "outputs": [
    {
     "name": "stdout",
     "output_type": "stream",
     "text": [
      "True\n",
      "True\n"
     ]
    }
   ],
   "source": [
    "x=[10,20,30,40,50]\n",
    "print(10 in x)\n",
    "print(70 not in x)"
   ]
  },
  {
   "cell_type": "code",
   "execution_count": 10,
   "id": "245d2c98",
   "metadata": {},
   "outputs": [
    {
     "name": "stdout",
     "output_type": "stream",
     "text": [
      "False\n",
      "True\n"
     ]
    }
   ],
   "source": [
    "emps=[\"James\",\"Rahul\",\"Ajay\",\"Blake\",\"Amar\"]\n",
    "print(\"John\" in emps)\n",
    "print(\"Rahul\" in emps)"
   ]
  },
  {
   "cell_type": "code",
   "execution_count": 15,
   "id": "58533fad",
   "metadata": {},
   "outputs": [
    {
     "name": "stdout",
     "output_type": "stream",
     "text": [
      "2\n",
      "15\n",
      "13\n",
      "40\n",
      "2\n"
     ]
    }
   ],
   "source": [
    "a=10\n",
    "b=7\n",
    "print(a&b)\n",
    "print(a|b)\n",
    "print(a^b)\n",
    "print(a<<2)\n",
    "print(a>>2)"
   ]
  },
  {
   "cell_type": "code",
   "execution_count": 17,
   "id": "3e0c367e",
   "metadata": {},
   "outputs": [
    {
     "name": "stdout",
     "output_type": "stream",
     "text": [
      "Enter value of x:7\n",
      "FIVE\n",
      "SIX\n",
      "SEVEN\n",
      "EIGHT\n"
     ]
    }
   ],
   "source": [
    "x=int(input(\"Enter value of x:\"))\n",
    "if (x<=4):\n",
    "    print(\"ONE\")\n",
    "    print(\"TWO\")\n",
    "    print(\"THREE\")\n",
    "    print(\"FOUR\")\n",
    "else:\n",
    "    print(\"FIVE\")\n",
    "    print(\"SIX\")\n",
    "    print(\"SEVEN\")\n",
    "    print(\"EIGHT\")"
   ]
  },
  {
   "cell_type": "code",
   "execution_count": 2,
   "id": "2f6bfd6c",
   "metadata": {},
   "outputs": [
    {
     "name": "stdout",
     "output_type": "stream",
     "text": [
      "Enter value of x:2\n",
      "Enter the value of y:4\n",
      "No's are not equal\n"
     ]
    }
   ],
   "source": [
    "x=int(input(\"Enter value of x:\"))\n",
    "y=int(input(\"Enter the value of y:\"))\n",
    "if (x==y):\n",
    "    print(\"No's are equal\")\n",
    "else:\n",
    "    print(\"No's are not equal\")"
   ]
  },
  {
   "cell_type": "code",
   "execution_count": 1,
   "id": "0d820cc0",
   "metadata": {},
   "outputs": [
    {
     "name": "stdout",
     "output_type": "stream",
     "text": [
      "Enter value of x:5\n",
      "5 is a odd no\n"
     ]
    }
   ],
   "source": [
    "x=int(input(\"Enter value of x:\"))\n",
    "if (x%2==0):\n",
    "    print(x,\"is a even no\")\n",
    "else:\n",
    "    print(x,\"is a odd no\")"
   ]
  },
  {
   "cell_type": "code",
   "execution_count": 1,
   "id": "bfcbfe04",
   "metadata": {},
   "outputs": [
    {
     "name": "stdout",
     "output_type": "stream",
     "text": [
      "Enter value of x:10\n",
      "Enter value of y:20\n",
      "Enter value of z:40\n",
      "40 is the largest!!!\n"
     ]
    }
   ],
   "source": [
    "x=int(input(\"Enter value of x:\"))\n",
    "y=int(input(\"Enter value of y:\"))\n",
    "z=int(input(\"Enter value of z:\"))\n",
    "if(x>y):\n",
    "    if(x>z):\n",
    "        print(x,\"is the largest!!!\")\n",
    "    else:\n",
    "        print(z,\"is the largest!!!\")\n",
    "else:\n",
    "    if(y>z):\n",
    "        print(y,\"is the largest!!!\")\n",
    "    else:\n",
    "        print(z,\"is the largest!!!\")"
   ]
  },
  {
   "cell_type": "code",
   "execution_count": 4,
   "id": "6b7399b9",
   "metadata": {},
   "outputs": [
    {
     "name": "stdout",
     "output_type": "stream",
     "text": [
      "2022-06-03 20:21:20.888763\n"
     ]
    }
   ],
   "source": [
    "import datetime\n",
    "print(datetime.datetime.now())"
   ]
  },
  {
   "cell_type": "code",
   "execution_count": 7,
   "id": "9710da04",
   "metadata": {},
   "outputs": [
    {
     "name": "stdout",
     "output_type": "stream",
     "text": [
      "Enter the current time:20.27\n",
      "Good Night!!!\n"
     ]
    }
   ],
   "source": [
    "time=float(input(\"Enter the current time:\"))\n",
    "if(time<=12.00):\n",
    "    print(\"Good Morning!!!\")\n",
    "elif(time<=16.00):\n",
    "    print(\"Good Afternoon!!!\")\n",
    "elif(time<=20.00):\n",
    "    print(\"Good Evening!!!\")\n",
    "else:\n",
    "    print(\"Good Night!!!\")"
   ]
  },
  {
   "cell_type": "code",
   "execution_count": 12,
   "id": "f058be5c",
   "metadata": {},
   "outputs": [
    {
     "name": "stdout",
     "output_type": "stream",
     "text": [
      "2022-06-03 20:35:47.814285\n",
      "current hour is: 20\n",
      "Good Night!!!\n"
     ]
    }
   ],
   "source": [
    "import datetime\n",
    "date=datetime.datetime.now()\n",
    "print(date)\n",
    "hour=date.strftime(\"%H\")\n",
    "print(\"current hour is:\",hour)\n",
    "if(time<=12.00):\n",
    "    print(\"Good Morning!!!\")\n",
    "elif(time<=16.00):\n",
    "    print(\"Good Afternoon!!!\")\n",
    "elif(time<=20.00):\n",
    "    print(\"Good Evening!!!\")\n",
    "else:\n",
    "    print(\"Good Night!!!\")\n"
   ]
  },
  {
   "cell_type": "code",
   "execution_count": 13,
   "id": "03114346",
   "metadata": {},
   "outputs": [
    {
     "name": "stdout",
     "output_type": "stream",
     "text": [
      "2022-06-03 20:37:28.537139\n",
      "current hour is: 20.0\n",
      "Good Night!!!\n"
     ]
    }
   ],
   "source": [
    "import datetime\n",
    "date=datetime.datetime.now()\n",
    "print(date)\n",
    "hour=float(date.strftime(\"%H\"))\n",
    "print(\"current hour is:\",hour)\n",
    "if(time<=12.00):\n",
    "    print(\"Good Morning!!!\")\n",
    "elif(time<=16.00):\n",
    "    print(\"Good Afternoon!!!\")\n",
    "elif(time<=20.00):\n",
    "    print(\"Good Evening!!!\")\n",
    "else:\n",
    "    print(\"Good Night!!!\")\n"
   ]
  },
  {
   "cell_type": "code",
   "execution_count": null,
   "id": "46bd9991",
   "metadata": {},
   "outputs": [],
   "source": [
    "s1=90 ; s2=80 ; s3=70 ; s4=60 \n",
    "tot=s1+s2+s3+s4+s5\n",
    "per=(tot/500)*100\n",
    "\n",
    "print(\"Total\")\n"
   ]
  },
  {
   "cell_type": "code",
   "execution_count": 1,
   "id": "98528c6d",
   "metadata": {},
   "outputs": [
    {
     "name": "stdout",
     "output_type": "stream",
     "text": [
      "range(0, 10)\n",
      "<class 'range'>\n"
     ]
    }
   ],
   "source": [
    "x=range(10)\n",
    "print(x)\n",
    "print (type(x))"
   ]
  },
  {
   "cell_type": "code",
   "execution_count": 2,
   "id": "17d79eb5",
   "metadata": {},
   "outputs": [
    {
     "name": "stdout",
     "output_type": "stream",
     "text": [
      "10\n",
      "11\n",
      "12\n",
      "13\n",
      "14\n",
      "15\n",
      "16\n",
      "17\n",
      "18\n",
      "19\n"
     ]
    }
   ],
   "source": [
    "y=range(10,20)\n",
    "for q in y:\n",
    "    print(q)"
   ]
  },
  {
   "cell_type": "code",
   "execution_count": 3,
   "id": "c80febe5",
   "metadata": {},
   "outputs": [
    {
     "name": "stdout",
     "output_type": "stream",
     "text": [
      "20\n",
      "22\n",
      "24\n",
      "26\n",
      "28\n"
     ]
    }
   ],
   "source": [
    "z=range(20,30,2)\n",
    "for r in z:\n",
    "    print(r)"
   ]
  },
  {
   "cell_type": "code",
   "execution_count": 4,
   "id": "0511f7fa",
   "metadata": {},
   "outputs": [
    {
     "name": "stdout",
     "output_type": "stream",
     "text": [
      "40\n",
      "39\n",
      "38\n",
      "37\n",
      "36\n",
      "35\n",
      "34\n",
      "33\n",
      "32\n",
      "31\n"
     ]
    }
   ],
   "source": [
    "w=range(40,30,-1)\n",
    "for s in w:\n",
    "    print(s)"
   ]
  },
  {
   "cell_type": "code",
   "execution_count": 5,
   "id": "ebea95f8",
   "metadata": {},
   "outputs": [
    {
     "name": "stdout",
     "output_type": "stream",
     "text": [
      "Good Evening!!!\n",
      "Good Evening!!!\n",
      "Good Evening!!!\n",
      "Good Evening!!!\n",
      "Good Evening!!!\n",
      "Good Evening!!!\n",
      "Good Evening!!!\n",
      "Good Evening!!!\n",
      "Good Evening!!!\n",
      "Good Evening!!!\n",
      "Good Evening!!!\n",
      "Good Evening!!!\n",
      "Good Evening!!!\n",
      "Good Evening!!!\n",
      "Good Evening!!!\n",
      "Good Evening!!!\n",
      "Good Evening!!!\n",
      "Good Evening!!!\n",
      "Good Evening!!!\n",
      "Good Evening!!!\n",
      "Good Evening!!!\n",
      "Good Evening!!!\n",
      "Good Evening!!!\n",
      "Good Evening!!!\n",
      "Good Evening!!!\n",
      "Good Evening!!!\n",
      "Good Evening!!!\n",
      "Good Evening!!!\n",
      "Good Evening!!!\n",
      "Good Evening!!!\n",
      "Good Evening!!!\n",
      "Good Evening!!!\n",
      "Good Evening!!!\n",
      "Good Evening!!!\n",
      "Good Evening!!!\n",
      "Good Evening!!!\n",
      "Good Evening!!!\n",
      "Good Evening!!!\n",
      "Good Evening!!!\n",
      "Good Evening!!!\n",
      "Good Evening!!!\n",
      "Good Evening!!!\n",
      "Good Evening!!!\n",
      "Good Evening!!!\n",
      "Good Evening!!!\n",
      "Good Evening!!!\n",
      "Good Evening!!!\n",
      "Good Evening!!!\n",
      "Good Evening!!!\n",
      "Good Evening!!!\n",
      "Good Evening!!!\n",
      "Good Evening!!!\n",
      "Good Evening!!!\n",
      "Good Evening!!!\n",
      "Good Evening!!!\n",
      "Good Evening!!!\n",
      "Good Evening!!!\n",
      "Good Evening!!!\n",
      "Good Evening!!!\n",
      "Good Evening!!!\n",
      "Good Evening!!!\n",
      "Good Evening!!!\n",
      "Good Evening!!!\n",
      "Good Evening!!!\n",
      "Good Evening!!!\n",
      "Good Evening!!!\n",
      "Good Evening!!!\n",
      "Good Evening!!!\n",
      "Good Evening!!!\n",
      "Good Evening!!!\n",
      "Good Evening!!!\n",
      "Good Evening!!!\n",
      "Good Evening!!!\n",
      "Good Evening!!!\n",
      "Good Evening!!!\n",
      "Good Evening!!!\n",
      "Good Evening!!!\n",
      "Good Evening!!!\n",
      "Good Evening!!!\n",
      "Good Evening!!!\n",
      "Good Evening!!!\n",
      "Good Evening!!!\n",
      "Good Evening!!!\n",
      "Good Evening!!!\n",
      "Good Evening!!!\n",
      "Good Evening!!!\n",
      "Good Evening!!!\n",
      "Good Evening!!!\n",
      "Good Evening!!!\n",
      "Good Evening!!!\n",
      "Good Evening!!!\n",
      "Good Evening!!!\n",
      "Good Evening!!!\n",
      "Good Evening!!!\n",
      "Good Evening!!!\n",
      "Good Evening!!!\n",
      "Good Evening!!!\n",
      "Good Evening!!!\n",
      "Good Evening!!!\n",
      "Good Evening!!!\n"
     ]
    }
   ],
   "source": [
    "for p in range(100):\n",
    "    print(\"Good Evening!!!\")"
   ]
  },
  {
   "cell_type": "code",
   "execution_count": 6,
   "id": "92c4a873",
   "metadata": {},
   "outputs": [
    {
     "name": "stdout",
     "output_type": "stream",
     "text": [
      "1\n",
      "2\n",
      "3\n",
      "4\n",
      "5\n",
      "6\n",
      "7\n",
      "8\n",
      "9\n",
      "10\n",
      "11\n",
      "12\n",
      "13\n",
      "14\n",
      "15\n",
      "16\n",
      "17\n",
      "18\n",
      "19\n",
      "20\n",
      "21\n",
      "22\n",
      "23\n",
      "24\n",
      "25\n",
      "26\n",
      "27\n",
      "28\n",
      "29\n",
      "30\n",
      "31\n",
      "32\n",
      "33\n",
      "34\n",
      "35\n",
      "36\n",
      "37\n",
      "38\n",
      "39\n",
      "40\n",
      "41\n",
      "42\n",
      "43\n",
      "44\n",
      "45\n",
      "46\n",
      "47\n",
      "48\n",
      "49\n",
      "50\n",
      "51\n",
      "52\n",
      "53\n",
      "54\n",
      "55\n",
      "56\n",
      "57\n",
      "58\n",
      "59\n",
      "60\n",
      "61\n",
      "62\n",
      "63\n",
      "64\n",
      "65\n",
      "66\n",
      "67\n",
      "68\n",
      "69\n",
      "70\n",
      "71\n",
      "72\n",
      "73\n",
      "74\n",
      "75\n",
      "76\n",
      "77\n",
      "78\n",
      "79\n",
      "80\n",
      "81\n",
      "82\n",
      "83\n",
      "84\n",
      "85\n",
      "86\n",
      "87\n",
      "88\n",
      "89\n",
      "90\n",
      "91\n",
      "92\n",
      "93\n",
      "94\n",
      "95\n",
      "96\n",
      "97\n",
      "98\n",
      "99\n",
      "100\n",
      "101\n",
      "102\n",
      "103\n",
      "104\n",
      "105\n",
      "106\n",
      "107\n",
      "108\n",
      "109\n",
      "110\n",
      "111\n",
      "112\n",
      "113\n",
      "114\n",
      "115\n",
      "116\n",
      "117\n",
      "118\n",
      "119\n",
      "120\n",
      "121\n",
      "122\n",
      "123\n",
      "124\n",
      "125\n",
      "126\n",
      "127\n",
      "128\n",
      "129\n",
      "130\n",
      "131\n",
      "132\n",
      "133\n",
      "134\n",
      "135\n",
      "136\n",
      "137\n",
      "138\n",
      "139\n",
      "140\n",
      "141\n",
      "142\n",
      "143\n",
      "144\n",
      "145\n",
      "146\n",
      "147\n",
      "148\n",
      "149\n",
      "150\n",
      "151\n",
      "152\n",
      "153\n",
      "154\n",
      "155\n",
      "156\n",
      "157\n",
      "158\n",
      "159\n",
      "160\n",
      "161\n",
      "162\n",
      "163\n",
      "164\n",
      "165\n",
      "166\n",
      "167\n",
      "168\n",
      "169\n",
      "170\n",
      "171\n",
      "172\n",
      "173\n",
      "174\n",
      "175\n",
      "176\n",
      "177\n",
      "178\n",
      "179\n",
      "180\n",
      "181\n",
      "182\n",
      "183\n",
      "184\n",
      "185\n",
      "186\n",
      "187\n",
      "188\n",
      "189\n",
      "190\n",
      "191\n",
      "192\n",
      "193\n",
      "194\n",
      "195\n",
      "196\n",
      "197\n",
      "198\n",
      "199\n",
      "200\n",
      "201\n",
      "202\n",
      "203\n",
      "204\n",
      "205\n",
      "206\n",
      "207\n",
      "208\n",
      "209\n",
      "210\n",
      "211\n",
      "212\n",
      "213\n",
      "214\n",
      "215\n",
      "216\n",
      "217\n",
      "218\n",
      "219\n",
      "220\n",
      "221\n",
      "222\n",
      "223\n",
      "224\n",
      "225\n",
      "226\n",
      "227\n",
      "228\n",
      "229\n",
      "230\n",
      "231\n",
      "232\n",
      "233\n",
      "234\n",
      "235\n",
      "236\n",
      "237\n",
      "238\n",
      "239\n",
      "240\n",
      "241\n",
      "242\n",
      "243\n",
      "244\n",
      "245\n",
      "246\n",
      "247\n",
      "248\n",
      "249\n",
      "250\n",
      "251\n",
      "252\n",
      "253\n",
      "254\n",
      "255\n",
      "256\n",
      "257\n",
      "258\n",
      "259\n",
      "260\n",
      "261\n",
      "262\n",
      "263\n",
      "264\n",
      "265\n",
      "266\n",
      "267\n",
      "268\n",
      "269\n",
      "270\n",
      "271\n",
      "272\n",
      "273\n",
      "274\n",
      "275\n",
      "276\n",
      "277\n",
      "278\n",
      "279\n",
      "280\n",
      "281\n",
      "282\n",
      "283\n",
      "284\n",
      "285\n",
      "286\n",
      "287\n",
      "288\n",
      "289\n",
      "290\n",
      "291\n",
      "292\n",
      "293\n",
      "294\n",
      "295\n",
      "296\n",
      "297\n",
      "298\n",
      "299\n",
      "300\n",
      "301\n",
      "302\n",
      "303\n",
      "304\n",
      "305\n",
      "306\n",
      "307\n",
      "308\n",
      "309\n",
      "310\n",
      "311\n",
      "312\n",
      "313\n",
      "314\n",
      "315\n",
      "316\n",
      "317\n",
      "318\n",
      "319\n",
      "320\n",
      "321\n",
      "322\n",
      "323\n",
      "324\n",
      "325\n",
      "326\n",
      "327\n",
      "328\n",
      "329\n",
      "330\n",
      "331\n",
      "332\n",
      "333\n",
      "334\n",
      "335\n",
      "336\n",
      "337\n",
      "338\n",
      "339\n",
      "340\n",
      "341\n",
      "342\n",
      "343\n",
      "344\n",
      "345\n",
      "346\n",
      "347\n",
      "348\n",
      "349\n",
      "350\n",
      "351\n",
      "352\n",
      "353\n",
      "354\n",
      "355\n",
      "356\n",
      "357\n",
      "358\n",
      "359\n",
      "360\n",
      "361\n",
      "362\n",
      "363\n",
      "364\n",
      "365\n",
      "366\n",
      "367\n",
      "368\n",
      "369\n",
      "370\n",
      "371\n",
      "372\n",
      "373\n",
      "374\n",
      "375\n",
      "376\n",
      "377\n",
      "378\n",
      "379\n",
      "380\n",
      "381\n",
      "382\n",
      "383\n",
      "384\n",
      "385\n",
      "386\n",
      "387\n",
      "388\n",
      "389\n",
      "390\n",
      "391\n",
      "392\n",
      "393\n",
      "394\n",
      "395\n",
      "396\n",
      "397\n",
      "398\n",
      "399\n",
      "400\n",
      "401\n",
      "402\n",
      "403\n",
      "404\n",
      "405\n",
      "406\n",
      "407\n",
      "408\n",
      "409\n",
      "410\n",
      "411\n",
      "412\n",
      "413\n",
      "414\n",
      "415\n",
      "416\n",
      "417\n",
      "418\n",
      "419\n",
      "420\n",
      "421\n",
      "422\n",
      "423\n",
      "424\n",
      "425\n",
      "426\n",
      "427\n",
      "428\n",
      "429\n",
      "430\n",
      "431\n",
      "432\n",
      "433\n",
      "434\n",
      "435\n",
      "436\n",
      "437\n",
      "438\n",
      "439\n",
      "440\n",
      "441\n",
      "442\n",
      "443\n",
      "444\n",
      "445\n",
      "446\n",
      "447\n",
      "448\n",
      "449\n",
      "450\n",
      "451\n",
      "452\n",
      "453\n",
      "454\n",
      "455\n",
      "456\n",
      "457\n",
      "458\n",
      "459\n",
      "460\n",
      "461\n",
      "462\n",
      "463\n",
      "464\n",
      "465\n",
      "466\n",
      "467\n",
      "468\n",
      "469\n",
      "470\n",
      "471\n",
      "472\n",
      "473\n",
      "474\n",
      "475\n",
      "476\n",
      "477\n",
      "478\n",
      "479\n",
      "480\n",
      "481\n",
      "482\n",
      "483\n",
      "484\n",
      "485\n",
      "486\n",
      "487\n",
      "488\n",
      "489\n",
      "490\n",
      "491\n",
      "492\n",
      "493\n",
      "494\n",
      "495\n",
      "496\n",
      "497\n",
      "498\n",
      "499\n"
     ]
    }
   ],
   "source": [
    "for p in range(1,500):\n",
    "    print(p)"
   ]
  },
  {
   "cell_type": "code",
   "execution_count": 7,
   "id": "998d8bb8",
   "metadata": {},
   "outputs": [
    {
     "name": "stdout",
     "output_type": "stream",
     "text": [
      "1\n",
      "3\n",
      "5\n",
      "7\n",
      "9\n",
      "11\n",
      "13\n",
      "15\n",
      "17\n",
      "19\n",
      "21\n",
      "23\n",
      "25\n",
      "27\n",
      "29\n",
      "31\n",
      "33\n",
      "35\n",
      "37\n",
      "39\n",
      "41\n",
      "43\n",
      "45\n",
      "47\n",
      "49\n",
      "51\n",
      "53\n",
      "55\n",
      "57\n",
      "59\n",
      "61\n",
      "63\n",
      "65\n",
      "67\n",
      "69\n",
      "71\n",
      "73\n",
      "75\n",
      "77\n",
      "79\n",
      "81\n",
      "83\n",
      "85\n",
      "87\n",
      "89\n",
      "91\n",
      "93\n",
      "95\n",
      "97\n",
      "99\n"
     ]
    }
   ],
   "source": [
    "for p in range(1,101,2):\n",
    "    print(p)"
   ]
  },
  {
   "cell_type": "code",
   "execution_count": 8,
   "id": "59048d68",
   "metadata": {},
   "outputs": [
    {
     "name": "stdout",
     "output_type": "stream",
     "text": [
      "0\n",
      "2\n",
      "4\n",
      "6\n",
      "8\n",
      "10\n",
      "12\n",
      "14\n",
      "16\n",
      "18\n",
      "20\n",
      "22\n",
      "24\n",
      "26\n",
      "28\n",
      "30\n",
      "32\n",
      "34\n",
      "36\n",
      "38\n",
      "40\n",
      "42\n",
      "44\n",
      "46\n",
      "48\n",
      "50\n",
      "52\n",
      "54\n",
      "56\n",
      "58\n",
      "60\n",
      "62\n",
      "64\n",
      "66\n",
      "68\n",
      "70\n",
      "72\n",
      "74\n",
      "76\n",
      "78\n",
      "80\n",
      "82\n",
      "84\n",
      "86\n",
      "88\n",
      "90\n",
      "92\n",
      "94\n",
      "96\n",
      "98\n",
      "100\n"
     ]
    }
   ],
   "source": [
    "for p in range(0,101,2):\n",
    "    print(p)"
   ]
  },
  {
   "cell_type": "code",
   "execution_count": 12,
   "id": "8bf2aeff",
   "metadata": {},
   "outputs": [
    {
     "name": "stdout",
     "output_type": "stream",
     "text": [
      "Enter a Number:5\n",
      "MULTIPLICATION TABLE is:\n",
      "5 x 1 = 5\n",
      "5 x 2 = 10\n",
      "5 x 3 = 15\n",
      "5 x 4 = 20\n",
      "5 x 5 = 25\n",
      "5 x 6 = 30\n",
      "5 x 7 = 35\n",
      "5 x 8 = 40\n",
      "5 x 9 = 45\n",
      "5 x 10 = 50\n"
     ]
    }
   ],
   "source": [
    "n=int(input(\"Enter a Number:\"))\n",
    "print(\"MULTIPLICATION TABLE is:\")\n",
    "for p in range(1,11):\n",
    "    print(n,'x',p,'=',n*p)"
   ]
  },
  {
   "cell_type": "code",
   "execution_count": 13,
   "id": "8681e59d",
   "metadata": {},
   "outputs": [
    {
     "name": "stdout",
     "output_type": "stream",
     "text": [
      "Hello\n",
      "Hello\n",
      "Hello\n",
      "Hello\n",
      "Hello\n",
      "Hello\n",
      "Hello\n",
      "Hello\n",
      "Hello\n"
     ]
    }
   ],
   "source": [
    "for i in range(1,4):\n",
    "    for j in range(1,4):\n",
    "        print(\"Hello\")"
   ]
  },
  {
   "cell_type": "code",
   "execution_count": 23,
   "id": "3859c3d5",
   "metadata": {},
   "outputs": [
    {
     "name": "stdout",
     "output_type": "stream",
     "text": [
      "1 1 1 \n",
      "2 2 2 \n",
      "3 3 3 \n"
     ]
    }
   ],
   "source": [
    "for i in range(1,4):\n",
    "    for j in range(1,4):\n",
    "        print(i,end=\" \")\n",
    "    print()"
   ]
  },
  {
   "cell_type": "code",
   "execution_count": 22,
   "id": "022aa4ad",
   "metadata": {},
   "outputs": [
    {
     "name": "stdout",
     "output_type": "stream",
     "text": [
      "Hello\n",
      "Hello\n",
      "Hello\n",
      "Hello\n"
     ]
    }
   ],
   "source": [
    "for i in range(1,3):\n",
    "    for j in range(1,3):\n",
    "        print(\"Hello\")"
   ]
  },
  {
   "cell_type": "code",
   "execution_count": 6,
   "id": "b224b5b2",
   "metadata": {
    "scrolled": true
   },
   "outputs": [
    {
     "name": "stdout",
     "output_type": "stream",
     "text": [
      "[30, 10, 20, 50, 40, 60]\n",
      "6\n",
      "210\n",
      "60\n",
      "10\n",
      "[60, 50, 40, 30, 20, 10]\n",
      "90\n",
      "[60, 40, 50, 20, 10, 30]\n",
      "[10, 20, 30, 40, 50, 60]\n",
      "[60, 50, 40, 30, 20, 10]\n",
      "<list_reverseiterator object at 0x0000014ACD7EC880>\n"
     ]
    }
   ],
   "source": [
    "x=[30,10,20,50,40,60]\n",
    "print(x)\n",
    "print(len(x))\n",
    "print(sum(x))\n",
    "print(max(x))\n",
    "print(min(x))\n",
    "print(sorted(x,reverse=True))\n",
    "print(x[3]+x[4])\n",
    "print(x[::-1])\n",
    "print(sorted(x[::-1]))\n",
    "print(sorted(x[::-1],reverse=True))\n",
    "print(reversed(x))"
   ]
  },
  {
   "cell_type": "code",
   "execution_count": 11,
   "id": "d753c624",
   "metadata": {},
   "outputs": [
    {
     "name": "stdout",
     "output_type": "stream",
     "text": [
      "60 50 40 30 20 10 \n",
      "\n",
      "60 50 40 30 20 10 "
     ]
    }
   ],
   "source": [
    "x=[10,20,30,40,50,60]\n",
    "for p in reversed(x):\n",
    "    print(p,end=\" \")\n",
    "print(\"\\n\")\n",
    "for p in reversed(sorted(x)):\n",
    "    print(p,end=\" \")"
   ]
  },
  {
   "cell_type": "code",
   "execution_count": 13,
   "id": "126e5a79",
   "metadata": {},
   "outputs": [
    {
     "name": "stdout",
     "output_type": "stream",
     "text": [
      "[10, 20, 30, 40, 50] 1420787045952\n",
      "[10, 20, 30, 40, 50] 1420787045952\n"
     ]
    }
   ],
   "source": [
    "x=[10,20,30,40,50]\n",
    "y=[10,20,30,40,50]\n",
    "print(x,id(x))\n",
    "print(y,id(x))"
   ]
  },
  {
   "cell_type": "code",
   "execution_count": 20,
   "id": "0812ac44",
   "metadata": {},
   "outputs": [
    {
     "name": "stdout",
     "output_type": "stream",
     "text": [
      "10 <class 'int'> 1420703787600\n",
      "10 <class 'int'> 1420703787600\n",
      "10 <class 'int'> 1420703787600\n",
      "20 <class 'int'> 1420703787920\n"
     ]
    }
   ],
   "source": [
    "print(x[0],type(x[0]),id(x[0]))\n",
    "print(x[0],type(x[0]),id(x[0]))\n",
    "print(y[0],type(y[0]),id(y[0]))\n",
    "print(x[1],type(x[1]),id(x[1]))"
   ]
  },
  {
   "cell_type": "code",
   "execution_count": 25,
   "id": "3ce0d6b0",
   "metadata": {},
   "outputs": [
    {
     "name": "stdout",
     "output_type": "stream",
     "text": [
      "[['Kohli,64'], ['Rohit', 40], ['Pant', 30], ['Dhoni', 45]] 4\n",
      "['Kohli,64'] <class 'list'>\n",
      "['Rohit', 40] <class 'list'>\n",
      "['Pant', 30] <class 'list'>\n",
      "['Dhoni', 45] <class 'list'>\n",
      "PLAYER: ['Kohli,64']\n"
     ]
    },
    {
     "ename": "NameError",
     "evalue": "name 'q' is not defined",
     "output_type": "error",
     "traceback": [
      "\u001b[1;31m---------------------------------------------------------------------------\u001b[0m",
      "\u001b[1;31mNameError\u001b[0m                                 Traceback (most recent call last)",
      "Input \u001b[1;32mIn [25]\u001b[0m, in \u001b[0;36m<cell line: 5>\u001b[1;34m()\u001b[0m\n\u001b[0;32m      5\u001b[0m \u001b[38;5;28;01mfor\u001b[39;00m p \u001b[38;5;129;01min\u001b[39;00m x:\n\u001b[0;32m      6\u001b[0m     \u001b[38;5;28mprint\u001b[39m(\u001b[38;5;124m\"\u001b[39m\u001b[38;5;124mPLAYER:\u001b[39m\u001b[38;5;124m\"\u001b[39m,p)\n\u001b[1;32m----> 7\u001b[0m     \u001b[38;5;28mprint\u001b[39m(\u001b[38;5;124m\"\u001b[39m\u001b[38;5;124mRUNS:\u001b[39m\u001b[38;5;124m\"\u001b[39m,\u001b[43mq\u001b[49m)\n\u001b[0;32m      8\u001b[0m     \u001b[38;5;28mprint\u001b[39m(\u001b[38;5;124m\"\u001b[39m\u001b[38;5;124m============\u001b[39m\u001b[38;5;124m\"\u001b[39m)\n",
      "\u001b[1;31mNameError\u001b[0m: name 'q' is not defined"
     ]
    }
   ],
   "source": [
    "x=[[\"Kohli,64\"],[\"Rohit\",40],[\"Pant\",30],[\"Dhoni\",45]]\n",
    "print(x,len(x))\n",
    "for p in x:\n",
    "    print(p,type(p))\n",
    "for p in x:\n",
    "    print(\"PLAYER:\",p)\n",
    "    print(\"RUNS:\",q)\n",
    "    print(\"============\")"
   ]
  },
  {
   "cell_type": "code",
   "execution_count": 8,
   "id": "51e6d08e",
   "metadata": {},
   "outputs": [
    {
     "name": "stdout",
     "output_type": "stream",
     "text": [
      "[10, 20, 30, 40, 10, 50, 65, 'pune', 3, 10, 4, 9, 33]\n",
      "[20, 30, 40, 10, 50, 65, 'pune', 3, 10, 4, 9, 33]\n",
      "[20, 30, 40, 50, 65, 'pune', 3, 10, 4, 9, 33]\n"
     ]
    }
   ],
   "source": [
    "x=[10,20,30,40,10,50,60,65,\"pune\",3,10,4,9,33]\n",
    "x.pop(6)\n",
    "print(x)\n",
    "x.remove(10)\n",
    "print(x)\n",
    "x.remove(10)\n",
    "print(x)"
   ]
  },
  {
   "cell_type": "code",
   "execution_count": 10,
   "id": "a792062e",
   "metadata": {
    "scrolled": true
   },
   "outputs": [
    {
     "name": "stdout",
     "output_type": "stream",
     "text": [
      "[[101, 'Miller', 70000], [102, 'Blake', 80000], [103, 'James', 90000]]\n"
     ]
    }
   ],
   "source": [
    "emps=[[101,\"Miller\",70000,\"hyd\"],[102,\"Blake\",80000,\"pune\"],[103,\"James\",90000,\"Mumbai\"]]\n",
    "for p in emps:\n",
    "    p.pop(3)\n",
    "print(emps)"
   ]
  },
  {
   "cell_type": "code",
   "execution_count": 16,
   "id": "6f9923f1",
   "metadata": {},
   "outputs": [
    {
     "name": "stdout",
     "output_type": "stream",
     "text": [
      "[[101, 'Miller', 70000], [102, 'Blake', 80000], [103, 'James', 90000]]\n"
     ]
    }
   ],
   "source": [
    "emps=[[101,\"Miller\",70000,\"hyd\"],[102,\"Blake\",80000,\"pune\"],[103,\"James\",90000,\"Mumbai\"]]\n",
    "for p in emps:\n",
    "    p.remove(p[3])\n",
    "print(emps)"
   ]
  },
  {
   "cell_type": "code",
   "execution_count": 19,
   "id": "e4c99327",
   "metadata": {},
   "outputs": [
    {
     "name": "stdout",
     "output_type": "stream",
     "text": [
      "['Miller', 'Blake', 'James']\n",
      "['Blake', 'James', 'Miller']\n"
     ]
    }
   ],
   "source": [
    "emps=[[101,\"Miller\",70000,\"hyd\"],[102,\"Blake\",80000,\"pune\"],[103,\"James\",90000,\"Mumbai\"]]\n",
    "names=[]\n",
    "for p in emps:\n",
    "    names.append(p[1])\n",
    "print(names)\n",
    "print(sorted(names))"
   ]
  },
  {
   "cell_type": "code",
   "execution_count": 20,
   "id": "2fadcf81",
   "metadata": {},
   "outputs": [
    {
     "name": "stdout",
     "output_type": "stream",
     "text": [
      "['Blake', 'James', 'Miller', 'Rahul']\n"
     ]
    }
   ],
   "source": [
    "emps=[\"James\",\"Miller\",\"Rahul\",\"Blake\"]\n",
    "emps.sort()\n",
    "print(emps)"
   ]
  },
  {
   "cell_type": "code",
   "execution_count": 21,
   "id": "77887f77",
   "metadata": {},
   "outputs": [
    {
     "name": "stdout",
     "output_type": "stream",
     "text": [
      "[10, 20, 30, 40, 50]\n"
     ]
    }
   ],
   "source": [
    "x=[30,40,10,50,20]\n",
    "x.sort()\n",
    "print(x)"
   ]
  },
  {
   "cell_type": "code",
   "execution_count": 23,
   "id": "19bdf1b6",
   "metadata": {
    "scrolled": true
   },
   "outputs": [
    {
     "name": "stdout",
     "output_type": "stream",
     "text": [
      "3\n"
     ]
    }
   ],
   "source": [
    "medals=[\"IND\",\"ENG\",\"AUS\",\"JAP\",\"IND\",\"AUS\",\"IND\"]\n",
    "print(medals.count(\"IND\"))"
   ]
  },
  {
   "cell_type": "code",
   "execution_count": 24,
   "id": "c79f585e",
   "metadata": {},
   "outputs": [
    {
     "name": "stdout",
     "output_type": "stream",
     "text": [
      "[10, 20, 30, 40, 50, 60]\n"
     ]
    }
   ],
   "source": [
    "x=[10,20,30,40,50,60]\n",
    "y=x.copy()\n",
    "print(y)"
   ]
  },
  {
   "cell_type": "code",
   "execution_count": 3,
   "id": "364b2ad9",
   "metadata": {},
   "outputs": [
    {
     "data": {
      "text/plain": [
       "-5"
      ]
     },
     "execution_count": 3,
     "metadata": {},
     "output_type": "execute_result"
    }
   ],
   "source": [
    "~4"
   ]
  },
  {
   "cell_type": "code",
   "execution_count": 16,
   "id": "d0e9c48d",
   "metadata": {},
   "outputs": [
    {
     "name": "stdout",
     "output_type": "stream",
     "text": [
      "Enter First Number:10\n",
      "Enter Second Numnber:20\n",
      "Enter Third Number:30\n",
      "Max Value: 30\n"
     ]
    }
   ],
   "source": [
    "a=int(input(\"Enter First Number:\"))\n",
    "b=int(input(\"Enter Second Numnber:\"))\n",
    "c=int(input(\"Enter Third Number:\"))\n",
    "max=a if a>b>c else b if b>c else c\n",
    "print(\"Max Value:\",max)"
   ]
  },
  {
   "cell_type": "code",
   "execution_count": 21,
   "id": "41473652",
   "metadata": {},
   "outputs": [
    {
     "name": "stdout",
     "output_type": "stream",
     "text": [
      "('hyd', 'pune', 'mumbai') <class 'tuple'> 3\n"
     ]
    }
   ],
   "source": [
    "cities=\"hyd\",\"pune\",\"mumbai\"\n",
    "print(cities,type(cities),len(cities))"
   ]
  },
  {
   "cell_type": "code",
   "execution_count": 4,
   "id": "7518fadb",
   "metadata": {},
   "outputs": [
    {
     "name": "stdout",
     "output_type": "stream",
     "text": [
      "a>b is False\n",
      "a>=b is False\n",
      "a<b is True\n",
      "a<=b is True\n"
     ]
    }
   ],
   "source": [
    "a=10\n",
    "b=20\n",
    "print(\"a>b is\",a>b)\n",
    "print(\"a>=b is\",a>=b)\n",
    "print(\"a<b is\",a<b)\n",
    "print(\"a<=b is\",a<=b)"
   ]
  },
  {
   "cell_type": "code",
   "execution_count": 2,
   "id": "ecaf3b81",
   "metadata": {},
   "outputs": [
    {
     "name": "stdout",
     "output_type": "stream",
     "text": [
      "Enter first Number:30\n",
      "Enter second Number:50\n",
      "Minimum value: 30\n"
     ]
    }
   ],
   "source": [
    "a=int(input(\"Enter first Number:\"))\n",
    "b=int(input(\"Enter second Number:\"))\n",
    "min=a if a<b else b\n",
    "print(\"Minimum value:\",min)"
   ]
  },
  {
   "cell_type": "code",
   "execution_count": 3,
   "id": "fb6b0504",
   "metadata": {},
   "outputs": [
    {
     "name": "stdout",
     "output_type": "stream",
     "text": [
      "Enter first Number:10\n",
      "Enter second Number:20\n",
      "Enter third number:30\n",
      "Minimum value: 10\n"
     ]
    }
   ],
   "source": [
    "a=int(input(\"Enter first Number:\"))\n",
    "b=int(input(\"Enter second Number:\"))\n",
    "c=int(input(\"Enter third number:\"))\n",
    "min=a if a<b and a<c else b if b<c else c\n",
    "print(\"Minimum value:\",min)"
   ]
  },
  {
   "cell_type": "code",
   "execution_count": 4,
   "id": "13c4c42b",
   "metadata": {},
   "outputs": [
    {
     "name": "stdout",
     "output_type": "stream",
     "text": [
      "Enter first Number:20\n",
      "Enter second Number:30\n",
      "Enter third number:40\n",
      "Maximum value is: 40\n"
     ]
    }
   ],
   "source": [
    "a=int(input(\"Enter first Number:\"))\n",
    "b=int(input(\"Enter second Number:\"))\n",
    "c=int(input(\"Enter third number:\"))\n",
    "max=a if a>b and a>c else b if b>c else c\n",
    "print(\"Maximum value is:\",max)"
   ]
  },
  {
   "cell_type": "code",
   "execution_count": 5,
   "id": "44ebac71",
   "metadata": {},
   "outputs": [
    {
     "name": "stdout",
     "output_type": "stream",
     "text": [
      "Enter the radius:16\n",
      "Area of the circle is: 804.247719318987\n"
     ]
    }
   ],
   "source": [
    "from math import pi\n",
    "r=int(input(\"Enter the radius:\"))\n",
    "print(\"Area of the circle is:\",pi*r**2)"
   ]
  },
  {
   "cell_type": "code",
   "execution_count": 3,
   "id": "a5fc0e93",
   "metadata": {},
   "outputs": [
    {
     "name": "stdout",
     "output_type": "stream",
     "text": [
      "2\n",
      "15\n",
      "13\n",
      "1280\n",
      "0\n"
     ]
    }
   ],
   "source": [
    "#bitwise operator\n",
    "x=10\n",
    "y=7\n",
    "print(x&y)\n",
    "print(x|y)\n",
    "print(x^y)\n",
    "print(x<<y)\n",
    "print(x>>y)"
   ]
  },
  {
   "cell_type": "code",
   "execution_count": 1,
   "id": "e60204df",
   "metadata": {},
   "outputs": [
    {
     "name": "stdout",
     "output_type": "stream",
     "text": [
      "7\n"
     ]
    }
   ],
   "source": [
    "a = 8 // 6 % 5 + 2 ** 3 - 2\n",
    "print(a)"
   ]
  },
  {
   "cell_type": "code",
   "execution_count": null,
   "id": "df1682a3",
   "metadata": {},
   "outputs": [],
   "source": []
  }
 ],
 "metadata": {
  "kernelspec": {
   "display_name": "Python 3 (ipykernel)",
   "language": "python",
   "name": "python3"
  },
  "language_info": {
   "codemirror_mode": {
    "name": "ipython",
    "version": 3
   },
   "file_extension": ".py",
   "mimetype": "text/x-python",
   "name": "python",
   "nbconvert_exporter": "python",
   "pygments_lexer": "ipython3",
   "version": "3.9.12"
  }
 },
 "nbformat": 4,
 "nbformat_minor": 5
}
