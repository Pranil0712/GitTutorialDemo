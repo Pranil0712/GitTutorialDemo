{
 "cells": [
  {
   "cell_type": "code",
   "execution_count": 12,
   "id": "ad312e24",
   "metadata": {},
   "outputs": [],
   "source": [
    "#syntax for defining a function:"
   ]
  },
  {
   "cell_type": "code",
   "execution_count": 5,
   "id": "cf07878b",
   "metadata": {},
   "outputs": [
    {
     "name": "stdout",
     "output_type": "stream",
     "text": [
      "hello\n",
      "Good Evening....\n"
     ]
    }
   ],
   "source": [
    "#Function definition\n",
    "def display():\n",
    "    '''Function to display a msg'''\n",
    "    print(\"hello\")\n",
    "    print(\"Good Evening....\")\n",
    "display()        #function call"
   ]
  },
  {
   "cell_type": "code",
   "execution_count": 58,
   "id": "4c1d8535",
   "metadata": {},
   "outputs": [
    {
     "name": "stdout",
     "output_type": "stream",
     "text": [
      "hello\n",
      "Good Evening....\n",
      "hello\n",
      "Good Evening....\n",
      "hello\n",
      "Good Evening....\n"
     ]
    }
   ],
   "source": [
    "def display():\n",
    "    print(\"hello\")\n",
    "    print(\"Good Evening....\")\n",
    "display()\n",
    "display()\n",
    "display()"
   ]
  },
  {
   "cell_type": "code",
   "execution_count": 5,
   "id": "bcc1516a",
   "metadata": {},
   "outputs": [
    {
     "ename": "NameError",
     "evalue": "name 'display1' is not defined",
     "output_type": "error",
     "traceback": [
      "\u001b[1;31m---------------------------------------------------------------------------\u001b[0m",
      "\u001b[1;31mNameError\u001b[0m                                 Traceback (most recent call last)",
      "Input \u001b[1;32mIn [5]\u001b[0m, in \u001b[0;36m<cell line: 2>\u001b[1;34m()\u001b[0m\n\u001b[0;32m      1\u001b[0m \u001b[38;5;66;03m#function canot be excuted\u001b[39;00m\n\u001b[1;32m----> 2\u001b[0m \u001b[43mdisplay1\u001b[49m()\n\u001b[0;32m      3\u001b[0m display2()\n\u001b[0;32m      4\u001b[0m \u001b[38;5;28;01mdef\u001b[39;00m \u001b[38;5;21mdisplay1\u001b[39m():\n",
      "\u001b[1;31mNameError\u001b[0m: name 'display1' is not defined"
     ]
    }
   ],
   "source": [
    "#function canot be excuted\n",
    "display1()\n",
    "display2()\n",
    "def display1():\n",
    "    print(\"Good Morning!!!!\")\n",
    "def display2():\n",
    "    print(\"Good Afternoon!!!!\")"
   ]
  },
  {
   "cell_type": "code",
   "execution_count": 8,
   "id": "af3e2a58",
   "metadata": {},
   "outputs": [
    {
     "name": "stdout",
     "output_type": "stream",
     "text": [
      "Enter value of x:22\n",
      "Enter value of y:45\n",
      "sum= 67\n"
     ]
    }
   ],
   "source": [
    "def compute():\n",
    "    x=int(input(\"Enter value of x:\"))\n",
    "    y=int(input(\"Enter value of y:\"))\n",
    "    z=x+y\n",
    "    print(\"sum=\",z)\n",
    "compute()"
   ]
  },
  {
   "cell_type": "code",
   "execution_count": 14,
   "id": "7582da50",
   "metadata": {},
   "outputs": [
    {
     "name": "stdout",
     "output_type": "stream",
     "text": [
      "123456789...........\n",
      "ABCDEFGHIJK.........\n",
      "H2o is the chemical name of water\n"
     ]
    }
   ],
   "source": [
    "#order can be chnged in print\n",
    "def English():\n",
    "    print(\"ABCDEFGHIJK.........\")\n",
    "def Maths():\n",
    "    print(\"123456789...........\")\n",
    "def Chemistry():\n",
    "    print(\"H2o is the chemical name of water\")\n",
    "Maths()\n",
    "English()\n",
    "Chemistry()"
   ]
  },
  {
   "cell_type": "code",
   "execution_count": 17,
   "id": "d63a5b6d",
   "metadata": {},
   "outputs": [
    {
     "name": "stdout",
     "output_type": "stream",
     "text": [
      "Hello Hydrebad!!!!!\n",
      "Hello Mumbai!!!!!\n"
     ]
    }
   ],
   "source": [
    "#function to call another function\n",
    "def hyd():\n",
    "    print(\"Hello Hydrebad!!!!!\")\n",
    "    mumbai()\n",
    "def mumbai():\n",
    "    print(\"Hello Mumbai!!!!!\")\n",
    "hyd()"
   ]
  },
  {
   "cell_type": "code",
   "execution_count": 23,
   "id": "13738a1f",
   "metadata": {},
   "outputs": [
    {
     "name": "stdout",
     "output_type": "stream",
     "text": [
      "sum= 30\n"
     ]
    }
   ],
   "source": [
    "#function without argumnets and without returntype\n",
    "def add1():\n",
    "    x=10\n",
    "    y=20\n",
    "    z=x+y\n",
    "    print(\"sum=\",z)\n",
    "add1()"
   ]
  },
  {
   "cell_type": "code",
   "execution_count": 24,
   "id": "4b682866",
   "metadata": {},
   "outputs": [
    {
     "name": "stdout",
     "output_type": "stream",
     "text": [
      "sum= 70\n"
     ]
    }
   ],
   "source": [
    "#function with arguments and without returntype\n",
    "def add2(x,y):\n",
    "    z=x+y\n",
    "    print(\"sum=\",z)\n",
    "add2(30,40)"
   ]
  },
  {
   "cell_type": "code",
   "execution_count": 7,
   "id": "65c035ab",
   "metadata": {},
   "outputs": [
    {
     "data": {
      "text/plain": [
       "50"
      ]
     },
     "execution_count": 7,
     "metadata": {},
     "output_type": "execute_result"
    }
   ],
   "source": [
    "#function with arguments and with returntype\n",
    "def add3(x,y):\n",
    "    z=x+y\n",
    "    return z\n",
    "add3(30,20)\n",
    "#z value is 50(function call)"
   ]
  },
  {
   "cell_type": "code",
   "execution_count": 30,
   "id": "81b98082",
   "metadata": {},
   "outputs": [
    {
     "name": "stdout",
     "output_type": "stream",
     "text": [
      "50\n"
     ]
    }
   ],
   "source": [
    "# calling function in print\n",
    "def add3(x,y):\n",
    "    z=x+y\n",
    "    return \n",
    "print(add3(30,20))"
   ]
  },
  {
   "cell_type": "code",
   "execution_count": 8,
   "id": "09f279b7",
   "metadata": {},
   "outputs": [
    {
     "name": "stdout",
     "output_type": "stream",
     "text": [
      "None\n",
      "None\n"
     ]
    }
   ],
   "source": [
    "def add3(x,y):\n",
    "    z=x+y\n",
    "    return \n",
    "print(add3(30,20))\n",
    "x=add3(40,30)\n",
    "print(x)"
   ]
  },
  {
   "cell_type": "code",
   "execution_count": 11,
   "id": "cb150633",
   "metadata": {},
   "outputs": [
    {
     "name": "stdout",
     "output_type": "stream",
     "text": [
      "Enter the salary:40000\n",
      "NETSALARY: 36000.0\n",
      "Tax= 4000.0\n"
     ]
    }
   ],
   "source": [
    "#ex:- compute tax and netsalary\n",
    "salary=int(input(\"Enter the salary:\"))\n",
    "def compute():\n",
    "    tax=salary*10/100\n",
    "    return tax\n",
    "t=compute()\n",
    "netsal=salary-t\n",
    "print(\"NETSALARY:\",netsal)\n",
    "print(\"Tax=\",t)"
   ]
  },
  {
   "cell_type": "code",
   "execution_count": 40,
   "id": "7caaf09a",
   "metadata": {},
   "outputs": [
    {
     "data": {
      "text/plain": [
       "(240, 80.0)"
      ]
     },
     "execution_count": 40,
     "metadata": {},
     "output_type": "execute_result"
    }
   ],
   "source": [
    "def display(s1,s2,s3):\n",
    "    tot=s1+s2+s3\n",
    "    avg=tot/3\n",
    "    return tot,avg\n",
    "display(90,80,70)"
   ]
  },
  {
   "cell_type": "code",
   "execution_count": 43,
   "id": "29efa3ac",
   "metadata": {},
   "outputs": [
    {
     "name": "stdout",
     "output_type": "stream",
     "text": [
      "(240, 80.0) <class 'tuple'>\n",
      "TOTAL= 240\n",
      "AVERAGE= 80.0\n"
     ]
    }
   ],
   "source": [
    "def display(s1,s2,s3):\n",
    "    tot=s1+s2+s3\n",
    "    avg=tot/3\n",
    "    return tot,avg\n",
    "x=display(90,80,70)\n",
    "print(x,type(x))\n",
    "print(\"TOTAL=\",x[0])\n",
    "print(\"AVERAGE=\",x[1])"
   ]
  },
  {
   "cell_type": "code",
   "execution_count": 45,
   "id": "265659eb",
   "metadata": {},
   "outputs": [
    {
     "name": "stdout",
     "output_type": "stream",
     "text": [
      "(240, 80.0) <class 'tuple'>\n",
      "TOTAL= 180\n",
      "AVERAGE= 60.0\n"
     ]
    }
   ],
   "source": [
    "def display(s1,s2,s3):\n",
    "    tot=s1+s2+s3\n",
    "    avg=tot/3\n",
    "    return tot,avg\n",
    "p,q=display(50,60,70)\n",
    "print(x,type(x))\n",
    "print(\"TOTAL=\",p)\n",
    "print(\"AVERAGE=\",q)"
   ]
  },
  {
   "cell_type": "code",
   "execution_count": 48,
   "id": "fdd8d67c",
   "metadata": {},
   "outputs": [
    {
     "name": "stdout",
     "output_type": "stream",
     "text": [
      "30\n"
     ]
    }
   ],
   "source": [
    "#function without argument and with returntype\n",
    "def add4():\n",
    "    x=10\n",
    "    y=20\n",
    "    z=x+y\n",
    "    return z\n",
    "p=add4()\n",
    "print(p)"
   ]
  },
  {
   "cell_type": "code",
   "execution_count": 50,
   "id": "7cd4f0da",
   "metadata": {},
   "outputs": [
    {
     "name": "stdout",
     "output_type": "stream",
     "text": [
      "sum= 30\n"
     ]
    }
   ],
   "source": [
    "#calling a function by providing some values\n",
    "def display(x,y):\n",
    "    z=x+y\n",
    "    print(\"sum=\",z)\n",
    "display(10,20)"
   ]
  },
  {
   "cell_type": "code",
   "execution_count": 54,
   "id": "1f57bf57",
   "metadata": {},
   "outputs": [
    {
     "name": "stdout",
     "output_type": "stream",
     "text": [
      "sum= 70\n"
     ]
    }
   ],
   "source": [
    "#calling a function by providing some refrence\n",
    "def show(a,b):\n",
    "    c=a+b\n",
    "    print(\"sum=\",c)\n",
    "p=30\n",
    "q=40\n",
    "show(p,q)         #here show is some refrence"
   ]
  },
  {
   "cell_type": "code",
   "execution_count": 57,
   "id": "9f85a66e",
   "metadata": {},
   "outputs": [
    {
     "name": "stdout",
     "output_type": "stream",
     "text": [
      "[10, 20, 30, 40, 50] 2169492672960\n",
      "[10, 20, 30, 40, 50, 60] 2169492672960\n",
      "[10, 20, 30, 40, 50, 60] 2169492672960\n"
     ]
    }
   ],
   "source": [
    "def display(list1):\n",
    "    list1.append(60)\n",
    "    print(list1,id(list1))\n",
    "list1=[10,20,30,40,50]\n",
    "print(list1,id(list1))\n",
    "display(list1)\n",
    "print(list1,id(list1))"
   ]
  },
  {
   "cell_type": "code",
   "execution_count": 60,
   "id": "b91152c6",
   "metadata": {},
   "outputs": [
    {
     "name": "stdout",
     "output_type": "stream",
     "text": [
      "10\n",
      "20\n"
     ]
    }
   ],
   "source": [
    "x=10         #Global variable\n",
    "def display():\n",
    "    y=20           #local variable\n",
    "    print(x)\n",
    "    print(y)\n",
    "display()"
   ]
  },
  {
   "cell_type": "code",
   "execution_count": 65,
   "id": "b5cecd62",
   "metadata": {},
   "outputs": [
    {
     "name": "stdout",
     "output_type": "stream",
     "text": [
      "10\n",
      "20\n"
     ]
    }
   ],
   "source": [
    "x=10\n",
    "def show():\n",
    "    y=20           \n",
    "    print(x)\n",
    "    print(y)\n",
    "show()"
   ]
  },
  {
   "cell_type": "code",
   "execution_count": 69,
   "id": "5d55379f",
   "metadata": {},
   "outputs": [
    {
     "name": "stdout",
     "output_type": "stream",
     "text": [
      "20\n",
      "10\n"
     ]
    }
   ],
   "source": [
    "x=10\n",
    "def display():\n",
    "    x=20           \n",
    "    print(x)\n",
    "def show():\n",
    "    print(x)\n",
    "display()\n",
    "show()"
   ]
  },
  {
   "cell_type": "code",
   "execution_count": 70,
   "id": "7f8ba7f0",
   "metadata": {},
   "outputs": [
    {
     "name": "stdout",
     "output_type": "stream",
     "text": [
      "10\n",
      "20\n",
      "20\n"
     ]
    }
   ],
   "source": [
    "#modifying global variables from within the function\n",
    "x=10\n",
    "def display():\n",
    "    global x\n",
    "    x=20\n",
    "    print(x)\n",
    "def show():\n",
    "    print(x)\n",
    "show()\n",
    "display()\n",
    "show()"
   ]
  },
  {
   "cell_type": "code",
   "execution_count": 6,
   "id": "2720f1ac",
   "metadata": {},
   "outputs": [
    {
     "name": "stdout",
     "output_type": "stream",
     "text": [
      "11 number is odd\n"
     ]
    }
   ],
   "source": [
    "def evenodd(n):\n",
    "    if n%2==0:\n",
    "        print(\"{} number is even\".format(n))\n",
    "    else:\n",
    "        print(\"{} number is odd\".format(n))\n",
    "evenodd(11)"
   ]
  },
  {
   "cell_type": "code",
   "execution_count": null,
   "id": "91a99d93",
   "metadata": {},
   "outputs": [],
   "source": [
    "#ARBITARY ARGUMENTS"
   ]
  },
  {
   "cell_type": "code",
   "execution_count": 14,
   "id": "0a8bd066",
   "metadata": {},
   "outputs": [
    {
     "name": "stdout",
     "output_type": "stream",
     "text": [
      "Blake <class 'str'>\n",
      "(75, 65, 90) <class 'tuple'>\n",
      "75\n",
      "65\n",
      "90\n",
      "\n",
      "\n",
      "\n",
      "\n"
     ]
    }
   ],
   "source": [
    "def display(name,*marks):\n",
    "    print(name,type(name))\n",
    "    print(marks,type(marks))\n",
    "    for p in marks:\n",
    "        print(p)\n",
    "display(\"Blake\",75,65,90)\n",
    "print(\"\\n\\n\\n\")"
   ]
  },
  {
   "cell_type": "code",
   "execution_count": 25,
   "id": "c3accb97",
   "metadata": {},
   "outputs": [
    {
     "name": "stdout",
     "output_type": "stream",
     "text": [
      "pranil\n",
      "subject 1 . 1\n",
      "subject 2 . 0\n"
     ]
    }
   ],
   "source": [
    "def display(name,marks):\n",
    "    print(name)\n",
    "    x=1\n",
    "    for p in marks:\n",
    "        print(\"subject\",x,\".\",p)\n",
    "        x=x+1\n",
    "display(subject=)"
   ]
  },
  {
   "cell_type": "code",
   "execution_count": 11,
   "id": "6d9c51ca",
   "metadata": {},
   "outputs": [
    {
     "name": "stdout",
     "output_type": "stream",
     "text": [
      "10 <class 'int'>\n",
      "20 <class 'int'>\n",
      "(30,) <class 'tuple'>\n",
      "\n",
      "\n",
      "10 <class 'int'>\n",
      "20 <class 'int'>\n",
      "(30, 40, 50) <class 'tuple'>\n",
      "\n",
      "\n",
      "10 <class 'int'>\n",
      "20 <class 'int'>\n",
      "() <class 'tuple'>\n",
      "\n",
      "\n",
      "10 <class 'int'>\n",
      "20 <class 'int'>\n",
      "('hello',) <class 'tuple'>\n",
      "\n",
      "\n",
      "10 <class 'int'>\n",
      "hai <class 'str'>\n",
      "('hello',) <class 'tuple'>\n",
      "\n",
      "\n",
      "10 <class 'int'>\n",
      "hai <class 'str'>\n",
      "('hello', 'world') <class 'tuple'>\n",
      "\n",
      "\n",
      "10 <class 'int'>\n",
      "20 <class 'int'>\n",
      "(30, [40, 50]) <class 'tuple'>\n",
      "\n",
      "\n"
     ]
    }
   ],
   "source": [
    "def display(x,y,*z):\n",
    "    print(x,type(x))\n",
    "    print(y,type(y))\n",
    "    print(z,type(z))\n",
    "display(10,20,30)\n",
    "print(\"\\n\")\n",
    "display(10,20,30,40,50)\n",
    "print(\"\\n\")\n",
    "display(10,20)\n",
    "print(\"\\n\")\n",
    "display(10,20,\"hello\")\n",
    "print(\"\\n\")\n",
    "display(10,\"hai\",\"hello\")\n",
    "print(\"\\n\")\n",
    "display(10,\"hai\",\"hello\",\"world\")\n",
    "print(\"\\n\")\n",
    "display(10,20,30,[40,50])\n",
    "print(\"\\n\")"
   ]
  },
  {
   "cell_type": "code",
   "execution_count": 22,
   "id": "2f7d3870",
   "metadata": {},
   "outputs": [
    {
     "name": "stdout",
     "output_type": "stream",
     "text": [
      "(10, 20) <class 'tuple'>\n",
      "30 <class 'int'>\n",
      "40 <class 'int'>\n",
      "(10, 20, 30) <class 'tuple'>\n",
      "40 <class 'int'>\n",
      "50 <class 'int'>\n",
      "((10, 20, 30),) <class 'tuple'>\n",
      "40 <class 'int'>\n",
      "50 <class 'int'>\n",
      "((10, 20, 30), (40, 50)) <class 'tuple'>\n",
      "40 <class 'int'>\n",
      "50 <class 'int'>\n"
     ]
    }
   ],
   "source": [
    "def display(*p,q,r=40):\n",
    "    print(p,type(p))\n",
    "    print(q,type(q))\n",
    "    print(r,type(r))\n",
    "display(10,20,q=30)\n",
    "display(10,20,30,q=40,r=50)\n",
    "display((10,20,30),q=40,r=50)\n",
    "display((10,20,30),(40,50),q=40,r=50)"
   ]
  },
  {
   "cell_type": "code",
   "execution_count": 38,
   "id": "3a17f519",
   "metadata": {},
   "outputs": [
    {
     "name": "stdout",
     "output_type": "stream",
     "text": [
      "f2: 999\n",
      "f1: 888\n",
      "f3: 888\n"
     ]
    }
   ],
   "source": [
    "def f1():\n",
    "    global a\n",
    "    a=888\n",
    "    print(\"f1:\",a)\n",
    "def f2():\n",
    "    global a\n",
    "    a=999\n",
    "    print(\"f2:\",a)\n",
    "def f3():\n",
    "    print(\"f3:\",a)\n",
    "f2()\n",
    "f1()\n",
    "f3()"
   ]
  },
  {
   "cell_type": "code",
   "execution_count": 58,
   "id": "21fb0784",
   "metadata": {},
   "outputs": [
    {
     "name": "stdout",
     "output_type": "stream",
     "text": [
      "The square of 2 is: 4\n"
     ]
    }
   ],
   "source": []
  },
  {
   "cell_type": "code",
   "execution_count": 8,
   "id": "b2960cf8",
   "metadata": {},
   "outputs": [
    {
     "name": "stdout",
     "output_type": "stream",
     "text": [
      "[0, 10, 20, 30]\n"
     ]
    }
   ],
   "source": [
    "def iseven(x):\n",
    "    if x%2==0:\n",
    "        return True\n",
    "    else:\n",
    "        return False\n",
    "l=[0,5,10,15,20,25,30]\n",
    "l1=list(filter(iseven,l))\n",
    "print(l1)"
   ]
  },
  {
   "cell_type": "code",
   "execution_count": 14,
   "id": "9074f9d1",
   "metadata": {},
   "outputs": [
    {
     "name": "stdout",
     "output_type": "stream",
     "text": [
      "hello\n",
      "hello\n",
      "None\n"
     ]
    }
   ],
   "source": [
    "def wish():\n",
    "    print(\"hello\")\n",
    "wish()\n",
    "print(wish())"
   ]
  },
  {
   "cell_type": "code",
   "execution_count": 19,
   "id": "7c6b7520",
   "metadata": {},
   "outputs": [
    {
     "name": "stdout",
     "output_type": "stream",
     "text": [
      "the sum is: 150\n",
      "the sub is: 50\n"
     ]
    }
   ],
   "source": [
    "def exp(a,b):\n",
    "    sum=a+b\n",
    "    sub=a-b\n",
    "    return sum,sub\n",
    "sum,sub=exp(100,50)    #here at the place of sum and sub we can use x and y also\n",
    "print(\"the sum is:\",sum)\n",
    "print(\"the sub is:\",sub)"
   ]
  },
  {
   "cell_type": "code",
   "execution_count": 21,
   "id": "697ca240",
   "metadata": {},
   "outputs": [
    {
     "name": "stdout",
     "output_type": "stream",
     "text": [
      "the Sum is: 150\n",
      "the Subtraction is: 50\n"
     ]
    }
   ],
   "source": [
    "def exp(a,b):\n",
    "    sum=a+b\n",
    "    sub=a-b\n",
    "    return sum,sub\n",
    "x,y=exp(100,50)\n",
    "print(\"the Sum is:\",x)\n",
    "print(\"the Subtraction is:\",y)"
   ]
  },
  {
   "cell_type": "code",
   "execution_count": 52,
   "id": "f6b5d695",
   "metadata": {},
   "outputs": [
    {
     "name": "stdout",
     "output_type": "stream",
     "text": [
      "777\n",
      "10\n",
      "10\n"
     ]
    }
   ],
   "source": [
    "a=10\n",
    "def f1():\n",
    "    a=777\n",
    "    print(a)\n",
    "    print(globals()['a'])\n",
    "def f2():\n",
    "    print(a)\n",
    "f1()\n",
    "f2()"
   ]
  },
  {
   "cell_type": "code",
   "execution_count": 57,
   "id": "b4013845",
   "metadata": {},
   "outputs": [
    {
     "name": "stdout",
     "output_type": "stream",
     "text": [
      "factorial of 4 is: 24\n"
     ]
    }
   ],
   "source": [
    "def factorial(n):\n",
    "    if n==0:\n",
    "        result=1\n",
    "    else:\n",
    "        result=n*factorial(n-1)\n",
    "    return result\n",
    "print(\"factorial of 4 is:\",factorial(4))"
   ]
  },
  {
   "cell_type": "code",
   "execution_count": 1,
   "id": "1c17dd57",
   "metadata": {},
   "outputs": [
    {
     "name": "stdout",
     "output_type": "stream",
     "text": [
      "True False\n"
     ]
    }
   ],
   "source": [
    "num=lambda x:bool(x%3)\n",
    "print(num(23),num(21))"
   ]
  },
  {
   "cell_type": "code",
   "execution_count": 1,
   "id": "673370f4",
   "metadata": {},
   "outputs": [
    {
     "name": "stdout",
     "output_type": "stream",
     "text": [
      "outer function started\n",
      "outer function returning innner function\n",
      "inner function execution\n",
      "inner function execution\n",
      "<function outer.<locals>.inner at 0x0000020DE1FE4AF0>\n",
      "2258649369328\n",
      "<class 'function'>\n"
     ]
    }
   ],
   "source": [
    "def outer():\n",
    "    print(\"outer function started\")\n",
    "    def inner():\n",
    "        print(\"inner function execution\")\n",
    "    print(\"outer function returning innner function\")\n",
    "    return inner\n",
    "f1=outer()\n",
    "f1()\n",
    "f1()  #after this call only inner function will be executed...\n",
    "print(f1)\n",
    "print(id(f1))\n",
    "print(type(f1))"
   ]
  },
  {
   "cell_type": "code",
   "execution_count": 2,
   "id": "1fb3417a",
   "metadata": {},
   "outputs": [
    {
     "name": "stdout",
     "output_type": "stream",
     "text": [
      "200\n"
     ]
    }
   ],
   "source": [
    "def decor1(func):\n",
    "    def inner():\n",
    "        x=func()\n",
    "        return x*x\n",
    "    return inner\n",
    "def decor(func):\n",
    "    def inner():\n",
    "        x=func()\n",
    "        return 2*x\n",
    "    return inner\n",
    "@decor\n",
    "@decor1\n",
    "def num():\n",
    "    return(10)\n",
    "print(num())"
   ]
  },
  {
   "cell_type": "code",
   "execution_count": 3,
   "id": "0b001d16",
   "metadata": {},
   "outputs": [
    {
     "name": "stdout",
     "output_type": "stream",
     "text": [
      "400\n"
     ]
    }
   ],
   "source": [
    "def decor1(func):\n",
    "    def inner():\n",
    "        x=func()\n",
    "        return x*x\n",
    "    return inner\n",
    "def decor(func):\n",
    "    def inner():\n",
    "        x=func()\n",
    "        return 2*x\n",
    "    return inner\n",
    "@decor1\n",
    "@decor\n",
    "def num():\n",
    "    return(10)\n",
    "print(num())"
   ]
  },
  {
   "cell_type": "code",
   "execution_count": 7,
   "id": "27ecc8d5",
   "metadata": {},
   "outputs": [
    {
     "name": "stdout",
     "output_type": "stream",
     "text": [
      "countdown start\n",
      "5\n",
      "4\n",
      "3\n",
      "2\n",
      "1\n"
     ]
    }
   ],
   "source": [
    "def countdown(num):\n",
    "    print(\"countdown start\")\n",
    "    while(num>0):\n",
    "        yield num\n",
    "        num=num-1\n",
    "values=countdown(5)\n",
    "for x in values:\n",
    "    print(x)"
   ]
  },
  {
   "cell_type": "code",
   "execution_count": 6,
   "id": "f0ff16de",
   "metadata": {},
   "outputs": [
    {
     "name": "stdout",
     "output_type": "stream",
     "text": [
      "<class 'generator'>\n",
      "A\n",
      "B\n",
      "C\n"
     ]
    }
   ],
   "source": [
    "def mygen():\n",
    "    yield'A'\n",
    "    yield'B'\n",
    "    yield'C'\n",
    "g=mygen()\n",
    "print(type(g))\n",
    "print(next(g))\n",
    "print(next(g))\n",
    "print(next(g))"
   ]
  },
  {
   "cell_type": "code",
   "execution_count": 4,
   "id": "67245510",
   "metadata": {},
   "outputs": [
    {
     "name": "stdout",
     "output_type": "stream",
     "text": [
      "None 5.0\n"
     ]
    }
   ],
   "source": [
    "def smart_division(func):\n",
    "    def inner(a,b):\n",
    "        print(\"We are dividing\",a,\"with\",b)\n",
    "        if b==0:\n",
    "            print(\"we can't divide with zero\")\n",
    "        else:\n",
    "            return func(a,b)\n",
    "        return inner\n",
    "@smart_division\n",
    "def division(a,b):\n",
    "        return a/b\n",
    "print(division,(10/2))"
   ]
  },
  {
   "cell_type": "code",
   "execution_count": null,
   "id": "aa0315c0",
   "metadata": {},
   "outputs": [],
   "source": [
    "# Function Part-2"
   ]
  },
  {
   "cell_type": "code",
   "execution_count": 15,
   "id": "61d4ace1",
   "metadata": {},
   "outputs": [
    {
     "name": "stdout",
     "output_type": "stream",
     "text": [
      "101 Ajay 60000 hyd\n",
      "102 Rahul 70000 Chennai\n",
      "103 Blake 80000 Pune\n"
     ]
    }
   ],
   "source": [
    "def customer(cid,cname,bal,city=\"pune\"):\n",
    "    print(cid,cname,bal,city)\n",
    "customer(101,'Ajay',60000,\"hyd\")   # non-keyword arg\n",
    "customer(bal=70000,cname=\"Rahul\",cid=102,city=\"Chennai\")  # keyword arg\n",
    "customer(103,\"Blake\",bal=80000,city=\"Pune\") #after non-keyword arg we can have keyword arg\n",
    "# custome(cid=104,cname=\"Miller\",75000,\"pune\") this will give error cause after keyword arg non-keyword agr"
   ]
  },
  {
   "cell_type": "code",
   "execution_count": 16,
   "id": "28cb242a",
   "metadata": {},
   "outputs": [
    {
     "name": "stdout",
     "output_type": "stream",
     "text": [
      "Blake <class 'str'>\n",
      "(75, 65, 90) <class 'tuple'>\n",
      "75\n",
      "65\n",
      "90\n"
     ]
    }
   ],
   "source": [
    "# Arbitary Arguments----->\n",
    "def display(name,*marks):  #asterisk(*) is placed before the variable name that holds multiple values,(tuple type)\n",
    "    print(name,type(name))\n",
    "    print(marks,type(marks))\n",
    "    for p in marks:\n",
    "        print(p)\n",
    "display(\"Blake\",75,65,90)  # calling function"
   ]
  },
  {
   "cell_type": "code",
   "execution_count": 17,
   "id": "ea8611e2",
   "metadata": {},
   "outputs": [
    {
     "name": "stdout",
     "output_type": "stream",
     "text": [
      "Blake\n",
      "subject 1 : 75\n",
      "subject 2 : 65\n",
      "subject 3 : 90\n"
     ]
    }
   ],
   "source": [
    "def display1(name,*marks):\n",
    "    print(name)\n",
    "    x=1\n",
    "    for p in marks:\n",
    "        print(\"subject\",x,\":\",p)\n",
    "        x+=1\n",
    "display1(\"Blake\",75,65,90)"
   ]
  },
  {
   "cell_type": "code",
   "execution_count": 18,
   "id": "ad6ef94a",
   "metadata": {},
   "outputs": [
    {
     "name": "stdout",
     "output_type": "stream",
     "text": [
      "10 <class 'int'>\n",
      "20 <class 'int'>\n",
      "(30,) <class 'tuple'>\n",
      "\n",
      "\n",
      "10 <class 'int'>\n",
      "20 <class 'int'>\n",
      "(30, 40, 50) <class 'tuple'>\n",
      "\n",
      "\n",
      "10 <class 'int'>\n",
      "20 <class 'int'>\n",
      "() <class 'tuple'>\n",
      "\n",
      "\n",
      "10 <class 'int'>\n",
      "20 <class 'int'>\n",
      "('hello',) <class 'tuple'>\n",
      "\n",
      "\n",
      "10 <class 'int'>\n",
      "hai <class 'str'>\n",
      "('hello',) <class 'tuple'>\n",
      "\n",
      "\n",
      "10 <class 'int'>\n",
      "hai <class 'str'>\n",
      "('hello', 'world') <class 'tuple'>\n",
      "\n",
      "\n",
      "10 <class 'int'>\n",
      "20 <class 'int'>\n",
      "(30, [40, 50]) <class 'tuple'>\n"
     ]
    }
   ],
   "source": [
    "def display(x,y,*z):\n",
    "    print(x,type(x))\n",
    "    print(y,type(y))\n",
    "    print(z,type(z))\n",
    "\n",
    "display(10,20,30)\n",
    "print(\"\\n\")\n",
    "display(10,20,30,40,50)\n",
    "print(\"\\n\")\n",
    "display(10,20)\n",
    "print(\"\\n\")\n",
    "display(10,20,\"hello\")\n",
    "print(\"\\n\")\n",
    "display(10,\"hai\",\"hello\")\n",
    "print(\"\\n\")\n",
    "display(10,\"hai\",\"hello\",\"world\")\n",
    "print(\"\\n\")\n",
    "display(10,20,30,[40,50])"
   ]
  },
  {
   "cell_type": "code",
   "execution_count": null,
   "id": "51954cac",
   "metadata": {},
   "outputs": [],
   "source": [
    "def display(*p,q,r):\n",
    "    print(p,type(p))\n",
    "    print(q,type(q))\n",
    "    print(r,type(r))\n",
    "display(10,20,30)\n",
    "display(10,20,30,40,50)\n",
    "display(10,20)\n",
    "# error cause all values are taken by p as tuple\n",
    "# value of q and r are missing"
   ]
  },
  {
   "cell_type": "code",
   "execution_count": 21,
   "id": "89a00bee",
   "metadata": {},
   "outputs": [
    {
     "name": "stdout",
     "output_type": "stream",
     "text": [
      "(10, 20) <class 'tuple'>\n",
      "30 <class 'int'>\n",
      "40 <class 'int'>\n",
      "\n",
      "\n",
      "(10, 20, 30) <class 'tuple'>\n",
      "40 <class 'int'>\n",
      "50 <class 'int'>\n",
      "\n",
      "\n",
      "((10, 20, 30),) <class 'tuple'>\n",
      "40 <class 'int'>\n",
      "50 <class 'int'>\n",
      "\n",
      "\n",
      "((10, 20, 30), (40, 50)) <class 'tuple'>\n",
      "40 <class 'int'>\n",
      "50 <class 'int'>\n"
     ]
    }
   ],
   "source": [
    "# to overcome above problem,we assign values to q and r as key-word arg or default arg\n",
    "def display(*p,q,r=40):\n",
    "    print(p,type(p))\n",
    "    print(q,type(q))\n",
    "    print(r,type(r))\n",
    "    \n",
    "display(10,20,q=30)\n",
    "print(\"\\n\")\n",
    "display(10,20,30,q=40,r=50)  # updated r value it will take\n",
    "print(\"\\n\")\n",
    "display((10,20,30),q=40,r=50)\n",
    "print(\"\\n\")\n",
    "display((10,20,30),(40,50),q=40,r=50)"
   ]
  },
  {
   "cell_type": "code",
   "execution_count": null,
   "id": "9867d15a",
   "metadata": {},
   "outputs": [],
   "source": [
    "# Lambda Function----> \n",
    "# syntax:--- lambda arguments:expression\n",
    "# if fun doesn't have any name, assign any variable to it and then call"
   ]
  },
  {
   "cell_type": "code",
   "execution_count": 30,
   "id": "bba6c9b5",
   "metadata": {},
   "outputs": [
    {
     "name": "stdout",
     "output_type": "stream",
     "text": [
      "64\n",
      "400\n",
      "The square of 14 is: 196\n"
     ]
    }
   ],
   "source": [
    "#lambda fun to square a number\n",
    "f1=lambda x:x*x  #assigning the lambda function to a variable(f1)\n",
    "print(f1(8))\n",
    "print(f1(20))\n",
    "print(\"The square of 14 is:\",f1(14))"
   ]
  },
  {
   "cell_type": "code",
   "execution_count": 31,
   "id": "4cebb414",
   "metadata": {},
   "outputs": [
    {
     "name": "stdout",
     "output_type": "stream",
     "text": [
      "6\n"
     ]
    }
   ],
   "source": [
    "def test():\n",
    "    try:\n",
    "        return 3\n",
    "    finally:\n",
    "        return 6\n",
    "print(test())"
   ]
  },
  {
   "cell_type": "code",
   "execution_count": 32,
   "id": "33c5e359",
   "metadata": {},
   "outputs": [
    {
     "name": "stdout",
     "output_type": "stream",
     "text": [
      "[1, 2, 3, 3]\n"
     ]
    }
   ],
   "source": [
    "def test(i,values=[]):\n",
    "    values.append(i)\n",
    "    return values\n",
    "test(1)\n",
    "test(2)\n",
    "test(3)\n",
    "print(test(3))"
   ]
  },
  {
   "cell_type": "code",
   "execution_count": 34,
   "id": "1bddea05",
   "metadata": {},
   "outputs": [
    {
     "name": "stdout",
     "output_type": "stream",
     "text": [
      "<class 'NoneType'>\n"
     ]
    }
   ],
   "source": [
    "def x():pass\n",
    "print(type(x()))"
   ]
  },
  {
   "cell_type": "code",
   "execution_count": 35,
   "id": "a3c0398c",
   "metadata": {},
   "outputs": [
    {
     "name": "stdout",
     "output_type": "stream",
     "text": [
      "[30, 40, 50] <class 'list'>\n"
     ]
    }
   ],
   "source": [
    "# Filter function---> for filtering data based on conditions\n",
    "# Task-- to filter those values>20\n",
    "l=[10,20,30,40,50]\n",
    "res=list(filter(lambda x:x>20,l))\n",
    "print(res,type(res))"
   ]
  },
  {
   "cell_type": "code",
   "execution_count": 36,
   "id": "3cc6cc72",
   "metadata": {},
   "outputs": [
    {
     "name": "stdout",
     "output_type": "stream",
     "text": [
      "[[101, 'miller', 30000, 'm', 11, 'hyd'], [104, 'sita', 60000, 'f', 12, 'hyd'], [105, 'james', 70000, 'm', 13, 'hyd']]\n"
     ]
    }
   ],
   "source": [
    "emps=[[101,\"miller\",30000,'m',11,'hyd'],\n",
    "      [102,\"blake\",40000,'m',12,\"pune\"],\n",
    "      [103,\"sony\",50000,'f',11,'pune'],\n",
    "      [104,\"sita\",60000,'f',12,'hyd'],\n",
    "      [105,\"james\",70000,'m',13,'hyd']]\n",
    "      \n",
    "# Task-- filter those emps who belongs to the city \"hyd\"\n",
    "hyd_recs=list(filter(lambda x:x[5]=='hyd',emps))\n",
    "print(hyd_recs)"
   ]
  },
  {
   "cell_type": "code",
   "execution_count": 38,
   "id": "27878c3c",
   "metadata": {},
   "outputs": [
    {
     "name": "stdout",
     "output_type": "stream",
     "text": [
      "[[101, 'miller', 30000, 'm', 11, 'hyd'], [104, 'sita', 60000, 'f', 12, 'hyd'], [105, 'james', 70000, 'm', 13, 'hyd']]\n"
     ]
    }
   ],
   "source": [
    "# Task-- filter only male emp records\n",
    "hyd_res=list(filter(lambda x:x[3]=='m',emps))\n",
    "print(hyd_recs)"
   ]
  },
  {
   "cell_type": "code",
   "execution_count": 39,
   "id": "62d3a748",
   "metadata": {},
   "outputs": [
    {
     "name": "stdout",
     "output_type": "stream",
     "text": [
      "[[103, 'sony', 50000, 'f', 11, 'pune'], [104, 'sita', 60000, 'f', 12, 'hyd'], [105, 'james', 70000, 'm', 13, 'hyd']]\n"
     ]
    }
   ],
   "source": [
    "# Task-- to filter whose sal is >40000\n",
    "hyd_recs=list(filter(lambda x:x[2]>40000,emps))\n",
    "print(hyd_recs)"
   ]
  },
  {
   "cell_type": "code",
   "execution_count": 1,
   "id": "c66b540e",
   "metadata": {},
   "outputs": [
    {
     "name": "stdout",
     "output_type": "stream",
     "text": [
      "[15, 25, 35, 45, 55]\n"
     ]
    }
   ],
   "source": [
    "# MAP Function:-----\n",
    "list1=[10,20,30,40,50]\n",
    "#Task :- Adding 5 to each element of the list\n",
    "res=list(map(lambda x:x+5,list1))\n",
    "print(res)"
   ]
  },
  {
   "cell_type": "code",
   "execution_count": 3,
   "id": "c3207dfb",
   "metadata": {},
   "outputs": [
    {
     "name": "stdout",
     "output_type": "stream",
     "text": [
      "[[101, 'miller', 35000, 'm', 11, 'hyd'], [102, 'blake', 45000, 'm', 12, 'pune'], [103, 'sony', 55000, 'f', 11, 'pune'], [104, 'sita', 65000, 'f', 12, 'hyd'], [105, 'james', 75000, 'm', 13, 'hyd']]\n"
     ]
    }
   ],
   "source": [
    "emps=[[101,\"miller\",30000,'m',11,'hyd'],\n",
    "      [102,\"blake\",40000,'m',12,'pune'],\n",
    "      [103,\"sony\",50000,'f',11,'pune'],\n",
    "      [104,\"sita\",60000,'f',12,'hyd'],\n",
    "      [105,\"james\",70000,'m',13,'hyd']]\n",
    "#Task 1:- Adding 5000 to the sal of each employee as bonus\n",
    "res=list(map(lambda x:[x[0],x[1],x[2]+5000,x[3],x[4],x[5]],emps))\n",
    "print(res)"
   ]
  },
  {
   "cell_type": "code",
   "execution_count": 9,
   "id": "f4b0fa42",
   "metadata": {},
   "outputs": [
    {
     "name": "stdout",
     "output_type": "stream",
     "text": [
      "['Miller', 'Blake', 'Sony', 'Sita', 'James']\n",
      "\n",
      "\n",
      "[[101, 'Miller', 30000, 'm', 11, 'hyd'], [102, 'Blake', 40000, 'm', 12, 'pune'], [103, 'Sony', 50000, 'f', 11, 'pune'], [104, 'Sita', 60000, 'f', 12, 'hyd'], [105, 'James', 70000, 'm', 13, 'hyd']]\n"
     ]
    }
   ],
   "source": [
    "#Task 2: Transform each empname to start with uppercase\n",
    "res=list(map(lambda x:x[1].capitalize(),emps))\n",
    "print(res)\n",
    "print(\"\\n\")\n",
    "res1=list(map(lambda x:[x[0],x[1].capitalize(),x[2],x[3],x[4],x[5]],emps))\n",
    "print(res1)"
   ]
  },
  {
   "cell_type": "code",
   "execution_count": 12,
   "id": "f0393fcd",
   "metadata": {},
   "outputs": [
    {
     "name": "stdout",
     "output_type": "stream",
     "text": [
      "[[101, 'Miller', 30000, 'male', 11, 'hyd'], [102, 'Blake', 40000, 'male', 12, 'pune'], [103, 'Sony', 50000, 'female', 11, 'pune'], [104, 'Sita', 60000, 'female', 12, 'hyd'], [105, 'James', 70000, 'male', 13, 'hyd']]\n"
     ]
    }
   ],
   "source": [
    "#Task 3: Transform \"m\"----\"male\",\"f\"----\"female\"\n",
    "res2=list(map(lambda x:[x[0],x[1],x[2],\"male\" if(x[3]=='m') else \"female\",x[4],x[5]],res1))\n",
    "print(res2)\n",
    "#map is not for filtering records but to map a logic for each element of a list"
   ]
  },
  {
   "cell_type": "code",
   "execution_count": 13,
   "id": "07afda4d",
   "metadata": {},
   "outputs": [
    {
     "name": "stdout",
     "output_type": "stream",
     "text": [
      "[1, 8, 27, 64, 125]\n"
     ]
    }
   ],
   "source": [
    "l=[1,2,3,4,5]\n",
    "# program to cube each element of list\n",
    "res=list(map(lambda x:x**3,l))\n",
    "print(res)"
   ]
  },
  {
   "cell_type": "code",
   "execution_count": 1,
   "id": "f2c6b167",
   "metadata": {},
   "outputs": [
    {
     "name": "stdout",
     "output_type": "stream",
     "text": [
      "[70, 90, 110, 130, 150]\n"
     ]
    }
   ],
   "source": [
    "#Task:- Add 2 lists using map and lambda\n",
    "list1=[10,20,30,40,50]\n",
    "list2=[60,70,80,90,100]\n",
    "res=list(map(lambda x,y:x+y,list1,list2))\n",
    "print(res)"
   ]
  },
  {
   "cell_type": "code",
   "execution_count": 2,
   "id": "5a5ed808",
   "metadata": {},
   "outputs": [
    {
     "name": "stdout",
     "output_type": "stream",
     "text": [
      "21\n"
     ]
    }
   ],
   "source": [
    "# Reduce function---->\n",
    "from functools import *\n",
    "list1=[1,2,3,4,5,6]\n",
    "res=reduce(lambda x,y:x+y,list1)   #fibonassi expresion adding next element\n",
    "print(res)                         #((((1+2)+3)+4)+5)+6) =21"
   ]
  },
  {
   "cell_type": "code",
   "execution_count": 3,
   "id": "ecb35f76",
   "metadata": {},
   "outputs": [
    {
     "name": "stdout",
     "output_type": "stream",
     "text": [
      "6\n"
     ]
    }
   ],
   "source": [
    "#Task :- To find the largest number\n",
    "res2=reduce(lambda x,y:x if (x>y) else y,list1)\n",
    "print(res2)"
   ]
  },
  {
   "cell_type": "code",
   "execution_count": 4,
   "id": "a6cc32e5",
   "metadata": {},
   "outputs": [
    {
     "name": "stdout",
     "output_type": "stream",
     "text": [
      "True\n"
     ]
    }
   ],
   "source": [
    "#Boolean function :A Function which returns either True/False\n",
    "x=10\n",
    "y=5\n",
    "def display():\n",
    "    if(x>y):\n",
    "        return True\n",
    "    else:\n",
    "        return False\n",
    "p=display()\n",
    "print(p)"
   ]
  },
  {
   "cell_type": "code",
   "execution_count": 10,
   "id": "029ea588",
   "metadata": {},
   "outputs": [
    {
     "name": "stdout",
     "output_type": "stream",
     "text": [
      "-336\n"
     ]
    }
   ],
   "source": [
    "# program to multiply all the numbers in a list.\n",
    "def product(list1):\n",
    "    total=1\n",
    "    for x in list1:\n",
    "        total*=x\n",
    "    return total\n",
    "print(product((8, 2, 3, -1, 7)))"
   ]
  },
  {
   "cell_type": "code",
   "execution_count": 16,
   "id": "e040a51c",
   "metadata": {},
   "outputs": [
    {
     "name": "stdout",
     "output_type": "stream",
     "text": [
      "2170linarp\n"
     ]
    }
   ],
   "source": [
    "# program to reverse a string.\n",
    "def reverse(string):\n",
    "    str1=''\n",
    "    index=len(string)\n",
    "    while index>0:\n",
    "        str1 +=string[index-1]\n",
    "        index=index-1\n",
    "    return str1\n",
    "print(reverse(\"pranil0712\"))"
   ]
  },
  {
   "cell_type": "code",
   "execution_count": 19,
   "id": "23d1d6b9",
   "metadata": {},
   "outputs": [
    {
     "name": "stdout",
     "output_type": "stream",
     "text": [
      "Input a number to compute the factiorial : 5\n",
      "120\n"
     ]
    }
   ],
   "source": [
    "# program to calculate the factorial of a number (a non-negative integer). The function accepts the number as an argument.\n",
    "def factorial(n):\n",
    "    if n == 0:\n",
    "        return 1\n",
    "    else:\n",
    "        return n * factorial(n-1)\n",
    "n=int(input(\"Input a number to compute the factiorial : \"))\n",
    "print(factorial(n))"
   ]
  },
  {
   "cell_type": "code",
   "execution_count": 21,
   "id": "04983fd1",
   "metadata": {},
   "outputs": [
    {
     "name": "stdout",
     "output_type": "stream",
     "text": [
      "5 is in range\n"
     ]
    }
   ],
   "source": [
    "# program to check whether a number falls in a given range.\n",
    "def check(n):\n",
    "    if n in range(1,10):\n",
    "        print(\"%s is in range\"%str(n))\n",
    "    else:\n",
    "        print(\"%s not in range\"%str(n))\n",
    "check(5)"
   ]
  },
  {
   "cell_type": "code",
   "execution_count": 25,
   "id": "bd8bb8ef",
   "metadata": {},
   "outputs": [
    {
     "name": "stdout",
     "output_type": "stream",
     "text": [
      "Original string The qucik Brown Fox\n",
      "No. of Upper case characters :  3\n",
      "No. of lower case characters :  13\n"
     ]
    }
   ],
   "source": [
    "# program that accepts a string and calculate the number of upper case letters and lower case letters.\n",
    "def word(str1):\n",
    "    d={\"upper_case\":0,\"lower_case\":0}\n",
    "    for x in str1:\n",
    "        if x.isupper():\n",
    "            d[\"upper_case\"]+=1\n",
    "        elif x.islower():\n",
    "            d[\"lower_case\"]+=1\n",
    "        else:\n",
    "            pass\n",
    "    print(\"Original string\",str1)\n",
    "    print(\"No. of Upper case characters : \", d[\"upper_case\"])\n",
    "    print(\"No. of lower case characters : \", d[\"lower_case\"])\n",
    "word(\"The qucik Brown Fox\")"
   ]
  },
  {
   "cell_type": "code",
   "execution_count": 26,
   "id": "99b9ccb9",
   "metadata": {},
   "outputs": [
    {
     "name": "stdout",
     "output_type": "stream",
     "text": [
      "[1, 2, 3, 4, 5]\n"
     ]
    }
   ],
   "source": [
    "# program that takes a list and returns a new list with unique elements of the first list.\n",
    "def new_list(l):\n",
    "    x=[]\n",
    "    for a in l:\n",
    "        if a not in x:\n",
    "            x.append(a)\n",
    "    return x\n",
    "print(new_list([1,2,3,2,3,4,4,5]))"
   ]
  },
  {
   "cell_type": "code",
   "execution_count": 32,
   "id": "568816b0",
   "metadata": {},
   "outputs": [
    {
     "name": "stdout",
     "output_type": "stream",
     "text": [
      "False\n"
     ]
    }
   ],
   "source": [
    "# program that takes a number as a parameter and check the number is prime or not.\n",
    "def is_prime(n):\n",
    "    if n==1:\n",
    "        return False\n",
    "    elif n==2:\n",
    "        return True\n",
    "    else:\n",
    "        for x in range(2,n):\n",
    "            if (n % x==0):\n",
    "                return False\n",
    "        return True\n",
    "print(is_prime(12))"
   ]
  },
  {
   "cell_type": "code",
   "execution_count": 33,
   "id": "c9736087",
   "metadata": {},
   "outputs": [
    {
     "name": "stdout",
     "output_type": "stream",
     "text": [
      "[2, 12, 14, 4]\n"
     ]
    }
   ],
   "source": [
    "# program to print the even numbers from a given list.\n",
    "def even(l):\n",
    "    num=[]\n",
    "    for x in l:\n",
    "        if x % 2==0:\n",
    "            num.append(x)\n",
    "    return num\n",
    "print(even([1,2,12,14,4,5,7]))"
   ]
  },
  {
   "cell_type": "code",
   "execution_count": 42,
   "id": "515e36a3",
   "metadata": {},
   "outputs": [
    {
     "name": "stdout",
     "output_type": "stream",
     "text": [
      "False\n",
      "True\n"
     ]
    }
   ],
   "source": [
    "#program that checks whether a passed string is palindrome or not.(palindrome means same word reading from both side ex:- level)\n",
    "def palindrome(string):\n",
    "    left_pos=0\n",
    "    right_pos=len(string)-1\n",
    "    while right_pos>=left_pos:\n",
    "        if not string[left_pos]==string[right_pos]:\n",
    "            return False\n",
    "        else:\n",
    "            left_pos+=1\n",
    "            right_pos-=1\n",
    "    return True\n",
    "print(palindrome(\"pranil\"))\n",
    "print(palindrome(\"level\"))"
   ]
  },
  {
   "cell_type": "code",
   "execution_count": 3,
   "id": "140e623e",
   "metadata": {},
   "outputs": [
    {
     "name": "stdout",
     "output_type": "stream",
     "text": [
      "25\n",
      "48\n"
     ]
    }
   ],
   "source": [
    "r=lambda a:a+15\n",
    "print(r(10))\n",
    "r=lambda x,y:x*y\n",
    "print(r(12,4))"
   ]
  },
  {
   "cell_type": "code",
   "execution_count": 10,
   "id": "08c18122",
   "metadata": {},
   "outputs": [
    {
     "name": "stdout",
     "output_type": "stream",
     "text": [
      "Double the number of 15 = 30\n"
     ]
    }
   ],
   "source": [
    "def func_compute(n):\n",
    "    return lambda x:x*n\n",
    "result=func_compute(2)\n",
    "print(\"Double the number of 15 =\",result(15))"
   ]
  },
  {
   "cell_type": "code",
   "execution_count": null,
   "id": "4f665060",
   "metadata": {},
   "outputs": [],
   "source": []
  }
 ],
 "metadata": {
  "kernelspec": {
   "display_name": "Python 3 (ipykernel)",
   "language": "python",
   "name": "python3"
  },
  "language_info": {
   "codemirror_mode": {
    "name": "ipython",
    "version": 3
   },
   "file_extension": ".py",
   "mimetype": "text/x-python",
   "name": "python",
   "nbconvert_exporter": "python",
   "pygments_lexer": "ipython3",
   "version": "3.9.12"
  }
 },
 "nbformat": 4,
 "nbformat_minor": 5
}
