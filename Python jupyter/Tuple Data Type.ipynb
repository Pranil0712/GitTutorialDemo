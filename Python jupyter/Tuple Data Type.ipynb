{
 "cells": [
  {
   "cell_type": "code",
   "execution_count": null,
   "id": "90a73e63",
   "metadata": {},
   "outputs": [],
   "source": []
  },
  {
   "cell_type": "code",
   "execution_count": 1,
   "id": "b3a8f0c6",
   "metadata": {},
   "outputs": [
    {
     "name": "stdout",
     "output_type": "stream",
     "text": [
      "Rahul\n",
      "Rahul\n",
      "('Amar', 'Rohith', 'Rahul')\n",
      "('Rahul', 'Blake', 'James')\n",
      "()\n",
      "<class 'tuple'>\n"
     ]
    }
   ],
   "source": [
    "x=(\"Amar\",\"Rohith\",\"Rahul\",\"Blake\",\"James\",\"Miller\")\n",
    "print(x[2])\n",
    "print(x[-4])\n",
    "print(x[0:3])\n",
    "print(x[2:5])   #end -1\n",
    "print(x[5:2])\n",
    "print(type(x))"
   ]
  },
  {
   "cell_type": "code",
   "execution_count": 17,
   "id": "d25103e0",
   "metadata": {},
   "outputs": [
    {
     "name": "stdout",
     "output_type": "stream",
     "text": [
      "('Rahul', 'Blake', 'James')\n",
      "('Rahul', 'Blake', 'James', 'Miller')\n",
      "('Rahul', 'Blake', 'James', 'Miller')\n",
      "('Amar', 'Rohith', 'Rahul')\n"
     ]
    }
   ],
   "source": [
    "x=(\"Amar\",\"Rohith\",\"Rahul\",\"Blake\",\"James\",\"Miller\")\n",
    "print(x[-4:-1])\n",
    "print(x[2:])\n",
    "print(x[-4:])\n",
    "print(x[:3])"
   ]
  },
  {
   "cell_type": "code",
   "execution_count": 18,
   "id": "b46ba3d4",
   "metadata": {},
   "outputs": [
    {
     "name": "stdout",
     "output_type": "stream",
     "text": [
      "('Amar', 'Rohith', 'Rahul', 'Blake', 'James', 'Miller')\n",
      "('Amar', 'Rohith', 'Rahul', 'Blake', 'James', 'Miller')\n",
      "('Amar', 'Rohith', 'Rahul', 'Blake', 'James', 'Miller')\n"
     ]
    }
   ],
   "source": [
    "x=(\"Amar\",\"Rohith\",\"Rahul\",\"Blake\",\"James\",\"Miller\")\n",
    "print(x[:])\n",
    "print(x)\n",
    "print(x[0:])"
   ]
  },
  {
   "cell_type": "code",
   "execution_count": 23,
   "id": "a54e37bf",
   "metadata": {},
   "outputs": [
    {
     "name": "stdout",
     "output_type": "stream",
     "text": [
      "('Amar', 'Rahul', 'James')\n",
      "('Amar', 'Rahul', 'James')\n",
      "('Amar', 'Rahul', 'James')\n",
      "('Miller', 'James', 'Blake', 'Rahul', 'Rohith', 'Amar')\n"
     ]
    }
   ],
   "source": [
    "x=(\"Amar\",\"Rohith\",\"Rahul\",\"Blake\",\"James\",\"Miller\")\n",
    "print(x[0:6:2])\n",
    "print(x[0:5:2])\n",
    "print(x[::2])\n",
    "print(x[::-1])"
   ]
  },
  {
   "cell_type": "code",
   "execution_count": 22,
   "id": "eeac779e",
   "metadata": {},
   "outputs": [
    {
     "ename": "TypeError",
     "evalue": "'tuple' object is not callable",
     "output_type": "error",
     "traceback": [
      "\u001b[1;31m---------------------------------------------------------------------------\u001b[0m",
      "\u001b[1;31mTypeError\u001b[0m                                 Traceback (most recent call last)",
      "Input \u001b[1;32mIn [22]\u001b[0m, in \u001b[0;36m<cell line: 3>\u001b[1;34m()\u001b[0m\n\u001b[0;32m      1\u001b[0m x\u001b[38;5;241m=\u001b[39m[\u001b[38;5;241m10\u001b[39m,\u001b[38;5;241m20\u001b[39m,\u001b[38;5;241m30\u001b[39m,\u001b[38;5;241m40\u001b[39m,\u001b[38;5;241m50\u001b[39m]\n\u001b[0;32m      2\u001b[0m y\u001b[38;5;241m=\u001b[39m[\u001b[38;5;241m10\u001b[39m,\u001b[38;5;241m20\u001b[39m,\u001b[38;5;241m30\u001b[39m,\u001b[38;5;241m40\u001b[39m,\u001b[38;5;241m50\u001b[39m]\n\u001b[1;32m----> 3\u001b[0m \u001b[38;5;28;43mprint\u001b[39;49m\u001b[43m(\u001b[49m\u001b[43mx\u001b[49m\u001b[43m,\u001b[49m\u001b[38;5;28;43mid\u001b[39;49m\u001b[43m(\u001b[49m\u001b[43mx\u001b[49m\u001b[43m)\u001b[49m\u001b[43m)\u001b[49m\n\u001b[0;32m      4\u001b[0m \u001b[38;5;28mprint\u001b[39m(y,\u001b[38;5;28mid\u001b[39m(y))\n\u001b[0;32m      5\u001b[0m \u001b[38;5;28mprint\u001b[39m(x \u001b[38;5;129;01mis\u001b[39;00m y)\n",
      "\u001b[1;31mTypeError\u001b[0m: 'tuple' object is not callable"
     ]
    }
   ],
   "source": [
    "x=[10,20,30,40,50]\n",
    "y=[10,20,30,40,50]\n",
    "print(x,id(x))\n",
    "print(y,id(y))\n",
    "print(x is y)\n",
    "print(x == y)"
   ]
  },
  {
   "cell_type": "code",
   "execution_count": 27,
   "id": "9ffc0153",
   "metadata": {},
   "outputs": [
    {
     "name": "stdout",
     "output_type": "stream",
     "text": [
      "(10, 20, 30, 40, 50) 1619069277904\n",
      "(10, 20, 30, 40, 50) 1619068561184\n"
     ]
    }
   ],
   "source": [
    "x=(10,20,30,40,50)\n",
    "y=(10,20,30,40,50)\n",
    "print(x,id(x))\n",
    "print(y,id(y))"
   ]
  },
  {
   "cell_type": "code",
   "execution_count": 29,
   "id": "8dbc98f5",
   "metadata": {},
   "outputs": [
    {
     "name": "stdout",
     "output_type": "stream",
     "text": [
      "[10, 20, 30, 40, 50] <class 'list'> 5 1619069364672\n",
      "[10, 20, 30, 40, 50] <class 'list'> 5 1619069364480\n",
      "False\n",
      "True\n"
     ]
    }
   ],
   "source": [
    "x=([10,20,30,40,50])\n",
    "y=([10,20,30,40,50])\n",
    "print(x,type(x),len(x),id(x))\n",
    "print(y,type(y),len(y),id(y))\n",
    "print(x is y)\n",
    "print(x == y)"
   ]
  },
  {
   "cell_type": "code",
   "execution_count": 30,
   "id": "5392430d",
   "metadata": {},
   "outputs": [
    {
     "name": "stdout",
     "output_type": "stream",
     "text": [
      "[(10, 20, 30, 40, 50)] <class 'list'> 1 1619069364096\n",
      "[(10, 20, 30, 40, 50)] <class 'list'> 1 1619068553152\n"
     ]
    }
   ],
   "source": [
    "x=[(10,20,30,40,50)]\n",
    "y=[(10,20,30,40,50)]\n",
    "print(x,type(x),len(x),id(x))\n",
    "print(y,type(y),len(y),id(y))"
   ]
  },
  {
   "cell_type": "code",
   "execution_count": 33,
   "id": "49b00362",
   "metadata": {},
   "outputs": [
    {
     "name": "stdout",
     "output_type": "stream",
     "text": [
      "<class 'tuple'> 1619069297280 3\n",
      "<class 'tuple'> 1619069297856 3\n",
      "False\n",
      "True\n"
     ]
    }
   ],
   "source": [
    "p=((10,20,30),(40,50,60),[70,80,90])\n",
    "q=((10,20,30),(40,50,60),[70,80,90])\n",
    "print(type(p),id(p),len(p))\n",
    "print(type(q),id(q),len(q))\n",
    "print(p is q)\n",
    "print(p == q)"
   ]
  },
  {
   "cell_type": "code",
   "execution_count": 3,
   "id": "13de40de",
   "metadata": {},
   "outputs": [
    {
     "name": "stdout",
     "output_type": "stream",
     "text": [
      "(10, 20, 30) [0]\n"
     ]
    },
    {
     "ename": "TypeError",
     "evalue": "type() takes 1 or 3 arguments",
     "output_type": "error",
     "traceback": [
      "\u001b[1;31m---------------------------------------------------------------------------\u001b[0m",
      "\u001b[1;31mTypeError\u001b[0m                                 Traceback (most recent call last)",
      "Input \u001b[1;32mIn [3]\u001b[0m, in \u001b[0;36m<cell line: 3>\u001b[1;34m()\u001b[0m\n\u001b[0;32m      1\u001b[0m p\u001b[38;5;241m=\u001b[39m((\u001b[38;5;241m10\u001b[39m,\u001b[38;5;241m20\u001b[39m,\u001b[38;5;241m30\u001b[39m),(\u001b[38;5;241m40\u001b[39m,\u001b[38;5;241m50\u001b[39m,\u001b[38;5;241m60\u001b[39m),[\u001b[38;5;241m70\u001b[39m,\u001b[38;5;241m80\u001b[39m,\u001b[38;5;241m90\u001b[39m])\n\u001b[0;32m      2\u001b[0m q\u001b[38;5;241m=\u001b[39m((\u001b[38;5;241m10\u001b[39m,\u001b[38;5;241m20\u001b[39m,\u001b[38;5;241m30\u001b[39m),(\u001b[38;5;241m40\u001b[39m,\u001b[38;5;241m50\u001b[39m,\u001b[38;5;241m60\u001b[39m),[\u001b[38;5;241m70\u001b[39m,\u001b[38;5;241m80\u001b[39m,\u001b[38;5;241m90\u001b[39m])\n\u001b[1;32m----> 3\u001b[0m \u001b[38;5;28mprint\u001b[39m(p[\u001b[38;5;241m0\u001b[39m],[\u001b[38;5;241m0\u001b[39m]),\u001b[38;5;28;43mtype\u001b[39;49m\u001b[43m(\u001b[49m\u001b[43mp\u001b[49m\u001b[43m[\u001b[49m\u001b[38;5;241;43m0\u001b[39;49m\u001b[43m]\u001b[49m\u001b[43m,\u001b[49m\u001b[43m[\u001b[49m\u001b[38;5;241;43m0\u001b[39;49m\u001b[43m]\u001b[49m\u001b[43m)\u001b[49m\n\u001b[0;32m      4\u001b[0m \u001b[38;5;28mprint\u001b[39m(q[\u001b[38;5;241m0\u001b[39m],[\u001b[38;5;241m0\u001b[39m]),\u001b[38;5;28mtype\u001b[39m(q[\u001b[38;5;241m0\u001b[39m],[\u001b[38;5;241m0\u001b[39m])\n\u001b[0;32m      5\u001b[0m \u001b[38;5;28mprint\u001b[39m(p \u001b[38;5;129;01mis\u001b[39;00m q)\n",
      "\u001b[1;31mTypeError\u001b[0m: type() takes 1 or 3 arguments"
     ]
    }
   ],
   "source": [
    "p=((10,20,30),(40,50,60),[70,80,90])\n",
    "q=((10,20,30),(40,50,60),[70,80,90])\n",
    "print(p[0],[0]),type(p[0],[0])\n",
    "print(q[0],[0]),type(q[0],[0])\n",
    "print(p is q)\n",
    "print(p == q)"
   ]
  },
  {
   "cell_type": "code",
   "execution_count": 3,
   "id": "7ff3cbe9",
   "metadata": {},
   "outputs": [
    {
     "name": "stdout",
     "output_type": "stream",
     "text": [
      "(30, 10, 40, 20, 50)\n",
      "<class 'tuple'>\n",
      "2268649202208\n",
      "5\n",
      "150\n",
      "50\n",
      "10\n",
      "[10, 20, 30, 40, 50]\n",
      "[50, 40, 30, 20, 10]\n"
     ]
    }
   ],
   "source": [
    "x=(30,10,40,20,50)\n",
    "print(x)\n",
    "print(type(x))\n",
    "print(id(x))\n",
    "print(len(x))\n",
    "print(sum(x))\n",
    "print(max(x))\n",
    "print(min(x))\n",
    "print(sorted(x))\n",
    "print(sorted(x,reverse=True))"
   ]
  },
  {
   "cell_type": "code",
   "execution_count": 43,
   "id": "605882d4",
   "metadata": {},
   "outputs": [
    {
     "name": "stdout",
     "output_type": "stream",
     "text": [
      "(50, 20, 40, 10, 30)\n",
      "[10, 20, 30, 40, 50]\n",
      "[50, 40, 30, 20, 10]\n"
     ]
    }
   ],
   "source": [
    "x=(30,10,40,20,50)\n",
    "print(x[::-1])\n",
    "print(sorted(x[::-1]))\n",
    "print(sorted(x[::-1],reverse=True))"
   ]
  },
  {
   "cell_type": "code",
   "execution_count": 5,
   "id": "438bdd2b",
   "metadata": {},
   "outputs": [
    {
     "name": "stdout",
     "output_type": "stream",
     "text": [
      "50 40 30 20 10 \n",
      "\n"
     ]
    }
   ],
   "source": [
    "x=(10,20,30,40,50)\n",
    "for p in reversed(x):\n",
    "    print(p,end=\" \")\n",
    "print(\"\\n\")"
   ]
  },
  {
   "cell_type": "code",
   "execution_count": 8,
   "id": "15685d54",
   "metadata": {},
   "outputs": [
    {
     "name": "stdout",
     "output_type": "stream",
     "text": [
      "50 40 30 20 10 \n",
      "\n"
     ]
    }
   ],
   "source": [
    "x=(20,30,50,10,40)\n",
    "for p in reversed(sorted(x)):\n",
    "    print(p,end=\" \")\n",
    "print(\"\\n\")"
   ]
  },
  {
   "cell_type": "code",
   "execution_count": 11,
   "id": "c1dcada8",
   "metadata": {},
   "outputs": [
    {
     "name": "stdout",
     "output_type": "stream",
     "text": [
      "rat\n",
      "Elephant\n",
      "['Elephant', 'Fox', 'Lion', 'Tiger', 'rat']\n"
     ]
    }
   ],
   "source": [
    "x=(\"Lion\",\"Tiger\",\"Fox\",\"Elephant\",\"rat\")\n",
    "print(max(x))\n",
    "print(min(x)) #first char only\n",
    "print(sorted(x))"
   ]
  },
  {
   "cell_type": "code",
   "execution_count": null,
   "id": "3fab4722",
   "metadata": {},
   "outputs": [],
   "source": [
    "#ASCII values\n",
    "#A=65\n",
    "#a=97"
   ]
  },
  {
   "cell_type": "code",
   "execution_count": 12,
   "id": "40c2f143",
   "metadata": {},
   "outputs": [
    {
     "name": "stdout",
     "output_type": "stream",
     "text": [
      "95 <class 'int'>\n",
      "60 <class 'int'>\n",
      "45 <class 'int'>\n"
     ]
    }
   ],
   "source": [
    "marks=(95,60,45)\n",
    "s1,s2,s3=marks\n",
    "print(s1,type(s1))\n",
    "print(s2,type(s2))\n",
    "print(s3,type(s3))"
   ]
  },
  {
   "cell_type": "code",
   "execution_count": 17,
   "id": "8b309ef4",
   "metadata": {},
   "outputs": [
    {
     "name": "stdout",
     "output_type": "stream",
     "text": [
      "(('Kohli', 95), ('Dhoni', 45), ('Rohith', 82), ('Hardik', 30)) 4\n",
      "('Kohli', 95) <class 'tuple'>\n",
      "('Dhoni', 45) <class 'tuple'>\n",
      "('Rohith', 82) <class 'tuple'>\n",
      "('Hardik', 30) <class 'tuple'>\n",
      "Players: Kohli\n",
      "Runs: 95\n",
      "==================\n",
      "Players: Dhoni\n",
      "Runs: 45\n",
      "==================\n",
      "Players: Rohith\n",
      "Runs: 82\n",
      "==================\n",
      "Players: Hardik\n",
      "Runs: 30\n",
      "==================\n"
     ]
    }
   ],
   "source": [
    "#tuple within a tuple\n",
    "x=((\"Kohli\",95),(\"Dhoni\",45),(\"Rohith\",82),(\"Hardik\",30))\n",
    "print(x,len(x))\n",
    "for p in x:\n",
    "    print(p,type(p))\n",
    "for p,q in x:\n",
    "    print(\"Players:\",p)\n",
    "    print(\"Runs:\",q)\n",
    "    print(\"==================\")"
   ]
  },
  {
   "cell_type": "code",
   "execution_count": 22,
   "id": "630be1de",
   "metadata": {},
   "outputs": [
    {
     "name": "stdout",
     "output_type": "stream",
     "text": [
      "((101, 'Miller', 50000, 'Manger'), (102, 'Blake', 60000, 'Professor'), (103, 'James', 70000, 'Teacher'), (104, 'Ajay', 80000, 'Principal')) 4\n",
      "(101, 'Miller', 50000, 'Manger') <class 'tuple'>\n",
      "(102, 'Blake', 60000, 'Professor') <class 'tuple'>\n",
      "(103, 'James', 70000, 'Teacher') <class 'tuple'>\n",
      "(104, 'Ajay', 80000, 'Principal') <class 'tuple'>\n",
      "EID: 101\n",
      "ENAME: Miller\n",
      "SALARY: 50000\n",
      "DESIGNATION: Manger\n",
      "====================\n",
      "EID: 102\n",
      "ENAME: Blake\n",
      "SALARY: 60000\n",
      "DESIGNATION: Professor\n",
      "====================\n",
      "EID: 103\n",
      "ENAME: James\n",
      "SALARY: 70000\n",
      "DESIGNATION: Teacher\n",
      "====================\n",
      "EID: 104\n",
      "ENAME: Ajay\n",
      "SALARY: 80000\n",
      "DESIGNATION: Principal\n",
      "====================\n"
     ]
    }
   ],
   "source": [
    "emps=((101,\"Miller\",50000,\"Manger\"),\n",
    "      (102,\"Blake\",60000,\"Professor\"),\n",
    "      (103,\"James\",70000,\"Teacher\"),\n",
    "      (104,\"Ajay\",80000,\"Principal\"))\n",
    "print(emps,len(emps))\n",
    "for p in emps:\n",
    "    print(p,type(p))\n",
    "for p,q,r,s in emps:\n",
    "    print(\"EID:\",p)\n",
    "    print(\"ENAME:\",q)\n",
    "    print(\"SALARY:\",r)\n",
    "    print(\"DESIGNATION:\",s)\n",
    "    print(\"====================\")"
   ]
  },
  {
   "cell_type": "code",
   "execution_count": 28,
   "id": "28975f2c",
   "metadata": {},
   "outputs": [
    {
     "name": "stdout",
     "output_type": "stream",
     "text": [
      "((10, 20, 30), (40, 50, 60), [75, 80, 90])\n",
      "<class 'tuple'>\n"
     ]
    }
   ],
   "source": [
    "#case1- list as tuple element\n",
    "x=((10,20,30),(40,50,60),[70,80,90])\n",
    "x[2][0]=75\n",
    "print(x)\n",
    "x[2]\n",
    "print(type(x))"
   ]
  },
  {
   "cell_type": "code",
   "execution_count": 30,
   "id": "5b41d7de",
   "metadata": {},
   "outputs": [
    {
     "ename": "TypeError",
     "evalue": "'tuple' object does not support item assignment",
     "output_type": "error",
     "traceback": [
      "\u001b[1;31m---------------------------------------------------------------------------\u001b[0m",
      "\u001b[1;31mTypeError\u001b[0m                                 Traceback (most recent call last)",
      "Input \u001b[1;32mIn [30]\u001b[0m, in \u001b[0;36m<cell line: 2>\u001b[1;34m()\u001b[0m\n\u001b[0;32m      1\u001b[0m x\u001b[38;5;241m=\u001b[39m((\u001b[38;5;241m10\u001b[39m,\u001b[38;5;241m20\u001b[39m,\u001b[38;5;241m30\u001b[39m),(\u001b[38;5;241m40\u001b[39m,\u001b[38;5;241m50\u001b[39m,\u001b[38;5;241m60\u001b[39m),[\u001b[38;5;241m70\u001b[39m,\u001b[38;5;241m80\u001b[39m,\u001b[38;5;241m90\u001b[39m])\n\u001b[1;32m----> 2\u001b[0m x[\u001b[38;5;241m2\u001b[39m]\u001b[38;5;241m=\u001b[39m\u001b[38;5;124m\"\u001b[39m\u001b[38;5;124mpython\u001b[39m\u001b[38;5;124m\"\u001b[39m\n",
      "\u001b[1;31mTypeError\u001b[0m: 'tuple' object does not support item assignment"
     ]
    }
   ],
   "source": [
    "x=((10,20,30),(40,50,60),[70,80,90])\n",
    "x[2]=\"python\"\n",
    "#tuple item can't be modify"
   ]
  },
  {
   "cell_type": "code",
   "execution_count": 40,
   "id": "6fe8509c",
   "metadata": {},
   "outputs": [
    {
     "name": "stdout",
     "output_type": "stream",
     "text": [
      "[[10, 20, 35], [40, 50, 'pune'], (70, 80, 90)]\n",
      "[True, 4.5, 'python']\n"
     ]
    }
   ],
   "source": [
    "#case2- tuple as list element\n",
    "x=[[10,20,30],[40,50,60],(70,80,90)]\n",
    "x[0][2]=35\n",
    "x[1][2]=\"pune\"\n",
    "print(x)\n",
    "x[2]=\"python\"\n",
    "x[1]=4.5\n",
    "x[0]=True\n",
    "print(x)"
   ]
  },
  {
   "cell_type": "code",
   "execution_count": 1,
   "id": "8689e580",
   "metadata": {},
   "outputs": [
    {
     "name": "stdout",
     "output_type": "stream",
     "text": [
      "pranil\n"
     ]
    }
   ],
   "source": [
    "#program to convert tuple to string--->\n",
    "tup='p','r','a','n','i','l'\n",
    "str=''.join(tup)\n",
    "print(str)"
   ]
  },
  {
   "cell_type": "code",
   "execution_count": 4,
   "id": "697790e6",
   "metadata": {},
   "outputs": [
    {
     "name": "stdout",
     "output_type": "stream",
     "text": [
      "Enter list of tuple:10,20,30,40,50,60,70\n",
      "(10, 20, 30, 40, 50, 60, 70)\n",
      "40\n",
      "40\n"
     ]
    }
   ],
   "source": [
    "#program to get the 4th element and 4th element from last of a tuple\n",
    "t=eval(input(\"Enter list of tuple:\"))\n",
    "print(t)\n",
    "item=t[3]\n",
    "print(item)\n",
    "item1=t[-4]\n",
    "print(item1)"
   ]
  },
  {
   "cell_type": "code",
   "execution_count": 2,
   "id": "fd3dc7dd",
   "metadata": {},
   "outputs": [
    {
     "name": "stdout",
     "output_type": "stream",
     "text": [
      "(1, 3, 4, 6, 7, 4, 5, 2, 5, 6, 4)\n",
      "3\n"
     ]
    }
   ],
   "source": [
    "t=(1,3,4,6,7,4,5,2,5,6,4)\n",
    "print(t)\n",
    "count=t.count(4)\n",
    "print(count)"
   ]
  },
  {
   "cell_type": "code",
   "execution_count": 5,
   "id": "77b715bc",
   "metadata": {},
   "outputs": [
    {
     "name": "stdout",
     "output_type": "stream",
     "text": [
      "[10, 20, 30, 40, 50]\n",
      "Tuple= (10, 20, 30, 40, 50)\n"
     ]
    }
   ],
   "source": [
    "#program to convert a list to a tuple.\n",
    "l=[10,20,30,40,50]\n",
    "print(l)\n",
    "t=tuple(l)\n",
    "print(\"Tuple=\",t)"
   ]
  },
  {
   "cell_type": "code",
   "execution_count": null,
   "id": "21cd2bd2",
   "metadata": {},
   "outputs": [],
   "source": [
    "#program to remove an item from a tuple"
   ]
  }
 ],
 "metadata": {
  "kernelspec": {
   "display_name": "Python 3 (ipykernel)",
   "language": "python",
   "name": "python3"
  },
  "language_info": {
   "codemirror_mode": {
    "name": "ipython",
    "version": 3
   },
   "file_extension": ".py",
   "mimetype": "text/x-python",
   "name": "python",
   "nbconvert_exporter": "python",
   "pygments_lexer": "ipython3",
   "version": "3.9.12"
  }
 },
 "nbformat": 4,
 "nbformat_minor": 5
}
