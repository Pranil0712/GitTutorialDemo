{
 "cells": [
  {
   "cell_type": "code",
   "execution_count": 3,
   "id": "e1823bc8",
   "metadata": {},
   "outputs": [
    {
     "name": "stdout",
     "output_type": "stream",
     "text": [
      "1.Python is Simple\n",
      "2.python is user-friendly\n",
      "3.Pyhon supports interactive mode\n",
      "4.Python supports 89300 modules\n",
      "5.Python has many built-in libraries\n",
      "6.Python supports object-oriented programming\n",
      "7.Python supports all major databases\n",
      "8.Python is dynamic typed\n",
      "9.python provides simple syntaxes\n",
      "10.Python is extensible\n",
      "\n"
     ]
    }
   ],
   "source": [
    "#opening a file and reading\n",
    "f=open(\"D:/file handling/demo1.txt\",mode=\"r\")   #opening a .txt file\n",
    "print(f.read())\n",
    "f.close()"
   ]
  },
  {
   "cell_type": "code",
   "execution_count": 4,
   "id": "c9ea2cc6",
   "metadata": {},
   "outputs": [
    {
     "name": "stdout",
     "output_type": "stream",
     "text": [
      "1.Python is Simple\n",
      "2.python is user-friendly\n",
      "3.Pyhon supports interactive mode\n",
      "4.Python supports 89300 modules\n",
      "5.Python has many built-in libraries\n",
      "6.Python supports object-oriented programming\n",
      "7.Python supports all major databases\n",
      "8.Python is dynamic typed\n",
      "9.python provides simple syntaxes\n",
      "10.Python is extensible\n",
      "\n",
      "\n",
      "\n",
      "import threading\n",
      "class x(threading.Thread):\n",
      "    def run(self):\n",
      "        for p in range(100):   #0 to 99\n",
      "            print(p)\n",
      "class y(threading.Thread):\n",
      "    def run(self):\n",
      "        for q in range(100,200):  #101 to 199\n",
      "            print(q)\n",
      "x1=x()\n",
      "x1.start()\n",
      "y1=y()\n",
      "y1.start()\n",
      "for r in range(200,300): #201 to 299 this all thread will execute parllely\n",
      "    print(r)\n",
      "for s in range(300,400):  #this will not execute parllely\n",
      "    print(s)\n",
      "\n"
     ]
    }
   ],
   "source": [
    "#opening reading multiple files(.py,.txt,.java,.csv)\n",
    "\n",
    "f1=open(\"D:/file handling/demo1.txt\",mode=\"r\")   #reading .txt file\n",
    "print(f1.read())\n",
    "f1.close()\n",
    "\n",
    "print(\"\\n\")\n",
    "\n",
    "f2=open(\"D:/file handling/test.py\",mode=\"r\")    #reading .py file\n",
    "print(f2.read())\n",
    "f2.close()"
   ]
  },
  {
   "cell_type": "code",
   "execution_count": 5,
   "id": "74e88213",
   "metadata": {},
   "outputs": [
    {
     "name": "stdout",
     "output_type": "stream",
     "text": [
      "1.Python is Simple\n",
      "\n",
      "2.python is user-friendly\n",
      "\n",
      "3.Pyhon supports interactive mode\n",
      "\n",
      "4.Python supports 89300 modules\n",
      "\n",
      "5.Python has many built-in libraries\n",
      "\n",
      "6.Python supports object-oriented programming\n",
      "\n",
      "7.Python supports all major databases\n",
      "\n",
      "8.Python is dynamic typed\n",
      "\n",
      "9.python provides simple syntaxes\n",
      "\n",
      "10.Python is extensible\n",
      "\n",
      "\n",
      "\n",
      "import threading\n",
      "\n",
      "class x(threading.Thread):\n",
      "\n",
      "    def run(self):\n",
      "\n",
      "        for p in range(100):   #0 to 99\n",
      "\n",
      "            print(p)\n",
      "\n",
      "class y(threading.Thread):\n",
      "\n",
      "    def run(self):\n",
      "\n",
      "        for q in range(100,200):  #101 to 199\n",
      "\n",
      "            print(q)\n",
      "\n",
      "x1=x()\n",
      "\n",
      "x1.start()\n",
      "\n",
      "y1=y()\n",
      "\n",
      "y1.start()\n",
      "\n",
      "for r in range(200,300): #201 to 299 this all thread will execute parllely\n",
      "\n",
      "    print(r)\n",
      "\n",
      "for s in range(300,400):  #this will not execute parllely\n",
      "\n",
      "    print(s)\n",
      "\n",
      "\n",
      "\n"
     ]
    }
   ],
   "source": [
    "#reading multiples files at a time\n",
    "f1=open(\"D:/file handling/demo1.txt\",mode=\"r\")\n",
    "f2=open(\"D:/file handling/test.py\",mode=\"r\")\n",
    "'''\n",
    "print(f1.read())\n",
    "print(f2.read())'''\n",
    "\n",
    "x=[f1,f2]\n",
    "for p in x:\n",
    "    for q in p:\n",
    "        print(q)\n",
    "    print(\"\\n\")"
   ]
  },
  {
   "cell_type": "code",
   "execution_count": 7,
   "id": "51b6a343",
   "metadata": {},
   "outputs": [
    {
     "name": "stdout",
     "output_type": "stream",
     "text": [
      "0\n",
      "\n",
      "1.Python is Simple\n",
      "2.python is user-friendly\n",
      "3.Pyhon supports interactive mode\n",
      "4.Python supports 89300 modules\n",
      "5.Python has many built-in libraries\n",
      "6.Python supports object-oriented programming\n",
      "7.Python supports all major databases\n",
      "8.Python is dynamic typed\n",
      "9.python provides simple syntaxes\n",
      "10.Python is extensible \n",
      "327\n",
      "8\n",
      "on is Simple\n",
      "2.python is user-friendly\n",
      "3.Pyhon supports interactive mode\n",
      "4.Python supports 89300 modules\n",
      "5.Python has many built-in libraries\n",
      "6.Python supports object-oriented programming\n",
      "7.Python supports all major databases\n",
      "8.Python is dynamic typed\n",
      "9.python provides simple syntaxes\n",
      "10.Python is extensible \n",
      "327\n",
      "is S\n",
      "15\n"
     ]
    }
   ],
   "source": [
    "#tell()----> tells where currently the cursor is.\n",
    "#seek()----> moving the cursor to the desired position.\n",
    "f=open(\"D:/file handling/sample.txt\")\n",
    "print(f.tell())  #tells the current cursor position\n",
    "print(f.read())\n",
    "print(f.tell())\n",
    "f.seek(8)       #moving cursor to desired position\n",
    "print(f.tell()) #tells the current cursor position now i.e(8)\n",
    "print(f.read())\n",
    "print(f.tell())\n",
    "f.seek(11)\n",
    "print(f.read(4))  #read 4 characters from current position\n",
    "print(f.tell())   #tells the current cursor position now i.e(15)\n",
    "f.close()"
   ]
  },
  {
   "cell_type": "code",
   "execution_count": 8,
   "id": "15736e63",
   "metadata": {},
   "outputs": [
    {
     "name": "stdout",
     "output_type": "stream",
     "text": [
      "0\n",
      "\n",
      "1.Python is Simple\n",
      "2.python is user-friendly\n",
      "3.Pyhon supports interactive mode\n",
      "4.Python supports 89300 modules\n",
      "5.Python has many built-in libraries\n",
      "6.Python supports object-oriented programming\n",
      "7.Python supports all major databases\n",
      "8.Python is dynamic typed\n",
      "9.python provides simple syntaxes\n",
      "10.Python is extensible \n",
      "327\n",
      "320\n",
      "nsible \n",
      "327\n"
     ]
    }
   ],
   "source": [
    "#tell(),read(),seek()\n",
    "\n",
    "f=open(\"D:/file handling/sample.txt\")\n",
    "print(f.tell())\n",
    "print(f.read())\n",
    "print(f.tell())     #here position 327\n",
    "f.seek(f.tell()-7)  #from reverse side -7 position i.e(320)\n",
    "print(f.tell())\n",
    "print(f.read())     #will read that -7 characters now\n",
    "print(f.tell())\n",
    "f.close()"
   ]
  },
  {
   "cell_type": "code",
   "execution_count": 11,
   "id": "9eaf6ac4",
   "metadata": {},
   "outputs": [
    {
     "name": "stdout",
     "output_type": "stream",
     "text": [
      "hello world\n",
      "hai pune <class 'str'> 20\n",
      "16\n",
      "21\n",
      "16\n",
      " pune\n"
     ]
    }
   ],
   "source": [
    "f=open(\"D:/file handling/hello1.txt\")\n",
    "s1=f.read()\n",
    "print(s1,type(s1),len(s1))\n",
    "print(s1.find(\"pune\"))      #tell the cursor postion of pune(p) i.e(16)\n",
    "print(f.tell())   \n",
    "f.seek(f.tell()-5)     #now cusor reverse -5 position\n",
    "print(f.tell())        #tell current posi i.e(16)\n",
    "print(f.read())        #reading from that pos(16) to end i.e(20)"
   ]
  },
  {
   "cell_type": "code",
   "execution_count": 27,
   "id": "84bf6793",
   "metadata": {},
   "outputs": [
    {
     "name": "stdout",
     "output_type": "stream",
     "text": [
      "0\n",
      "hello hyderabad\n",
      "\n",
      "17\n",
      "hello mumbai\n",
      "\n",
      "31\n",
      " hyderabad\n",
      "\n",
      "hello\n",
      "22\n",
      " mumbai\n",
      "\n",
      "hello mumbai\n",
      "\n",
      "31\n",
      "31 hello chennai\n",
      "\n",
      "46\n",
      "hello hyderabad\n",
      "\n",
      "hello mumbai\n",
      "\n",
      "hello chennai\n",
      "\n"
     ]
    }
   ],
   "source": [
    "#readline()------->\n",
    "f=open(\"D:/file handling/hello.txt\")\n",
    "print(f.tell())\n",
    "print(f.readline())  #reads the particular line and cursor goes to next line i.e 17th position\n",
    "print(f.tell())\n",
    "print(f.readline())\n",
    "print(f.tell())\n",
    "f.seek(5)\n",
    "print(f.readline())   #now it will read 5th pos onwards line i.e. hyderabad\n",
    "print(f.read(5))      #it will read next 5th pos from last pos of cursor i.e hello\n",
    "print(f.tell())       #22 position\n",
    "print(f.readline())\n",
    "f.seek(17)\n",
    "print(f.readline())\n",
    "print(f.tell())\n",
    "f.seek(31)\n",
    "print(f.tell(),f.read())\n",
    "print(f.tell())\n",
    "f.seek(0)         #if we don't take cursor to starting pos then for loop will not execute....\n",
    "\n",
    "#applying for loop on the file object(f) and reading each line\n",
    "for p in f:\n",
    "    print(p)\n",
    "f.close()"
   ]
  },
  {
   "cell_type": "code",
   "execution_count": 29,
   "id": "1fc6e4fb",
   "metadata": {},
   "outputs": [
    {
     "name": "stdout",
     "output_type": "stream",
     "text": [
      "['hello hyderabad\\n', 'hello mumbai\\n', 'hello chennai\\n'] <class 'list'>\n",
      "hello hyderabad\n",
      "\n",
      "hello mumbai\n",
      "\n",
      "hello chennai\n",
      "\n",
      "hello mumbai\n",
      "\n"
     ]
    }
   ],
   "source": [
    "f=open(\"D:/file handling/hello.txt\")\n",
    "x=f.readlines()         #reads all the lines and stores in a list x with \\n behaviour\n",
    "print(x,type(x))        #printing the list x\n",
    "\n",
    "#printing each line seperately\n",
    "for p in x:\n",
    "    print(p)\n",
    "    \n",
    "f.close()    #whenever we close a file, it will be used by another person\n",
    "print(x[1])  #by using index we can access line now 1st line will be printed."
   ]
  },
  {
   "cell_type": "code",
   "execution_count": 35,
   "id": "d21d07c5",
   "metadata": {},
   "outputs": [
    {
     "name": "stdout",
     "output_type": "stream",
     "text": [
      "['101,Miller,10000,11,Hyd\\n', '102,Blake,20000,12,Pune\\n', '103,Sony,30000,11,hyd\\n', '104,Sita,40000,12,pune\\n', '105,John,50000,13,hyd']\n",
      "\n",
      "\n",
      "Miller 10000\n",
      "Blake 20000\n",
      "Sony 30000\n",
      "Sita 40000\n",
      "John 50000\n"
     ]
    }
   ],
   "source": [
    "f=open(\"D:/file handling/testdata.txt\")\n",
    "x=f.readlines()\n",
    "print(x)         #reading in a list type\n",
    "print(\"\\n\")\n",
    "\n",
    "#reading only emp names and salaries\n",
    "for p in x:\n",
    "    print(p.split(\",\")[1],p.split(\",\")[2])  #p.split(\",\")[1] will print only the text between 1st and 2nd comma i.e(enames)\n",
    "                                            #p.split(\",\")[2] will print only the text between 2nd and 3rd comma i.e(salary)"
   ]
  },
  {
   "cell_type": "code",
   "execution_count": 38,
   "id": "35856eca",
   "metadata": {},
   "outputs": [
    {
     "name": "stdout",
     "output_type": "stream",
     "text": [
      "1.Python is Simple\n",
      "2.python is user-friendly\n",
      "3.Python supports interactive mode\n",
      "4.Python supports 89300 modules\n",
      "5.Python has many built-in libraries\n",
      "6.Python supports object-oriented programming\n",
      "7.Python supports all major databases\n",
      "8.Python is dynamic typed\n",
      "9.Python provides simple syntaxes\n",
      "10.Python is extensible \n"
     ]
    }
   ],
   "source": [
    "# Creating a file and Writing Data into it....\n",
    "\n",
    "f=open(\"D:/file handling/sample1.txt\",mode=\"w\")\n",
    "#This file object f is created only for writing data\n",
    "#if file already exists,it truncates(removes) the data and writes the new data\n",
    "#if file doesnt exist, it creates a new file and writes data\n",
    "data='''1.Python is Simple\n",
    "2.python is user-friendly\n",
    "3.Python supports interactive mode\n",
    "4.Python supports 89300 modules\n",
    "5.Python has many built-in libraries\n",
    "6.Python supports object-oriented programming\n",
    "7.Python supports all major databases\n",
    "8.Python is dynamic typed\n",
    "9.Python provides simple syntaxes\n",
    "10.Python is extensible '''\n",
    "f.write(data)\n",
    "f.close()     #if we wont close, we can not write into it  or delete it\n",
    "f1=open(\"D:/file handling/sample1.txt\",mode=\"r\")\n",
    "print(f1.read())\n",
    "f1.close()"
   ]
  },
  {
   "cell_type": "code",
   "execution_count": 2,
   "id": "b42e1124",
   "metadata": {},
   "outputs": [
    {
     "name": "stdout",
     "output_type": "stream",
     "text": [
      "101,Miller,75000,m,11\n",
      "102,Blake,85000,m,12\n",
      "103,John,95000,m,13\n"
     ]
    }
   ],
   "source": [
    "#creaating a .csv(xl) file and writing into it.\n",
    "\n",
    "f=open(\"D:/file handling/emp.csv\",mode=\"w\")\n",
    "f.write(\"101,Miller,75000,m,11\")            #if file already exists,so its truncate.\n",
    "f.write(\"\\n102,Blake,85000,m,12\")\n",
    "f.write(\"\\n103,John,95000,m,13\")            #if file doesn't exist, it create a new file and write into it.\n",
    "f.close()\n",
    "f1=open(\"D:/file handling/emp.csv\")\n",
    "print(f1.read())\n",
    "f1.close()"
   ]
  },
  {
   "cell_type": "code",
   "execution_count": 4,
   "id": "ed5b30f9",
   "metadata": {},
   "outputs": [
    {
     "name": "stdout",
     "output_type": "stream",
     "text": [
      "x=[10,20,30,40,50]\n",
      "print(x)\n",
      "print('sum of list of elements=',sum(x))\n"
     ]
    }
   ],
   "source": [
    "#creating and writing into a python file---->\n",
    "\n",
    "f=open(\"D:/file handling/test1.py\",mode=\"w\")  #if file already exists,so its truncate.\n",
    "f.write(\"x=[10,20,30,40,50]\\n\")              #if file doesn't exist, it create a new file and write into it.\n",
    "f.write(\"print(x)\\n\")\n",
    "f.write(\"print('sum of list of elements=',sum(x))\")\n",
    "f.close()\n",
    "f1=open(\"D:/file handling/test1.py\")\n",
    "print(f1.read())\n",
    "f1.close()"
   ]
  },
  {
   "cell_type": "code",
   "execution_count": 5,
   "id": "87866bdd",
   "metadata": {},
   "outputs": [
    {
     "name": "stdout",
     "output_type": "stream",
     "text": [
      "x=30\n",
      "y=40\n",
      "print(x+y)\n"
     ]
    }
   ],
   "source": [
    "#writing into a python file to add 2 numbers\n",
    "\n",
    "f=open(\"D:/file handling/test2.py\",mode=\"w\")\n",
    "f.write(\"x=30\\ny=40\\nprint(x+y)\")\n",
    "f.close()\n",
    "f1=open(\"D:/file handling/test2.py\")\n",
    "print(f1.read())\n",
    "f1.close()"
   ]
  },
  {
   "cell_type": "code",
   "execution_count": 6,
   "id": "0167723a",
   "metadata": {},
   "outputs": [
    {
     "name": "stdout",
     "output_type": "stream",
     "text": [
      "Enter Emp Details:101 James 70000 11\n",
      "101 James 70000 11\n"
     ]
    }
   ],
   "source": [
    "#accepting input from keyboard and writing into a file\n",
    "\n",
    "f=open(\"D:/file handling/emp.txt\",mode=\"w+\")\n",
    "       # w+ mode can read and write\n",
    "\n",
    "emp1=input(\"Enter Emp Details:\")\n",
    "f.write(emp1)     #file already exists, so it truncates\n",
    "f.seek(0)\n",
    "print(f.read())   #if file doesnt exist, it creates a new file\n",
    "f.close()"
   ]
  },
  {
   "cell_type": "code",
   "execution_count": 7,
   "id": "c49cc0b6",
   "metadata": {},
   "outputs": [
    {
     "name": "stdout",
     "output_type": "stream",
     "text": [
      "101 James 70000 11\n",
      "101 James 70000 11 Manager Hyderabad \n"
     ]
    }
   ],
   "source": [
    "f=open(\"D:/file handling/emp.txt\",mode=\"r+\")  #r+ mode won't remove the previous data,this new data will be added to it\n",
    "\n",
    "print(f.read())\n",
    "f.write(\" Manager Hyderabad \")\n",
    "f.seek(0)\n",
    "print(f.read())\n",
    "f.close()"
   ]
  },
  {
   "cell_type": "code",
   "execution_count": 8,
   "id": "90ac55e5",
   "metadata": {},
   "outputs": [
    {
     "name": "stdout",
     "output_type": "stream",
     "text": [
      "\n",
      "105,Ajay,80000,12,Hyd\n",
      "106,Arjun,90000,13,Pune\n",
      "3.Pyhon supports interactive mode\n",
      "4.Python supports 89300 modules\n",
      "5.Python has many built-in libraries\n",
      "6.Python supports object-oriented programming\n",
      "7.Python supports all major databases\n",
      "8.Python is dynamic typed\n",
      "9.python provides simple syntaxes\n",
      "10.Python is extensible \n"
     ]
    }
   ],
   "source": [
    "#append mode---->\n",
    "\n",
    "f=open(\"D:/file handling/sample.txt\",mode=\"r+\")\n",
    "\n",
    "f.write(\"\\n105,Ajay,80000,12,Hyd\\n106,Arjun,90000,13,Pune\") #if file already exists it appends, if file doesnt exist it creates a new file\n",
    "#if the program executed for 5 times,5 times appended\n",
    "\n",
    "f.seek(0)\n",
    "print(f.read())\n",
    "f.close()"
   ]
  },
  {
   "cell_type": "code",
   "execution_count": null,
   "id": "5bb370a6",
   "metadata": {},
   "outputs": [],
   "source": [
    "f=open(\"sample.txt\",mode=\"a+\")  # a+ mode opens a file to append and read data of a file.\n",
    "                                # the file pointer will be at the end position.\n",
    "\n",
    "x=input(\"Enter new Emp Details:\")\n",
    "f.write(\"\\n\")\n",
    "f.write(x) \n",
    "f.seek(0)\n",
    "print(f.read())    \n",
    "f.close()"
   ]
  },
  {
   "cell_type": "code",
   "execution_count": 9,
   "id": "ed672ac0",
   "metadata": {},
   "outputs": [
    {
     "name": "stdout",
     "output_type": "stream",
     "text": [
      "\n",
      "1.Python is Simple\n",
      "2.python is user-friendly\n",
      "3.Pyhon supports interactive mode\n",
      "4.Python supports 89300 modules\n",
      "5.Python has many built-in libraries\n",
      "6.Python supports object-oriented programming\n",
      "7.Python supports all major databases\n",
      "8.Python is dynamic typed\n",
      "9.python provides simple syntaxes\n",
      "10.Python is extensible \n",
      "\n",
      "\n",
      "1.Python is Simple\n",
      "\n",
      "2.python is user-friendly\n",
      "\n",
      "3.Pyhon supports interactive mode\n",
      "\n",
      "4.Python supports 89300 modules\n",
      "\n",
      "5.Python has many built-in libraries\n",
      "\n",
      "6.Python supports object-oriented programming\n",
      "\n",
      "7.Python supports all major databases\n",
      "\n",
      "8.Python is dynamic typed\n",
      "\n",
      "9.python provides simple syntaxes\n",
      "\n",
      "10.Python is extensible \n"
     ]
    }
   ],
   "source": [
    "# with statement----->\n",
    " #The with statement can be used while opening a file, The Advantage of with stmt is it takes care of closing of file which is open by it\n",
    " # with stmt follow indentation\n",
    "\n",
    "data='''\n",
    "1.Python is Simple\n",
    "2.python is user-friendly\n",
    "3.Pyhon supports interactive mode\n",
    "4.Python supports 89300 modules\n",
    "5.Python has many built-in libraries\n",
    "6.Python supports object-oriented programming\n",
    "7.Python supports all major databases\n",
    "8.Python is dynamic typed\n",
    "9.python provides simple syntaxes\n",
    "10.Python is extensible '''\n",
    "\n",
    "with open(\"D:/file handling/sample1.txt\",mode=\"w\") as f:\n",
    "    f.write(data)\n",
    "with open(\"D:/file handling/sample1.txt\",mode=\"r\") as f1:\n",
    "    print(f1.read())\n",
    "    \n",
    "    # (or) reading using for loop\n",
    "    \n",
    "with open(\"D:/file handling/sample1.txt\",mode=\"r\") as f2:\n",
    "    for line in f2:\n",
    "        print(line)"
   ]
  },
  {
   "cell_type": "code",
   "execution_count": 11,
   "id": "bceef494",
   "metadata": {},
   "outputs": [
    {
     "name": "stdout",
     "output_type": "stream",
     "text": [
      "Enter the file path:D:/file handling/sample1.txt\n",
      "Enter the value of n:2\n",
      "Last 2 lines are:\n",
      "9.python provides simple syntaxes\n",
      "\n",
      "10.Python is extensible \n"
     ]
    }
   ],
   "source": [
    "# program to read last 'n' lines from a file\n",
    "\n",
    "file1=input(\"Enter the file path:\")\n",
    "n=int(input(\"Enter the value of n:\"))    #n--->last 'n' lines\n",
    "with open(file1) as f1:\n",
    "    print(\"Last\",n,\"lines are:\")\n",
    "    for line in(f1.readlines()[-n:]):\n",
    "        print(line)"
   ]
  },
  {
   "cell_type": "code",
   "execution_count": 13,
   "id": "10731d36",
   "metadata": {},
   "outputs": [
    {
     "name": "stdout",
     "output_type": "stream",
     "text": [
      "Enter the file path:D:/file handling/sample1.txt\n",
      "Enter the value of n:2\n",
      "First 2 lines are:\n",
      "1.Python is Simple\n",
      "2.python is user-friendly\n"
     ]
    }
   ],
   "source": [
    "file1=input(\"Enter the file path:\")\n",
    "n=int(input(\"Enter the value of n:\"))\n",
    "with open(file1) as f1:\n",
    "    print(\"First\",n,\"lines are:\")\n",
    "    for line in(f1.readlines()[:n]):\n",
    "        print(line,end=\"\")"
   ]
  },
  {
   "cell_type": "code",
   "execution_count": 17,
   "id": "c582c6ba",
   "metadata": {},
   "outputs": [
    {
     "name": "stdout",
     "output_type": "stream",
     "text": [
      "Enter the file path:D:/file handling/sample1.txt\n",
      "3.Pyhon supports interactive mode\n",
      "5.Python has many built-in libraries\n"
     ]
    }
   ],
   "source": [
    "# reading specific lines---->3rd and 5th lines\n",
    "file1=input(\"Enter the file path:\")\n",
    "with open(file1) as f1:\n",
    "    for line in(f1.readlines()[2:5:2]):\n",
    "        print(line,end=\"\")"
   ]
  },
  {
   "cell_type": "code",
   "execution_count": null,
   "id": "ea6869e3",
   "metadata": {},
   "outputs": [],
   "source": [
    "# Assignment----->"
   ]
  },
  {
   "cell_type": "code",
   "execution_count": 20,
   "id": "4eecf15d",
   "metadata": {},
   "outputs": [
    {
     "name": "stdout",
     "output_type": "stream",
     "text": [
      "1.Python is Simple\n",
      "\n",
      "2.python is user-friendly\n",
      "\n",
      "3.Pyhon supports interactive mode\n",
      "\n",
      "4.Python supports 89300 modules\n",
      "\n",
      "5.Python has many built-in libraries\n",
      "\n",
      "6.Python supports object-oriented programming\n",
      "\n",
      "7.Python supports all major databases\n",
      "\n",
      "8.Python is dynamic typed\n",
      "\n",
      "9.python provides simple syntaxes\n",
      "\n",
      "10.Python is extensible \n"
     ]
    }
   ],
   "source": [
    "# Reading data from one file and writing to other file\n",
    "\n",
    "f1=open(\"D:/file handling/sample1.txt\",mode=\"r\")\n",
    "\n",
    "f2=open(\"D:/file handling/sample2.txt\",mode=\"w\")\n",
    "for line in f1:\n",
    "    f2.write(line)\n",
    "    print(line)\n",
    "\n",
    "f1.close()\n",
    "f2.close()"
   ]
  },
  {
   "cell_type": "code",
   "execution_count": 21,
   "id": "0ad673e9",
   "metadata": {},
   "outputs": [
    {
     "name": "stdout",
     "output_type": "stream",
     "text": [
      "import threading\n",
      "class x(threading.Thread):\n",
      "    def run(self):\n",
      "        for p in range(100):   #0 to 99\n",
      "            print(p)\n",
      "class y(threading.Thread):\n",
      "    def run(self):\n",
      "        for q in range(100,200):  #101 to 199\n",
      "            print(q)\n",
      "x1=x()\n",
      "x1.start()\n",
      "y1=y()\n",
      "y1.start()\n",
      "for r in range(200,300): #201 to 299 this all thread will execute parllely\n",
      "    print(r)\n",
      "for s in range(300,400):  #this will not execute parllely\n",
      "    print(s)\n",
      " <class 'str'>\n",
      "x=[10,20,30,40,50]\n",
      "print(x)\n",
      "print('sum of list of elements=',sum(x)) <class 'str'>\n",
      "import threading\n",
      "class x(threading.Thread):\n",
      "    def run(self):\n",
      "        for p in range(100):   #0 to 99\n",
      "            print(p)\n",
      "class y(threading.Thread):\n",
      "    def run(self):\n",
      "        for q in range(100,200):  #101 to 199\n",
      "            print(q)\n",
      "x1=x()\n",
      "x1.start()\n",
      "y1=y()\n",
      "y1.start()\n",
      "for r in range(200,300): #201 to 299 this all thread will execute parllely\n",
      "    print(r)\n",
      "for s in range(300,400):  #this will not execute parllely\n",
      "    print(s)\n",
      "x=[10,20,30,40,50]\n",
      "print(x)\n",
      "print('sum of list of elements=',sum(x))\n"
     ]
    }
   ],
   "source": [
    "# Reading multiple .py files and writing to a single .py file\n",
    "\n",
    "f=open(\"D:/file handling/test.py\",mode=\"r\")\n",
    "x=f.read()\n",
    "print(x,type(x))\n",
    "f.close()\n",
    "\n",
    "f1=open(\"D:/file handling/test1.py\",mode=\"r\")\n",
    "y=f1.read()\n",
    "print(y,type(y))\n",
    "f1.close()       #here we need to close the file then only the operation will b performed\n",
    "\n",
    "f2=open(\"D:/file handling/merge.py\",mode=\"w\")\n",
    "for p in x:\n",
    "    f2.write(p)\n",
    "for q in y:\n",
    "    f2.write(q)\n",
    "f2.close()\n",
    "\n",
    "f3=open(\"D:/file handling/merge.py\",mode=\"r\")\n",
    "print(f3.read())\n",
    "f3.close()"
   ]
  },
  {
   "cell_type": "code",
   "execution_count": 5,
   "id": "c3cae1ae",
   "metadata": {},
   "outputs": [
    {
     "name": "stdout",
     "output_type": "stream",
     "text": [
      "1.P\n",
      "ython is Simple\n",
      "\n"
     ]
    }
   ],
   "source": [
    "f=open(\"D:\\\\file handling\\\\demo1.txt\",\"r\")\n",
    "print(f.read(3))\n",
    "print(f.readline())   #because pointer is at 3 postion so remaining it consider\n",
    "f.close()"
   ]
  },
  {
   "cell_type": "code",
   "execution_count": null,
   "id": "340843ad",
   "metadata": {},
   "outputs": [],
   "source": [
    "da"
   ]
  }
 ],
 "metadata": {
  "kernelspec": {
   "display_name": "Python 3 (ipykernel)",
   "language": "python",
   "name": "python3"
  },
  "language_info": {
   "codemirror_mode": {
    "name": "ipython",
    "version": 3
   },
   "file_extension": ".py",
   "mimetype": "text/x-python",
   "name": "python",
   "nbconvert_exporter": "python",
   "pygments_lexer": "ipython3",
   "version": "3.9.12"
  }
 },
 "nbformat": 4,
 "nbformat_minor": 5
}
