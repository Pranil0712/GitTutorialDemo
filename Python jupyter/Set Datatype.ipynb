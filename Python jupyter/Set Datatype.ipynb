{
 "cells": [
  {
   "cell_type": "code",
   "execution_count": 2,
   "id": "8f109e55",
   "metadata": {},
   "outputs": [
    {
     "name": "stdout",
     "output_type": "stream",
     "text": [
      "{0, 1, 2, 3, 4, 'r', 'u', 40, 'a', 10, 'd', 'g', 50, 20, 60, 30}\n"
     ]
    }
   ],
   "source": [
    "#update method---->\n",
    "s={10,20,30}\n",
    "l=[40,50,10,60]\n",
    "s.update(l,range(5),\"durgaa\")\n",
    "print(s)"
   ]
  },
  {
   "cell_type": "code",
   "execution_count": 3,
   "id": "5ccc48ff",
   "metadata": {},
   "outputs": [
    {
     "name": "stdout",
     "output_type": "stream",
     "text": [
      "{'hello'}\n",
      "<class 'set'>\n",
      "1\n"
     ]
    }
   ],
   "source": [
    "b=set([\"hello\"])\n",
    "print(b)\n",
    "print(type(b))\n",
    "print(len(b))"
   ]
  },
  {
   "cell_type": "code",
   "execution_count": 4,
   "id": "06e9b49c",
   "metadata": {},
   "outputs": [
    {
     "name": "stdout",
     "output_type": "stream",
     "text": [
      "{40, 10, 20, 30}\n",
      "<class 'set'>\n",
      "4\n"
     ]
    }
   ],
   "source": [
    "m=set([10,20,30,40,10])\n",
    "print(m)\n",
    "print(type(m))\n",
    "print(len(m))"
   ]
  },
  {
   "cell_type": "code",
   "execution_count": 9,
   "id": "0a9fc259",
   "metadata": {},
   "outputs": [
    {
     "name": "stdout",
     "output_type": "stream",
     "text": [
      "{40, 10, 20, 30}\n",
      "4\n",
      "<class 'set'>\n"
     ]
    }
   ],
   "source": [
    "n=set({10,20,30,40})\n",
    "print(m)\n",
    "print(len(m))\n",
    "print(type(m))"
   ]
  },
  {
   "cell_type": "code",
   "execution_count": 10,
   "id": "7e48c5ab",
   "metadata": {},
   "outputs": [
    {
     "name": "stdout",
     "output_type": "stream",
     "text": [
      "{40, 10, 20, 30}\n",
      "<class 'set'>\n",
      "4\n"
     ]
    }
   ],
   "source": [
    "m=set((10,20,30,40,10))\n",
    "print(m)\n",
    "print(type(m))\n",
    "print(len(m))"
   ]
  },
  {
   "cell_type": "code",
   "execution_count": 11,
   "id": "bf9ee698",
   "metadata": {},
   "outputs": [
    {
     "name": "stdout",
     "output_type": "stream",
     "text": [
      "{(1, 2, 3, 4, 5)}\n",
      "1\n"
     ]
    }
   ],
   "source": [
    "a={(1,2,3,4,5)}\n",
    "print(a)\n",
    "print(len(a))"
   ]
  },
  {
   "cell_type": "code",
   "execution_count": 12,
   "id": "37162004",
   "metadata": {},
   "outputs": [
    {
     "name": "stdout",
     "output_type": "stream",
     "text": [
      "{1, 2, 3, 4, 5}\n",
      "5\n"
     ]
    }
   ],
   "source": [
    "b=set((1,2,3,4,5))\n",
    "print(b)\n",
    "print(len(b))"
   ]
  },
  {
   "cell_type": "code",
   "execution_count": 14,
   "id": "b8ff794b",
   "metadata": {},
   "outputs": [
    {
     "name": "stdout",
     "output_type": "stream",
     "text": [
      "2\n",
      "{(1, 2, 3), (4, 5, 6)}\n"
     ]
    }
   ],
   "source": [
    "c=set([(1,2,3),(4,5,6)])\n",
    "print(len(c))\n",
    "print(c)"
   ]
  },
  {
   "cell_type": "code",
   "execution_count": 15,
   "id": "4d08d42d",
   "metadata": {},
   "outputs": [
    {
     "ename": "TypeError",
     "evalue": "unhashable type: 'list'",
     "output_type": "error",
     "traceback": [
      "\u001b[1;31m---------------------------------------------------------------------------\u001b[0m",
      "\u001b[1;31mTypeError\u001b[0m                                 Traceback (most recent call last)",
      "Input \u001b[1;32mIn [15]\u001b[0m, in \u001b[0;36m<cell line: 1>\u001b[1;34m()\u001b[0m\n\u001b[1;32m----> 1\u001b[0m c\u001b[38;5;241m=\u001b[39m\u001b[38;5;28;43mset\u001b[39;49m\u001b[43m(\u001b[49m\u001b[43m(\u001b[49m\u001b[43m[\u001b[49m\u001b[38;5;241;43m1\u001b[39;49m\u001b[43m,\u001b[49m\u001b[38;5;241;43m2\u001b[39;49m\u001b[43m,\u001b[49m\u001b[38;5;241;43m3\u001b[39;49m\u001b[43m]\u001b[49m\u001b[43m,\u001b[49m\u001b[43m[\u001b[49m\u001b[38;5;241;43m4\u001b[39;49m\u001b[43m,\u001b[49m\u001b[38;5;241;43m5\u001b[39;49m\u001b[43m,\u001b[49m\u001b[38;5;241;43m6\u001b[39;49m\u001b[43m]\u001b[49m\u001b[43m)\u001b[49m\u001b[43m)\u001b[49m\n\u001b[0;32m      2\u001b[0m \u001b[38;5;28mprint\u001b[39m(\u001b[38;5;28mlen\u001b[39m(c))\n\u001b[0;32m      3\u001b[0m \u001b[38;5;28mprint\u001b[39m(c)\n",
      "\u001b[1;31mTypeError\u001b[0m: unhashable type: 'list'"
     ]
    }
   ],
   "source": [
    "c=set(([1,2,3],[4,5,6]))\n",
    "print(len(c))\n",
    "print(c)"
   ]
  },
  {
   "cell_type": "code",
   "execution_count": 16,
   "id": "7596c72c",
   "metadata": {},
   "outputs": [
    {
     "name": "stdout",
     "output_type": "stream",
     "text": [
      "{10, 20, 30}\n",
      "3\n"
     ]
    }
   ],
   "source": [
    "c={10,20,10,20,30}\n",
    "print(c)\n",
    "print(len(c))          #duplicates are not allowed"
   ]
  },
  {
   "cell_type": "code",
   "execution_count": null,
   "id": "6e32e879",
   "metadata": {},
   "outputs": [],
   "source": [
    "x={10,20,30,40,50,10}\n",
    "print(len(x))\n",
    "for p in x"
   ]
  },
  {
   "cell_type": "code",
   "execution_count": null,
   "id": "21983e9e",
   "metadata": {},
   "outputs": [],
   "source": [
    "#applying function on set\n",
    "x={40,10,30,20,50,50,40}\n",
    "print(x)\n",
    "print(type(x))\n",
    "print(id(x))\n",
    "print(len(x))\n",
    "print(sum(x))\n",
    "avg=sum(x)/len(x)\n",
    "print(avg)\n",
    "print()"
   ]
  },
  {
   "cell_type": "code",
   "execution_count": 17,
   "id": "c21fcb9c",
   "metadata": {},
   "outputs": [
    {
     "name": "stdout",
     "output_type": "stream",
     "text": [
      "{50, 20, 40, 10, 30} 5\n",
      "sum= 150\n"
     ]
    }
   ],
   "source": [
    "x={10,20,30,40,50,10,20}\n",
    "print(x,len(x))\n",
    "print(\"sum=\",sum(x))"
   ]
  },
  {
   "cell_type": "code",
   "execution_count": 20,
   "id": "7c533ac3",
   "metadata": {},
   "outputs": [
    {
     "name": "stdout",
     "output_type": "stream",
     "text": [
      "sum= 150\n"
     ]
    }
   ],
   "source": [
    "x={10,20,30,40,50,10,20}\n",
    "sum=0\n",
    "for p in x:\n",
    "    sum=sum+p\n",
    "print(\"sum=\",sum)"
   ]
  },
  {
   "cell_type": "code",
   "execution_count": 23,
   "id": "cb6ba2b6",
   "metadata": {},
   "outputs": [
    {
     "name": "stdout",
     "output_type": "stream",
     "text": [
      "sum= 50\n",
      "sum= 70\n",
      "sum= 110\n",
      "sum= 120\n",
      "sum= 150\n"
     ]
    }
   ],
   "source": [
    "x={10,20,30,40,50,10,20}\n",
    "sum=0\n",
    "count=1\n",
    "for p in x:\n",
    "    sum=sum+p\n",
    "    if (count==3):\n",
    "        break\n",
    "        count=count+1\n",
    "    print(\"sum=\",sum)"
   ]
  },
  {
   "cell_type": "code",
   "execution_count": 25,
   "id": "0a0b3068",
   "metadata": {},
   "outputs": [
    {
     "name": "stdout",
     "output_type": "stream",
     "text": [
      "{50, 20, 40, 10, 30} 2085350452128\n",
      "{50, 20, 40, 10, 30} 2085350449888\n",
      "False\n",
      "True\n"
     ]
    }
   ],
   "source": [
    "x={10,20,30,40,50}\n",
    "y={10,20,30,40,50}\n",
    "print(y,id(y))\n",
    "print(x,id(x))\n",
    "print(x is y)\n",
    "print(x==y)"
   ]
  },
  {
   "cell_type": "code",
   "execution_count": 32,
   "id": "3bf4a8ce",
   "metadata": {},
   "outputs": [
    {
     "name": "stdout",
     "output_type": "stream",
     "text": [
      "{50, 20, 40, 10, 30} 2085349302048\n",
      "{50, 20, 40, 10, 60, 30} 2085349301824\n",
      "False\n",
      "False\n"
     ]
    }
   ],
   "source": [
    "y={10,20,30,40,50}\n",
    "x={10,20,30,40,50,60}\n",
    "print(y,id(y))\n",
    "print(x,id(x))\n",
    "print(x is y)\n",
    "print(x==y)"
   ]
  },
  {
   "cell_type": "code",
   "execution_count": 27,
   "id": "0da00efd",
   "metadata": {},
   "outputs": [
    {
     "name": "stdout",
     "output_type": "stream",
     "text": [
      "{1, 2, 3, 4, 5}\n",
      "{1, 2, 3, 4, 5}\n",
      "False\n",
      "True\n"
     ]
    }
   ],
   "source": [
    "a={1,2,3,4,5}\n",
    "print(a)\n",
    "b={1,2,3,4,5}\n",
    "print(b)\n",
    "print(a is b)\n",
    "print(a==b)"
   ]
  },
  {
   "cell_type": "code",
   "execution_count": 28,
   "id": "aed4893f",
   "metadata": {},
   "outputs": [
    {
     "name": "stdout",
     "output_type": "stream",
     "text": [
      "10 <class 'int'>\n"
     ]
    }
   ],
   "source": [
    "m=10\n",
    "print(m,type(m))"
   ]
  },
  {
   "cell_type": "code",
   "execution_count": 30,
   "id": "3394ce2c",
   "metadata": {},
   "outputs": [
    {
     "name": "stdout",
     "output_type": "stream",
     "text": [
      "(100, 200, 300) <class 'tuple'>\n"
     ]
    }
   ],
   "source": [
    "p=100,200,300\n",
    "print(p,type(p))"
   ]
  },
  {
   "cell_type": "code",
   "execution_count": 33,
   "id": "559073c6",
   "metadata": {},
   "outputs": [
    {
     "ename": "ValueError",
     "evalue": "too many values to unpack (expected 5)",
     "output_type": "error",
     "traceback": [
      "\u001b[1;31m---------------------------------------------------------------------------\u001b[0m",
      "\u001b[1;31mValueError\u001b[0m                                Traceback (most recent call last)",
      "Input \u001b[1;32mIn [33]\u001b[0m, in \u001b[0;36m<cell line: 1>\u001b[1;34m()\u001b[0m\n\u001b[1;32m----> 1\u001b[0m a,b,c,d,e\u001b[38;5;241m=\u001b[39mx\n\u001b[0;32m      2\u001b[0m \u001b[38;5;28mprint\u001b[39m(a,b,c,d,e)\n\u001b[0;32m      3\u001b[0m \u001b[38;5;28mprint\u001b[39m(a)\n",
      "\u001b[1;31mValueError\u001b[0m: too many values to unpack (expected 5)"
     ]
    }
   ],
   "source": [
    "a,b,c,d,e=x\n",
    "print(a,b,c,d,e)\n",
    "print(a)"
   ]
  },
  {
   "cell_type": "code",
   "execution_count": 34,
   "id": "48065cfd",
   "metadata": {},
   "outputs": [
    {
     "name": "stdout",
     "output_type": "stream",
     "text": [
      "10 20 30 40 50\n"
     ]
    }
   ],
   "source": [
    "m=[10,20,30,40,50]\n",
    "x1,x2,x3,x4,x5=m\n",
    "print(x1,x2,x3,x4,x5)"
   ]
  },
  {
   "cell_type": "code",
   "execution_count": 35,
   "id": "3c6ff60f",
   "metadata": {},
   "outputs": [
    {
     "name": "stdout",
     "output_type": "stream",
     "text": [
      "(10, 20, 30) <class 'tuple'> 3\n"
     ]
    }
   ],
   "source": [
    "s1=10;s2=20;s3=30;\n",
    "p=s1,s2,s3\n",
    "print(p,type(p),len(p))"
   ]
  },
  {
   "cell_type": "code",
   "execution_count": 38,
   "id": "8c4e180e",
   "metadata": {},
   "outputs": [
    {
     "name": "stdout",
     "output_type": "stream",
     "text": [
      "90 <class 'int'>\n",
      "80 <class 'int'>\n",
      "70 <class 'int'>\n"
     ]
    }
   ],
   "source": [
    "s1,s2,s3=90,80,70\n",
    "print(s1,type(s1))\n",
    "print(s2,type(s2))\n",
    "print(s3,type(s3))"
   ]
  },
  {
   "cell_type": "code",
   "execution_count": 39,
   "id": "137cdaf1",
   "metadata": {},
   "outputs": [
    {
     "name": "stdout",
     "output_type": "stream",
     "text": [
      "100 90.5 75 80 (1, 2, 3)\n",
      "100 <class 'int'>\n",
      "90.5 <class 'float'>\n",
      "75 <class 'tuple'>\n"
     ]
    }
   ],
   "source": [
    "s1,s2,s3,s4,s5=[100,90.50,75,80,(1,2,3)]\n",
    "print(s1,s2,s3,s4,s5)\n",
    "print(s1,type(s1))\n",
    "print(s2,type(s2))\n",
    "print(s3,type(s5))"
   ]
  },
  {
   "cell_type": "code",
   "execution_count": null,
   "id": "05f1688b",
   "metadata": {},
   "outputs": [],
   "source": [
    "s1=s2=s3=s3=s4=s5=[100,90.50,75,80,92]\n",
    "print()"
   ]
  },
  {
   "cell_type": "code",
   "execution_count": 42,
   "id": "b1644905",
   "metadata": {},
   "outputs": [
    {
     "name": "stdout",
     "output_type": "stream",
     "text": [
      "{(40, 50, 60), (70, 80, 90), (10, 20, 30)}\n",
      "<class 'set'>\n",
      "3\n",
      "(40, 50, 60) <class 'tuple'>\n",
      "(70, 80, 90) <class 'tuple'>\n",
      "(10, 20, 30) <class 'tuple'>\n",
      "40 <class 'int'>\n",
      "50 <class 'int'>\n",
      "60 <class 'int'>\n",
      "70 <class 'int'>\n",
      "80 <class 'int'>\n",
      "90 <class 'int'>\n",
      "10 <class 'int'>\n",
      "20 <class 'int'>\n",
      "30 <class 'int'>\n"
     ]
    }
   ],
   "source": [
    "x={(10,20,30),(40,50,60),(70,80,90)}\n",
    "print(x)\n",
    "print(type(x))\n",
    "print(len(x))\n",
    "for p in x:\n",
    "    print(p,type(p))\n",
    "for p in x:\n",
    "    for q in p:\n",
    "        print(q,type(q))"
   ]
  },
  {
   "cell_type": "code",
   "execution_count": 43,
   "id": "830cf7fd",
   "metadata": {},
   "outputs": [
    {
     "name": "stdout",
     "output_type": "stream",
     "text": [
      "{50, 20, 40, 10, 30} 2085350451008 5\n"
     ]
    }
   ],
   "source": [
    "x={10,20,30,40,50}\n",
    "print(x,id(x),len(x))"
   ]
  },
  {
   "cell_type": "code",
   "execution_count": 44,
   "id": "e4449a0c",
   "metadata": {},
   "outputs": [
    {
     "name": "stdout",
     "output_type": "stream",
     "text": [
      "{50, 20, 40, 10, 60, 30} 2085350451008 6\n"
     ]
    }
   ],
   "source": [
    "x.add(60)\n",
    "print(x,id(x),len(x))"
   ]
  },
  {
   "cell_type": "code",
   "execution_count": 45,
   "id": "d6e56c94",
   "metadata": {},
   "outputs": [
    {
     "ename": "TypeError",
     "evalue": "set.add() takes exactly one argument (2 given)",
     "output_type": "error",
     "traceback": [
      "\u001b[1;31m---------------------------------------------------------------------------\u001b[0m",
      "\u001b[1;31mTypeError\u001b[0m                                 Traceback (most recent call last)",
      "Input \u001b[1;32mIn [45]\u001b[0m, in \u001b[0;36m<cell line: 1>\u001b[1;34m()\u001b[0m\n\u001b[1;32m----> 1\u001b[0m \u001b[43mx\u001b[49m\u001b[38;5;241;43m.\u001b[39;49m\u001b[43madd\u001b[49m\u001b[43m(\u001b[49m\u001b[38;5;241;43m70\u001b[39;49m\u001b[43m,\u001b[49m\u001b[38;5;241;43m80\u001b[39;49m\u001b[43m)\u001b[49m\n",
      "\u001b[1;31mTypeError\u001b[0m: set.add() takes exactly one argument (2 given)"
     ]
    }
   ],
   "source": [
    "x.add(70,80)          # we can add only 1 element in set"
   ]
  },
  {
   "cell_type": "code",
   "execution_count": 46,
   "id": "54c8d715",
   "metadata": {},
   "outputs": [
    {
     "name": "stdout",
     "output_type": "stream",
     "text": [
      "after adding:\n",
      "{50, 20, (70, 80, 90), 40, 10, 60, 30} 7\n"
     ]
    }
   ],
   "source": [
    "x.add((70,80,90))\n",
    "print(\"after adding:\")\n",
    "print(x,len(x))          #taken as tuple so added"
   ]
  },
  {
   "cell_type": "code",
   "execution_count": 47,
   "id": "9e651f58",
   "metadata": {},
   "outputs": [
    {
     "name": "stdout",
     "output_type": "stream",
     "text": [
      "{65, 10, 75, 20, 30, 40, (70, 80, 90), 50, 55, 60} 10\n"
     ]
    }
   ],
   "source": [
    "for p in (55,65,75):\n",
    "    x.add(p)\n",
    "print(x,len(x))      #using for loop we can add element one by one"
   ]
  },
  {
   "cell_type": "code",
   "execution_count": 48,
   "id": "94b8290b",
   "metadata": {},
   "outputs": [
    {
     "name": "stdout",
     "output_type": "stream",
     "text": [
      "{65, 70, 10, 75, 80, 20, 30, 40, (70, 80, 90), 50, 55, 60} 2085350451008 12\n"
     ]
    }
   ],
   "source": [
    "x.update((60,70,80))\n",
    "print(x,id(x),len(x))"
   ]
  },
  {
   "cell_type": "code",
   "execution_count": 49,
   "id": "3c973a8c",
   "metadata": {},
   "outputs": [
    {
     "name": "stdout",
     "output_type": "stream",
     "text": [
      "another copy:\n",
      "{65, 70, 40, 10, 75, (70, 80, 90), 80, 50, 20, 55, 60, 30} 2085350452128\n",
      "False\n"
     ]
    }
   ],
   "source": [
    "#for duplicating set\n",
    "y=x.copy()\n",
    "print(\"another copy:\")\n",
    "print(y,id(y))\n",
    "print(x is y)"
   ]
  },
  {
   "cell_type": "code",
   "execution_count": 50,
   "id": "01802bf1",
   "metadata": {},
   "outputs": [
    {
     "name": "stdout",
     "output_type": "stream",
     "text": [
      "{65, 70, 10, 75, 80, 20, 30, 40, (70, 80, 90), 50, 55, 60} <class 'set'>\n",
      "True\n"
     ]
    }
   ],
   "source": [
    "z=x\n",
    "print(z,type(z))\n",
    "print(x is z)"
   ]
  },
  {
   "cell_type": "code",
   "execution_count": 51,
   "id": "f234f3e4",
   "metadata": {},
   "outputs": [
    {
     "name": "stdout",
     "output_type": "stream",
     "text": [
      "{70, 10, 75, 80, 20, 30, 40, (70, 80, 90), 50, 55, 60}\n"
     ]
    }
   ],
   "source": [
    "x.pop()\n",
    "print(x)"
   ]
  },
  {
   "cell_type": "code",
   "execution_count": 52,
   "id": "1ac12a08",
   "metadata": {},
   "outputs": [
    {
     "name": "stdout",
     "output_type": "stream",
     "text": [
      "{10, 75, 80, 20, 30, 40, (70, 80, 90), 50, 55, 60}\n"
     ]
    }
   ],
   "source": [
    "x.pop()\n",
    "print(x)"
   ]
  },
  {
   "cell_type": "code",
   "execution_count": 53,
   "id": "3eef4941",
   "metadata": {},
   "outputs": [
    {
     "name": "stdout",
     "output_type": "stream",
     "text": [
      "{75, 80, 20, 30, 40, (70, 80, 90), 50, 55, 60}\n"
     ]
    }
   ],
   "source": [
    "x.pop()\n",
    "print(x)"
   ]
  },
  {
   "cell_type": "code",
   "execution_count": 54,
   "id": "c23e713d",
   "metadata": {},
   "outputs": [
    {
     "name": "stdout",
     "output_type": "stream",
     "text": [
      "{75, 80, 30, 40, (70, 80, 90), 50, 55, 60}\n"
     ]
    }
   ],
   "source": [
    "x.discard(20)\n",
    "print(x)"
   ]
  },
  {
   "cell_type": "code",
   "execution_count": 55,
   "id": "4322884f",
   "metadata": {},
   "outputs": [
    {
     "name": "stdout",
     "output_type": "stream",
     "text": [
      "{75, 80, 40, (70, 80, 90), 50, 55, 60}\n"
     ]
    }
   ],
   "source": [
    "x.remove(30)\n",
    "print(x)"
   ]
  },
  {
   "cell_type": "code",
   "execution_count": 56,
   "id": "e178c1b7",
   "metadata": {},
   "outputs": [
    {
     "ename": "KeyError",
     "evalue": "95",
     "output_type": "error",
     "traceback": [
      "\u001b[1;31m---------------------------------------------------------------------------\u001b[0m",
      "\u001b[1;31mKeyError\u001b[0m                                  Traceback (most recent call last)",
      "Input \u001b[1;32mIn [56]\u001b[0m, in \u001b[0;36m<cell line: 1>\u001b[1;34m()\u001b[0m\n\u001b[1;32m----> 1\u001b[0m \u001b[43mx\u001b[49m\u001b[38;5;241;43m.\u001b[39;49m\u001b[43mremove\u001b[49m\u001b[43m(\u001b[49m\u001b[38;5;241;43m95\u001b[39;49m\u001b[43m)\u001b[49m\n",
      "\u001b[1;31mKeyError\u001b[0m: 95"
     ]
    }
   ],
   "source": [
    "x.remove(95)        #not availabe"
   ]
  },
  {
   "cell_type": "code",
   "execution_count": 57,
   "id": "40e3dfaa",
   "metadata": {},
   "outputs": [],
   "source": [
    "x.discard(95)      #wont give any error"
   ]
  },
  {
   "cell_type": "code",
   "execution_count": 59,
   "id": "c1aefd39",
   "metadata": {},
   "outputs": [
    {
     "name": "stdout",
     "output_type": "stream",
     "text": [
      "set()\n",
      "0 2085350451008\n",
      "{65, 70, 40, 10, 75, (70, 80, 90), 80, 50, 20, 55, 60, 30} 2085350452128\n",
      "z= set()\n"
     ]
    }
   ],
   "source": [
    "#clear all set elements\n",
    "x.clear()\n",
    "print(x)\n",
    "print(len(x),id(x))\n",
    "print(y,id(y))\n",
    "print(\"z=\",z)"
   ]
  },
  {
   "cell_type": "code",
   "execution_count": null,
   "id": "8198a293",
   "metadata": {},
   "outputs": [],
   "source": [
    "#math using set"
   ]
  },
  {
   "cell_type": "code",
   "execution_count": 60,
   "id": "6ae1bec1",
   "metadata": {},
   "outputs": [
    {
     "name": "stdout",
     "output_type": "stream",
     "text": [
      "{50, 20, 40, 10, 30}\n",
      "{80, 20, 70, 10, 60}\n"
     ]
    }
   ],
   "source": [
    "A={10,20,30,40,50}\n",
    "B={10,20,60,70,80}\n",
    "print(A)\n",
    "print(B)"
   ]
  },
  {
   "cell_type": "code",
   "execution_count": 61,
   "id": "38b9b298",
   "metadata": {},
   "outputs": [
    {
     "name": "stdout",
     "output_type": "stream",
     "text": [
      "{70, 40, 10, 80, 50, 20, 60, 30}\n",
      "{70, 40, 10, 80, 50, 20, 60, 30}\n",
      "{70, 40, 10, 80, 50, 20, 60, 30}\n",
      "{70, 40, 10, 80, 50, 20, 60, 30}\n"
     ]
    }
   ],
   "source": [
    "print(A|B)\n",
    "print(B|A)\n",
    "print(A.union(B))\n",
    "print(B.union(A))"
   ]
  },
  {
   "cell_type": "code",
   "execution_count": 62,
   "id": "3686632b",
   "metadata": {},
   "outputs": [
    {
     "name": "stdout",
     "output_type": "stream",
     "text": [
      "{10, 20}\n",
      "{10, 20}\n",
      "{10, 20}\n",
      "{10, 20}\n"
     ]
    }
   ],
   "source": [
    "print(A & B)\n",
    "print(B & A)\n",
    "print(A.intersection(B))\n",
    "print(B.intersection(A))"
   ]
  },
  {
   "cell_type": "code",
   "execution_count": 64,
   "id": "88277868",
   "metadata": {},
   "outputs": [
    {
     "name": "stdout",
     "output_type": "stream",
     "text": [
      "{40, 50, 30}\n",
      "{80, 60, 70}\n",
      "{40, 50, 30}\n",
      "{80, 60, 70}\n"
     ]
    }
   ],
   "source": [
    "print(A-B)\n",
    "print(B-A)\n",
    "print(A.difference(B))\n",
    "print(B.difference(A))"
   ]
  },
  {
   "cell_type": "code",
   "execution_count": 65,
   "id": "c853c4bf",
   "metadata": {},
   "outputs": [
    {
     "name": "stdout",
     "output_type": "stream",
     "text": [
      "{80, 50, 70, 40, 60, 30}\n",
      "{80, 50, 70, 40, 60, 30}\n",
      "{80, 50, 70, 40, 60, 30}\n",
      "{80, 50, 70, 40, 60, 30}\n"
     ]
    }
   ],
   "source": [
    "print(A^B)\n",
    "print(B^A)\n",
    "print(A.symmetric_difference(B))\n",
    "print(B.symmetric_difference(A))"
   ]
  },
  {
   "cell_type": "code",
   "execution_count": 69,
   "id": "9923bbe8",
   "metadata": {},
   "outputs": [
    {
     "name": "stdout",
     "output_type": "stream",
     "text": [
      "{'Aniket'}\n",
      "{'Rohith', 'Ajay', 'Blake'}\n",
      "{'Pranil', 'Aaaksh', 'Pranav'}\n"
     ]
    }
   ],
   "source": [
    "A={\"Ajay\",\"Blake\",\"Rohith\",\"Aniket\"}\n",
    "B={\"Aaaksh\",\"Pranav\",\"Pranil\",\"Aniket\"}\n",
    "print(A.intersection(B))\n",
    "print(A.difference(B))\n",
    "print(B.difference(A))"
   ]
  },
  {
   "cell_type": "code",
   "execution_count": null,
   "id": "fe6de101",
   "metadata": {},
   "outputs": [],
   "source": []
  }
 ],
 "metadata": {
  "kernelspec": {
   "display_name": "Python 3 (ipykernel)",
   "language": "python",
   "name": "python3"
  },
  "language_info": {
   "codemirror_mode": {
    "name": "ipython",
    "version": 3
   },
   "file_extension": ".py",
   "mimetype": "text/x-python",
   "name": "python",
   "nbconvert_exporter": "python",
   "pygments_lexer": "ipython3",
   "version": "3.9.12"
  }
 },
 "nbformat": 4,
 "nbformat_minor": 5
}
