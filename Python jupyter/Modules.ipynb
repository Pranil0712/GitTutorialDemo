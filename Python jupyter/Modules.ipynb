{
 "cells": [
  {
   "cell_type": "code",
   "execution_count": null,
   "id": "d1875756",
   "metadata": {},
   "outputs": [],
   "source": [
    "### 1---> OS module"
   ]
  },
  {
   "cell_type": "code",
   "execution_count": 2,
   "id": "7d987dde",
   "metadata": {},
   "outputs": [
    {
     "name": "stdout",
     "output_type": "stream",
     "text": [
      "D:\\\n",
      "['!qhlogs.doc', '$RECYCLE.BIN', '.ipynb_checkpoints', 'Aniket', 'Assignment 1.ipynb', 'Comprehension.ipynb', 'Data_Engineer', 'Dictionary.ipynb', 'Durga Python', 'Flow Control.ipynb', 'Functions.ipynb', 'Input and Output.ipynb', 'Modules.ipynb', 'OOPs.ipynb', 'Operators.ipynb', 'Pranil B.TECH', \"Pranil DOC'S\", 'ProgramData', 'Python', 'Quick Heal', 'Set Datatype.ipynb', 'SQL', 'String.ipynb', 'System Volume Information', 'Tuple().ipynb']\n"
     ]
    }
   ],
   "source": [
    "#2-->listdir():lists all the files and directories\n",
    "import os   #importing os module.\n",
    "print(os.getcwd())  #getcwd means in which directory u r current working.\n",
    "print(os.listdir()) #list of all folders and files in that directory current we r working."
   ]
  },
  {
   "cell_type": "code",
   "execution_count": 3,
   "id": "45635854",
   "metadata": {},
   "outputs": [
    {
     "name": "stdout",
     "output_type": "stream",
     "text": [
      "['PyMaterial', 'Python Notes', 'PyVideos', 'string Assignments.txt']\n"
     ]
    }
   ],
   "source": [
    "print(os.listdir(\"D:/Durga python\"))   #D-drive durga python folders list."
   ]
  },
  {
   "cell_type": "code",
   "execution_count": 6,
   "id": "cce728b9",
   "metadata": {},
   "outputs": [
    {
     "name": "stdout",
     "output_type": "stream",
     "text": [
      "['!qhlogs.doc', '$Recycle.Bin', '$WinREAgent', 'devlist.txt', 'Documents and Settings', 'DRIVERS', 'DumpStack.log.tmp', 'eSupport', 'Finish.log', 'hiberfil.sys', 'logs', 'M.S. office 2007', 'Microsoft', 'OneDriveTemp', 'pagefile.sys', 'PerfLogs', 'Program Files', 'Program Files (x86)', 'ProgramData', 'Recovery', 'swapfile.sys', 'System Volume Information', 'Users', 'WhatsappKeys', 'Windows']\n",
      "['!qhlogs.doc', '$RECYCLE.BIN', 'cfrbackup-HHCXLGOR', 'msdownld.tmp', 'Photos', 'PUJA', 'Series', 'System Volume Information']\n"
     ]
    }
   ],
   "source": [
    "print(os.listdir(\"C:/\"))  #we can access all directorirs(drives) by importing os module.\n",
    "print(os.listdir(\"P:/\"))"
   ]
  },
  {
   "cell_type": "code",
   "execution_count": 9,
   "id": "c111e730",
   "metadata": {},
   "outputs": [
    {
     "name": "stdout",
     "output_type": "stream",
     "text": [
      "['(V)Time Table (1).pdf', '6th Sem Training', '7th sem Training', '8th sem notes', 'IDE-354.pdf', 'Semester wise Study Material', 'SWCE-355.pdf']\n"
     ]
    }
   ],
   "source": [
    "#3--->chdir:- change directory\n",
    "import os\n",
    "os.chdir(\"D:\\Pranil B.TECH\\Study Material\")  #we can copy this path by copying folder(it will copy path).\n",
    "print(os.listdir())  #changing directory or enterig into another folder in d-drive-->b.tech-->studymat."
   ]
  },
  {
   "cell_type": "code",
   "execution_count": 15,
   "id": "b4dcbf34",
   "metadata": {},
   "outputs": [],
   "source": [
    "#4--->mkdir:- make directory\n",
    "import os\n",
    "os.mkdir(\"sampledir1\")  #creating(folder) in current working directory means d-drive.\n",
    "os.mkdir(\"P:/Testdir1\") #creating directory in p-drive.\n",
    "os.mkdir(\"P:/Testdir1/Testdir2\") #creating sub-directory in testdir1 directory.\n",
    "#executed--->check in drive....."
   ]
  },
  {
   "cell_type": "code",
   "execution_count": 18,
   "id": "27ffa21c",
   "metadata": {},
   "outputs": [],
   "source": [
    "#5--->rename:- for renaming a file or direcortry\n",
    "import os\n",
    "os.rename(\"sampledir1\",\"sdir1\")  #renaming directory\n",
    "os.rename(\"P:/Testdir1\",\"P:/Tdir1\") #executed--->check the rename"
   ]
  },
  {
   "cell_type": "code",
   "execution_count": 5,
   "id": "a0685a60",
   "metadata": {},
   "outputs": [],
   "source": [
    "#6--->remove:- for removing only (file) not a folder direct.\n",
    "import os                                  \n",
    "os.remove(\"D:\\sdir1\\multithread.py\")  #to remove files inside this foler.\n",
    "os.remove(\"P:\\Tdir1\\Testdir2\\multithread2.py\")  #removing sub-directory file from p-drive.\n",
    "#executed---> files removed"
   ]
  },
  {
   "cell_type": "code",
   "execution_count": 6,
   "id": "e51adbe7",
   "metadata": {},
   "outputs": [
    {
     "name": "stdout",
     "output_type": "stream",
     "text": [
      "File doesn't exist\n"
     ]
    }
   ],
   "source": [
    "#7--->os.path.exists()\n",
    "import os\n",
    "if(os.path.exists(\"P:\\Tdir1\\Testdir2\\multithread2.py\")):\n",
    "    os.remove(\"P:\\Tdir1\\Testdir2\\multithread2.py\")\n",
    "else:\n",
    "    print(\"File doesn't exist\")\n",
    "#file is already removed...."
   ]
  },
  {
   "cell_type": "code",
   "execution_count": 7,
   "id": "c9dc9a8f",
   "metadata": {},
   "outputs": [],
   "source": [
    "#8--->rmdir:- removes a empty directory (folder)\n",
    "import os\n",
    "os.rmdir(\"sampledir\")\n",
    "#executed----> removed"
   ]
  },
  {
   "cell_type": "code",
   "execution_count": 8,
   "id": "a2911a63",
   "metadata": {},
   "outputs": [],
   "source": [
    "#9--->rmtree:- for removing a directory with content we have rmtree() method within the shutil module...\n",
    "import shutil\n",
    "shutil.rmtree(\"sdir2\")  #remove folder with content from working directory\n",
    "#executed--->removed"
   ]
  },
  {
   "cell_type": "code",
   "execution_count": 1,
   "id": "170d63d4",
   "metadata": {},
   "outputs": [
    {
     "name": "stdout",
     "output_type": "stream",
     "text": [
      "482882\n",
      "806320\n",
      "105922\n",
      "286383\n",
      "814186\n",
      "666235\n",
      "953551\n",
      "503382\n",
      "543438\n",
      "379547\n"
     ]
    }
   ],
   "source": [
    "# program to genrate OTP of 6 digits randomly-----\n",
    "from random import *\n",
    "for i in range(10):\n",
    "    print(randint(0,9),randint(0,9),randint(0,9),randint(0,9),randint(0,9),randint(0,9),sep='')"
   ]
  },
  {
   "cell_type": "code",
   "execution_count": 4,
   "id": "67b527f2",
   "metadata": {},
   "outputs": [
    {
     "name": "stdout",
     "output_type": "stream",
     "text": [
      "OTP of 4 digits: 813552\n"
     ]
    }
   ],
   "source": [
    "import math, random\n",
    "\n",
    "def generateOTP() :\n",
    "\tdigits = \"0123456789\"\n",
    "\tOTP = \"\"\n",
    "\tfor i in range(6):\n",
    "\t\tOTP += digits[math.floor(random.random() * 10)]\n",
    "\treturn OTP\n",
    "\n",
    "# Driver code\n",
    "if __name__ == \"__main__\" :\n",
    "\tprint(\"OTP of 4 digits:\", generateOTP())\n"
   ]
  },
  {
   "cell_type": "code",
   "execution_count": 2,
   "id": "86ce7c1e",
   "metadata": {},
   "outputs": [
    {
     "name": "stdout",
     "output_type": "stream",
     "text": [
      "Generate a random color hex:\n",
      "#1f17b5\n",
      "\n",
      "Generate a random alphabetical string:\n",
      "ETqtRsLJyLrGmRVFLXJKJnyvniYBYVZALGwEcSas\n"
     ]
    }
   ],
   "source": [
    "#program to generate a random color hex, a random alphabetical string\n",
    "import random\n",
    "import string\n",
    "print(\"Generate a random color hex:\")\n",
    "print(\"#{:06x}\".format(random.randint(0,0xFFFFFF)))\n",
    "print(\"\\nGenerate a random alphabetical string:\")\n",
    "max_length=200\n",
    "s=''\n",
    "for i in range(random.randint(1,max_length)):\n",
    "    s+=random.choice(string.ascii_letters)\n",
    "print(s)"
   ]
  },
  {
   "cell_type": "code",
   "execution_count": 3,
   "id": "201507a3",
   "metadata": {},
   "outputs": [
    {
     "name": "stdout",
     "output_type": "stream",
     "text": [
      "Random values between two integers:\n",
      "9\n",
      "Random multiple of 7 between 0 and 70:\n",
      "14\n"
     ]
    }
   ],
   "source": [
    "#program for generate random value between two integers (inclusive) and a random multiple of 7 between 0 and 70.\n",
    "import random\n",
    "print(\"Random values between two integers:\")\n",
    "print(random.randint(0,10))\n",
    "print(\"Random multiple of 7 between 0 and 70:\")\n",
    "print(random.randint(0,10)*7)"
   ]
  },
  {
   "cell_type": "code",
   "execution_count": 11,
   "id": "294abbbd",
   "metadata": {},
   "outputs": [
    {
     "name": "stdout",
     "output_type": "stream",
     "text": [
      "Select Random elements from a lsit\n",
      "Enter list of numbers:21,34,342,532,32\n",
      "342\n",
      "\n",
      "Select random element from set\n",
      "Enter set of numbers:54,653,75,87,23\n",
      "23\n",
      "\n",
      "Select a random value from a dictionary:\n",
      "5\n"
     ]
    }
   ],
   "source": [
    "#program to select a random element from a list, set, dictionary (value) and a file from a directory. Use random.choice()\n",
    "import random\n",
    "print(\"Select Random elements from a lsit\")\n",
    "ele=eval(input(\"Enter list of numbers:\"))\n",
    "print(random.choice(ele))\n",
    "print(\"\\nSelect random element from set\")\n",
    "ele1=eval(input(\"Enter set of numbers:\"))\n",
    "print(random.choice(tuple(ele1)))\n",
    "print(\"\\nSelect a random value from a dictionary:\")\n",
    "d={\"a\":1,\"b\":2,\"c\":3,\"d\":4,\"e\":5}\n",
    "key=random.choice(list(d))\n",
    "print(d[key])"
   ]
  },
  {
   "cell_type": "code",
   "execution_count": 16,
   "id": "25a0eee5",
   "metadata": {},
   "outputs": [
    {
     "name": "stdout",
     "output_type": "stream",
     "text": [
      "Random Alphabetical character:\n",
      "z\n",
      "\n",
      "Generate a random alphabetical string:\n",
      "kaiAjdBbDuyvSgQkjkHoIwDdOyAjIZDASWIeIzJiLVrmrkzTVZprdPMStnyEpuOGfDcDHZYijYdwSewenRQtAOycXQdtDYAECSOzCZtuKPLaIiHCuxRbhVMhlaQflQKkrdYStpGVVnXTEwAlbzEFkQhPazarRWElXDsHZZQkkvQQLkjcbjsqhDqPBNTPPzmZESKyCSnKYceukfVVlxJsUPanimHscOxpBdQEaQBhRAVnlcPpOu\n",
      "\n",
      "Generate a random alphabetical string of a fixed length:\n",
      "hnkLXsPhGn\n"
     ]
    }
   ],
   "source": [
    "import random\n",
    "import string\n",
    "print(\"Random Alphabetical character:\")\n",
    "print(random.choice(string.ascii_letters))\n",
    "print(\"\\nGenerate a random alphabetical string:\")\n",
    "max_length=255\n",
    "str1=\"\"\n",
    "for i in range(random.randint(1,max_length)):\n",
    "    str1+=random.choice(string.ascii_letters)\n",
    "print(str1)\n",
    "print(\"\\nGenerate a random alphabetical string of a fixed length:\")\n",
    "str1=\"\"\n",
    "for i in range(10):\n",
    "    str1+=random.choice(string.ascii_letters)\n",
    "print(str1)"
   ]
  },
  {
   "cell_type": "code",
   "execution_count": 25,
   "id": "a2be4524",
   "metadata": {},
   "outputs": [
    {
     "name": "stdout",
     "output_type": "stream",
     "text": [
      "Constructor a seeded random number generator:\n",
      "0.8444218515250481\n",
      "0.4271224589144281\n",
      "\n",
      "Generate a float between 0 and 1, excluding 1:\n",
      "0.4288890546751146\n"
     ]
    }
   ],
   "source": [
    "import random\n",
    "print(\"Constructor a seeded random number generator:\")\n",
    "print(random.Random(0).random())\n",
    "print(random.Random().random())\n",
    "print(\"\\nGenerate a float between 0 and 1, excluding 1:\")\n",
    "print(random.random())"
   ]
  },
  {
   "cell_type": "code",
   "execution_count": 23,
   "id": "848c5289",
   "metadata": {
    "scrolled": true
   },
   "outputs": [
    {
     "name": "stdout",
     "output_type": "stream",
     "text": [
      "0.5714025946899135\n"
     ]
    }
   ],
   "source": [
    "import random\n",
    "\n",
    "random.seed(10)\n",
    "print(random.random())"
   ]
  },
  {
   "cell_type": "code",
   "execution_count": null,
   "id": "3d5c4de0",
   "metadata": {},
   "outputs": [],
   "source": []
  }
 ],
 "metadata": {
  "kernelspec": {
   "display_name": "Python 3 (ipykernel)",
   "language": "python",
   "name": "python3"
  },
  "language_info": {
   "codemirror_mode": {
    "name": "ipython",
    "version": 3
   },
   "file_extension": ".py",
   "mimetype": "text/x-python",
   "name": "python",
   "nbconvert_exporter": "python",
   "pygments_lexer": "ipython3",
   "version": "3.9.12"
  }
 },
 "nbformat": 4,
 "nbformat_minor": 5
}
