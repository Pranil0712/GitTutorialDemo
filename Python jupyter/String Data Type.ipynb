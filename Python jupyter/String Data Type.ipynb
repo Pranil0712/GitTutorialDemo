{
 "cells": [
  {
   "cell_type": "code",
   "execution_count": 2,
   "id": "39f05615",
   "metadata": {},
   "outputs": [
    {
     "name": "stdout",
     "output_type": "stream",
     "text": [
      "['Good', 'Morning', 'Hyderabad'] <class 'list'>\n",
      "Hyderabad\n"
     ]
    }
   ],
   "source": [
    "#split(): If we split a string,we get a list\n",
    "x=\"Good Morning Hyderabad\"\n",
    "y=x.split(\" \")\n",
    "print(y,type(y))\n",
    "print(y[2])"
   ]
  },
  {
   "cell_type": "code",
   "execution_count": 3,
   "id": "6e7d916a",
   "metadata": {},
   "outputs": [
    {
     "name": "stdout",
     "output_type": "stream",
     "text": [
      "22\n",
      "-1\n"
     ]
    }
   ],
   "source": [
    "#To check whether a sub-string is available or not\n",
    "#if found it returns the 1st character index position of the sub-string else it returns -1.\n",
    "x=\"Python is easier than Java\"\n",
    "print(x.find(\"Java\"))\n",
    "print(x.find(\"Hadoop\"))"
   ]
  },
  {
   "cell_type": "code",
   "execution_count": 4,
   "id": "7e23e932",
   "metadata": {},
   "outputs": [
    {
     "name": "stdout",
     "output_type": "stream",
     "text": [
      "True\n",
      "True\n"
     ]
    }
   ],
   "source": [
    "#startswith():endswith()\n",
    "x=\"Python is easier than Java\"\n",
    "print(x.startswith(\"Python\"))\n",
    "print(x.endswith(\"Java\"))"
   ]
  },
  {
   "cell_type": "code",
   "execution_count": 5,
   "id": "a9724fe9",
   "metadata": {},
   "outputs": [
    {
     "name": "stdout",
     "output_type": "stream",
     "text": [
      "False\n"
     ]
    }
   ],
   "source": [
    "#isalpha(): To check whether all the characters within the string are alphabets\n",
    "date=\"oct27\"\n",
    "print(date.isalpha())"
   ]
  },
  {
   "cell_type": "code",
   "execution_count": 8,
   "id": "01910ec6",
   "metadata": {},
   "outputs": [
    {
     "name": "stdout",
     "output_type": "stream",
     "text": [
      "False\n",
      "False\n",
      "4\n",
      "False\n"
     ]
    }
   ],
   "source": [
    "#isdecimal(): To check whether all the characters within the string  are numeric\n",
    "date=\"oct27\"\n",
    "print(date.isdecimal())\n",
    "\n",
    "x=\"27 10 2021\"\n",
    "print(x.isalnum())\n",
    "\n",
    "pi=\"3.14\"\n",
    "print(len(pi))\n",
    "print(pi.isalnum())"
   ]
  },
  {
   "cell_type": "code",
   "execution_count": 12,
   "id": "f3035bd7",
   "metadata": {
    "scrolled": true
   },
   "outputs": [
    {
     "name": "stdout",
     "output_type": "stream",
     "text": [
      "Ajay Rohith James Blake George\n",
      "Ajay\tRohith\tJames\tBlake\tGeorge\n",
      "Ajay\n",
      "Rohith\n",
      "James\n",
      "Blake\n",
      "George\n"
     ]
    }
   ],
   "source": [
    "#join(): joins the elements of a iterable(list,tuple,set,string) into one string\n",
    "\n",
    "emps=[\"Ajay\",\"Rohith\",\"James\",\"Blake\",\"George\"]\n",
    "x=\" \".join(emps)\n",
    "print(x)\n",
    "\n",
    "y=\"\\t\".join(emps)\n",
    "print(y)\n",
    "\n",
    "y=\"\\n\".join(emps)\n",
    "print(y)"
   ]
  },
  {
   "cell_type": "code",
   "execution_count": 20,
   "id": "8d9b636e",
   "metadata": {},
   "outputs": [
    {
     "data": {
      "text/plain": [
       "'eraw'"
      ]
     },
     "execution_count": 20,
     "metadata": {},
     "output_type": "execute_result"
    }
   ],
   "source": [
    "s=\"duragsoftware\"\n",
    "s[-1:-5:-1]"
   ]
  },
  {
   "cell_type": "code",
   "execution_count": 35,
   "id": "233df7d7",
   "metadata": {},
   "outputs": [
    {
     "name": "stdout",
     "output_type": "stream",
     "text": [
      "Forward direction:\n",
      "learning python is very easy\n",
      "\n",
      "Backward direction:\n",
      "ysae yrev si nohtyp gninrael"
     ]
    }
   ],
   "source": [
    "s=\"learning python is very easy\"\n",
    "print(\"Forward direction:\")\n",
    "for i in s[::]:\n",
    "    print(i,end=\"\")\n",
    "print(\"\\n\")\n",
    "print(\"Backward direction:\")\n",
    "for i in s[::-1]:\n",
    "    print(i,end=\"\")"
   ]
  },
  {
   "cell_type": "code",
   "execution_count": 39,
   "id": "2694484a",
   "metadata": {},
   "outputs": [
    {
     "name": "stdout",
     "output_type": "stream",
     "text": [
      "Forward Direction:\n",
      "learning python is very easy\n",
      "\n",
      "Backward Direction:\n",
      "ysae yrev si nohtyp gninrael"
     ]
    }
   ],
   "source": [
    "s=\"learning python is very easy\"\n",
    "n=(len(s))  #n=char in s\n",
    "i=0   #index value\n",
    "print(\"Forward Direction:\")\n",
    "while i<n:\n",
    "    print(s[i],end='')\n",
    "    i=i+1\n",
    "print(\"\\n\")\n",
    "i=-1\n",
    "print(\"Backward Direction:\")\n",
    "while i>=-n:\n",
    "    print(s[i],end='')\n",
    "    i=i-1"
   ]
  },
  {
   "cell_type": "code",
   "execution_count": 57,
   "id": "8ef6b163",
   "metadata": {
    "scrolled": true
   },
   "outputs": [
    {
     "name": "stdout",
     "output_type": "stream",
     "text": [
      "5\n",
      "14\n",
      "\n",
      "5\n",
      "14\n",
      "-1\n",
      "-1\n"
     ]
    }
   ],
   "source": [
    "s=\"durgasoftdurgasoft\"\n",
    "print(s.index(\"soft\"))\n",
    "print(s.rindex(\"soft\"))\n",
    "print()\n",
    "print(s.find(\"soft\"))\n",
    "print(s.rfind(\"soft\"))\n",
    "print(s.find(\"zeenu\"))   #not available always retrun -1\n",
    "print(s.rfind(\"zeenu\"))"
   ]
  },
  {
   "cell_type": "code",
   "execution_count": 11,
   "id": "5a5db9e7",
   "metadata": {},
   "outputs": [
    {
     "name": "stdout",
     "output_type": "stream",
     "text": [
      "4\n"
     ]
    }
   ],
   "source": [
    "s=\"abcabcdbdaalfac\"\n",
    "print(s.find('b',3,10))"
   ]
  },
  {
   "cell_type": "code",
   "execution_count": 41,
   "id": "2e32db88",
   "metadata": {},
   "outputs": [
    {
     "name": "stdout",
     "output_type": "stream",
     "text": [
      "10\n",
      "20\n",
      "30\n",
      "40\n",
      "50\n",
      "60\n",
      "70\n"
     ]
    }
   ],
   "source": [
    "s=\"10,20,30,40,50,60,70\"\n",
    "l=s.split(',')\n",
    "for x in l:\n",
    "    print(x)"
   ]
  },
  {
   "cell_type": "code",
   "execution_count": 45,
   "id": "5d76fb87",
   "metadata": {},
   "outputs": [
    {
     "name": "stdout",
     "output_type": "stream",
     "text": [
      "10\n",
      "20\n",
      "30\n",
      "40\n",
      "50,60,70\n"
     ]
    }
   ],
   "source": [
    "s=\"10,20,30,40,50,60,70\"\n",
    "l=s.split(',',4)\n",
    "for x in l:\n",
    "    print(x)"
   ]
  },
  {
   "cell_type": "code",
   "execution_count": 48,
   "id": "82c0f136",
   "metadata": {},
   "outputs": [
    {
     "name": "stdout",
     "output_type": "stream",
     "text": [
      "10,20,30\n",
      "40\n",
      "50\n",
      "60\n",
      "70\n"
     ]
    }
   ],
   "source": [
    "s=\"10,20,30,40,50,60,70\"\n",
    "l=s.rsplit(',',4)   #reverse split\n",
    "for x in l:\n",
    "    print(x)"
   ]
  },
  {
   "cell_type": "code",
   "execution_count": 3,
   "id": "ce2e0f97",
   "metadata": {},
   "outputs": [
    {
     "name": "stdout",
     "output_type": "stream",
     "text": [
      "durga-soft-solutions\n"
     ]
    }
   ],
   "source": [
    "#to join a group of strings\n",
    "s=[\"durga\",\"soft\",\"solutions\"]   #we can use join only on list and tuple....\n",
    "l='-'.join(s)\n",
    "print(l)"
   ]
  },
  {
   "cell_type": "code",
   "execution_count": 4,
   "id": "79e7635d",
   "metadata": {},
   "outputs": [
    {
     "name": "stdout",
     "output_type": "stream",
     "text": [
      "durga:soft:solutions\n"
     ]
    }
   ],
   "source": [
    "s=(\"durga\",\"soft\",\"solutions\")   #tuple\n",
    "l=':'.join(s)\n",
    "print(l)"
   ]
  },
  {
   "cell_type": "code",
   "execution_count": 2,
   "id": "1ee71ed2",
   "metadata": {},
   "outputs": [
    {
     "name": "stdout",
     "output_type": "stream",
     "text": [
      "solutions-soft-durga\n"
     ]
    }
   ],
   "source": [
    "s={\"durga\",\"soft\",\"solutions\"}   #using join on set will give differ OP.\n",
    "l='-'.join(s)\n",
    "print(l)       "
   ]
  },
  {
   "cell_type": "code",
   "execution_count": 5,
   "id": "e64f963a",
   "metadata": {},
   "outputs": [
    {
     "name": "stdout",
     "output_type": "stream",
     "text": [
      "LEARNING PYTHON IS VERY EASY\n",
      "learning python is very easy\n",
      "LEARNING pYTHON IS VERY eASY\n",
      "Learning Python Is Very Easy\n",
      "Learning python is very easy\n"
     ]
    }
   ],
   "source": [
    "s='learning Python is very Easy'\n",
    "print(s.upper())\n",
    "print(s.lower())\n",
    "print(s.swapcase())\n",
    "print(s.title())\n",
    "print(s.capitalize())"
   ]
  },
  {
   "cell_type": "code",
   "execution_count": 6,
   "id": "29a85196",
   "metadata": {},
   "outputs": [
    {
     "name": "stdout",
     "output_type": "stream",
     "text": [
      "True\n",
      "False\n"
     ]
    }
   ],
   "source": [
    "s='Learning Python is Very Easy'\n",
    "print(s.startswith('Learning'))\n",
    "print(s.endswith('easy'))   #false because we take e lower case (string is case sensitive)"
   ]
  },
  {
   "cell_type": "code",
   "execution_count": 7,
   "id": "1a54e1c2",
   "metadata": {},
   "outputs": [
    {
     "name": "stdout",
     "output_type": "stream",
     "text": [
      "Enter some string:pranil\n",
      "linarp\n"
     ]
    }
   ],
   "source": [
    "s=input(\"Enter some string:\")\n",
    "print(s[::-1])"
   ]
  },
  {
   "cell_type": "code",
   "execution_count": 10,
   "id": "d5004325",
   "metadata": {},
   "outputs": [
    {
     "name": "stdout",
     "output_type": "stream",
     "text": [
      "Enter some string:pranil\n",
      "linarp\n"
     ]
    }
   ],
   "source": [
    "s=input(\"Enter some string:\")\n",
    "print(''.join(reversed(s)))"
   ]
  },
  {
   "cell_type": "code",
   "execution_count": 16,
   "id": "2762c7c1",
   "metadata": {},
   "outputs": [
    {
     "name": "stdout",
     "output_type": "stream",
     "text": [
      "Enter some string:pranil patel\n",
      "patel pranil\n"
     ]
    }
   ],
   "source": [
    "#program to reverse order of words\n",
    "s=input(\"Enter some string:\")\n",
    "l=s.split()\n",
    "l1=[]\n",
    "i=len(l)-1\n",
    "while i>=0:\n",
    "    l1.append(l[i])\n",
    "    i=i-1\n",
    "output=' '.join(l1)\n",
    "print(output)"
   ]
  },
  {
   "cell_type": "code",
   "execution_count": 21,
   "id": "8f7425b2",
   "metadata": {},
   "outputs": [
    {
     "name": "stdout",
     "output_type": "stream",
     "text": [
      "Enter some string:P\n",
      "Alpha numeric character\n",
      "Alpha character\n",
      "Upper case character\n"
     ]
    }
   ],
   "source": [
    "s=input(\"Enter some string:\")\n",
    "if s.isalnum():\n",
    "    print(\"Alpha numeric character\")\n",
    "    if s.isalpha():\n",
    "        print(\"Alpha character\")\n",
    "        if s.islower():\n",
    "            print(\"lower case character\")\n",
    "        else:\n",
    "            print(\"Upper case character\")\n",
    "    else:\n",
    "        print(\"it's digit\")\n",
    "elif s.isspace():\n",
    "    print(\"It's space character\")\n",
    "else:\n",
    "    print(\"It's unknown character\")"
   ]
  },
  {
   "cell_type": "code",
   "execution_count": 23,
   "id": "37f3adae",
   "metadata": {},
   "outputs": [
    {
     "name": "stdout",
     "output_type": "stream",
     "text": [
      "Enter some string:pranil patel\n",
      "linarp letap\n"
     ]
    }
   ],
   "source": [
    "s=input(\"Enter some string:\")\n",
    "l=s.split()\n",
    "l1=[]\n",
    "i=0\n",
    "while i<len(l):\n",
    "    l1.append(l[i][::-1])\n",
    "    i=i+1\n",
    "output=' '.join(l1)\n",
    "print(output)"
   ]
  },
  {
   "cell_type": "code",
   "execution_count": 25,
   "id": "18612f19",
   "metadata": {},
   "outputs": [
    {
     "name": "stdout",
     "output_type": "stream",
     "text": [
      "Enter some string:Pranil Patel\n",
      "Characters at even postion are: Pai ae\n",
      "Characters at odd position are: rnlPtl\n"
     ]
    }
   ],
   "source": [
    "s=input(\"Enter some string:\")\n",
    "print(\"Characters at even postion are:\",s[0::2])\n",
    "print(\"Characters at odd position are:\",s[1::2])"
   ]
  },
  {
   "cell_type": "code",
   "execution_count": 1,
   "id": "28ce67a8",
   "metadata": {},
   "outputs": [
    {
     "name": "stdout",
     "output_type": "stream",
     "text": [
      "Enter some string:pranil patel\n",
      "Character at Even position:\n",
      "p,a,i, ,a,e,\n",
      "Characters at Odd postion:\n",
      "r,n,l,p,t,l,"
     ]
    }
   ],
   "source": [
    "#2nd way\n",
    "s=input(\"Enter some string:\")\n",
    "i=0\n",
    "print(\"Character at Even position:\")\n",
    "while i<len(s):\n",
    "    print(s[i],end=\",\")\n",
    "    i=i+2\n",
    "print()\n",
    "i=1\n",
    "print(\"Characters at Odd postion:\")\n",
    "while i<len(s):\n",
    "    print(s[i],end=',')\n",
    "    i=i+2"
   ]
  },
  {
   "cell_type": "code",
   "execution_count": 6,
   "id": "8872be40",
   "metadata": {},
   "outputs": [
    {
     "name": "stdout",
     "output_type": "stream",
     "text": [
      "Enter first string:pranil\n",
      "Enter second string:patel\n",
      "ppraatneill\n"
     ]
    }
   ],
   "source": [
    "s1=input(\"Enter first string:\")\n",
    "s2=input(\"Enter second string:\")\n",
    "output=''\n",
    "i,j=0,0\n",
    "while i<len(s1) or j<len(s2):\n",
    "    if i<len(s1):\n",
    "        output=output+s1[i]\n",
    "        i=i+1\n",
    "    if j<len(s2):\n",
    "        output=output+s2[j]\n",
    "        j=j+1\n",
    "print(output)"
   ]
  },
  {
   "cell_type": "code",
   "execution_count": 3,
   "id": "ca17e306",
   "metadata": {},
   "outputs": [
    {
     "name": "stdout",
     "output_type": "stream",
     "text": [
      "Enter some string:B4A1D3\n",
      "ABD134\n"
     ]
    }
   ],
   "source": [
    "s=input(\"Enter some string:\")\n",
    "s1=s2=output=\"\"\n",
    "for x in s:\n",
    "    if x.isalpha():\n",
    "        s1=s1+x\n",
    "    else:\n",
    "        s2=s2+x\n",
    "for x in sorted(s1):\n",
    "    output=output+x\n",
    "for x in sorted(s2):\n",
    "    output=output+x\n",
    "print(output)"
   ]
  },
  {
   "cell_type": "code",
   "execution_count": 4,
   "id": "d6ec1e8a",
   "metadata": {},
   "outputs": [
    {
     "name": "stdout",
     "output_type": "stream",
     "text": [
      "Enter some string:a4b3c2\n",
      "aaaabbbcc\n"
     ]
    }
   ],
   "source": [
    "s=input(\"Enter some string:\")\n",
    "output=''\n",
    "for x in s:\n",
    "    if x.isalpha():\n",
    "        output=output+x\n",
    "        previous=x\n",
    "    else:\n",
    "        output=output+previous*(int(x)-1)\n",
    "print(output)"
   ]
  },
  {
   "cell_type": "code",
   "execution_count": 5,
   "id": "7cfc5eb3",
   "metadata": {},
   "outputs": [
    {
     "name": "stdout",
     "output_type": "stream",
     "text": [
      "Enter some string:a4c3d5\n",
      "aecfdi\n"
     ]
    }
   ],
   "source": [
    "#chr(unicode) ---->to convert unicode value to character\n",
    "#odr(character) ---->to convert character value to unicode\n",
    "s=input(\"Enter some string:\")\n",
    "output=''\n",
    "for x in s:\n",
    "    if x.isalpha():\n",
    "        output=output+x\n",
    "        previous=x\n",
    "    else:\n",
    "        output=output+(chr(ord(previous)+int(x)))\n",
    "print(output)"
   ]
  },
  {
   "cell_type": "code",
   "execution_count": 7,
   "id": "a8ea8190",
   "metadata": {},
   "outputs": [
    {
     "name": "stdout",
     "output_type": "stream",
     "text": [
      "Enter some string:apdsakpssspkdsa\n",
      "apdsk\n"
     ]
    }
   ],
   "source": [
    "s=input(\"Enter some string:\")\n",
    "l=[]\n",
    "for x in s:\n",
    "    if x not in l:\n",
    "        l.append(x)\n",
    "output=''.join(l)\n",
    "print(output)"
   ]
  },
  {
   "cell_type": "code",
   "execution_count": 11,
   "id": "b78c36fa",
   "metadata": {},
   "outputs": [
    {
     "name": "stdout",
     "output_type": "stream",
     "text": [
      "Enter some string:AKNDKAA\n",
      "A=3 Times\n",
      "K=2 Times\n",
      "N=1 Times\n",
      "D=1 Times\n"
     ]
    }
   ],
   "source": [
    "s=input(\"Enter some string:\")\n",
    "d={}\n",
    "for x in s:\n",
    "    if x in d.keys():\n",
    "        d[x]=d[x]+1\n",
    "    else:\n",
    "        d[x]=1\n",
    "for k,v in d.items():\n",
    "    print(\"{}={} Times\".format(k,v))"
   ]
  },
  {
   "cell_type": "code",
   "execution_count": 14,
   "id": "1479c395",
   "metadata": {},
   "outputs": [
    {
     "name": "stdout",
     "output_type": "stream",
     "text": [
      "{'g': 2, 'o': 3, 'l': 1, 'e': 1, '.': 1, 'c': 1, 'm': 1}\n"
     ]
    }
   ],
   "source": [
    "def char_frequency(str1):\n",
    "    dict={}\n",
    "    for n in str1:\n",
    "        keys=dict.keys()\n",
    "        if n in keys:\n",
    "            dict[n]+=1\n",
    "        else:\n",
    "            dict[n]=1\n",
    "    return dict\n",
    "print(char_frequency(\"google.com\"))"
   ]
  },
  {
   "cell_type": "code",
   "execution_count": 20,
   "id": "2dec55eb",
   "metadata": {},
   "outputs": [
    {
     "name": "stdout",
     "output_type": "stream",
     "text": [
      "ab\n",
      "abcing\n",
      "stringly\n"
     ]
    }
   ],
   "source": [
    "def add_string(str1):\n",
    "    length=len(str1)\n",
    "    if length>2:\n",
    "        if str1[-3:]=='ing':\n",
    "            str1=str1+'ly'\n",
    "        else:\n",
    "            str1=str1+'ing'\n",
    "    return str1\n",
    "print(add_string('ab'))\n",
    "print(add_string('abc'))\n",
    "print(add_string('string'))"
   ]
  },
  {
   "cell_type": "code",
   "execution_count": 22,
   "id": "dac00e12",
   "metadata": {},
   "outputs": [
    {
     "name": "stdout",
     "output_type": "stream",
     "text": [
      "The lyrics is good!\n",
      "The lyrics is poor!\n"
     ]
    }
   ],
   "source": [
    "def not_poor(str1):\n",
    "    snot=str1.find('not')\n",
    "    spoor=str1.find('poor')\n",
    "    if spoor>snot and snot>0 and spoor>0:\n",
    "        str1=str1.replace(str1[snot:(spoor+4)],'good')\n",
    "        return str1\n",
    "    else:\n",
    "        return str1\n",
    "print(not_poor('The lyrics is not that poor!'))\n",
    "print(not_poor('The lyrics is poor!'))"
   ]
  },
  {
   "cell_type": "code",
   "execution_count": 25,
   "id": "93b4ae94",
   "metadata": {},
   "outputs": [
    {
     "name": "stdout",
     "output_type": "stream",
     "text": [
      "ython\n",
      "Pyton\n",
      "Pytho\n"
     ]
    }
   ],
   "source": [
    "def remove_char(str,n):\n",
    "    first_part=str[:n]\n",
    "    last_part=str[1+n:]\n",
    "    return first_part+last_part\n",
    "print(remove_char('Python',0))\n",
    "print(remove_char('Python',3))\n",
    "print(remove_char('Python',5))"
   ]
  },
  {
   "cell_type": "code",
   "execution_count": 43,
   "id": "ec074115",
   "metadata": {},
   "outputs": [
    {
     "name": "stdout",
     "output_type": "stream",
     "text": [
      "dbca\n",
      "52341\n"
     ]
    }
   ],
   "source": [
    "def change_str(str1):\n",
    "    return str1[-1:]+str1[1:-1]+str1[:1]\n",
    "print(change_str('abcd'))\n",
    "print(change_str('12345'))"
   ]
  },
  {
   "cell_type": "code",
   "execution_count": 44,
   "id": "6119ce35",
   "metadata": {},
   "outputs": [
    {
     "name": "stdout",
     "output_type": "stream",
     "text": [
      "rnl\n"
     ]
    }
   ],
   "source": [
    "def remove_odd(str1):\n",
    "    return str1[1::2]\n",
    "print(remove_odd(\"pranil\"))"
   ]
  },
  {
   "cell_type": "code",
   "execution_count": 48,
   "id": "4a3a5e4d",
   "metadata": {},
   "outputs": [
    {
     "name": "stdout",
     "output_type": "stream",
     "text": [
      "{'the': 2, 'quick': 1, 'brown': 1, 'fox': 1, 'jumps': 1, 'over': 1, 'lazy': 1, 'dog': 1}\n"
     ]
    }
   ],
   "source": [
    "def occurenc_word(str1):\n",
    "    count=dict()\n",
    "    words=str1.split()\n",
    "    for word in words:\n",
    "        if word in count:\n",
    "            count[word]+=1\n",
    "        else:\n",
    "            count[word]=1\n",
    "    return count\n",
    "print(occurenc_word(\"the quick brown fox jumps over the lazy dog\"))"
   ]
  },
  {
   "cell_type": "code",
   "execution_count": 51,
   "id": "faf0e952",
   "metadata": {},
   "outputs": [
    {
     "name": "stdout",
     "output_type": "stream",
     "text": [
      "What's is ur fav lang?hindi\n",
      "My fav lang is: HINDI\n",
      "My fav lang is: hindi\n"
     ]
    }
   ],
   "source": [
    "s=input(\"What's is ur fav lang?\")\n",
    "print(\"My fav lang is:\",s.upper())\n",
    "print(\"My fav lang is:\",s.lower())"
   ]
  },
  {
   "cell_type": "code",
   "execution_count": 53,
   "id": "dc6d2f2a",
   "metadata": {},
   "outputs": [
    {
     "name": "stdout",
     "output_type": "stream",
     "text": [
      "Input comma sep of words:red,black,orange,blue\n",
      "black,blue,orange,red\n"
     ]
    }
   ],
   "source": [
    "items=input(\"Input comma sep of words:\")\n",
    "words=[word for word in items.split(\",\")]\n",
    "print(\",\".join(sorted(list(set(words)))))"
   ]
  },
  {
   "cell_type": "code",
   "execution_count": 2,
   "id": "63455ea0",
   "metadata": {},
   "outputs": [
    {
     "name": "stdout",
     "output_type": "stream",
     "text": [
      "<i>Python</i>\n",
      "<b>Python Tutorial</b>\n"
     ]
    }
   ],
   "source": [
    "def add_tags(tag,word):\n",
    "    return \"<%s>%s</%s>\"%(tag,word,tag)\n",
    "print(add_tags('i','Python'))\n",
    "print(add_tags('b','Python Tutorial'))"
   ]
  },
  {
   "cell_type": "code",
   "execution_count": 3,
   "id": "fe9cfd39",
   "metadata": {},
   "outputs": [
    {
     "name": "stdout",
     "output_type": "stream",
     "text": [
      "[[Python]]\n"
     ]
    }
   ],
   "source": [
    "def insert_sting(str,word):\n",
    "    return str[:2]+word+str[2:]\n",
    "print(insert_sting('[[]]','Python'))"
   ]
  },
  {
   "cell_type": "code",
   "execution_count": 18,
   "id": "528d9bdf",
   "metadata": {},
   "outputs": [
    {
     "name": "stdout",
     "output_type": "stream",
     "text": [
      "onononon\n"
     ]
    }
   ],
   "source": [
    "def copies(str):\n",
    "    sub_str=str[-2:]\n",
    "    return sub_str*4\n",
    "print(copies(\"Python\"))"
   ]
  },
  {
   "cell_type": "code",
   "execution_count": 26,
   "id": "3346c249",
   "metadata": {},
   "outputs": [
    {
     "name": "stdout",
     "output_type": "stream",
     "text": [
      "Pyt\n",
      "pyt\n",
      "Py\n"
     ]
    }
   ],
   "source": [
    "def three(str):\n",
    "    return str[:3] if len(str)>3 else str\n",
    "print(three(\"Python\"))\n",
    "print(three(\"pyt\"))\n",
    "print(three(\"Py\"))"
   ]
  },
  {
   "cell_type": "code",
   "execution_count": 39,
   "id": "a8e8cd1b",
   "metadata": {},
   "outputs": [
    {
     "name": "stdout",
     "output_type": "stream",
     "text": [
      "['https:', '', 'www.w3resouce.com', 'Python-exercises', 'string']\n",
      "['https://www.w3resouce.com/Python-exercises', 'string']\n",
      "https://www.w3resouce.com/Python-exercises\n",
      "string\n"
     ]
    }
   ],
   "source": [
    "str1='https://www.w3resouce.com/Python-exercises/string'\n",
    "print(str1.rsplit('/'))   #spliting all by this(/)\n",
    "print(str1.rsplit('/',1)) #splitng by right side 1\n",
    "print(str1.rsplit('/',1)[0]) #after splitting, index 0 will be first part of split\n",
    "print(str1.rsplit('/',1)[1]) #if index 1 second part will get print"
   ]
  },
  {
   "cell_type": "code",
   "execution_count": 40,
   "id": "6693033d",
   "metadata": {},
   "outputs": [
    {
     "name": "stdout",
     "output_type": "stream",
     "text": [
      "https://www.w3resouce.com/Python\n"
     ]
    }
   ],
   "source": [
    "str1='https://www.w3resouce.com/Python-exercises/string'\n",
    "print(str1.rsplit('-',1)[0])"
   ]
  },
  {
   "cell_type": "code",
   "execution_count": 47,
   "id": "c9b4052a",
   "metadata": {},
   "outputs": [
    {
     "name": "stdout",
     "output_type": "stream",
     "text": [
      "Enter some string:pran\n",
      "narp\n"
     ]
    }
   ],
   "source": [
    "s=input(\"Enter some string:\")\n",
    "if len(s)%4==0:\n",
    "    print(''.join(reversed(s)))\n",
    "else:\n",
    "    print(s)"
   ]
  },
  {
   "cell_type": "code",
   "execution_count": 49,
   "id": "d445de27",
   "metadata": {},
   "outputs": [
    {
     "name": "stdout",
     "output_type": "stream",
     "text": [
      "Python\n",
      "PYTHON\n"
     ]
    }
   ],
   "source": [
    "def to_upper(str1):\n",
    "    num=0\n",
    "    for l in str1[:4]:\n",
    "        if l.upper()==l:\n",
    "            num=num+1\n",
    "    if num>=2:\n",
    "        return str1.upper()\n",
    "    return str1\n",
    "print(to_upper(\"Python\"))\n",
    "print(to_upper(\"PyThon\"))"
   ]
  },
  {
   "cell_type": "code",
   "execution_count": 1,
   "id": "4afadf03",
   "metadata": {},
   "outputs": [
    {
     "name": "stdout",
     "output_type": "stream",
     "text": [
      "['3', 'c', 'e', 'e', 'o', 'r', 'r', 's', 'u', 'w']\n"
     ]
    }
   ],
   "source": [
    "#Python program to sort a string lexicographically(sorting numbers first then char sorting)\n",
    "def lexo(s):\n",
    "    return sorted(sorted(s),key=str.upper)\n",
    "print(lexo('w3resource'))"
   ]
  },
  {
   "cell_type": "code",
   "execution_count": 2,
   "id": "7bd3531d",
   "metadata": {},
   "outputs": [
    {
     "name": "stdout",
     "output_type": "stream",
     "text": [
      "Python Excecises\n",
      "\n",
      "Python Excecises\n"
     ]
    }
   ],
   "source": [
    "str1=\"Python Excecises\\n\"\n",
    "print(str1)     #str1 and new line will be printed\n",
    "print(str1.rstrip())  #only str1 printed"
   ]
  },
  {
   "cell_type": "code",
   "execution_count": 4,
   "id": "006bfaa2",
   "metadata": {},
   "outputs": [
    {
     "name": "stdout",
     "output_type": "stream",
     "text": [
      "[True, True, True, True, False]\n"
     ]
    }
   ],
   "source": [
    "#program to check whether a string starts with specified characters\n",
    "def check(s, arr):\n",
    "    \n",
    "    # returns a list of booleans\n",
    "    result = [characters in s for characters in arr]\n",
    "    return result\n",
    "\n",
    "s =\"@geeksforgeeks123\"\n",
    "arr = ['e', 'r', '1', '@', '0']\n",
    "print(check(s, arr))"
   ]
  },
  {
   "cell_type": "code",
   "execution_count": 10,
   "id": "87a22a5c",
   "metadata": {},
   "outputs": [
    {
     "name": "stdout",
     "output_type": "stream",
     "text": [
      "Enter Floating number:21.373267\n",
      "Original Number: 21.373267\n",
      "Formtted Number:21.37\n",
      "\n",
      "Origanl Number: 12.9999\n",
      "Formatted Number:13.00\n"
     ]
    }
   ],
   "source": [
    "# program to print the following floating numbers upto 2 decimal places.\n",
    "x=float(input(\"Enter Floating number:\"))\n",
    "y=12.9999\n",
    "print(\"Original Number:\",x)\n",
    "print(\"Formtted Number:\"+\"{:.2f}\".format(x))    #here f is for float\n",
    "print(\"\\nOriganl Number:\",y)\n",
    "print(\"Formatted Number:\"+\"{:.2f}\".format(y))"
   ]
  },
  {
   "cell_type": "code",
   "execution_count": 14,
   "id": "eeb2925b",
   "metadata": {},
   "outputs": [
    {
     "name": "stdout",
     "output_type": "stream",
     "text": [
      "Original Number: 3.34232\n",
      "Formtted Number with sign:+3.34\n",
      "\n",
      "Origanl Number: -12.9999\n",
      "Formatted Number with sign:-13.00\n"
     ]
    }
   ],
   "source": [
    "# program to print the following floating numbers upto 2 decimal places with sign.\n",
    "x=3.34232\n",
    "y=-12.9999\n",
    "print(\"Original Number:\",x)\n",
    "print(\"Formtted Number with sign:\"+\"{:+.2f}\".format(x))\n",
    "print(\"\\nOriganl Number:\",y)\n",
    "print(\"Formatted Number with sign:\"+\"{:+.2f}\".format(y))"
   ]
  },
  {
   "cell_type": "code",
   "execution_count": 13,
   "id": "3ed6f6e9",
   "metadata": {},
   "outputs": [
    {
     "name": "stdout",
     "output_type": "stream",
     "text": [
      "Original Number: 3.2342\n",
      "Formtted Number:3\n",
      "\n",
      "Origanl Number: -12.9999\n",
      "Formatted Number:-13\n"
     ]
    }
   ],
   "source": [
    "# program to print the following floating numbers with no decimal places.\n",
    "x=3.2342\n",
    "y=-12.9999\n",
    "print(\"Original Number:\",x)\n",
    "print(\"Formtted Number:\"+\"{:.0f}\".format(x))\n",
    "print(\"\\nOriganl Number:\",y)\n",
    "print(\"Formatted Number:\"+\"{:.0f}\".format(y))"
   ]
  },
  {
   "cell_type": "code",
   "execution_count": 17,
   "id": "a382f0c8",
   "metadata": {},
   "outputs": [
    {
     "name": "stdout",
     "output_type": "stream",
     "text": [
      "Origanl number: 3\n",
      "Formatted number(left padding, width 2):03\n",
      "\n",
      "Orignal number: 432\n",
      "Formatted number(left padding, width 6):000432\n"
     ]
    }
   ],
   "source": [
    "# program to print the following integers with zeros on the left of specified width.\n",
    "x=3\n",
    "y=432\n",
    "print(\"Origanl number:\",x)\n",
    "print(\"Formatted number(left padding, width 2):\"+\"{:0>2d}\".format(x))   #here d is for decimal\n",
    "print(\"\\nOrignal number:\",y)\n",
    "print(\"Formatted number(left padding, width 6):\"+\"{:0>6d}\".format(y))"
   ]
  },
  {
   "cell_type": "code",
   "execution_count": 20,
   "id": "bd2597ed",
   "metadata": {},
   "outputs": [
    {
     "name": "stdout",
     "output_type": "stream",
     "text": [
      "Origanl number: 3\n",
      "Formatted number(right padding, width 2):3*\n",
      "\n",
      "Orignal number: 432\n",
      "Formatted number(right padding, width 6):432***\n"
     ]
    }
   ],
   "source": [
    "# program to print the following integers with '*' on the right of specified width\n",
    "x=3\n",
    "y=432\n",
    "print(\"Origanl number:\",x)\n",
    "print(\"Formatted number(right padding, width 2):\"+\"{:*<2d}\".format(x))\n",
    "print(\"\\nOrignal number:\",y)\n",
    "print(\"Formatted number(right padding, width 6):\"+\"{:*<6d}\".format(y))"
   ]
  },
  {
   "cell_type": "code",
   "execution_count": 24,
   "id": "32720b25",
   "metadata": {},
   "outputs": [
    {
     "name": "stdout",
     "output_type": "stream",
     "text": [
      "Orignal Number: 30000\n",
      "Formatted Number with(comma sep):30,000\n",
      "\n",
      "Orignal Number: 300000000\n",
      "Formatted Number with(comma sep):300,000,000\n"
     ]
    }
   ],
   "source": [
    "# program to display a number with a comma separator.\n",
    "x=30000       #the comma will be given from ending 3 digits onwards\n",
    "y=300000000\n",
    "print(\"Orignal Number:\",x)\n",
    "print(\"Formatted Number with(comma sep):\"+\"{:,}\".format(x))\n",
    "print(\"\\nOrignal Number:\",y)\n",
    "print(\"Formatted Number with(comma sep):\"+\"{:,}\".format(y))"
   ]
  },
  {
   "cell_type": "code",
   "execution_count": 38,
   "id": "efdabd10",
   "metadata": {},
   "outputs": [
    {
     "name": "stdout",
     "output_type": "stream",
     "text": [
      "Original Number:  0.25\n",
      "Formatted Number with percentage: 25.00%\n",
      "\n",
      "Original Number:  -0.25\n",
      "Formatted Number with percentage: -25.00%\n",
      "\n",
      "Original Number:  22.032\n",
      "Formatted Number with percentage: 2203.200%\n"
     ]
    }
   ],
   "source": [
    "# program to format a number with a percentage\n",
    "x = 0.25\n",
    "y = -0.25\n",
    "z = 22.032\n",
    "print(\"Original Number: \",x)\n",
    "print(\"Formatted Number with percentage: \"+\"{:.2%}\".format(x))\n",
    "print(\"\\nOriginal Number: \",y)\n",
    "print(\"Formatted Number with percentage: \"+\"{:.2%}\".format(y))\n",
    "print(\"\\nOriginal Number: \",z)\n",
    "print(\"Formatted Number with percentage: \"+\"{:.3%}\".format(z))  #after decimal 3 numbers will be there"
   ]
  },
  {
   "cell_type": "code",
   "execution_count": 40,
   "id": "f874d76f",
   "metadata": {},
   "outputs": [
    {
     "name": "stdout",
     "output_type": "stream",
     "text": [
      "Enter string:durga soft durga software solution\n",
      "durga soft durga software solution\n",
      "\n",
      "Enter substring:durga\n",
      "2\n"
     ]
    }
   ],
   "source": [
    "# program to count occurrences of a substring in a string take both input form keyboard\n",
    "str1=input(\"Enter string:\")\n",
    "print(str1)\n",
    "print()\n",
    "str2=input(\"Enter substring:\")\n",
    "print(str1.count(str2))"
   ]
  },
  {
   "cell_type": "code",
   "execution_count": 41,
   "id": "fc7cc6dd",
   "metadata": {},
   "outputs": [
    {
     "name": "stdout",
     "output_type": "stream",
     "text": [
      "Enter string:durgasoftwaresolutions\n",
      "durgasoftwaresolutions\n",
      "\n",
      "Enter substring:s\n",
      "3\n"
     ]
    }
   ],
   "source": [
    "str1=input(\"Enter string:\")\n",
    "print(str1)\n",
    "print()\n",
    "str2=input(\"Enter substring:\")\n",
    "print(str1.count(str2))"
   ]
  },
  {
   "cell_type": "code",
   "execution_count": 47,
   "id": "44742e94",
   "metadata": {},
   "outputs": [
    {
     "name": "stdout",
     "output_type": "stream",
     "text": [
      "Enter stringthe quick brown fox\n",
      "the quick brown fox\n",
      "fox brown quick the\n"
     ]
    }
   ],
   "source": [
    "# program to reverse words in a string\n",
    "str1=input(\"Enter string\")\n",
    "print(str1)\n",
    "for line in str1.split('\\n'):\n",
    "    print(' '.join(line.split()[::-1]))"
   ]
  },
  {
   "cell_type": "code",
   "execution_count": null,
   "id": "b2730635",
   "metadata": {},
   "outputs": [],
   "source": []
  }
 ],
 "metadata": {
  "kernelspec": {
   "display_name": "Python 3 (ipykernel)",
   "language": "python",
   "name": "python3"
  },
  "language_info": {
   "codemirror_mode": {
    "name": "ipython",
    "version": 3
   },
   "file_extension": ".py",
   "mimetype": "text/x-python",
   "name": "python",
   "nbconvert_exporter": "python",
   "pygments_lexer": "ipython3",
   "version": "3.9.12"
  }
 },
 "nbformat": 4,
 "nbformat_minor": 5
}
