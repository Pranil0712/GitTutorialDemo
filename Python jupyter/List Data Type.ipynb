{
 "cells": [
  {
   "cell_type": "code",
   "execution_count": 10,
   "id": "5a243b3a",
   "metadata": {},
   "outputs": [
    {
     "name": "stdout",
     "output_type": "stream",
     "text": [
      "['Learning', 'Python', 'is,very,easy']\n"
     ]
    }
   ],
   "source": [
    "#split function------>\n",
    "s=\"Learning,Python,is,very,easy\"\n",
    "l=(s.split(\",\",2))  #first to comma got splited\n",
    "print(l)"
   ]
  },
  {
   "cell_type": "code",
   "execution_count": 11,
   "id": "e79feb2a",
   "metadata": {},
   "outputs": [
    {
     "name": "stdout",
     "output_type": "stream",
     "text": [
      "['Learning,Python,is', 'very', 'easy']\n"
     ]
    }
   ],
   "source": [
    "s=\"Learning,Python,is,very,easy\"\n",
    "l=(s.rsplit(\",\",2))  #end to comma got splited\n",
    "print(l)"
   ]
  },
  {
   "cell_type": "code",
   "execution_count": 18,
   "id": "31b91be5",
   "metadata": {},
   "outputs": [
    {
     "name": "stdout",
     "output_type": "stream",
     "text": [
      "10\n",
      "[10]\n",
      "[10, 20, [30, 40, 50]]\n",
      "40\n"
     ]
    }
   ],
   "source": [
    "#nested list access----->\n",
    "s=[10,20,[30,40,50]]   #list in list\n",
    "print(s[0])\n",
    "print(s[:1]) \n",
    "print(s[:3])\n",
    "print(s[2][1])"
   ]
  },
  {
   "cell_type": "code",
   "execution_count": 33,
   "id": "d85bff72",
   "metadata": {},
   "outputs": [
    {
     "name": "stdout",
     "output_type": "stream",
     "text": [
      "[10, 20, 30, 40, 50, 60, 70, 80, 90]\n",
      "[20, 40, 60]\n",
      "[30, 50, 70, 90]\n",
      "[70, 60, 50, 40, 30]\n",
      "[70, 50, 30]\n",
      "[70, 50]\n",
      "[50, 60, 70, 80, 90]\n"
     ]
    }
   ],
   "source": [
    "#using slice operator----->\n",
    "l=[10,20,30,40,50,60,70,80,90]\n",
    "print(l[::])\n",
    "print(l[1:7:2])\n",
    "print(l[2::2])\n",
    "print(l[6:1:-1])\n",
    "print(l[6:1:-2])\n",
    "print(l[6:2:-2])\n",
    "print(l[4:100])   #upto end"
   ]
  },
  {
   "cell_type": "code",
   "execution_count": 35,
   "id": "13cd6c20",
   "metadata": {},
   "outputs": [
    {
     "name": "stdout",
     "output_type": "stream",
     "text": [
      "0\n",
      "1\n",
      "2\n",
      "3\n",
      "4\n",
      "5\n",
      "6\n",
      "7\n"
     ]
    }
   ],
   "source": [
    "#traversing the elements of list:\n",
    "#using while loop\n",
    "n=[0,1,2,3,4,5,6,7]\n",
    "i=0\n",
    "while i<len(n):\n",
    "    print(n[i])\n",
    "    i+=1"
   ]
  },
  {
   "cell_type": "code",
   "execution_count": 36,
   "id": "819365f5",
   "metadata": {},
   "outputs": [
    {
     "name": "stdout",
     "output_type": "stream",
     "text": [
      "0\n",
      "1\n",
      "2\n",
      "3\n",
      "4\n",
      "5\n",
      "6\n",
      "7\n",
      "8\n"
     ]
    }
   ],
   "source": [
    "#using for loop\n",
    "n=[0,1,2,3,4,5,6,7,8]\n",
    "for x in n:\n",
    "    print(x)"
   ]
  },
  {
   "cell_type": "code",
   "execution_count": 37,
   "id": "64f4a1b3",
   "metadata": {},
   "outputs": [
    {
     "name": "stdout",
     "output_type": "stream",
     "text": [
      "0\n",
      "2\n",
      "4\n",
      "6\n",
      "8\n"
     ]
    }
   ],
   "source": [
    "#program to display even num\n",
    "n=[0,1,2,3,4,5,6,7,8,9]\n",
    "for x in n:\n",
    "    if x%2==0:\n",
    "        print(x)"
   ]
  },
  {
   "cell_type": "code",
   "execution_count": 39,
   "id": "f1d5483f",
   "metadata": {},
   "outputs": [
    {
     "name": "stdout",
     "output_type": "stream",
     "text": [
      "A is available at positive index: 0 and at negative index: -5\n",
      "B is available at positive index: 1 and at negative index: -4\n",
      "C is available at positive index: 2 and at negative index: -3\n",
      "D is available at positive index: 3 and at negative index: -2\n",
      "E is available at positive index: 4 and at negative index: -1\n"
     ]
    }
   ],
   "source": [
    "#to display elements index wise:\n",
    "l=[\"A\",\"B\",\"C\",\"D\",\"E\"]\n",
    "x=len(l)\n",
    "for i in range(x):\n",
    "    print(l[i],\"is available at positive index:\",i,\"and at negative index:\",i-x)"
   ]
  },
  {
   "cell_type": "code",
   "execution_count": 41,
   "id": "808e0498",
   "metadata": {},
   "outputs": [
    {
     "name": "stdout",
     "output_type": "stream",
     "text": [
      "1\n",
      "3\n"
     ]
    }
   ],
   "source": [
    "#count method----->\n",
    "n=[1,2,2,2,3,3,4]\n",
    "print(n.count(1))\n",
    "print(n.count(2))"
   ]
  },
  {
   "cell_type": "code",
   "execution_count": 45,
   "id": "69daf626",
   "metadata": {},
   "outputs": [
    {
     "name": "stdout",
     "output_type": "stream",
     "text": [
      "0\n",
      "1\n",
      "4\n"
     ]
    }
   ],
   "source": [
    "#index method--->  first occurence of element\n",
    "n=[1,2,2,2,3,3,4,4,5]\n",
    "print(n.index(1))\n",
    "print(n.index(2))\n",
    "print(n.index(3))"
   ]
  },
  {
   "cell_type": "code",
   "execution_count": 50,
   "id": "411f0f7c",
   "metadata": {},
   "outputs": [
    {
     "name": "stdout",
     "output_type": "stream",
     "text": [
      "['A', 'B']\n"
     ]
    }
   ],
   "source": [
    "#append function---->\n",
    "list=[]\n",
    "list.append(\"A\")\n",
    "list.append(\"B\")\n",
    "print(list)"
   ]
  },
  {
   "cell_type": "code",
   "execution_count": 52,
   "id": "610188cc",
   "metadata": {},
   "outputs": [
    {
     "name": "stdout",
     "output_type": "stream",
     "text": [
      "[10, 20, 30, 40, 50, 60, 70, 80, 90, 100]\n"
     ]
    }
   ],
   "source": [
    "#program to add elements to list upto 100 divisble by 10\n",
    "l=[]\n",
    "for x in range(1,101):\n",
    "    if x%10==0:\n",
    "        l.append(x)\n",
    "print(l)"
   ]
  },
  {
   "cell_type": "code",
   "execution_count": 55,
   "id": "f93c72da",
   "metadata": {},
   "outputs": [
    {
     "name": "stdout",
     "output_type": "stream",
     "text": [
      "[999, 1, 888, 2, 3, 4, 5, 777]\n"
     ]
    }
   ],
   "source": [
    "#insert function----> to add elements add specified pos.\n",
    "n=[1,2,3,4,5]\n",
    "n.insert(1,888)   #here first arg is position where to add and second arg what to add.\n",
    "n.insert(10,777)  #pos greater than max index so it will add to last.\n",
    "n.insert(-10,999) #pos is smaller than 0 then it will added to first.\n",
    "print(n)"
   ]
  },
  {
   "cell_type": "code",
   "execution_count": 5,
   "id": "c3fd3fcf",
   "metadata": {},
   "outputs": [
    {
     "name": "stdout",
     "output_type": "stream",
     "text": [
      "[10, 20, 30, 40, 50, 60, 10, 30]\n",
      "[50, 60, 10, 30]\n"
     ]
    }
   ],
   "source": [
    "#extend function----->\n",
    "l1=[10,20,30,40]\n",
    "l2=[50,60,10,30]\n",
    "l1.extend(l2)\n",
    "print(l1)\n",
    "print(l2)"
   ]
  },
  {
   "cell_type": "code",
   "execution_count": 7,
   "id": "bc020f9d",
   "metadata": {},
   "outputs": [
    {
     "name": "stdout",
     "output_type": "stream",
     "text": [
      "[10, 20, 30, 40, 'durga']\n",
      "['durga']\n"
     ]
    }
   ],
   "source": [
    "l1=[10,20,30,40]\n",
    "l2=[\"durga\"]\n",
    "l1.extend(l2)\n",
    "print(l1)\n",
    "print(l2)"
   ]
  },
  {
   "cell_type": "code",
   "execution_count": 9,
   "id": "ce415161",
   "metadata": {},
   "outputs": [
    {
     "name": "stdout",
     "output_type": "stream",
     "text": [
      "[10, 20, 30, 'd', 'u', 'r', 'g', 'a']\n"
     ]
    }
   ],
   "source": [
    "l1=[10,20,30]\n",
    "l1.extend(\"durga\")  #one by one element will be add\n",
    "print(l1)"
   ]
  },
  {
   "cell_type": "code",
   "execution_count": 10,
   "id": "72e6a1e8",
   "metadata": {},
   "outputs": [
    {
     "name": "stdout",
     "output_type": "stream",
     "text": [
      "[10, 20, 30, 'durga']\n"
     ]
    }
   ],
   "source": [
    "l1=[10,20,30]\n",
    "l1.append(\"durga\")\n",
    "print(l1)"
   ]
  },
  {
   "cell_type": "code",
   "execution_count": 57,
   "id": "cd89177e",
   "metadata": {},
   "outputs": [
    {
     "name": "stdout",
     "output_type": "stream",
     "text": [
      "[20, 10, 30]\n"
     ]
    }
   ],
   "source": [
    "#remove--->  if the item is mutiple time the first ocurence will be removed.\n",
    "n=[10,20,10,30]\n",
    "n.remove(10)\n",
    "print(n)"
   ]
  },
  {
   "cell_type": "code",
   "execution_count": 13,
   "id": "4ae88392",
   "metadata": {},
   "outputs": [
    {
     "name": "stdout",
     "output_type": "stream",
     "text": [
      "Enter the element to remove:20\n",
      "Element removed succesfully\n",
      "[10, 30, 40, 50, 60]\n"
     ]
    }
   ],
   "source": [
    "l=[10,20,30,40,50,60]\n",
    "x=int(input(\"Enter the element to remove:\"))\n",
    "if x in l:\n",
    "    l.remove(x)\n",
    "    print(\"Element removed succesfully\")\n",
    "    print(l)\n",
    "else:\n",
    "    print(\"Specified element is not availabe\")"
   ]
  },
  {
   "cell_type": "code",
   "execution_count": 60,
   "id": "09f0d899",
   "metadata": {},
   "outputs": [
    {
     "name": "stdout",
     "output_type": "stream",
     "text": [
      "40\n",
      "30\n",
      "[10, 20]\n"
     ]
    }
   ],
   "source": [
    "#pop function---> its remove last element of the list\n",
    "n=[10,20,30,40]\n",
    "print(n.pop())\n",
    "print(n.pop())\n",
    "print(n)"
   ]
  },
  {
   "cell_type": "code",
   "execution_count": 63,
   "id": "42b0a5e8",
   "metadata": {},
   "outputs": [
    {
     "name": "stdout",
     "output_type": "stream",
     "text": [
      "20\n",
      "[10, 10, 20, 30, 40]\n"
     ]
    }
   ],
   "source": [
    "#n.pop(index)----> to remove & return element present at specified index, Only first occurence is removed\n",
    "n=[10,20,10,20,30,40]\n",
    "print(n.pop(1))\n",
    "print(n)"
   ]
  },
  {
   "cell_type": "code",
   "execution_count": 69,
   "id": "24c8ca9a",
   "metadata": {},
   "outputs": [
    {
     "name": "stdout",
     "output_type": "stream",
     "text": [
      "[40, 30, 20, 10]\n",
      "None\n"
     ]
    }
   ],
   "source": [
    "#reverse---->to reverse order of elements of list.\n",
    "n=[10,20,30,40]\n",
    "n.reverse()\n",
    "print(n)\n",
    "print(n.reverse())   #we can't take in print arg it will return none."
   ]
  },
  {
   "cell_type": "code",
   "execution_count": 74,
   "id": "56994e82",
   "metadata": {},
   "outputs": [
    {
     "name": "stdout",
     "output_type": "stream",
     "text": [
      "[10, 20, 30, 40, 50]\n",
      "None\n"
     ]
    }
   ],
   "source": [
    "#sort---->\n",
    "#for numbers\n",
    "n=[50,20,10,40,30]\n",
    "n.sort()\n",
    "print(n)"
   ]
  },
  {
   "cell_type": "code",
   "execution_count": 73,
   "id": "a178a965",
   "metadata": {},
   "outputs": [
    {
     "name": "stdout",
     "output_type": "stream",
     "text": [
      "['A', 'B', 'C', 'D']\n"
     ]
    }
   ],
   "source": [
    "#for string\n",
    "n=[\"D\",\"B\",\"A\",\"C\"]\n",
    "n.sort()\n",
    "print(n)"
   ]
  },
  {
   "cell_type": "code",
   "execution_count": 77,
   "id": "380568ed",
   "metadata": {},
   "outputs": [
    {
     "name": "stdout",
     "output_type": "stream",
     "text": [
      "[40, 30, 20, 10]\n"
     ]
    }
   ],
   "source": [
    "#to sort in reverse---->\n",
    "n=[20,40,30,10,]\n",
    "n.sort(reverse=True)   #if condition is true O.P will descending order\n",
    "print(n)"
   ]
  },
  {
   "cell_type": "code",
   "execution_count": 78,
   "id": "443a43d2",
   "metadata": {},
   "outputs": [
    {
     "name": "stdout",
     "output_type": "stream",
     "text": [
      "[10, 777, 30, 40]\n"
     ]
    }
   ],
   "source": [
    "#aliasing---->\n",
    "x=[10,20,30,40]\n",
    "y=x\n",
    "y[1]=777   #to content will be change for both object a and y\n",
    "print(x)"
   ]
  },
  {
   "cell_type": "code",
   "execution_count": 80,
   "id": "3d6b629b",
   "metadata": {},
   "outputs": [
    {
     "name": "stdout",
     "output_type": "stream",
     "text": [
      "[10, 20, 30, 40]\n",
      "[10, 777, 30, 40]\n"
     ]
    }
   ],
   "source": [
    "#to overcome above problem we should do cloning---->\n",
    "#slice operator\n",
    "x=[10,20,30,40]\n",
    "y=x[:]  #here we can use x.copy() function also.\n",
    "y[1]=777   #this is change will be only in y object.\n",
    "print(x)\n",
    "print(y)"
   ]
  },
  {
   "cell_type": "code",
   "execution_count": 81,
   "id": "d210d901",
   "metadata": {},
   "outputs": [
    {
     "name": "stdout",
     "output_type": "stream",
     "text": [
      "[10, 20, 30, 40, 30, 50, 40, 60]\n"
     ]
    }
   ],
   "source": [
    "#using concatenation operator(+)\n",
    "a=[10,20,30,40]    #both arg should be list..\n",
    "b=[30,50,40,60]\n",
    "c=a+b\n",
    "print(c)"
   ]
  },
  {
   "cell_type": "code",
   "execution_count": 83,
   "id": "aa1136e3",
   "metadata": {},
   "outputs": [
    {
     "name": "stdout",
     "output_type": "stream",
     "text": [
      "[10, 20, 30, 10, 20, 30, 10, 20, 30]\n"
     ]
    }
   ],
   "source": [
    "#using (*) operator\n",
    "x=[10,20,30]\n",
    "y=x*3\n",
    "print(y)"
   ]
  },
  {
   "cell_type": "code",
   "execution_count": null,
   "id": "786a3ef6",
   "metadata": {},
   "outputs": [],
   "source": [
    "#comaring list object---->"
   ]
  },
  {
   "cell_type": "code",
   "execution_count": 12,
   "id": "34d4916a",
   "metadata": {},
   "outputs": [
    {
     "name": "stdout",
     "output_type": "stream",
     "text": [
      "True\n"
     ]
    }
   ],
   "source": [
    "x=[50,90,10]\n",
    "y=[50,90,100]\n",
    "print(x<=y)"
   ]
  },
  {
   "cell_type": "code",
   "execution_count": 19,
   "id": "bb42397f",
   "metadata": {},
   "outputs": [
    {
     "name": "stdout",
     "output_type": "stream",
     "text": [
      "True\n"
     ]
    }
   ],
   "source": [
    "x=[\"dog\",\"rat\"]\n",
    "y=[\"dOg\",\"rat\"]\n",
    "print(x>y)"
   ]
  },
  {
   "cell_type": "code",
   "execution_count": 86,
   "id": "566a26a6",
   "metadata": {},
   "outputs": [
    {
     "name": "stdout",
     "output_type": "stream",
     "text": [
      "[10, 20, 30, 40]\n",
      "[]\n"
     ]
    }
   ],
   "source": [
    "#clear() function---->\n",
    "n=[10,20,30,40]\n",
    "print(n)\n",
    "n.clear()\n",
    "print(n)"
   ]
  },
  {
   "cell_type": "code",
   "execution_count": 88,
   "id": "fb81f50d",
   "metadata": {},
   "outputs": [
    {
     "name": "stdout",
     "output_type": "stream",
     "text": [
      "[10, 20, 30]\n",
      "[40, 50, 60]\n",
      "[70, 80, 90]\n"
     ]
    }
   ],
   "source": [
    "#nested list as matrix---->\n",
    "n=[[10,20,30],[40,50,60],[70,80,90]]\n",
    "for r in n:\n",
    "    print(r)"
   ]
  },
  {
   "cell_type": "code",
   "execution_count": 91,
   "id": "0e8c4720",
   "metadata": {},
   "outputs": [
    {
     "name": "stdout",
     "output_type": "stream",
     "text": [
      "10 20 30 \n",
      "40 50 60 \n",
      "70 80 90 \n"
     ]
    }
   ],
   "source": [
    "n=[[10,20,30],[40,50,60],[70,80,90]]\n",
    "for i in range(len(n)):\n",
    "    for j in range(len(n[i])):\n",
    "        print(n[i][j],end=' ')\n",
    "    print()"
   ]
  },
  {
   "cell_type": "code",
   "execution_count": 99,
   "id": "a30aaba5",
   "metadata": {},
   "outputs": [
    {
     "name": "stdout",
     "output_type": "stream",
     "text": [
      "[1, 4, 9, 16, 25, 36, 49, 64, 81, 100]\n",
      "[4, 16, 36, 64, 100]\n"
     ]
    }
   ],
   "source": [
    "#list comprehension---->\n",
    "#syntax---> list=[expression for item in list if condition]\n",
    "s=[x*x for x in range(1,11)]   #finding square\n",
    "print(s)\n",
    "m=[x for x in s if x%2==0]   #(s) value is in above expression \n",
    "print(m)"
   ]
  },
  {
   "cell_type": "code",
   "execution_count": 97,
   "id": "4917bac1",
   "metadata": {},
   "outputs": [
    {
     "name": "stdout",
     "output_type": "stream",
     "text": [
      "[2, 4, 8, 16, 32]\n"
     ]
    }
   ],
   "source": [
    "v=[2**x for x in range(1,6)]\n",
    "print(v)"
   ]
  },
  {
   "cell_type": "code",
   "execution_count": 102,
   "id": "1be6c9e7",
   "metadata": {},
   "outputs": [
    {
     "name": "stdout",
     "output_type": "stream",
     "text": [
      "['Bal', 'Nag', 'Cha', 'All']\n"
     ]
    }
   ],
   "source": [
    "words=[\"Balaiah\",\"Naga\",\"Chait\",\"Allu\"]\n",
    "l=[w[0:3] for w in words]\n",
    "print(l)"
   ]
  },
  {
   "cell_type": "code",
   "execution_count": 103,
   "id": "6b512b2e",
   "metadata": {},
   "outputs": [
    {
     "name": "stdout",
     "output_type": "stream",
     "text": [
      "[10, 20]\n"
     ]
    }
   ],
   "source": [
    "num1=[10,20,30,40]\n",
    "num2=[30,40,50,60]\n",
    "num3=[i for i in num1 if i not in num2]\n",
    "print(num3)"
   ]
  },
  {
   "cell_type": "code",
   "execution_count": 104,
   "id": "9d83fef1",
   "metadata": {},
   "outputs": [
    {
     "name": "stdout",
     "output_type": "stream",
     "text": [
      "['the', 'quick', 'brown', 'for', 'jump', 'over', 'the', 'lazy', 'dog']\n",
      "[['THE', 3], ['QUICK', 5], ['BROWN', 5], ['FOR', 3], ['JUMP', 4], ['OVER', 4], ['THE', 3], ['LAZY', 4], ['DOG', 3]]\n"
     ]
    }
   ],
   "source": [
    "words=\"the quick brown for jump over the lazy dog\".split()\n",
    "print(words)\n",
    "l=[[w.upper(),len(w)] for w in words]\n",
    "print(l)"
   ]
  },
  {
   "cell_type": "code",
   "execution_count": 106,
   "id": "dacc0969",
   "metadata": {},
   "outputs": [
    {
     "name": "stdout",
     "output_type": "stream",
     "text": [
      "Enter the words to search for vowels:Pranil Bhupendra Patel\n",
      "['a', 'i', 'u', 'e']\n",
      "The numbers of different vowels present in Pranil Bhupendra Patel is 4\n"
     ]
    }
   ],
   "source": [
    "vowels=['a','e','i','o','u']\n",
    "words=input(\"Enter the words to search for vowels:\")\n",
    "found=[]\n",
    "for letter in words:\n",
    "    if letter in vowels:\n",
    "        if letter not in found:\n",
    "            found.append(letter)\n",
    "print(found)\n",
    "print(\"The numbers of different vowels present in\",words,\"is\",len(found))"
   ]
  },
  {
   "cell_type": "code",
   "execution_count": 1,
   "id": "3c0c0f3f",
   "metadata": {},
   "outputs": [
    {
     "name": "stdout",
     "output_type": "stream",
     "text": [
      "-5\n"
     ]
    }
   ],
   "source": [
    "def sum_list(items):\n",
    "    sum_numbers=0\n",
    "    for x in items:\n",
    "        sum_numbers+=x\n",
    "    return sum_numbers\n",
    "print(sum_list([1,2,-8]))"
   ]
  },
  {
   "cell_type": "code",
   "execution_count": 7,
   "id": "e3e1ad5f",
   "metadata": {},
   "outputs": [
    {
     "name": "stdout",
     "output_type": "stream",
     "text": [
      "Enter some list of numbers:[1,2,-8]\n",
      "-5\n"
     ]
    }
   ],
   "source": [
    "#sum of numbers\n",
    "l=eval(input(\"Enter some list of numbers:\"))\n",
    "sum_numbers=0\n",
    "for x in l:\n",
    "    sum_numbers+=x\n",
    "print(sum_numbers)"
   ]
  },
  {
   "cell_type": "code",
   "execution_count": 9,
   "id": "d0598e57",
   "metadata": {},
   "outputs": [
    {
     "name": "stdout",
     "output_type": "stream",
     "text": [
      "Enter some list of numbers:[1,2,-8]\n",
      "-16\n"
     ]
    }
   ],
   "source": [
    "#mutiply all items in list\n",
    "l=eval(input(\"Enter some list of numbers:\"))\n",
    "total=1\n",
    "for x in l:\n",
    "    total*=x\n",
    "print(total)"
   ]
  },
  {
   "cell_type": "code",
   "execution_count": 15,
   "id": "bade2413",
   "metadata": {},
   "outputs": [
    {
     "name": "stdout",
     "output_type": "stream",
     "text": [
      "2\n"
     ]
    }
   ],
   "source": [
    "def max_in_list(list):\n",
    "    max=list[0]\n",
    "    for x in list:\n",
    "        if x > max:\n",
    "            max = x\n",
    "    return max\n",
    "print(max_in_list([1,2,-8,0]))"
   ]
  },
  {
   "cell_type": "code",
   "execution_count": 17,
   "id": "dbfb25ab",
   "metadata": {},
   "outputs": [
    {
     "name": "stdout",
     "output_type": "stream",
     "text": [
      "-8\n"
     ]
    }
   ],
   "source": [
    "def min_in_list(list):\n",
    "    min=list[0]\n",
    "    for x in list:\n",
    "        if x < min:\n",
    "            min=x\n",
    "    return min\n",
    "print(min_in_list([1,2,-8,0]))"
   ]
  },
  {
   "cell_type": "code",
   "execution_count": 18,
   "id": "058ddafc",
   "metadata": {},
   "outputs": [
    {
     "name": "stdout",
     "output_type": "stream",
     "text": [
      "2\n"
     ]
    }
   ],
   "source": [
    "#Python program to count the number of strings where the string length is 2 or more and the first and last character are same from a given list of strings.\n",
    "def match_words(words):\n",
    "    ctr=0\n",
    "    for x in words:\n",
    "        if len(x)>1 and x[0]==x[-1]:\n",
    "            ctr+=1\n",
    "    return ctr\n",
    "print(match_words(['abc','xyz','aba','1221']))"
   ]
  },
  {
   "cell_type": "code",
   "execution_count": 19,
   "id": "458ac2be",
   "metadata": {},
   "outputs": [
    {
     "name": "stdout",
     "output_type": "stream",
     "text": [
      "[(2, 1), (1, 2), (2, 3), (4, 4), (2, 5)]\n"
     ]
    }
   ],
   "source": [
    "#Python program to get a list, sorted in increasing order by the last element in each tuple from a given list of non-empty tuples.\n",
    "def last(n): return n[-1]\n",
    "\n",
    "def sort_list_last(tuples):\n",
    "    return sorted(tuples, key=last)\n",
    "\n",
    "print(sort_list_last([(2, 5), (1, 2), (4, 4), (2, 3), (2, 1)]))"
   ]
  },
  {
   "cell_type": "code",
   "execution_count": 31,
   "id": "0ed422c3",
   "metadata": {},
   "outputs": [
    {
     "name": "stdout",
     "output_type": "stream",
     "text": [
      "Enter list:[10,20,30,20,10,50,60,40,80,50,40]\n",
      "[10, 20, 30, 50, 60, 40, 80]\n"
     ]
    }
   ],
   "source": [
    "a=eval(input(\"Enter list:\"))\n",
    "dupitems=[]\n",
    "for x in a:\n",
    "    if x not in dupitems:\n",
    "        dupitems.append(x)\n",
    "print(dupitems)"
   ]
  },
  {
   "cell_type": "code",
   "execution_count": 4,
   "id": "67d4b485",
   "metadata": {},
   "outputs": [
    {
     "name": "stdout",
     "output_type": "stream",
     "text": [
      "List is empty\n"
     ]
    }
   ],
   "source": [
    "#program to check list is empty or not\n",
    "l=[]\n",
    "if not l:\n",
    "    print(\"List is empty\")"
   ]
  },
  {
   "cell_type": "code",
   "execution_count": 34,
   "id": "2599e5d7",
   "metadata": {},
   "outputs": [
    {
     "name": "stdout",
     "output_type": "stream",
     "text": [
      "Enter list:[10,20,30,50,60,40,70,80,]\n",
      "[10, 20, 30, 50, 60, 40, 70, 80]\n",
      "[10, 20, 30, 40, 50, 60, 70, 80]\n"
     ]
    }
   ],
   "source": [
    "#sorting list\n",
    "l1=eval(input(\"Enter list:\"))\n",
    "l2=list(l1)\n",
    "print(l1)\n",
    "l2.sort()\n",
    "print(l2)"
   ]
  },
  {
   "cell_type": "code",
   "execution_count": 35,
   "id": "82218c95",
   "metadata": {},
   "outputs": [
    {
     "name": "stdout",
     "output_type": "stream",
     "text": [
      "Enter list:[10,20,30,40,50,60]\n",
      "[10, 20, 30, 40, 50, 60]\n",
      "[10, 20, 30, 40, 50, 60]\n"
     ]
    }
   ],
   "source": [
    "#cloning list\n",
    "l1=eval(input(\"Enter list:\"))\n",
    "l2=list(l1)\n",
    "print(l1)\n",
    "print(l2)"
   ]
  },
  {
   "cell_type": "code",
   "execution_count": 39,
   "id": "e8befffc",
   "metadata": {},
   "outputs": [
    {
     "name": "stdout",
     "output_type": "stream",
     "text": [
      "['quick', 'brown', 'jumps', 'over', 'lazy']\n"
     ]
    }
   ],
   "source": [
    "#program to find the list of words that are longer than n from a given list of words.\n",
    "def long_word(n,str):\n",
    "    word_len=[]\n",
    "    txt=str.split(\" \")\n",
    "    for x in txt:\n",
    "        if len(x)>n:\n",
    "            word_len.append(x)\n",
    "    return word_len\n",
    "print(long_word(3,\"The quick brown fox jumps over the lazy dog\"))   "
   ]
  },
  {
   "cell_type": "code",
   "execution_count": 12,
   "id": "556a8309",
   "metadata": {},
   "outputs": [
    {
     "name": "stdout",
     "output_type": "stream",
     "text": [
      "True\n",
      "None\n"
     ]
    }
   ],
   "source": [
    "#Python function that takes two lists and returns True if they have at least one common member\n",
    "def common_data(list1,list2):\n",
    "    result=False\n",
    "    for x in list1:\n",
    "        for y in list2:\n",
    "            if x==y:\n",
    "                result=True\n",
    "                return result\n",
    "print(common_data([1,2,3,4,5],[5,6,7,8,9]))\n",
    "print(common_data([1,2,3,4,5],[6,7,8,9]))"
   ]
  },
  {
   "cell_type": "code",
   "execution_count": 15,
   "id": "4fd1d3dc",
   "metadata": {},
   "outputs": [
    {
     "name": "stdout",
     "output_type": "stream",
     "text": [
      "['Green', 'White', 'Black']\n"
     ]
    }
   ],
   "source": [
    "#Enumerate()--->returns an object that contains a counter as a key for each value within an object\n",
    "#Syntax:-- enumerate(iterable, start=0)\n",
    "\n",
    "color=['Red','Green','White','Black','Pink','Yellow']\n",
    "color=[x for (i,x) in enumerate(color)if i not in (0,4,5)]\n",
    "print(color)"
   ]
  },
  {
   "cell_type": "code",
   "execution_count": 21,
   "id": "1afa2cf5",
   "metadata": {},
   "outputs": [
    {
     "name": "stdout",
     "output_type": "stream",
     "text": [
      "Enter the list:[7,8,120,25,44,20,27]\n",
      "[7, 25, 27]\n"
     ]
    }
   ],
   "source": [
    "#Python program to print the numbers of a specified list after removing even numbers from it\n",
    "num=eval(input(\"Enter the list:\"))\n",
    "num=[x for x in num if x%2!=0]\n",
    "print(num)"
   ]
  },
  {
   "cell_type": "code",
   "execution_count": 1,
   "id": "e40f2837",
   "metadata": {},
   "outputs": [
    {
     "name": "stdout",
     "output_type": "stream",
     "text": [
      "['White', 'Black', 'Pink', 'Red', 'Green', 'Yellow']\n"
     ]
    }
   ],
   "source": [
    "from random import shuffle\n",
    "color=['Red','Green','White','Black','Pink','Yellow']\n",
    "shuffle(color)\n",
    "print(color)"
   ]
  },
  {
   "cell_type": "code",
   "execution_count": null,
   "id": "a10e575b",
   "metadata": {},
   "outputs": [],
   "source": []
  }
 ],
 "metadata": {
  "kernelspec": {
   "display_name": "Python 3 (ipykernel)",
   "language": "python",
   "name": "python3"
  },
  "language_info": {
   "codemirror_mode": {
    "name": "ipython",
    "version": 3
   },
   "file_extension": ".py",
   "mimetype": "text/x-python",
   "name": "python",
   "nbconvert_exporter": "python",
   "pygments_lexer": "ipython3",
   "version": "3.9.12"
  }
 },
 "nbformat": 4,
 "nbformat_minor": 5
}
