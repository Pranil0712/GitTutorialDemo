{
 "cells": [
  {
   "cell_type": "code",
   "execution_count": 3,
   "id": "23b70350",
   "metadata": {},
   "outputs": [
    {
     "name": "stdout",
     "output_type": "stream",
     "text": [
      "[(101, 'Ajay', 30000), (102, 'Blake', 40000), (103, 'Miller', 50000), (104, 'Rahul', 60000)] <class 'list'>\n"
     ]
    }
   ],
   "source": [
    "#creating a list from a tuple\n",
    "emps=((101,\"Ajay\",30000),(102,\"Blake\",40000),(103,\"Miller\",50000),(104,\"Rahul\",60000))\n",
    "y=[p for p in emps]\n",
    "print(y,type(y))"
   ]
  },
  {
   "cell_type": "code",
   "execution_count": 4,
   "id": "b1e184ad",
   "metadata": {},
   "outputs": [
    {
     "name": "stdout",
     "output_type": "stream",
     "text": [
      "{50, 20, 40, 10, 30} <class 'list'>\n"
     ]
    }
   ],
   "source": [
    "#creating a list from set\n",
    "x={10,20,30,40,50}\n",
    "y=[p for p in x]\n",
    "print(x,type(y))"
   ]
  },
  {
   "cell_type": "code",
   "execution_count": 8,
   "id": "93d43453",
   "metadata": {},
   "outputs": [
    {
     "name": "stdout",
     "output_type": "stream",
     "text": [
      "<generator object <genexpr> at 0x0000023F7745D580> <class 'generator'>\n"
     ]
    }
   ],
   "source": [
    "#creating a tuple from range function\n",
    "x=range(10)\n",
    "y=(p for p in x)\n",
    "print(y,type(y))"
   ]
  },
  {
   "cell_type": "code",
   "execution_count": 4,
   "id": "ca312dd2",
   "metadata": {},
   "outputs": [
    {
     "name": "stdout",
     "output_type": "stream",
     "text": [
      "['Good', 'Morning', 'Hyderabad'] <class 'list'>\n"
     ]
    }
   ],
   "source": [
    "#creating a list from string\n",
    "x=\"Good Morning Hyderabad\"\n",
    "y=x.split(\" \")\n",
    "print(y,type(y))"
   ]
  },
  {
   "cell_type": "code",
   "execution_count": 3,
   "id": "2c50b88d",
   "metadata": {},
   "outputs": [
    {
     "name": "stdout",
     "output_type": "stream",
     "text": [
      "['Hello', 'World'] <class 'list'>\n"
     ]
    }
   ],
   "source": [
    "y=[p for p in \"Hello World\".split(\" \")]\n",
    "print(y,type(y))"
   ]
  },
  {
   "cell_type": "code",
   "execution_count": 5,
   "id": "9aa1169c",
   "metadata": {},
   "outputs": [
    {
     "name": "stdout",
     "output_type": "stream",
     "text": [
      "['ajay', 'rohith', 'james', 'blake', 'miller', 'amar'] <class 'list'>\n"
     ]
    }
   ],
   "source": [
    "#creating a list fom list\n",
    "emps=[\"ajay\",\"rohith\",\"james\",\"blake\",\"miller\",\"amar\"]\n",
    "y=[p for p in emps]\n",
    "print(y,type(y))"
   ]
  },
  {
   "cell_type": "code",
   "execution_count": 6,
   "id": "508449e0",
   "metadata": {},
   "outputs": [
    {
     "name": "stdout",
     "output_type": "stream",
     "text": [
      "[(101, 'Ajay', 30000), (102, 'Blake', 40000), (103, 'Miller', 50000), (104, 'Rahul', 60000)] <class 'list'>\n"
     ]
    }
   ],
   "source": [
    "#creating a list from tuple\n",
    "emps=((101,\"Ajay\",30000),(102,\"Blake\",40000),(103,\"Miller\",50000),(104,\"Rahul\",60000))\n",
    "y=[p for p in emps]\n",
    "print(y,type(y))"
   ]
  },
  {
   "cell_type": "code",
   "execution_count": 8,
   "id": "94f10f2c",
   "metadata": {},
   "outputs": [
    {
     "name": "stdout",
     "output_type": "stream",
     "text": [
      "[50, 20, 40, 10, 30] <class 'list'>\n"
     ]
    }
   ],
   "source": [
    "#creating a list from set\n",
    "x={10,20,30,40,50}\n",
    "y=[p for p in x]\n",
    "print(y,type(y))"
   ]
  },
  {
   "cell_type": "code",
   "execution_count": 9,
   "id": "3c922e49",
   "metadata": {},
   "outputs": [
    {
     "name": "stdout",
     "output_type": "stream",
     "text": [
      "<generator object <genexpr> at 0x00000272709EDDD0> <class 'generator'>\n"
     ]
    }
   ],
   "source": [
    "#creating a tuple from a range() function\n",
    "x=range(10)\n",
    "y=(p for p in x)\n",
    "print(y,type(y))"
   ]
  },
  {
   "cell_type": "code",
   "execution_count": null,
   "id": "28a3c60f",
   "metadata": {},
   "outputs": [],
   "source": [
    "#Set comprehension:"
   ]
  },
  {
   "cell_type": "code",
   "execution_count": 11,
   "id": "15e85458",
   "metadata": {},
   "outputs": [
    {
     "name": "stdout",
     "output_type": "stream",
     "text": [
      "{0, 1, 2, 3, 4, 5, 6, 7, 8, 9} <class 'set'>\n"
     ]
    }
   ],
   "source": [
    "#creating set from range() function\n",
    "x=range(10)\n",
    "y={p for p in x}\n",
    "print(y,type(y))"
   ]
  },
  {
   "cell_type": "code",
   "execution_count": 15,
   "id": "c9b79942",
   "metadata": {},
   "outputs": [
    {
     "name": "stdout",
     "output_type": "stream",
     "text": [
      "{'Morning', 'Hydreabad', 'Good'} <class 'set'>\n"
     ]
    }
   ],
   "source": [
    "#creating a set from a string\n",
    "x=\"Good Morning Hydreabad\"\n",
    "y={p for p in x.split(\" \")}\n",
    "print(y,type(y))"
   ]
  },
  {
   "cell_type": "code",
   "execution_count": 20,
   "id": "324abb91",
   "metadata": {},
   "outputs": [
    {
     "name": "stdout",
     "output_type": "stream",
     "text": [
      "{40, 10, 50, 20, 30} <class 'set'>\n"
     ]
    }
   ],
   "source": [
    "#creating a set from a list\n",
    "x=[10,20,30,40,50]\n",
    "y={p for p in x}\n",
    "print(y,type(y))"
   ]
  },
  {
   "cell_type": "code",
   "execution_count": 22,
   "id": "724ad905",
   "metadata": {},
   "outputs": [
    {
     "name": "stdout",
     "output_type": "stream",
     "text": [
      "{40, 10, 50, 20, 30} <class 'set'>\n"
     ]
    }
   ],
   "source": [
    "#creating a set from a tuple\n",
    "x=(10,20,30,40,50)\n",
    "y={p for p in x}\n",
    "print(y,type(y))"
   ]
  },
  {
   "cell_type": "code",
   "execution_count": 23,
   "id": "266ef4a6",
   "metadata": {},
   "outputs": [
    {
     "name": "stdout",
     "output_type": "stream",
     "text": [
      "{40, 10, 50, 20, 30} <class 'set'>\n"
     ]
    }
   ],
   "source": [
    "#creating a set from a set\n",
    "x={10,20,30,40,50}\n",
    "y={p for p in x}\n",
    "print(y,type(y))"
   ]
  },
  {
   "cell_type": "code",
   "execution_count": null,
   "id": "2c132da8",
   "metadata": {},
   "outputs": [],
   "source": [
    "#dicitionary comprehension:"
   ]
  },
  {
   "cell_type": "code",
   "execution_count": 26,
   "id": "2254013c",
   "metadata": {},
   "outputs": [
    {
     "name": "stdout",
     "output_type": "stream",
     "text": [
      "{1: 1, 2: 4, 3: 9, 4: 16, 5: 25, 6: 36, 7: 49, 8: 64, 9: 81} <class 'dict'>\n"
     ]
    }
   ],
   "source": [
    "#create a dict from range function\n",
    "x=range(1,10)\n",
    "y={p:p**2 for p in x}\n",
    "print(y,type(y))"
   ]
  },
  {
   "cell_type": "code",
   "execution_count": null,
   "id": "caee7143",
   "metadata": {},
   "outputs": [],
   "source": []
  }
 ],
 "metadata": {
  "kernelspec": {
   "display_name": "Python 3 (ipykernel)",
   "language": "python",
   "name": "python3"
  },
  "language_info": {
   "codemirror_mode": {
    "name": "ipython",
    "version": 3
   },
   "file_extension": ".py",
   "mimetype": "text/x-python",
   "name": "python",
   "nbconvert_exporter": "python",
   "pygments_lexer": "ipython3",
   "version": "3.9.12"
  }
 },
 "nbformat": 4,
 "nbformat_minor": 5
}
