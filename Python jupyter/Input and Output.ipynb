{
 "cells": [
  {
   "cell_type": "code",
   "execution_count": 1,
   "id": "24981928",
   "metadata": {},
   "outputs": [
    {
     "name": "stdout",
     "output_type": "stream",
     "text": [
      "Enter some number:20\n",
      "<class 'str'>\n"
     ]
    }
   ],
   "source": [
    "x=input(\"Enter some number:\")\n",
    "print(type(x))"
   ]
  },
  {
   "cell_type": "code",
   "execution_count": 4,
   "id": "d20d1785",
   "metadata": {},
   "outputs": [
    {
     "name": "stdout",
     "output_type": "stream",
     "text": [
      "Enter first number:20\n",
      "Enter second number:40\n",
      "The Sum: 60\n"
     ]
    }
   ],
   "source": [
    "x=int(input(\"Enter first number:\"))\n",
    "y=int(input(\"Enter second number:\"))\n",
    "print(\"The Sum:\",x+y)"
   ]
  },
  {
   "cell_type": "code",
   "execution_count": 5,
   "id": "9c98c2ab",
   "metadata": {},
   "outputs": [
    {
     "name": "stdout",
     "output_type": "stream",
     "text": [
      "Enter first number:30\n",
      "Enter second number:69\n",
      "The sum: 99\n"
     ]
    }
   ],
   "source": [
    "#to read vlaues from keyboard in a single line\n",
    "print(\"The sum:\",int(input(\"Enter first number:\"))+int(input(\"Enter second number:\")))"
   ]
  },
  {
   "cell_type": "code",
   "execution_count": 8,
   "id": "3aa77d27",
   "metadata": {},
   "outputs": [
    {
     "name": "stdout",
     "output_type": "stream",
     "text": [
      "Enter 2 numbers:30 40\n",
      "The product: 1200\n"
     ]
    }
   ],
   "source": [
    "#to read multiples vlaues from keyboard in a single line\n",
    "a,b=[int(x) for x in input(\"Enter 2 numbers:\").split()]\n",
    "print(\"The product:\",a*b)"
   ]
  },
  {
   "cell_type": "code",
   "execution_count": 9,
   "id": "9f8945a9",
   "metadata": {},
   "outputs": [
    {
     "name": "stdout",
     "output_type": "stream",
     "text": [
      "Enter 2 numbers:30,40\n",
      "The product: 1200\n"
     ]
    }
   ],
   "source": [
    "a,b=[int(x) for x in input(\"Enter 2 numbers:\").split(\",\")]\n",
    "print(\"The product:\",a*b)"
   ]
  },
  {
   "cell_type": "code",
   "execution_count": 10,
   "id": "c8a188c1",
   "metadata": {},
   "outputs": [
    {
     "name": "stdout",
     "output_type": "stream",
     "text": [
      "60\n"
     ]
    }
   ],
   "source": [
    "#eval()\n",
    "x=eval(\"10+20+30\")\n",
    "print(x)"
   ]
  },
  {
   "cell_type": "code",
   "execution_count": 11,
   "id": "9d0b25a2",
   "metadata": {},
   "outputs": [
    {
     "name": "stdout",
     "output_type": "stream",
     "text": [
      "Enter some expression:10+20*50-5\n",
      "The result: 1005\n"
     ]
    }
   ],
   "source": [
    "ex=input(\"Enter some expression:\")\n",
    "result=eval(ex)\n",
    "print(\"The result:\",result)"
   ]
  },
  {
   "cell_type": "code",
   "execution_count": 17,
   "id": "3d9c06fa",
   "metadata": {},
   "outputs": [
    {
     "name": "stdout",
     "output_type": "stream",
     "text": [
      "Enter some data:20\n",
      "<class 'int'>\n"
     ]
    }
   ],
   "source": [
    "x=eval(input(\"Enter some data:\"))\n",
    "print(type(x))"
   ]
  },
  {
   "cell_type": "code",
   "execution_count": 16,
   "id": "35d61125",
   "metadata": {},
   "outputs": [
    {
     "name": "stdout",
     "output_type": "stream",
     "text": [
      "Enter some data:30.536\n",
      "<class 'float'>\n"
     ]
    }
   ],
   "source": [
    "#any type of data we provide it will consider that type only\n",
    "x=eval(input(\"Enter some data:\"))\n",
    "print(type(x))"
   ]
  },
  {
   "cell_type": "code",
   "execution_count": 1,
   "id": "6b518c93",
   "metadata": {},
   "outputs": [
    {
     "name": "stdout",
     "output_type": "stream",
     "text": [
      "<class 'list'>\n"
     ]
    }
   ],
   "source": [
    "from sys import argv\n",
    "print(type(argv))"
   ]
  },
  {
   "cell_type": "code",
   "execution_count": 1,
   "id": "7fdbdf4d",
   "metadata": {},
   "outputs": [
    {
     "name": "stdout",
     "output_type": "stream",
     "text": [
      "Enter Employee No:100\n",
      "Enter Employee Name:Durga\n",
      "Enter Employee Salary:20000\n",
      "Enter Employee Address:Mumbai\n",
      "Employee Married ?[True|False]:False\n",
      "Please Confirm Information\n",
      "Employee No : 100\n",
      "Employee Name : Durga\n",
      "Employee Salary : 20000.0\n",
      "Employee Address : Mumbai\n",
      "Employee Married ? : True\n"
     ]
    }
   ],
   "source": [
    "eno=int(input(\"Enter Employee No:\")) \n",
    "ename=input(\"Enter Employee Name:\") \n",
    "esal=float(input(\"Enter Employee Salary:\")) \n",
    "eaddr=input(\"Enter Employee Address:\") \n",
    "married=bool(input(\"Employee Married ?[True|False]:\")) \n",
    "print(\"Please Confirm Information\") \n",
    "print(\"Employee No :\",eno) \n",
    "print(\"Employee Name :\",ename) \n",
    "print(\"Employee Salary :\",esal) \n",
    "print(\"Employee Address :\",eaddr) \n",
    "print(\"Employee Married ? :\",married)"
   ]
  },
  {
   "cell_type": "code",
   "execution_count": 7,
   "id": "2dd03ed6",
   "metadata": {},
   "outputs": [
    {
     "name": "stdout",
     "output_type": "stream",
     "text": [
      "Enter 2 numbers:20,40\n",
      "Product is: 800\n"
     ]
    }
   ],
   "source": [
    "#to read multiple values form keyboard in a single line\n",
    "a,b=(eval(x)for x in input(\"Enter 2 numbers:\").split(\",\"))\n",
    "print(\"Product is:\",a*b)"
   ]
  },
  {
   "cell_type": "code",
   "execution_count": 6,
   "id": "cdf8e7d7",
   "metadata": {},
   "outputs": [
    {
     "name": "stdout",
     "output_type": "stream",
     "text": [
      "Enter 3 numbers:20.5,30.3,55.5\n",
      "The Sum is: 106.3\n"
     ]
    }
   ],
   "source": [
    "#program to read 3 float numbers from the keyboard with , seperator and print their sum\n",
    "a,b,c=(float(x)for x in input(\"Enter 3 numbers:\").split(\",\"))\n",
    "print(\"The Sum is:\",a+b+c)"
   ]
  },
  {
   "cell_type": "code",
   "execution_count": 8,
   "id": "c0c9575a",
   "metadata": {},
   "outputs": [
    {
     "name": "stdout",
     "output_type": "stream",
     "text": [
      "The number of command line arguments: 3\n",
      "The list of command line argumnets: ['D:\\\\ProgramData\\\\Anaconda3\\\\lib\\\\site-packages\\\\ipykernel_launcher.py', '-f', 'C:\\\\Users\\\\91952\\\\AppData\\\\Roaming\\\\jupyter\\\\runtime\\\\kernel-630d94cd-6e43-47f2-a331-4c84c510f057.json']\n",
      "Command line arguments one by one:\n",
      "D:\\ProgramData\\Anaconda3\\lib\\site-packages\\ipykernel_launcher.py\n",
      "-f\n",
      "C:\\Users\\91952\\AppData\\Roaming\\jupyter\\runtime\\kernel-630d94cd-6e43-47f2-a331-4c84c510f057.json\n"
     ]
    }
   ],
   "source": [
    "#a Program to display Command Line Arguments\n",
    "from sys import argv\n",
    "print(\"The number of command line arguments:\",len(argv))\n",
    "print(\"The list of command line argumnets:\",argv)\n",
    "print(\"Command line arguments one by one:\")\n",
    "for x in argv:\n",
    "    print(x)"
   ]
  },
  {
   "cell_type": "code",
   "execution_count": 12,
   "id": "34de4ebe",
   "metadata": {},
   "outputs": [
    {
     "name": "stdout",
     "output_type": "stream",
     "text": [
      "Hello \n",
      " World\n"
     ]
    }
   ],
   "source": [
    "#output statements\n",
    "print(\"Hello \\n World\")"
   ]
  },
  {
   "cell_type": "code",
   "execution_count": 13,
   "id": "2afad1c0",
   "metadata": {},
   "outputs": [
    {
     "name": "stdout",
     "output_type": "stream",
     "text": [
      "Hello \t World\n"
     ]
    }
   ],
   "source": [
    "print(\"Hello \\t World\")"
   ]
  },
  {
   "cell_type": "code",
   "execution_count": 19,
   "id": "f9d45170",
   "metadata": {},
   "outputs": [
    {
     "name": "stdout",
     "output_type": "stream",
     "text": [
      "Hello Hello Hello Hello Hello Hello Hello Hello Hello Hello \n"
     ]
    }
   ],
   "source": [
    "print(10*\"Hello \")"
   ]
  },
  {
   "cell_type": "code",
   "execution_count": 21,
   "id": "60743f84",
   "metadata": {},
   "outputs": [
    {
     "name": "stdout",
     "output_type": "stream",
     "text": [
      "HelloWorld\n",
      "Hello World\n"
     ]
    }
   ],
   "source": [
    "print(\"Hello\"+\"World\")\n",
    "print(\"Hello\",\"World\")"
   ]
  },
  {
   "cell_type": "code",
   "execution_count": 25,
   "id": "58e00422",
   "metadata": {},
   "outputs": [
    {
     "name": "stdout",
     "output_type": "stream",
     "text": [
      "The values are: 10 20 30\n",
      "10,20,30\n",
      "10:20:30\n"
     ]
    }
   ],
   "source": [
    "#form-3 print()\n",
    "a,b,c=10,20,30\n",
    "print(\"The values are:\",a,b,c)\n",
    "print(a,b,c,sep=',')\n",
    "print(a,b,c,sep=':')"
   ]
  },
  {
   "cell_type": "code",
   "execution_count": 27,
   "id": "d7c49e6b",
   "metadata": {},
   "outputs": [
    {
     "name": "stdout",
     "output_type": "stream",
     "text": [
      "Hello Students Python is very easy\n"
     ]
    }
   ],
   "source": [
    "#print() with end attribute for printing in one line\n",
    "print(\"Hello\",end=' ')\n",
    "print(\"Students\",end=' ')\n",
    "print(\"Python\",end=' ')\n",
    "print(\"is very easy\")"
   ]
  },
  {
   "cell_type": "code",
   "execution_count": 28,
   "id": "913ce066",
   "metadata": {},
   "outputs": [
    {
     "name": "stdout",
     "output_type": "stream",
     "text": [
      "(10, 20, 30, 40) [10, 20, 30, 40] {40, 10, 20, 30}\n"
     ]
    }
   ],
   "source": [
    "#print(object) statement\n",
    "l=(10,20,30,40)\n",
    "t=[10,20,30,40]\n",
    "s={10,20,30,40}\n",
    "print(l,t,s)"
   ]
  },
  {
   "cell_type": "code",
   "execution_count": 35,
   "id": "f2cbc2c4",
   "metadata": {},
   "outputs": [
    {
     "name": "stdout",
     "output_type": "stream",
     "text": [
      "Hello Durga Your age is 48\n",
      "You are teaching java and python\n"
     ]
    }
   ],
   "source": [
    "#form-6 print(string,variable,list)\n",
    "s=\"Durga\"\n",
    "a=48\n",
    "s1=\"java\"\n",
    "s2=\"python\"\n",
    "print(\"Hello\",s,\"Your age is\",a)\n",
    "print(\"You are teaching\",s1,\"and\",s2)"
   ]
  },
  {
   "cell_type": "code",
   "execution_count": 36,
   "id": "29727e26",
   "metadata": {},
   "outputs": [
    {
     "name": "stdout",
     "output_type": "stream",
     "text": [
      "a value is 10\n",
      "b value is 20 and c value is 30\n"
     ]
    }
   ],
   "source": [
    "#form-7 print(formatted string):\n",
    "#syntax--- print(\"formatted string\" %(variable list))\n",
    "a=10\n",
    "b=20\n",
    "c=30\n",
    "print(\"a value is %i\"%a)\n",
    "print(\"b value is %d and c value is %d\"%(b,c))"
   ]
  },
  {
   "cell_type": "code",
   "execution_count": 37,
   "id": "99a3f155",
   "metadata": {},
   "outputs": [
    {
     "name": "stdout",
     "output_type": "stream",
     "text": [
      "Hello Durga...The list of item are [10, 20, 30, 40]\n"
     ]
    }
   ],
   "source": [
    "s=\"Durga\"\n",
    "list=[10,20,30,40]\n",
    "print(\"Hello %s...The list of item are %s\"%(s,list))"
   ]
  },
  {
   "cell_type": "code",
   "execution_count": 41,
   "id": "dd05deb3",
   "metadata": {},
   "outputs": [
    {
     "name": "stdout",
     "output_type": "stream",
     "text": [
      "Hello durga your salary is 10000 and your girlfriend sunny is waiting\n",
      "Hello durga your salary is 10000 and your girlfriend sunny is waiting\n",
      "Hello durga your salary is 10000 and your girlfriend sunny is waiting\n"
     ]
    }
   ],
   "source": [
    "#form-8 print() with replacement operator\n",
    "name=\"durga\"\n",
    "salary=10000\n",
    "gf=\"sunny\"\n",
    "print(\"Hello {0} your salary is {1} and your girlfriend {2} is waiting\".format(name,salary,gf))\n",
    "print(\"Hello {} your salary is {} and your girlfriend {} is waiting\".format(name,salary,gf))\n",
    "print(\"Hello {x} your salary is {y} and your girlfriend {z} is waiting\".format(x=name,y=salary,z=gf))"
   ]
  },
  {
   "cell_type": "code",
   "execution_count": 5,
   "id": "c6527a44",
   "metadata": {},
   "outputs": [
    {
     "name": "stdout",
     "output_type": "stream",
     "text": [
      "You look so cute\n",
      "\n",
      "Let's meet for coffee\n"
     ]
    }
   ],
   "source": [
    "print(\"You look so cute\")\n",
    "print()\n",
    "print(\"Let's meet for coffee\")\n"
   ]
  },
  {
   "cell_type": "code",
   "execution_count": null,
   "id": "f9a89bfd",
   "metadata": {},
   "outputs": [],
   "source": []
  }
 ],
 "metadata": {
  "kernelspec": {
   "display_name": "Python 3 (ipykernel)",
   "language": "python",
   "name": "python3"
  },
  "language_info": {
   "codemirror_mode": {
    "name": "ipython",
    "version": 3
   },
   "file_extension": ".py",
   "mimetype": "text/x-python",
   "name": "python",
   "nbconvert_exporter": "python",
   "pygments_lexer": "ipython3",
   "version": "3.9.12"
  }
 },
 "nbformat": 4,
 "nbformat_minor": 5
}
