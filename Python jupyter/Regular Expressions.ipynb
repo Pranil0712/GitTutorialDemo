{
 "cells": [
  {
   "cell_type": "code",
   "execution_count": 1,
   "id": "d7f5bf00",
   "metadata": {},
   "outputs": [],
   "source": [
    "#1) * : It matches with zero or more occurences of the preceeding character\n",
    "#2) + : It matches with one or more occurences of the preceeding character.\n",
    "#3) ? : It matches with zero or one occurence of preceeding character.\n",
    "#4) . : It matches with any one single character.\n",
    "#5) [ ] :It matches with any single character in the given list.\n",
    "#6) [^] :It matches with any single character other than in the given list.\n",
    "#7) [-] :It matches with any single character in the given range.\n",
    "#8) (|) :match with any one string in the list.\n",
    "#9) {m} : It matches with exact occurence of preceeding character.\n",
    "#10) ^---->xoR--->start of the line.\n",
    "#11) $ :end of the line.\n",
    "#12) \\d or [0-9] --->any single digit.\n",
    "#13) \\D or [^0-9]----->any single non digit.\n",
    "#14) \\w or [a-zA-Z0-9_]---->any alphanumeric  -->{a,B,7,_,x}\n",
    "#15) [a-zA-Z0-9_]* here multiple occurences--------->{\"MAY\",\"May24\",\"May_24}\n",
    "#16) \\W or [^a-zA-Z0-9_]----->any non alphanumeric -->only special character."
   ]
  },
  {
   "cell_type": "code",
   "execution_count": 2,
   "id": "025e0e95",
   "metadata": {},
   "outputs": [],
   "source": [
    "#re module defines many functions\n",
    "#RegEx Functions :-\n",
    "#The re module offers a set of functions that allows us to search a string for a match:\n",
    "\n",
    "#Function    Description\n",
    "#findall     Returns a list containing all matches\n",
    "#finditer    Returns a iterator object\n",
    "#search      Returns a Match object if there is a match anywhere in the string\n",
    "#sub         Replaces one or many matches with a string \n",
    "#match       for matchings"
   ]
  },
  {
   "cell_type": "code",
   "execution_count": 3,
   "id": "c2f63b03",
   "metadata": {},
   "outputs": [
    {
     "name": "stdout",
     "output_type": "stream",
     "text": [
      "['h', 'a', 'm', 'i', 'c', 'd', 'a', 'a', 'e']\n"
     ]
    }
   ],
   "source": [
    "import re\n",
    "#Task: Find all lower case characters  between \"a\" and \"m\" from the string\n",
    "str1 = \"Python supports Dynamic datatypes\"\n",
    "x=re.findall(\"[a-m]\",str1)\n",
    "print(x)"
   ]
  },
  {
   "cell_type": "code",
   "execution_count": 4,
   "id": "90676fda",
   "metadata": {},
   "outputs": [
    {
     "name": "stdout",
     "output_type": "stream",
     "text": [
      "['92', '104']\n"
     ]
    }
   ],
   "source": [
    "#Find all digital characters from the below string\n",
    "str1 = \"Kohli scored 92 runs today out of 104 balls\"\n",
    "x=re.findall(\"\\d+\",str1)\n",
    "print(x)"
   ]
  },
  {
   "cell_type": "code",
   "execution_count": 5,
   "id": "76c57210",
   "metadata": {},
   "outputs": [
    {
     "name": "stdout",
     "output_type": "stream",
     "text": [
      "['101', '45', '102', '30', '5', '57', '35']\n",
      "['101.45', '57.35']\n"
     ]
    }
   ],
   "source": [
    "str1=\"101.45 102 30 5 57.35\"\n",
    "x=re.findall(\"\\d+\",str1)\n",
    "print(x)\n",
    "x=re.findall(\"\\d+[.]\\d+\",str1)\n",
    "print(x)"
   ]
  },
  {
   "cell_type": "code",
   "execution_count": 6,
   "id": "61a20bcb",
   "metadata": {},
   "outputs": [
    {
     "name": "stdout",
     "output_type": "stream",
     "text": [
      "Yes,the string start with ['hello']\n"
     ]
    }
   ],
   "source": [
    "#Check if the string starts with 'hello':\n",
    "str1=\"hello world\"\n",
    "x=re.findall(\"^hello\",str1)\n",
    "if(x):\n",
    "    print(\"Yes,the string start with\",x)\n",
    "else:\n",
    "    print(\"No Match\")"
   ]
  },
  {
   "cell_type": "code",
   "execution_count": 8,
   "id": "c1b3a9f6",
   "metadata": {},
   "outputs": [
    {
     "name": "stdout",
     "output_type": "stream",
     "text": [
      "Yes, the string ends with ['world']\n"
     ]
    }
   ],
   "source": [
    "#Check if the string ends with 'world':\n",
    "str=\"Hello world\"\n",
    "x = re.findall(\"world$\", str)\n",
    "if (x):\n",
    "    print(\"Yes, the string ends with\",x)\n",
    "else:\n",
    "    print(\"No match\")"
   ]
  },
  {
   "cell_type": "code",
   "execution_count": 13,
   "id": "567b16fb",
   "metadata": {},
   "outputs": [
    {
     "name": "stdout",
     "output_type": "stream",
     "text": [
      "['ai', 'ai', 'ai', 'ai']\n"
     ]
    }
   ],
   "source": [
    "#Check if the string contains \"ai\" followed by 0 or more \"x\" characters:\n",
    "str = \"The rain in Spain falls mainly in the plain!.....\"\n",
    "x=re.findall(\"aix*\",str)\n",
    "print(x)"
   ]
  },
  {
   "cell_type": "code",
   "execution_count": 16,
   "id": "d71b578f",
   "metadata": {},
   "outputs": [
    {
     "name": "stdout",
     "output_type": "stream",
     "text": [
      "[]\n"
     ]
    }
   ],
   "source": [
    "#Check if the string contains \"ai\" followed by 1 or more \"x\" characters:\n",
    "str = \"The rain in Spain falls mainly in the plain!.....\"\n",
    "x=re.findall(\"aix+\",str)\n",
    "print(x)"
   ]
  },
  {
   "cell_type": "code",
   "execution_count": 20,
   "id": "940de871",
   "metadata": {},
   "outputs": [
    {
     "name": "stdout",
     "output_type": "stream",
     "text": [
      "['rain', 'Spain', 'mainly', 'plain']\n",
      "['rain', 'Spain', 'mainly', 'plain']\n"
     ]
    }
   ],
   "source": [
    "#Extract the words containing \"ai\" within it.\n",
    "str = \"The rain in Spain falls mainly in the plain!.....\"\n",
    "x=re.findall(\"\\w+ai\\w+\",str)\n",
    "print(x)\n",
    "#or\n",
    "x=re.findall(\"[a-zA-Z]+ai[a-zA-Z]+\",str)\n",
    "print(x)"
   ]
  },
  {
   "cell_type": "code",
   "execution_count": 21,
   "id": "4be4724a",
   "metadata": {},
   "outputs": [
    {
     "name": "stdout",
     "output_type": "stream",
     "text": [
      "['rain', 'Spain', 'mainly', 'plain', 'air']\n"
     ]
    }
   ],
   "source": [
    "str = \"The rain in Spain falls mainly in the plain!...air\"\n",
    "x=re.findall(\"[a-zA-Z]*ai[a-zA-Z]+\",str)\n",
    "print(x)"
   ]
  },
  {
   "cell_type": "code",
   "execution_count": 24,
   "id": "1fe4f286",
   "metadata": {},
   "outputs": [
    {
     "name": "stdout",
     "output_type": "stream",
     "text": [
      "['Praveen', 'Puja', 'Pushpa']\n"
     ]
    }
   ],
   "source": [
    "names=\"Ajay,Rohit,Praveen,Blake,Puja,James,Pushpa,Dhoni,supriya\"\n",
    "#Extract only the names starting with P\n",
    "x=re.findall(\"P+\\w+\",names)\n",
    "print(x)"
   ]
  },
  {
   "cell_type": "code",
   "execution_count": null,
   "id": "2fab3caf",
   "metadata": {},
   "outputs": [],
   "source": [
    "ids=\"401,501,402,502,403,503,101,202,107,525,322,540\"\n",
    "#CSE-5  ,ECE-4, EEE-2  ,MECH-3 ,CIVIL-1\n",
    "#Extract the id's of CSE students only\n",
    "x=re.findall()"
   ]
  }
 ],
 "metadata": {
  "kernelspec": {
   "display_name": "Python 3 (ipykernel)",
   "language": "python",
   "name": "python3"
  },
  "language_info": {
   "codemirror_mode": {
    "name": "ipython",
    "version": 3
   },
   "file_extension": ".py",
   "mimetype": "text/x-python",
   "name": "python",
   "nbconvert_exporter": "python",
   "pygments_lexer": "ipython3",
   "version": "3.9.12"
  }
 },
 "nbformat": 4,
 "nbformat_minor": 5
}
