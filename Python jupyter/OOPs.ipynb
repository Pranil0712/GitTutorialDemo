{
 "cells": [
  {
   "cell_type": "code",
   "execution_count": 1,
   "id": "4a44dc55",
   "metadata": {},
   "outputs": [
    {
     "name": "stdout",
     "output_type": "stream",
     "text": [
      "<__main__.sample object at 0x00000229AF96A160>\n",
      "x= 10\n",
      "y= 20\n",
      "<__main__.sample object at 0x00000229AF96A160>\n"
     ]
    }
   ],
   "source": [
    "class sample:\n",
    "    x=10\n",
    "    y=20\n",
    "    def display(self):    #whichever object is calling this method that object is stored in self\n",
    "        print(\"x=\",sample.x)\n",
    "        print(\"y=\",sample.y)\n",
    "        print(self)\n",
    "    def show(self):\n",
    "        print(\"x=\",sample.x)\n",
    "        print(\"y=\",sample.y)\n",
    "#end of class\n",
    "#To access the class members,we require object\n",
    "#syntax for creating an object\n",
    "#objectname=classname()\n",
    "s1=sample()  #object creation stmt,s1 is object of class sample here internally object is created and its address is stored \n",
    "            #in a variable called reference variable(s1)\n",
    "print(s1)   #prints the object address\n",
    "#now calling the method using a object\n",
    "s1.display()  #here s1 address is stored in self of display method"
   ]
  },
  {
   "cell_type": "code",
   "execution_count": 9,
   "id": "2b464b93",
   "metadata": {},
   "outputs": [
    {
     "name": "stdout",
     "output_type": "stream",
     "text": [
      "x= 10\n",
      "y= 20\n",
      "x= 10\n",
      "y= 20\n"
     ]
    }
   ],
   "source": [
    "#printing static varaible from outside the class\n",
    "print(\"x=\",sample.x)\n",
    "print(\"y=\",sample.y)\n",
    "\n",
    "print(\"x=\",s1.x)\n",
    "print(\"y=\",s1.y)"
   ]
  },
  {
   "cell_type": "code",
   "execution_count": 4,
   "id": "104b663a",
   "metadata": {},
   "outputs": [
    {
     "name": "stdout",
     "output_type": "stream",
     "text": [
      "10\n",
      "20\n",
      "10\n",
      "20\n",
      "30\n",
      "40\n",
      "30\n",
      "40\n",
      "30\n",
      "40\n",
      "30\n",
      "40\n",
      "x= 50\n",
      "y= 60\n",
      "50\n",
      "60\n",
      "50\n",
      "60\n",
      "30\n",
      "40\n"
     ]
    }
   ],
   "source": [
    "#modifying the values of static variables using a method\n",
    "class test:\n",
    "    \"\"\"sample class\"\"\"\n",
    "    x=10\n",
    "    y=20\n",
    "    def m1(self):\n",
    "        print(test.x)\n",
    "        print(test.y)\n",
    "        #modifying values of x nd y\n",
    "        test.x=30\n",
    "        test.y=40     #these changes are affected in other method also\n",
    "    def m2(slef):\n",
    "        print(test.x)\n",
    "        print(test.y)\n",
    "#end of class\n",
    "t1=test()  #object creation stmt ,here internally object is created and its address is stored by a variable called reference variable(t1)\n",
    "t1.m2()\n",
    "t1.m1()  #print the values of x and y\n",
    "t1.m2()  #print the modified values\n",
    "t1.m1()\n",
    "\n",
    "t2=test()  #creating another object\n",
    "t2.m2()\n",
    "t2.m1()\n",
    "#modifying SVs from outside the class\n",
    "test.x=50  #modifying SVs from outside the class\n",
    "test.y=60\n",
    "\n",
    "print(\"x=\",test.x)\n",
    "print(\"y=\",test.y)\n",
    "t1.m2()\n",
    "t1.m1()\n",
    "t1.m2()"
   ]
  },
  {
   "cell_type": "code",
   "execution_count": 27,
   "id": "f3a44d2b",
   "metadata": {},
   "outputs": [
    {
     "name": "stdout",
     "output_type": "stream",
     "text": [
      "110\n",
      "220\n",
      "140\n",
      "260\n"
     ]
    }
   ],
   "source": [
    "#creating multiple objects\n",
    "class test:\n",
    "    \"\"\"sample class\"\"\"\n",
    "    x=100  #static variable\n",
    "    y=200  #static variable\n",
    "    def m1(self):\n",
    "        test.x=test.x+10\n",
    "        test.y=test.y+20\n",
    "        print(test.x)\n",
    "        print(test.y)\n",
    "    def m2(slef):\n",
    "        test.x=test.x+30\n",
    "        test.y=test.y+40\n",
    "        print(test.x)\n",
    "        print(test.y)\n",
    "#end of class\n",
    "t1=test()\n",
    "t1.m1()  \n",
    "t1.m2()"
   ]
  },
  {
   "cell_type": "code",
   "execution_count": 28,
   "id": "04d34f5a",
   "metadata": {},
   "outputs": [
    {
     "name": "stdout",
     "output_type": "stream",
     "text": [
      "150\n",
      "280\n",
      "180\n",
      "320\n",
      "190\n",
      "340\n"
     ]
    }
   ],
   "source": [
    "t2=test()\n",
    "t2.m1()   #here modified values will be consider which is 140 and 260\n",
    "t2.m2()\n",
    "t2.m1()\n",
    "#if u r modifying a static variable,the modified values will be reflected in all the methods and objects"
   ]
  },
  {
   "cell_type": "code",
   "execution_count": 1,
   "id": "0673be05",
   "metadata": {},
   "outputs": [
    {
     "name": "stdout",
     "output_type": "stream",
     "text": [
      "10\n",
      "20\n",
      "30\n",
      "z= 100\n",
      "w= 30\n",
      "r= 40\n",
      "40\n",
      "10 20\n",
      "z= 170\n",
      "w= 30\n",
      "r= 40\n"
     ]
    }
   ],
   "source": [
    "#working with static,local and global variables\n",
    "#global variable--->defined outside the class\n",
    "#local variable--->defined within the class and within the methods\n",
    "#static variable--->defined within the class and outside the methods\n",
    "r=30 #global variable\n",
    "class demo:\n",
    "    x=10  #static variable\n",
    "    y=20  #static variable\n",
    "    print(x)\n",
    "    print(y)\n",
    "    print(r)\n",
    "    def compute(self,p,q):\n",
    "        #modifying a global variable\n",
    "        global r  #forward declaration\n",
    "        r=40\n",
    "        z=p+q+r\n",
    "        w=demo.x+demo.y\n",
    "        print(\"z=\",z)\n",
    "        print(\"w=\",w)\n",
    "        print(\"r=\",r)\n",
    "#end of class\n",
    "d1=demo()   #prints x,y,r values\n",
    "d1.compute(10,50)\n",
    "print(r)\n",
    "print(demo.x,demo.y)\n",
    "d2=demo()\n",
    "d2.compute(60,70)"
   ]
  },
  {
   "cell_type": "code",
   "execution_count": 34,
   "id": "0fabf50f",
   "metadata": {},
   "outputs": [],
   "source": [
    "#program illustrating NSVs\n",
    "class sample:\n",
    "    a=10\n",
    "    b=20\n",
    "    def display(self):\n",
    "        self.x=30\n",
    "        self.y=50\n",
    "        print(\"a=\",sample.a)\n",
    "        print(\"b=\",sample.b)\n",
    "        print(\"x=\",self.x)\n",
    "        print(\"y=\",self.y)\n",
    "#end of the class\n",
    "s1=sample()"
   ]
  },
  {
   "cell_type": "code",
   "execution_count": 36,
   "id": "fdae1052",
   "metadata": {},
   "outputs": [
    {
     "name": "stdout",
     "output_type": "stream",
     "text": [
      "a= 10\n",
      "b= 20\n"
     ]
    }
   ],
   "source": [
    "#accesing static variables from outside the class using classname\n",
    "print(\"a=\",sample.a)\n",
    "print(\"b=\",sample.b)"
   ]
  },
  {
   "cell_type": "code",
   "execution_count": 32,
   "id": "ebe5acae",
   "metadata": {},
   "outputs": [
    {
     "name": "stdout",
     "output_type": "stream",
     "text": [
      "a= 10\n",
      "b= 20\n",
      "x= 30\n",
      "y= 50\n",
      "x= 30\n",
      "y= 50\n"
     ]
    }
   ],
   "source": [
    "#accesing NSVs from outside the class using reference variable\n",
    "s1.display()\n",
    "print(\"x=\",s1.x)\n",
    "print(\"y=\",s1.y)"
   ]
  },
  {
   "cell_type": "code",
   "execution_count": null,
   "id": "12111c64",
   "metadata": {},
   "outputs": [
    {
     "name": "stdout",
     "output_type": "stream",
     "text": [
      "<__main__.emp object at 0x000001EA78B6EB80>\n",
      "Enter employee name:Pranil\n",
      "Enter empid:101\n",
      "Enter empsal:60000\n",
      "Enter designation:Programmer\n",
      "<__main__.emp object at 0x000001EA78B6EB80>\n",
      "Ename: Pranil\n",
      "Eid: 101\n",
      "Esal: 60000\n",
      "Desigantion: Programmer\n",
      "Company: Infosys\n",
      "<__main__.emp object at 0x000001EA78B6EB80>\n"
     ]
    }
   ],
   "source": [
    "#progarm illustrating non-static variable(NSV)\n",
    "class emp:\n",
    "    company=\"Infosys\"\n",
    "    def getdetails(self):\n",
    "        self.ename=input(\"Enter employee name:\")\n",
    "        self.eid=int(input(\"Enter empid:\"))\n",
    "        self.esal=int(input(\"Enter empsal:\"))\n",
    "        self.desig=input(\"Enter designation:\")\n",
    "        print(self)\n",
    "    def putdetails(self):\n",
    "        print(\"Ename:\",self.ename)\n",
    "        print(\"Eid:\",self.eid)\n",
    "        print(\"Esal:\",self.esal)\n",
    "        print(\"Desigantion:\",self.desig)\n",
    "        print(\"Company:\",emp.company)\n",
    "        print(self)\n",
    "#end of class\n",
    "e1=emp()\n",
    "print(e1)\n",
    "e1.getdetails()\n",
    "e1.putdetails()\n",
    "\n",
    "e2=emp()\n",
    "e2.getdetails()\n",
    "e2.putdetails()\n",
    "print(e1.ename)\n",
    "print(e2.ename)\n",
    "\n",
    "e1.esal=55000\n",
    "e1.putdetails()"
   ]
  },
  {
   "cell_type": "code",
   "execution_count": 7,
   "id": "39cd4b84",
   "metadata": {},
   "outputs": [
    {
     "name": "stdout",
     "output_type": "stream",
     "text": [
      "<__main__.sample object at 0x000001D0921D1220>\n",
      "x= 10\n",
      "y= 20\n",
      "a= 4.5\n",
      "b= 2.6\n",
      "x= 60\n",
      "y= 80\n",
      "a= 74.5\n",
      "b= 82.6\n",
      "<__main__.sample object at 0x000001D09212B640>\n",
      "x= 10\n",
      "y= 20\n",
      "a= 74.5\n",
      "b= 82.6\n",
      "x= 60\n",
      "y= 80\n",
      "a= 144.5\n",
      "b= 162.6\n",
      "60\n",
      "80\n"
     ]
    }
   ],
   "source": [
    "#program for modifying static and NSVs\n",
    "class sample:\n",
    "    a=4.5 #static variable\n",
    "    b=2.6\n",
    "    def display(self):\n",
    "        self.x=10  #NSVs\n",
    "        self.y=20\n",
    "        print(\"x=\",self.x)\n",
    "        print(\"y=\",self.y)\n",
    "        print(\"a=\",sample.a)\n",
    "        print(\"b=\",sample.b)\n",
    "        #modifying values\n",
    "        self.x=self.x+50\n",
    "        self.y=self.y+60\n",
    "        sample.a=sample.a+70\n",
    "        sample.b=sample.b+80\n",
    "        print(\"x=\",self.x)\n",
    "        print(\"y=\",self.y)\n",
    "        print(\"a=\",sample.a)\n",
    "        print(\"b=\",sample.b)\n",
    "#end of class\n",
    "s1=sample()\n",
    "print(s1)\n",
    "s1.display()\n",
    "\n",
    "s2=sample()\n",
    "print(s2)\n",
    "s2.display()  # x nd y values will not modified first\n",
    "print(s2.x)\n",
    "print(s2.y)"
   ]
  },
  {
   "cell_type": "code",
   "execution_count": 4,
   "id": "0c98bc83",
   "metadata": {},
   "outputs": [
    {
     "name": "stdout",
     "output_type": "stream",
     "text": [
      "<__main__.sample object at 0x000001F701B44640>\n",
      "x= 10\n",
      "y= 20\n",
      "a= 144.5\n",
      "b= 162.6\n",
      "x= 60\n",
      "y= 80\n",
      "a= 214.5\n",
      "b= 242.6\n"
     ]
    }
   ],
   "source": [
    "s3=sample()\n",
    "print(s3)\n",
    "s3.display()\n",
    "\n",
    "#NOTE: for NSVs values will be re-intialized for every object\n",
    "      #but for static variables it takes the old modified values only,here object to object it wont be re-initialised."
   ]
  },
  {
   "cell_type": "code",
   "execution_count": 13,
   "id": "04c7b14f",
   "metadata": {},
   "outputs": [
    {
     "name": "stdout",
     "output_type": "stream",
     "text": [
      "Enter customer name:Pranil\n",
      "Enter Account NO:2100024\n",
      "Enter Address:Muktainagar\n",
      "Enter balance:70000\n",
      "Customer Name: Pranil\n",
      "Account No: 2100024\n",
      "Address: Muktainagar\n",
      "Balance: 70000\n",
      "BANK: SBI\n",
      "Enter deposit Amount:20000\n",
      "totalamount: 90000\n",
      "totalamount: 90000\n",
      "Enter withdraw amount:25000\n",
      "Totalamount after withdraw: 65000\n",
      "Name: Pranil\n",
      "totalamount: 65000\n"
     ]
    }
   ],
   "source": [
    "class customer:\n",
    "    '''CUSTOMER APPLICATION'''\n",
    "    bank=\"SBI\"\n",
    "    def getdetails(self):\n",
    "        self.custname=input(\"Enter customer name:\")\n",
    "        self.accno=int(input(\"Enter Account NO:\"))\n",
    "        self.address=input(\"Enter Address:\")\n",
    "        self.balance=int(input(\"Enter balance:\"))\n",
    "    def putdetails(self):\n",
    "        print(\"Customer Name:\",self.custname)\n",
    "        print(\"Account No:\",self.accno)\n",
    "        print(\"Address:\",self.address)\n",
    "        print(\"Balance:\",self.balance)\n",
    "        print(\"BANK:\",customer.bank)\n",
    "    def deposit(self):\n",
    "        self.damount=int(input(\"Enter deposit Amount:\"))\n",
    "        self.totalamount=self.balance+self.damount\n",
    "        print(\"totalamount:\",self.totalamount)\n",
    "    def withdraw(self):\n",
    "        self.wamount=int(input(\"Enter withdraw amount:\"))\n",
    "        self.totalamount=self.totalamount-self.wamount\n",
    "        print(\"Totalamount after withdraw:\",self.totalamount)\n",
    "c1=customer()\n",
    "c1.getdetails()\n",
    "c1.putdetails()\n",
    "c1.deposit()\n",
    "print(\"totalamount:\",c1.totalamount)\n",
    "c1.withdraw()\n",
    "print(\"Name:\",c1.custname)\n",
    "print(\"totalamount:\",c1.totalamount)"
   ]
  },
  {
   "cell_type": "code",
   "execution_count": 13,
   "id": "57ebcbd0",
   "metadata": {},
   "outputs": [
    {
     "name": "stdout",
     "output_type": "stream",
     "text": [
      "4.5\n",
      "2.6\n",
      "10 <class 'int'>\n",
      "20\n"
     ]
    }
   ],
   "source": [
    "#program to access static and non-static variables from outside the class\n",
    "class sample:\n",
    "    a=4.5\n",
    "    b=2.6\n",
    "    def display(self):\n",
    "        self.x=10\n",
    "        self.y=20\n",
    "#end of class\n",
    "s1=sample()\n",
    "print(sample.a)\n",
    "print(sample.b)\n",
    "\n",
    "s1.display()\n",
    "print(s1.x,type(s1.x))\n",
    "print(s1.y)"
   ]
  },
  {
   "cell_type": "code",
   "execution_count": 36,
   "id": "9c6d7c23",
   "metadata": {},
   "outputs": [
    {
     "name": "stdout",
     "output_type": "stream",
     "text": [
      "constructor of sample class\n",
      "<__main__.sample object at 0x000002426443D790>\n",
      "10\n",
      "20\n",
      "method of sample class\n",
      "10\n",
      "20\n"
     ]
    }
   ],
   "source": [
    "#Default Constructor\n",
    "class sample:\n",
    "    def __init__(self):     #constructor\n",
    "        print(\"constructor of sample class\")\n",
    "        self.x=10\n",
    "        self.y=20\n",
    "    def display(self):  #method\n",
    "        print(\"method of sample class\")\n",
    "        print(self.x)\n",
    "        print(self.y)\n",
    "#end of class\n",
    "s1=sample()  #whenever object get created,immediately constructor get excuted automatically\n",
    "print(s1)\n",
    "print(s1.x)\n",
    "print(s1.y)\n",
    "s1.display()  #method called for multiple times"
   ]
  },
  {
   "cell_type": "code",
   "execution_count": 21,
   "id": "12d19648",
   "metadata": {},
   "outputs": [
    {
     "name": "stdout",
     "output_type": "stream",
     "text": [
      "constructor of sample class\n",
      "<__main__.sample object at 0x000001F702C2CDF0>\n",
      "10\n",
      "20\n",
      "method of sample class\n",
      "10\n",
      "20\n"
     ]
    }
   ],
   "source": [
    "s2=sample()  #once again constructor excutes automatically\n",
    "print(s2)\n",
    "print(s2.x)\n",
    "print(s2.y)\n",
    "s2.display()"
   ]
  },
  {
   "cell_type": "code",
   "execution_count": 24,
   "id": "449a0252",
   "metadata": {},
   "outputs": [
    {
     "name": "stdout",
     "output_type": "stream",
     "text": [
      "10\n",
      "20\n",
      "40\n",
      "60\n"
     ]
    }
   ],
   "source": [
    "#modifying non-static variables\n",
    "class sample:\n",
    "    def __init__(self):\n",
    "        self.x=10\n",
    "        self.y=20\n",
    "    def m1(self):\n",
    "        self.x=self.x+30 #modifying NSV\n",
    "        self.y=self.y+40\n",
    "        print(self.x)\n",
    "        print(self.y)\n",
    "s1=sample()# constructor executed automatically,means NSV's are created and initialized\n",
    "print(s1.x)\n",
    "print(s1.y)\n",
    "s1.m1()"
   ]
  },
  {
   "cell_type": "code",
   "execution_count": 25,
   "id": "7ac3ddc7",
   "metadata": {},
   "outputs": [
    {
     "name": "stdout",
     "output_type": "stream",
     "text": [
      "10\n",
      "20\n",
      "40\n",
      "60\n"
     ]
    }
   ],
   "source": [
    "s2=sample()\n",
    "print(s2.x)\n",
    "print(s2.y)\n",
    "s2.m1()"
   ]
  },
  {
   "cell_type": "code",
   "execution_count": 26,
   "id": "8617df94",
   "metadata": {},
   "outputs": [
    {
     "name": "stdout",
     "output_type": "stream",
     "text": [
      "x= 10\n",
      "p= 30\n",
      "y= 20\n",
      "z= 30\n",
      "w= 90\n",
      "10\n",
      "20\n",
      "30\n",
      "90\n"
     ]
    }
   ],
   "source": [
    "#Program illustrating all types of variables---->local,global,static and non-static\n",
    "\n",
    "x=10     #global variable\n",
    "class test:\n",
    "    y=20     #static variable   \n",
    "    def display(self,p):   #local variable\n",
    "        self.z=p       #non-static   \n",
    "        self.w=x+test.y+self.z+p\n",
    "        print(\"x=\",x)  #printing global variable\n",
    "        print(\"p=\",p)  #printing local variable\n",
    "        print(\"y=\",test.y)  #printing static variable\n",
    "        print(\"z=\",self.z)  #printing non-static variable\n",
    "        print(\"w=\",self.w)  #printing non-static variable\n",
    "\n",
    "#end of the class\n",
    "t1=test()\n",
    "t1.display(30)     #all x,p,y,z,w values will get printed\n",
    "print(x)\n",
    "print(test.y)\n",
    "print(t1.z)\n",
    "print(t1.w)\n",
    "\n",
    "#print(p)  #local variable cant be accessed\n",
    "#Local variable can be accessed only by that method but NSV can be accessed by all the methods of a class and also by the other classes."
   ]
  },
  {
   "cell_type": "code",
   "execution_count": 27,
   "id": "65496c58",
   "metadata": {},
   "outputs": [
    {
     "name": "stdout",
     "output_type": "stream",
     "text": [
      "Enter student1 details:\n",
      "Enter student name:Pranil\n",
      "Enter student Roll No:50\n",
      "Enter student branch:B.tech\n",
      "Enter rank:2\n",
      "Pranil\n",
      "NAME: Pranil\n",
      "ROLLNO: 50\n",
      "BRANCH: B.tech\n",
      "RANK: 2\n",
      "Enter student2 details:\n",
      "Enter student name:Aniket\n",
      "Enter student Roll No:10\n",
      "Enter student branch:B.E\n",
      "Enter rank:1\n",
      "Aniket\n",
      "NAME: Aniket\n",
      "ROLLNO: 10\n",
      "BRANCH: B.E\n",
      "RANK: 1\n"
     ]
    }
   ],
   "source": [
    "class student:\n",
    "    def __init__(self):\n",
    "        self.name=input(\"Enter student name:\")\n",
    "        self.rollno=int(input(\"Enter student Roll No:\"))\n",
    "        self.branch=input(\"Enter student branch:\")\n",
    "        self.rank=int(input(\"Enter rank:\"))\n",
    "    def display(self):\n",
    "        print(\"NAME:\",self.name)\n",
    "        print(\"ROLLNO:\",self.rollno)\n",
    "        print(\"BRANCH:\",self.branch)\n",
    "        print(\"RANK:\",self.rank)\n",
    "print(\"Enter student1 details:\")\n",
    "s1=student()   #it will take all input present in __init__\n",
    "print(s1.name)\n",
    "s1.display()    #it will print all display\n",
    "\n",
    "print(\"Enter student2 details:\")\n",
    "s2=student()\n",
    "print(s2.name)\n",
    "s2.display()"
   ]
  },
  {
   "cell_type": "code",
   "execution_count": 28,
   "id": "fec8cc31",
   "metadata": {},
   "outputs": [
    {
     "name": "stdout",
     "output_type": "stream",
     "text": [
      "Enter length:10\n",
      "Enter breadth:3\n",
      "Enter height:10\n",
      "Volume= 300\n",
      "<__main__.cube object at 0x000001D092192550>\n",
      "Enter volume of 2nd cube:\n",
      "Enter length:10\n",
      "Enter breadth:5\n",
      "Enter height:10\n",
      "Volume= 500\n"
     ]
    }
   ],
   "source": [
    "#program to find the volume of a cube using a constructor\n",
    "class cube:\n",
    "    def __init__(self):\n",
    "        self.length=int(input(\"Enter length:\"))\n",
    "        self.breadth=int(input(\"Enter breadth:\"))\n",
    "        self.height=int(input(\"Enter height:\"))\n",
    "    def compute(self):\n",
    "        self.volume=self.length*self.breadth*self.height\n",
    "        print(\"Volume=\",self.volume)\n",
    "c1=cube()\n",
    "c1.compute()\n",
    "print(c1)      #add will printed\n",
    "\n",
    "print(\"Enter volume of 2nd cube:\")\n",
    "c2=cube()\n",
    "c2.compute()"
   ]
  },
  {
   "cell_type": "code",
   "execution_count": 36,
   "id": "38db977f",
   "metadata": {},
   "outputs": [
    {
     "name": "stdout",
     "output_type": "stream",
     "text": [
      "0\n",
      "0\n",
      "10 <class 'int'>\n",
      "20\n",
      "\n",
      "\n",
      "0\n",
      "0\n",
      "30\n",
      "40\n"
     ]
    }
   ],
   "source": [
    "#drawback of default constructor\n",
    "class sample:\n",
    "    def __init__(self):\n",
    "        self.x=0\n",
    "        self.y=0\n",
    "s1=sample()\n",
    "print(s1.x)\n",
    "print(s1.y)\n",
    "s1.x=10\n",
    "s1.y=20\n",
    "print(s1.x,type(s1.x))\n",
    "print(s1.y)\n",
    "print(\"\\n\")\n",
    "\n",
    "s2=sample()\n",
    "print(s2.x)       #again it will print zero\n",
    "print(s2.y)       #again it will print zero\n",
    "s2.x=30\n",
    "s2.y=40\n",
    "print(s2.x)\n",
    "print(s2.y)"
   ]
  },
  {
   "cell_type": "code",
   "execution_count": 37,
   "id": "b1e53fc2",
   "metadata": {},
   "outputs": [
    {
     "name": "stdout",
     "output_type": "stream",
     "text": [
      "10\n",
      "20\n",
      "r= 40\n",
      "s= 30\n",
      "30\n",
      "40\n",
      "2.5\n",
      "3.5\n"
     ]
    }
   ],
   "source": [
    "#Parameterized constructor: a constructor with parameters\n",
    "class test:\n",
    "    def __init__(self,a,b):    #constructor with parameters\n",
    "        self.x=a\n",
    "        self.y=b\n",
    "    def m1(self,p,q):\n",
    "        r=p+q    #local variables sum\n",
    "        s=self.x+self.y  #sum of NSVs\n",
    "        print(\"r=\",r)\n",
    "        print(\"s=\",s)\n",
    "t1=test(10,20)   #while creating obj only,passing parameters nd assinging values to NSVs with diff values\n",
    "print(t1.x)\n",
    "print(t1.y)\n",
    "t1.m1(15,25)\n",
    "\n",
    "t2=test(30,40)\n",
    "print(t2.x)\n",
    "print(t2.y)\n",
    "\n",
    "t3=test(2.5,3.5)\n",
    "print(t3.x)\n",
    "print(t3.y)"
   ]
  },
  {
   "cell_type": "code",
   "execution_count": 40,
   "id": "a1c0549d",
   "metadata": {},
   "outputs": [
    {
     "name": "stdout",
     "output_type": "stream",
     "text": [
      "Name: Ajay\n",
      "Age: 25\n",
      "Name: Miller\n",
      "Age: 28\n",
      "Name: Amar\n",
      "Age: 26\n"
     ]
    }
   ],
   "source": [
    "#Parameterized constructor: A constructor with parameters is called as parameterized constructor\n",
    "#Note: In parameterized constructor,how many non-static variables to be initilized then those many arguments we need to provide\n",
    "class student:\n",
    "    def __init__(self,name,age):\n",
    "        self.stdname=name\n",
    "        self.stdage=age\n",
    "    def display(self):\n",
    "        print(\"Name:\",self.stdname)\n",
    "        print(\"Age:\",self.stdage)\n",
    "s1=student(\"Ajay\",25)\n",
    "s1.display()\n",
    "s2=student(\"Miller\",28)\n",
    "s2.display()\n",
    "s3=student(\"Amar\",26)\n",
    "s3.display()\n",
    "#Note: whenever object is created,it is initializing NSV's with different values."
   ]
  },
  {
   "cell_type": "code",
   "execution_count": 41,
   "id": "6a7b49d8",
   "metadata": {},
   "outputs": [
    {
     "name": "stdout",
     "output_type": "stream",
     "text": [
      "Balance: 70000.0\n",
      "Customer Name: Ajay\n",
      "Account No: 5230143\n",
      "Address: Mumbai\n",
      "Balance: 80000.0\n",
      "Ajay\n",
      "Bank name: SBI\n",
      "\n",
      "\n",
      "Balance: 50000.0\n",
      "Customer Name: Blake\n",
      "Account No: 6230143\n",
      "Address: Chennai\n",
      "Balance: 60000.0\n",
      "Blake\n",
      "Bank name: SBI\n"
     ]
    }
   ],
   "source": [
    "class customer:\n",
    "    \"\"\"Customer Application\"\"\"\n",
    "    bankname=\"SBI\"\n",
    "    def __init__(self,custname,accno,addr,bal):\n",
    "        self.custname=custname\n",
    "        self.accno=accno\n",
    "        self.addr=addr\n",
    "        self.bal=bal\n",
    "    #operations\n",
    "    def deposit(self,depositamt):\n",
    "        self.bal=self.bal+depositamt\n",
    "    def withdraw(self,withdrawamt):\n",
    "        self.bal=self.bal-withdrawamt\n",
    "    def balenq(self):\n",
    "        print(\"Balance:\",self.bal)\n",
    "    def display(self):\n",
    "        print(\"Customer Name:\",self.custname)\n",
    "        print(\"Account No:\",self.accno)\n",
    "        print(\"Address:\",self.addr)\n",
    "        print(\"Balance:\",self.bal)\n",
    "#end of class\n",
    "c1=customer(\"Ajay\",5230143,\"Mumbai\",60000.00)\n",
    "c1.deposit(20000.00)\n",
    "c1.withdraw(10000.00)\n",
    "c1.balenq()\n",
    "c1.deposit(30000.00)\n",
    "c1.withdraw(20000.00)\n",
    "c1.display()\n",
    "print(c1.custname)\n",
    "print(\"Bank name:\",customer.bankname)\n",
    "print(\"\\n\")\n",
    "c2=customer(\"Blake\",6230143,\"Chennai\",40000.00)\n",
    "c2.deposit(20000.00)\n",
    "c2.withdraw(10000.00)\n",
    "c2.balenq()\n",
    "c2.deposit(30000.00)\n",
    "c2.withdraw(20000.00)\n",
    "c2.display()\n",
    "print(c2.custname)\n",
    "print(\"Bank name:\",customer.bankname)"
   ]
  },
  {
   "cell_type": "code",
   "execution_count": 39,
   "id": "c745cb06",
   "metadata": {},
   "outputs": [
    {
     "name": "stdout",
     "output_type": "stream",
     "text": [
      "Scott 5230143 Mumbai 60000.0\n",
      "Blake 6230143 Chennai 40000.0\n"
     ]
    }
   ],
   "source": [
    "#creating list of customers\n",
    "customers=[]\n",
    "customers.append(customer(\"Scott\",5230143,\"Mumbai\",60000.00))\n",
    "customers.append(customer(\"Blake\",6230143,\"Chennai\",40000.00))\n",
    "for obj in customers:\n",
    "    print(obj.custname,obj.accno,obj.addr,obj.bal)"
   ]
  },
  {
   "cell_type": "code",
   "execution_count": 1,
   "id": "c43bb598",
   "metadata": {},
   "outputs": [
    {
     "name": "stdout",
     "output_type": "stream",
     "text": [
      "Enter details of Customer:\n",
      "Enter customer name:Pranil\n",
      "Enter Account no:2100034\n",
      "enter Address:Mumbai\n",
      "After withdrawing 5000 \t BALANCE= 25000\n",
      "BALANCE: 25000\n",
      "After depositing 10000 \t BALANCE= 35000\n",
      "CUSTOMER NAME: Pranil\n",
      "ACCOUNT NO: 2100034\n",
      "ADDRESS: Mumbai\n",
      "BALANCE: 35000\n"
     ]
    }
   ],
   "source": [
    "#parameterized constructor, accepting values from keyboard\n",
    "class customer:\n",
    "    '''CUSTOMER APPLICATION'''\n",
    "    bankname=\"SBI\"\n",
    "    def __init__(self,custname,custaccno,custaddr,cbal):\n",
    "        self.cname=custname\n",
    "        self.caccno=custaccno\n",
    "        self.caddr=custaddr\n",
    "        self.bal=cbal\n",
    "    def deposit(self,depositamt):\n",
    "        self.damt=depositamt\n",
    "        self.bal=self.bal+self.damt\n",
    "        print(\"After depositing\",self.damt,\"\\t\",\"BALANCE=\",self.bal)\n",
    "    def withdraw(self,withdrawamt):\n",
    "        self.wamt=withdrawamt\n",
    "        self.bal=self.bal-self.wamt\n",
    "        print(\"After withdrawing\",self.wamt,\"\\t\",\"BALANCE=\",self.bal)\n",
    "    def balanceenq(self):\n",
    "        print(\"BALANCE:\",self.bal)\n",
    "    def display(self):\n",
    "        print(\"CUSTOMER NAME:\",self.cname)\n",
    "        print(\"ACCOUNT NO:\",self.caccno)\n",
    "        print(\"ADDRESS:\",self.caddr)\n",
    "        print(\"BALANCE:\",self.bal)\n",
    "        \n",
    "\n",
    "print(\"Enter details of Customer:\")\n",
    "name=input(\"Enter customer name:\")\n",
    "accno=input(\"Enter Account no:\")\n",
    "addr=input(\"enter Address:\")\n",
    "\n",
    "c1=customer(name,accno,addr,30000) #dynamically accepting customer details from the keyboard\n",
    "c1.withdraw(5000)\n",
    "c1.balanceenq()\n",
    "c1.deposit(10000)\n",
    "c1.display()"
   ]
  },
  {
   "cell_type": "code",
   "execution_count": 43,
   "id": "800d5e29",
   "metadata": {},
   "outputs": [
    {
     "name": "stdout",
     "output_type": "stream",
     "text": [
      "NAME: Scott ID: 101 SALARY: 30000.0 DESIGNATION: Manager LANGUAGES: ('Eng', 'hindi') DETAILS: {'grade': 'A', 'age': 25}\n",
      "NAME: Miller ID: 102 SALARY: 40000.0 DESIGNATION: Clerk LANGUAGES: ('Eng', 'Telugu') DETAILS: {'dname': 'mrkt', 'city': 'pune'}\n",
      "NAME: Blake ID: 103 SALARY: 50000.0 DESIGNATION: SE LANGUAGES: ('Eng', 'Tamil') DETAILS: {'dno': 11}\n",
      "Total No of Employee are: 3\n",
      "Company name: Infosys\n",
      "NAME: Scott ID: 101 SALARY: 30000.0 DESIGNATION: Manager LANGUAGES: ('Eng', 'hindi') DETAILS: {'grade': 'A', 'age': 25}\n",
      "None\n",
      "NAME: Miller ID: 102 SALARY: 40000.0 DESIGNATION: Clerk LANGUAGES: ('Eng', 'Telugu') DETAILS: {'dname': 'mrkt', 'city': 'pune'}\n",
      "None\n",
      "NAME: Blake ID: 103 SALARY: 50000.0 DESIGNATION: SE LANGUAGES: ('Eng', 'Tamil') DETAILS: {'dno': 11}\n",
      "None\n"
     ]
    }
   ],
   "source": [
    "class employee:\n",
    "    \"\"\"Employee Application\"\"\"\n",
    "    company=\"Infosys\"\n",
    "    empcount=0\n",
    "    def __init__(self,empname,empid,empsal,design=\"SE\",*languages,**details):\n",
    "        self.empname=empname\n",
    "        self.empid=empid\n",
    "        self.empsal=empsal\n",
    "        self.design=design\n",
    "        self.languages=languages\n",
    "        self.details=details\n",
    "        employee.empcount=employee.empcount+1\n",
    "    def displayemployee(self):\n",
    "        print(\"NAME:\",self.empname,\"ID:\",self.empid,\"SALARY:\",self.empsal,\"DESIGNATION:\",self.design,\"LANGUAGES:\",self.languages,\"DETAILS:\",self.details)\n",
    "emp1=employee(\"Scott\",101,30000.00,\"Manager\",\"Eng\",\"hindi\",grade=\"A\",age=25)\n",
    "emp2=employee(\"Miller\",102,40000.00,\"Clerk\",\"Eng\",\"Telugu\",dname=\"mrkt\",city=\"pune\")\n",
    "emp3=employee(\"Blake\",103,50000.00,\"SE\",\"Eng\",\"Tamil\",dno=11)\n",
    "\n",
    "emp1.displayemployee()\n",
    "emp2.displayemployee()\n",
    "emp3.displayemployee()\n",
    "\n",
    "print(\"Total No of Employee are:\",employee.empcount)\n",
    "print(\"Company name:\",employee.company)\n",
    "x=[emp1,emp2,emp3]\n",
    "for p in x:\n",
    "    print(p.displayemployee())"
   ]
  },
  {
   "cell_type": "code",
   "execution_count": 24,
   "id": "abad6300",
   "metadata": {},
   "outputs": [
    {
     "name": "stdout",
     "output_type": "stream",
     "text": [
      "NAME: Scott ID: 101 SALARY: 302500.0 DESIGNATION: Manager\n",
      "Salary after tax reduction: 272250.0\n"
     ]
    }
   ],
   "source": [
    "class employee:\n",
    "    \"\"\"Employee Application\"\"\"\n",
    "    company=\"Infosys\"\n",
    "    empcount=0\n",
    "    def __init__(self,empname,empid,empsal,design):\n",
    "        self.empname=empname\n",
    "        self.empid=empid\n",
    "        self.empsal=empsal\n",
    "        self.design=design\n",
    "        employee.empcount+=1\n",
    "    def da(self,daamt):\n",
    "        self.empsal=self.empsal+daamt\n",
    "    def ta(self,taamt):\n",
    "        self.empsal=self.empsal-taamt\n",
    "    def hra(self,hraamt):\n",
    "        self.empsal=self.empsal+hraamt\n",
    "    def pf(self,pfamt):\n",
    "        self.pfamt=self.empsal-pfamt\n",
    "    def tax(self):\n",
    "        if((self.empsal>250000)and(self.empsal<=500000)):\n",
    "            self.empsal=self.empsal-self.empsal*0.10\n",
    "            print(\"Salary after tax reduction:\",self.empsal)\n",
    "        elif((self.empsal>500000)and(self.empsal<=1000000)):\n",
    "            self.empsal=self.empsal-self.empsal*0.15\n",
    "            print(\"Salary after tax reduction:\",self.empsal)\n",
    "        elif(self.empsal>100000):\n",
    "            self.empsal=self.empsal-self.empsal*0.20\n",
    "            print(\"Salary after tax reduction:\",self.empsal)\n",
    "    def displayemployee(self):\n",
    "        print(\"NAME:\",self.empname,\"ID:\",self.empid,\"SALARY:\",self.empsal,\"DESIGNATION:\",self.design)\n",
    "emp1=employee(\"Scott\",101,300000.00,\"Manager\")\n",
    "emp1.da(1500)\n",
    "emp1.ta(2000)\n",
    "emp1.hra(3000)\n",
    "emp1.pf(1200)\n",
    "emp1.displayemployee()\n",
    "emp1.tax()"
   ]
  },
  {
   "cell_type": "code",
   "execution_count": 25,
   "id": "d3df7f46",
   "metadata": {},
   "outputs": [
    {
     "name": "stdout",
     "output_type": "stream",
     "text": [
      "NAME: Miller ID: 102 SALARY: 102100.0 DESIGNATION: Clerk\n",
      "Salary after tax reduction: 81680.0\n",
      "Total No of Employees are: 2\n",
      "COMPANY NAME: Infosys\n"
     ]
    }
   ],
   "source": [
    "emp2=employee(\"Miller\",102,100000.00,\"Clerk\")\n",
    "emp2.da(1100)\n",
    "emp2.hra(2000)\n",
    "emp2.ta(1000)\n",
    "emp2.pf(700)\n",
    "emp2.displayemployee()\n",
    "emp2.tax()\n",
    "print(\"Total No of Employees are:\",employee.empcount)\n",
    "print(\"COMPANY NAME:\",employee.company)"
   ]
  },
  {
   "cell_type": "code",
   "execution_count": 37,
   "id": "a1afdb96",
   "metadata": {},
   "outputs": [
    {
     "name": "stdout",
     "output_type": "stream",
     "text": [
      "a= 10\n",
      "c= 30\n",
      "b= 20\n",
      "d= 40\n",
      "b= 20\n",
      "e= 50\n"
     ]
    },
    {
     "ename": "AttributeError",
     "evalue": "'sample' object has no attribute 'a'",
     "output_type": "error",
     "traceback": [
      "\u001b[1;31m---------------------------------------------------------------------------\u001b[0m",
      "\u001b[1;31mAttributeError\u001b[0m                            Traceback (most recent call last)",
      "Input \u001b[1;32mIn [37]\u001b[0m, in \u001b[0;36m<cell line: 38>\u001b[1;34m()\u001b[0m\n\u001b[0;32m     31\u001b[0m \u001b[38;5;66;03m#total NSVs are---> b,d,e\u001b[39;00m\n\u001b[0;32m     32\u001b[0m \u001b[38;5;66;03m#S1 object can access-----> b,d\u001b[39;00m\n\u001b[0;32m     33\u001b[0m \u001b[38;5;66;03m#S2 object can access-----> b,e\u001b[39;00m\n\u001b[0;32m     34\u001b[0m \n\u001b[0;32m     35\u001b[0m \u001b[38;5;66;03m#removing attributes from the class and object using del keyword\u001b[39;00m\n\u001b[0;32m     36\u001b[0m \u001b[38;5;66;03m#removing the static variable(a) from the class\u001b[39;00m\n\u001b[0;32m     37\u001b[0m \u001b[38;5;28;01mdel\u001b[39;00m sample\u001b[38;5;241m.\u001b[39ma\n\u001b[1;32m---> 38\u001b[0m \u001b[38;5;28mprint\u001b[39m(\u001b[43ms1\u001b[49m\u001b[38;5;241;43m.\u001b[39;49m\u001b[43ma\u001b[49m)\n\u001b[0;32m     40\u001b[0m \u001b[38;5;66;03m#removing a Non-static variable(b) from object s1\u001b[39;00m\n\u001b[0;32m     41\u001b[0m \u001b[38;5;28;01mdel\u001b[39;00m s1\u001b[38;5;241m.\u001b[39mb\n",
      "\u001b[1;31mAttributeError\u001b[0m: 'sample' object has no attribute 'a'"
     ]
    }
   ],
   "source": [
    "class sample:\n",
    "    a=10\n",
    "    def display(self):\n",
    "        self.b=20\n",
    "s1=sample()  #object creation stmt\n",
    "\n",
    "s1.display()\n",
    "#accesing static variable(a)from outside the class\n",
    "print(\"a=\",sample.a)\n",
    "\n",
    "#adding a new static variable(c)from outside the classname\n",
    "sample.c=30\n",
    "print(\"c=\",sample.c)\n",
    "\n",
    "#accessing NSV(b)from outside the class using refrence variable\n",
    "print(\"b=\",s1.b)\n",
    "\n",
    "#adding a new NSV(d) to the object s1 explicity\n",
    "s1.d=40\n",
    "print(\"d=\",s1.d)\n",
    "\n",
    "#creating one more object\n",
    "s2=sample()\n",
    "s2.display()\n",
    "print(\"b=\",s2.b)\n",
    "\n",
    "#Adding a new NSV(e) to the  object s2\n",
    "s2.e=50\n",
    "print(\"e=\",s2.e)\n",
    "\n",
    "#total NSVs are---> b,d,e\n",
    "#S1 object can access-----> b,d\n",
    "#S2 object can access-----> b,e\n",
    "\n",
    "#removing attributes from the class and object using del keyword\n",
    "#removing the static variable(a) from the class\n",
    "del sample.a\n",
    "print(s1.a)   #print(s1.a)  we will get error a has been removed\n",
    "\n",
    "#removing a Non-static variable(b) from object s1\n",
    "del s1.b\n",
    "print(s2.b)   #print(s1.b)  we will get error a has been removed\n",
    "\n",
    "#NOTE:- del keyword can remove a SV or NSV,but del keyword cannot remove a object"
   ]
  },
  {
   "cell_type": "code",
   "execution_count": 39,
   "id": "3ff595fe",
   "metadata": {},
   "outputs": [
    {
     "ename": "AttributeError",
     "evalue": "'A' object has no attribute 'a'",
     "output_type": "error",
     "traceback": [
      "\u001b[1;31m---------------------------------------------------------------------------\u001b[0m",
      "\u001b[1;31mAttributeError\u001b[0m                            Traceback (most recent call last)",
      "Input \u001b[1;32mIn [39]\u001b[0m, in \u001b[0;36m<cell line: 9>\u001b[1;34m()\u001b[0m\n\u001b[0;32m      7\u001b[0m \u001b[38;5;66;03m#for removing SV(a) we should enter classname.a\u001b[39;00m\n\u001b[0;32m      8\u001b[0m \u001b[38;5;28;01mdel\u001b[39;00m A\u001b[38;5;241m.\u001b[39ma\n\u001b[1;32m----> 9\u001b[0m \u001b[38;5;28mprint\u001b[39m(\u001b[43ma1\u001b[49m\u001b[38;5;241;43m.\u001b[39;49m\u001b[43ma\u001b[49m)\n\u001b[0;32m     11\u001b[0m \u001b[38;5;66;03m#removing NSV(b)\u001b[39;00m\n\u001b[0;32m     12\u001b[0m \u001b[38;5;28;01mdel\u001b[39;00m a1\u001b[38;5;241m.\u001b[39mb\n",
      "\u001b[1;31mAttributeError\u001b[0m: 'A' object has no attribute 'a'"
     ]
    }
   ],
   "source": [
    "class A:\n",
    "    a=10\n",
    "    def display():\n",
    "        self.b=20\n",
    "a1=A()\n",
    "#for removing SV(a) we should enter classname.a\n",
    "del A.a\n",
    "print(a1.a)  \n",
    "\n",
    "#removing NSV(b)\n",
    "del a1.b"
   ]
  },
  {
   "cell_type": "code",
   "execution_count": 41,
   "id": "6b5309be",
   "metadata": {},
   "outputs": [
    {
     "name": "stdout",
     "output_type": "stream",
     "text": [
      "<__main__.sample object at 0x000002366A6AFCD0>\n",
      "<__main__.sample object at 0x000002366A6AFDF0>\n",
      "<__main__.sample object at 0x000002366A6AFDF0>\n"
     ]
    }
   ],
   "source": [
    "class sample:\n",
    "    pass\n",
    "s1=sample()   #RC=1\n",
    "s2=sample()   #RC=2\n",
    "s3=s2         #here s2 and s3 are pointing to s2 object\n",
    "print(s1)\n",
    "print(s2)\n",
    "print(s3)"
   ]
  },
  {
   "cell_type": "code",
   "execution_count": 42,
   "id": "c56f97c5",
   "metadata": {},
   "outputs": [
    {
     "ename": "NameError",
     "evalue": "name 's1' is not defined",
     "output_type": "error",
     "traceback": [
      "\u001b[1;31m---------------------------------------------------------------------------\u001b[0m",
      "\u001b[1;31mNameError\u001b[0m                                 Traceback (most recent call last)",
      "Input \u001b[1;32mIn [42]\u001b[0m, in \u001b[0;36m<cell line: 2>\u001b[1;34m()\u001b[0m\n\u001b[0;32m      1\u001b[0m \u001b[38;5;28;01mdel\u001b[39;00m s1  \u001b[38;5;66;03m#RC=0 garbage collector is called s1 is removed\u001b[39;00m\n\u001b[1;32m----> 2\u001b[0m \u001b[38;5;28mprint\u001b[39m(\u001b[43ms1\u001b[49m)\n",
      "\u001b[1;31mNameError\u001b[0m: name 's1' is not defined"
     ]
    }
   ],
   "source": [
    "del s1  #RC=0 garbage collector is called s1 is removed means directly object is also get removed\n",
    "print(s1)"
   ]
  },
  {
   "cell_type": "code",
   "execution_count": 46,
   "id": "43b458cd",
   "metadata": {},
   "outputs": [
    {
     "ename": "NameError",
     "evalue": "name 's2' is not defined",
     "output_type": "error",
     "traceback": [
      "\u001b[1;31m---------------------------------------------------------------------------\u001b[0m",
      "\u001b[1;31mNameError\u001b[0m                                 Traceback (most recent call last)",
      "Input \u001b[1;32mIn [46]\u001b[0m, in \u001b[0;36m<cell line: 1>\u001b[1;34m()\u001b[0m\n\u001b[1;32m----> 1\u001b[0m \u001b[38;5;28;01mdel\u001b[39;00m s2  \u001b[38;5;66;03m#RC becomes 1 to object s2\u001b[39;00m\n\u001b[0;32m      2\u001b[0m \u001b[38;5;28;01mdel\u001b[39;00m s3  \u001b[38;5;66;03m#RC become 0,garbaje collector is called s2 and s3 removed\u001b[39;00m\n\u001b[0;32m      3\u001b[0m \u001b[38;5;28mprint\u001b[39m(s2)\n",
      "\u001b[1;31mNameError\u001b[0m: name 's2' is not defined"
     ]
    }
   ],
   "source": [
    "del s2  #RC becomes 1 to object s2\n",
    "del s3  #RC become 0,garbaje collector is called s2 and s3 removed\n",
    "print(s2)\n",
    "print(s3)"
   ]
  },
  {
   "cell_type": "code",
   "execution_count": 52,
   "id": "8e507a4c",
   "metadata": {},
   "outputs": [
    {
     "name": "stdout",
     "output_type": "stream",
     "text": [
      "<__main__.sample object at 0x000001D0920E31C0>\n",
      "10\n",
      "20\n",
      "<__main__.sample object at 0x000001D0920E31C0>\n",
      "40\n",
      "50\n"
     ]
    }
   ],
   "source": [
    "#removing SV,NSV,object\n",
    "class sample:\n",
    "    x=10\n",
    "    y=20\n",
    "    def m1(self):\n",
    "        self.a=40\n",
    "        self.b=50\n",
    "s1=sample()    #RC=1\n",
    "print(s1)\n",
    "print(sample.x)\n",
    "print(sample.y)\n",
    "#removing both the static variables\n",
    "del sample.x\n",
    "del sample.y\n",
    "print(s1)  #here s1 will get printed for removing s1 (del s1) but printing sample.x will get error\n",
    "\n",
    "s1.m1()\n",
    "print(s1.a)\n",
    "print(s1.b)"
   ]
  },
  {
   "cell_type": "code",
   "execution_count": 54,
   "id": "7be1128b",
   "metadata": {},
   "outputs": [
    {
     "ename": "AttributeError",
     "evalue": "type object 'sample' has no attribute 'x'",
     "output_type": "error",
     "traceback": [
      "\u001b[1;31m---------------------------------------------------------------------------\u001b[0m",
      "\u001b[1;31mAttributeError\u001b[0m                            Traceback (most recent call last)",
      "Input \u001b[1;32mIn [54]\u001b[0m, in \u001b[0;36m<cell line: 1>\u001b[1;34m()\u001b[0m\n\u001b[1;32m----> 1\u001b[0m \u001b[38;5;28mprint\u001b[39m(\u001b[43msample\u001b[49m\u001b[38;5;241;43m.\u001b[39;49m\u001b[43mx\u001b[49m)\n\u001b[0;32m      2\u001b[0m \u001b[38;5;28mprint\u001b[39m(sample\u001b[38;5;241m.\u001b[39my)\n",
      "\u001b[1;31mAttributeError\u001b[0m: type object 'sample' has no attribute 'x'"
     ]
    }
   ],
   "source": [
    "print(sample.x)\n",
    "print(sample.y)\n",
    "#deleted already above so we will get error"
   ]
  },
  {
   "cell_type": "code",
   "execution_count": 56,
   "id": "b29771b9",
   "metadata": {},
   "outputs": [
    {
     "ename": "AttributeError",
     "evalue": "'sample' object has no attribute 'a'",
     "output_type": "error",
     "traceback": [
      "\u001b[1;31m---------------------------------------------------------------------------\u001b[0m",
      "\u001b[1;31mAttributeError\u001b[0m                            Traceback (most recent call last)",
      "Input \u001b[1;32mIn [56]\u001b[0m, in \u001b[0;36m<cell line: 4>\u001b[1;34m()\u001b[0m\n\u001b[0;32m      2\u001b[0m \u001b[38;5;28;01mdel\u001b[39;00m s1\u001b[38;5;241m.\u001b[39ma\n\u001b[0;32m      3\u001b[0m \u001b[38;5;28;01mdel\u001b[39;00m s1\u001b[38;5;241m.\u001b[39mb\n\u001b[1;32m----> 4\u001b[0m \u001b[38;5;28mprint\u001b[39m(\u001b[43ms1\u001b[49m\u001b[38;5;241;43m.\u001b[39;49m\u001b[43ma\u001b[49m)\n\u001b[0;32m      5\u001b[0m \u001b[38;5;28mprint\u001b[39m(s1\u001b[38;5;241m.\u001b[39mb)\n",
      "\u001b[1;31mAttributeError\u001b[0m: 'sample' object has no attribute 'a'"
     ]
    }
   ],
   "source": [
    "#removing NSVs\n",
    "del s1.a\n",
    "del s1.b\n",
    "print(s1.a)\n",
    "print(s1.b)"
   ]
  },
  {
   "cell_type": "code",
   "execution_count": 57,
   "id": "3649cb5f",
   "metadata": {},
   "outputs": [
    {
     "ename": "NameError",
     "evalue": "name 's1' is not defined",
     "output_type": "error",
     "traceback": [
      "\u001b[1;31m---------------------------------------------------------------------------\u001b[0m",
      "\u001b[1;31mNameError\u001b[0m                                 Traceback (most recent call last)",
      "Input \u001b[1;32mIn [57]\u001b[0m, in \u001b[0;36m<cell line: 2>\u001b[1;34m()\u001b[0m\n\u001b[0;32m      1\u001b[0m \u001b[38;5;28;01mdel\u001b[39;00m s1\n\u001b[1;32m----> 2\u001b[0m \u001b[38;5;28mprint\u001b[39m(\u001b[43ms1\u001b[49m)\n",
      "\u001b[1;31mNameError\u001b[0m: name 's1' is not defined"
     ]
    }
   ],
   "source": [
    "del s1\n",
    "print(s1)"
   ]
  },
  {
   "cell_type": "code",
   "execution_count": 51,
   "id": "2620370a",
   "metadata": {
    "scrolled": true
   },
   "outputs": [
    {
     "name": "stdout",
     "output_type": "stream",
     "text": [
      "40\n",
      "50\n"
     ]
    }
   ],
   "source": [
    "s2=sample()\n",
    "s2.m1()\n",
    "print(s2.a)\n",
    "print(s2.b)"
   ]
  },
  {
   "cell_type": "code",
   "execution_count": null,
   "id": "1a1e5a47",
   "metadata": {},
   "outputs": [],
   "source": [
    "#DESTRUCTOR"
   ]
  },
  {
   "cell_type": "code",
   "execution_count": 11,
   "id": "a3f36eed",
   "metadata": {},
   "outputs": [
    {
     "name": "stdout",
     "output_type": "stream",
     "text": [
      "constructor called\n",
      "destructor called\n",
      "constructor called\n",
      "destructor called\n",
      "constructor called\n",
      "destructor called\n",
      "<__main__.test object at 0x000002426317CE20>\n",
      "constructor called\n",
      "destructor called\n",
      "<__main__.test object at 0x00000242631B8160>\n"
     ]
    }
   ],
   "source": [
    "class test:\n",
    "    def __init__(self):\n",
    "        print(\"constructor called\")\n",
    "    def __del__(self):\n",
    "        print(\"destructor called\")\n",
    "t1=test()    #both constructor called and destructor called will get printed\n",
    "t2=test()    #both constructor called and destructor called will get printed  \n",
    "t3=test()    #both constructor called and destructor called will get printed\n",
    "print(t3)\n",
    "t3=test()   #here new object get created old t3 has been removed\n",
    "print(t3)   "
   ]
  },
  {
   "cell_type": "code",
   "execution_count": 24,
   "id": "40815891",
   "metadata": {},
   "outputs": [
    {
     "name": "stdout",
     "output_type": "stream",
     "text": [
      "constructor called\n",
      "destructor called\n",
      "destructor called\n",
      "destructor called\n",
      "<__main__.test object at 0x000002426316F610>\n",
      "<__main__.test object at 0x000002426316F610>\n",
      "<__main__.test object at 0x000002426316F610>\n",
      "constructor called\n",
      "<__main__.test object at 0x00000242631CC730>\n",
      "<__main__.test object at 0x000002426316F610>\n",
      "constructor called\n",
      "<__main__.test object at 0x00000242631CCA00>\n",
      "constructor called\n",
      "destructor called\n"
     ]
    }
   ],
   "source": [
    "class test:\n",
    "    def __init__(self):\n",
    "        print(\"constructor called\")\n",
    "    def __del__(self):\n",
    "        print(\"destructor called\")\n",
    "t1=test() #here both constructor and destructor will be called\n",
    "t2=t1     #here only destructor called is get printed\n",
    "t3=t1     #address will be same for all\n",
    "print(t1)\n",
    "print(t2)\n",
    "print(t3)   #RC=3\n",
    "\n",
    "t1=test()  #RC will become now 2\n",
    "print(t1)  #new obj get created, now address will be diff for t1\n",
    "\n",
    "#now if we print the add of t2 it will be same as t3 and diff from t1\n",
    "print(t2)\n",
    "\n",
    "t2=test()\n",
    "print(t2)\n",
    "\n",
    "t3=test()\n",
    "#constructor will be executed 4 times because we use 4 time classname(test())\n",
    "#those many time object is removed destructor will executed"
   ]
  },
  {
   "cell_type": "code",
   "execution_count": 42,
   "id": "95f6fd12",
   "metadata": {},
   "outputs": [
    {
     "name": "stdout",
     "output_type": "stream",
     "text": [
      "constructor called\n",
      "destructor called\n",
      "<__main__.test object at 0x00000242631CC760>\n",
      "destructor called\n",
      "constructor called\n",
      "<__main__.test object at 0x0000024264274400>\n",
      "<__main__.test object at 0x0000024264274400>\n",
      "<__main__.test object at 0x0000024264274400>\n",
      "destructor called\n"
     ]
    },
    {
     "ename": "NameError",
     "evalue": "name 't3' is not defined",
     "output_type": "error",
     "traceback": [
      "\u001b[1;31m---------------------------------------------------------------------------\u001b[0m",
      "\u001b[1;31mNameError\u001b[0m                                 Traceback (most recent call last)",
      "Input \u001b[1;32mIn [42]\u001b[0m, in \u001b[0;36m<cell line: 20>\u001b[1;34m()\u001b[0m\n\u001b[0;32m     18\u001b[0m \u001b[38;5;28mprint\u001b[39m(t3) \u001b[38;5;66;03m#obj is available t3 will be executed\u001b[39;00m\n\u001b[0;32m     19\u001b[0m \u001b[38;5;28;01mdel\u001b[39;00m t3    \u001b[38;5;66;03m#now obj is get removed if we print t3 now it will not executed\u001b[39;00m\n\u001b[1;32m---> 20\u001b[0m \u001b[38;5;28mprint\u001b[39m(\u001b[43mt3\u001b[49m)\n",
      "\u001b[1;31mNameError\u001b[0m: name 't3' is not defined"
     ]
    }
   ],
   "source": [
    "#del keyword is not for removing obj it is used to decrease RC by 1\n",
    "#when RC=0 garbage collector is called and destructor executed\n",
    "class test:\n",
    "    def __init__(self):\n",
    "        print(\"constructor called\")\n",
    "    def __del__(self):\n",
    "        print(\"destructor called\")\n",
    "t1=test()  #RC=1\n",
    "print(t1)\n",
    "del t1    #RC=0 here destructor will be get called\n",
    "#print(t1)\n",
    "\n",
    "t2=test()  #RC=1\n",
    "print(t2)  \n",
    "t3=t2      #RC=2\n",
    "print(t3)\n",
    "del t2    #RC will become 1 obj will be still available\n",
    "print(t3) #obj is available t3 will be executed\n",
    "del t3    #now obj is get removed if we print t3 now it will not executed\n",
    "print(t3)\n",
    "\n",
    "#note :- if no obj is removed using del keyword then destructor will not get executed"
   ]
  },
  {
   "cell_type": "code",
   "execution_count": null,
   "id": "9b3b67e8",
   "metadata": {},
   "outputs": [],
   "source": [
    "#ABSTRACTION:---- hiding data and methods.\n",
    "#concept of hiding the properties data of one class from other classes."
   ]
  },
  {
   "cell_type": "code",
   "execution_count": 31,
   "id": "99cd9e71",
   "metadata": {},
   "outputs": [
    {
     "name": "stdout",
     "output_type": "stream",
     "text": [
      "100\n",
      "200\n",
      "100 <class 'int'>\n",
      "200 <class 'int'>\n"
     ]
    },
    {
     "ename": "AttributeError",
     "evalue": "type object 'sample' has no attribute '__x'",
     "output_type": "error",
     "traceback": [
      "\u001b[1;31m---------------------------------------------------------------------------\u001b[0m",
      "\u001b[1;31mAttributeError\u001b[0m                            Traceback (most recent call last)",
      "Input \u001b[1;32mIn [31]\u001b[0m, in \u001b[0;36m<cell line: 12>\u001b[1;34m()\u001b[0m\n\u001b[0;32m     10\u001b[0m s1\u001b[38;5;241m=\u001b[39msample()\n\u001b[0;32m     11\u001b[0m s1\u001b[38;5;241m.\u001b[39mdisplay()\n\u001b[1;32m---> 12\u001b[0m \u001b[38;5;28mprint\u001b[39m(\u001b[43msample\u001b[49m\u001b[38;5;241;43m.\u001b[39;49m\u001b[43m__x\u001b[49m)\n",
      "\u001b[1;31mAttributeError\u001b[0m: type object 'sample' has no attribute '__x'"
     ]
    }
   ],
   "source": [
    "class sample:\n",
    "    __x=100\n",
    "    y=200\n",
    "    print(__x)\n",
    "    print(y)\n",
    "    def display(self):\n",
    "        print(sample.__x,type(sample.__x))\n",
    "        print(sample.y,type(sample.y))\n",
    "#end of class\n",
    "s1=sample()\n",
    "s1.display()\n",
    "print(sample.__x)  #can't be accessed from outside class error will occur"
   ]
  },
  {
   "cell_type": "code",
   "execution_count": 47,
   "id": "6ff6be0b",
   "metadata": {},
   "outputs": [
    {
     "name": "stdout",
     "output_type": "stream",
     "text": [
      "200\n"
     ]
    }
   ],
   "source": [
    "print(sample.y)"
   ]
  },
  {
   "cell_type": "code",
   "execution_count": 32,
   "id": "750faf19",
   "metadata": {},
   "outputs": [
    {
     "name": "stdout",
     "output_type": "stream",
     "text": [
      "a= 300\n",
      "y= 200\n"
     ]
    }
   ],
   "source": [
    "class test:\n",
    "    a=300\n",
    "    def show(self):\n",
    "        print(\"a=\",test.a)\n",
    "        print(\"y=\",sample.y)\n",
    "        #print(\"x=\",sample.__x) if we try to access this x error will occur\n",
    "t1=test()\n",
    "t1.show()"
   ]
  },
  {
   "cell_type": "code",
   "execution_count": 57,
   "id": "e615d71b",
   "metadata": {},
   "outputs": [
    {
     "name": "stdout",
     "output_type": "stream",
     "text": [
      "100\n",
      "200\n"
     ]
    },
    {
     "ename": "AttributeError",
     "evalue": "type object 'sample' has no attribute '__x'",
     "output_type": "error",
     "traceback": [
      "\u001b[1;31m---------------------------------------------------------------------------\u001b[0m",
      "\u001b[1;31mAttributeError\u001b[0m                            Traceback (most recent call last)",
      "Input \u001b[1;32mIn [57]\u001b[0m, in \u001b[0;36m<cell line: 10>\u001b[1;34m()\u001b[0m\n\u001b[0;32m      8\u001b[0m s1\u001b[38;5;241m=\u001b[39msample()\n\u001b[0;32m      9\u001b[0m s1\u001b[38;5;241m.\u001b[39mdisplay()\n\u001b[1;32m---> 10\u001b[0m \u001b[38;5;28mprint\u001b[39m(\u001b[43msample\u001b[49m\u001b[38;5;241;43m.\u001b[39;49m\u001b[43m__x\u001b[49m)\n",
      "\u001b[1;31mAttributeError\u001b[0m: type object 'sample' has no attribute '__x'"
     ]
    }
   ],
   "source": [
    "#hiding static and NSV\n",
    "class sample:\n",
    "    __x=100\n",
    "    def display(self):\n",
    "        self.__y=200\n",
    "        print(sample.__x)\n",
    "        print(self.__y)\n",
    "s1=sample()\n",
    "s1.display()\n",
    "print(sample.__x)  #SV cant be accessed\n",
    "print(sample.__y)  #NSV cant be accessed"
   ]
  },
  {
   "cell_type": "code",
   "execution_count": 67,
   "id": "8615a368",
   "metadata": {},
   "outputs": [
    {
     "name": "stdout",
     "output_type": "stream",
     "text": [
      "x= 100\n",
      "y= 200\n",
      "z= 300\n",
      "a= 50\n",
      "z= 300\n",
      "a= 50\n"
     ]
    },
    {
     "ename": "AttributeError",
     "evalue": "'sample' object has no attribute 'display3'",
     "output_type": "error",
     "traceback": [
      "\u001b[1;31m---------------------------------------------------------------------------\u001b[0m",
      "\u001b[1;31mAttributeError\u001b[0m                            Traceback (most recent call last)",
      "Input \u001b[1;32mIn [67]\u001b[0m, in \u001b[0;36m<cell line: 19>\u001b[1;34m()\u001b[0m\n\u001b[0;32m     17\u001b[0m s1\u001b[38;5;241m.\u001b[39mdisplay()   \u001b[38;5;66;03m#all method will be executed\u001b[39;00m\n\u001b[0;32m     18\u001b[0m s1\u001b[38;5;241m.\u001b[39mdisplay2()  \u001b[38;5;66;03m#display 2 and display 3 will be executed\u001b[39;00m\n\u001b[1;32m---> 19\u001b[0m \u001b[43ms1\u001b[49m\u001b[38;5;241;43m.\u001b[39;49m\u001b[43mdisplay3\u001b[49m()\n",
      "\u001b[1;31mAttributeError\u001b[0m: 'sample' object has no attribute 'display3'"
     ]
    }
   ],
   "source": [
    "#hiding a method\n",
    "class sample:\n",
    "    __x=100      #hiding a SV\n",
    "    def display(self):\n",
    "        self.__y=200    #hiding a NSV\n",
    "        print(\"x=\",sample.__x)\n",
    "        print(\"y=\",self.__y)\n",
    "        self.display2()\n",
    "    def display2(self):\n",
    "        self.z=sample.__x+self.__y\n",
    "        print(\"z=\",self.z)\n",
    "        self.__display3()\n",
    "    def __display3(self):   #hiding a method\n",
    "        self.a=50\n",
    "        print(\"a=\",self.a)\n",
    "s1=sample()\n",
    "s1.display()   #all method will be executed\n",
    "s1.display2()  #display 2 and display 3 will be executed\n",
    "s1.display3()  #error we are hiding the method"
   ]
  },
  {
   "cell_type": "code",
   "execution_count": 72,
   "id": "7f587d61",
   "metadata": {},
   "outputs": [
    {
     "name": "stdout",
     "output_type": "stream",
     "text": [
      "50\n",
      "300\n",
      "50\n"
     ]
    }
   ],
   "source": [
    "print(s1.a)   #we can print 'a' value if method is hiding,because already 2 time display3 has executed in display1,2\n",
    "#print(sample.__x)  error will occur we are hiding value of x\n",
    "#print(s1.__y)      and y.\n",
    "print(s1.z)\n",
    "print(s1.a)"
   ]
  },
  {
   "cell_type": "code",
   "execution_count": 3,
   "id": "ea5d0ec6",
   "metadata": {},
   "outputs": [
    {
     "name": "stdout",
     "output_type": "stream",
     "text": [
      "Enter Husband Name:Blake\n",
      "Enter Wife Name:Sony\n",
      "Enter Husband Age:40\n",
      "Enter Wife Age:30\n",
      "Enter Salary:40000\n",
      "Name: Blake\n",
      "Wife Name: Sony\n",
      "Husband Age: 40\n"
     ]
    },
    {
     "ename": "AttributeError",
     "evalue": "type object 'sample' has no attribute 'wage'",
     "output_type": "error",
     "traceback": [
      "\u001b[1;31m---------------------------------------------------------------------------\u001b[0m",
      "\u001b[1;31mAttributeError\u001b[0m                            Traceback (most recent call last)",
      "Input \u001b[1;32mIn [3]\u001b[0m, in \u001b[0;36m<cell line: 11>\u001b[1;34m()\u001b[0m\n\u001b[0;32m      9\u001b[0m \u001b[38;5;28mprint\u001b[39m(\u001b[38;5;124m\"\u001b[39m\u001b[38;5;124mWife Name:\u001b[39m\u001b[38;5;124m\"\u001b[39m,sample\u001b[38;5;241m.\u001b[39mwname)\n\u001b[0;32m     10\u001b[0m \u001b[38;5;28mprint\u001b[39m(\u001b[38;5;124m\"\u001b[39m\u001b[38;5;124mHusband Age:\u001b[39m\u001b[38;5;124m\"\u001b[39m,sample\u001b[38;5;241m.\u001b[39mhage)\n\u001b[1;32m---> 11\u001b[0m \u001b[38;5;28mprint\u001b[39m(\u001b[38;5;124m\"\u001b[39m\u001b[38;5;124mWife Age:\u001b[39m\u001b[38;5;124m\"\u001b[39m,\u001b[43msample\u001b[49m\u001b[38;5;241;43m.\u001b[39;49m\u001b[43mwage\u001b[49m)\n\u001b[0;32m     12\u001b[0m \u001b[38;5;28mprint\u001b[39m(\u001b[38;5;124m\"\u001b[39m\u001b[38;5;124mSalary:\u001b[39m\u001b[38;5;124m\"\u001b[39m,sample\u001b[38;5;241m.\u001b[39msal)\n",
      "\u001b[1;31mAttributeError\u001b[0m: type object 'sample' has no attribute 'wage'"
     ]
    }
   ],
   "source": [
    "class sample:\n",
    "    hname=input(\"Enter Husband Name:\")\n",
    "    wname=input(\"Enter Wife Name:\")\n",
    "    hage=input(\"Enter Husband Age:\")\n",
    "    __wage=input(\"Enter Wife Age:\")\n",
    "    __sal=input(\"Enter Salary:\")\n",
    "s1=sample()\n",
    "print(\"Name:\",sample.hname)\n",
    "print(\"Wife Name:\",sample.wname)\n",
    "print(\"Husband Age:\",sample.hage)\n",
    "#print(\"Wife Age:\",sample.__wage)  #error will occur hiding the values\n",
    "#print(\"Salary:\",sample.__sal)"
   ]
  },
  {
   "cell_type": "code",
   "execution_count": 9,
   "id": "8c93a133",
   "metadata": {},
   "outputs": [
    {
     "name": "stdout",
     "output_type": "stream",
     "text": [
      "x= 10\n",
      "y= 20\n"
     ]
    },
    {
     "ename": "AttributeError",
     "evalue": "type object 'sample' has no attribute '__x'",
     "output_type": "error",
     "traceback": [
      "\u001b[1;31m---------------------------------------------------------------------------\u001b[0m",
      "\u001b[1;31mAttributeError\u001b[0m                            Traceback (most recent call last)",
      "Input \u001b[1;32mIn [9]\u001b[0m, in \u001b[0;36m<cell line: 12>\u001b[1;34m()\u001b[0m\n\u001b[0;32m     10\u001b[0m \u001b[38;5;66;03m#s1.display()  error will occur\u001b[39;00m\n\u001b[0;32m     11\u001b[0m s1\u001b[38;5;241m.\u001b[39mshow()\n\u001b[1;32m---> 12\u001b[0m \u001b[38;5;28mprint\u001b[39m(\u001b[43msample\u001b[49m\u001b[38;5;241;43m.\u001b[39;49m\u001b[43m__x\u001b[49m)\n\u001b[0;32m     13\u001b[0m \u001b[38;5;28mprint\u001b[39m(sample\u001b[38;5;241m.\u001b[39m__y)\n",
      "\u001b[1;31mAttributeError\u001b[0m: type object 'sample' has no attribute '__x'"
     ]
    }
   ],
   "source": [
    "class sample:\n",
    "    __x=10\n",
    "    def __display(self):\n",
    "        self.__y=20\n",
    "    def show(self):\n",
    "        self.__display() #here display should be called first in show method if we want to print y value.and then other will get printed\n",
    "        print(\"x=\",sample.__x)\n",
    "        print(\"y=\",self.__y)\n",
    "s1=sample()\n",
    "#s1.display()  error will occur\n",
    "s1.show()\n",
    "print(sample.__x)  #values are hidden of x and y\n",
    "print(sample.__y)"
   ]
  },
  {
   "cell_type": "code",
   "execution_count": null,
   "id": "7772498a",
   "metadata": {},
   "outputs": [],
   "source": [
    "#INHERITANCE:----- concpet of making available the properties of one class to another class.\n"
   ]
  },
  {
   "cell_type": "code",
   "execution_count": 17,
   "id": "6f45ecb6",
   "metadata": {},
   "outputs": [
    {
     "name": "stdout",
     "output_type": "stream",
     "text": [
      "from derived class:\n",
      "a= 55 2334985572400\n",
      "b= 20\n",
      "c= 30\n",
      "d= 40\n",
      "a= 10\n",
      "e= 145\n",
      "\n",
      "\n",
      "from super class:\n",
      "a= 10 2334985382480\n",
      "b= 20\n",
      "x= 4.5\n",
      "x= 4.5\n",
      "from super class:\n",
      "a= 10 2334985382480\n",
      "b= 20\n",
      "x= 4.5\n",
      "55\n"
     ]
    }
   ],
   "source": [
    "class A:\n",
    "    a=10\n",
    "    b=20\n",
    "    def m1(self):\n",
    "        print(\"from super class:\")\n",
    "        self.x=4.5\n",
    "        print(\"a=\",A.a,id(A.a))\n",
    "        print(\"b=\",A.b)\n",
    "        print(\"x=\",self.x)\n",
    "class B(A):    #class B extending A\n",
    "    c=30\n",
    "    d=40\n",
    "    a=50    #Static Variable = 4\n",
    "    def m2(self):\n",
    "        print(\"from derived class:\")\n",
    "        B.a=B.a+5   #print 55 a latest value will be taken\n",
    "        print(\"a=\",B.a,id(B.a))\n",
    "        print(\"b=\",B.b)\n",
    "        print(\"c=\",B.c)\n",
    "        print(\"d=\",B.d)\n",
    "        print(\"a=\",A.a)   #here class A value will be printed\n",
    "        self.e=B.a+B.b+B.c+B.d\n",
    "        print(\"e=\",self.e)\n",
    "        print(\"\\n\")\n",
    "        self.m1()   #calling method 'm1' of class A ,so class A value will be printed\n",
    "        print(\"x=\",self.x)\n",
    "b1=B()\n",
    "b1.m2()   #all m2 and m1 get called or class B and A values get printed\n",
    "b1.m1()\n",
    "print(B.a)  #class B value of A will get access"
   ]
  },
  {
   "cell_type": "code",
   "execution_count": 36,
   "id": "58bcf741",
   "metadata": {},
   "outputs": [
    {
     "name": "stdout",
     "output_type": "stream",
     "text": [
      "10\n",
      "30\n",
      "constructor of A\n",
      "x= 10\n",
      "y= 20\n",
      "z= 30\n",
      "sum= 60\n",
      "p= 75\n",
      "Hello....from class A\n",
      "p= 75\n",
      "hello\n",
      "Hello....from class B\n",
      "hello\n",
      "10\n",
      "20\n",
      "75\n"
     ]
    }
   ],
   "source": [
    "#program illustrating inheritance\n",
    "p=70  #globalV\n",
    "def show1():  #fun,this func can be access by all classes and methods\n",
    "    print(\"hello\")\n",
    "class A:\n",
    "    x=10\n",
    "    print(x)\n",
    "    def __init__(self):    #constructor\n",
    "        self.y=20\n",
    "        print(\"constructor of A\")\n",
    "    def display(self):\n",
    "        print(\"Hello....from class A\")\n",
    "        print(\"p=\",p)\n",
    "        show1()\n",
    "class B(A):   #class B extending class A\n",
    "    z=30\n",
    "    print(z)\n",
    "    def display2(self):\n",
    "        print(\"Hello....from class B\")\n",
    "    def show(self):\n",
    "        global p   #forward declaration(if we want to modify global variable)\n",
    "        print(\"x=\",B.x)  #accessing x of class A, NSV accessed using class name\n",
    "        print(\"y=\",self.y)  #accessing y of class A, NSV accessed using self\n",
    "        print(\"z=\",B.z)\n",
    "        p=75\n",
    "        sum1=B.x+self.y+B.z    #sum1 is local variable\n",
    "        print(\"sum=\",sum1)\n",
    "        print(\"p=\",p)\n",
    "        self.display()   #accessing method of class A using self\n",
    "        self.display2()  #accessing method of class B using self\n",
    "        show1()\n",
    "b1=B()    #Class A and constructor will be executed\n",
    "b1.show()   \n",
    "print(B.x)\n",
    "print(b1.y)\n",
    "#print(sum1)   #local variables cant be accessed from outside the class\n",
    "print(p)"
   ]
  },
  {
   "cell_type": "code",
   "execution_count": 46,
   "id": "0933ab4a",
   "metadata": {},
   "outputs": [
    {
     "name": "stdout",
     "output_type": "stream",
     "text": [
      "base class constructor....\n",
      "from m2....\n",
      "from m2....\n"
     ]
    }
   ],
   "source": [
    "#when sub class object is created,then first constructor of super class is executed.\n",
    "class x:\n",
    "    def __init__(self):\n",
    "        print(\"base class constructor....\")\n",
    "    def m1(self):\n",
    "        print(\"from m1....\")\n",
    "class y(x):    #now class y has 2 method and one constructor\n",
    "    def m2(self):\n",
    "        print(\"from m2....\")\n",
    "y1=y()\n",
    "y1.m2()\n",
    "y1.m2()"
   ]
  },
  {
   "cell_type": "code",
   "execution_count": 51,
   "id": "188354b7",
   "metadata": {},
   "outputs": [
    {
     "name": "stdout",
     "output_type": "stream",
     "text": [
      "sub class constructor....\n",
      "<__main__.y object at 0x0000021FAE2E5D00>\n",
      "from m1....\n",
      "from m2....\n",
      "x\n",
      "(<class 'object'>,)\n",
      "(<class '__main__.x'>,)\n",
      "super class constructor....\n"
     ]
    }
   ],
   "source": [
    "class x:\n",
    "    def __init__(self):\n",
    "        print(\"super class constructor....\")\n",
    "    def m1(self):\n",
    "        print(\"from m1....\")\n",
    "class y(x):\n",
    "    def __init__(self):\n",
    "        print(\"sub class constructor....\")\n",
    "    def m2(self):\n",
    "        print(\"from m2....\")\n",
    "y1=y()    #here y class constructor will be first executed\n",
    "print(y1)\n",
    "y1.m1()\n",
    "y1.m2()\n",
    "print(x.__name__)  #print the classname\n",
    "print(x.__bases__) #to know base class of x\n",
    "print(y.__bases__) #to know base class of y\n",
    "\n",
    "#If we have constructor in super class and sub class and if we create object of sub class,then sub class constructor only is executed,\n",
    "#to execute super class constuctor also,create object of super class.\n",
    "x1=x()"
   ]
  },
  {
   "cell_type": "code",
   "execution_count": 58,
   "id": "5be88c5b",
   "metadata": {},
   "outputs": [
    {
     "name": "stdout",
     "output_type": "stream",
     "text": [
      "(<class '__main__.A'>,)\n",
      "(<class 'object'>,)\n",
      "(<class '__main__.B'>,)\n",
      "(<class 'object'>,)\n"
     ]
    }
   ],
   "source": [
    "#object class:object class is the super class for every class in python.\n",
    "#object class is a pre-defined(built-in)class,which is defined in __builtins__ module\n",
    "#If a class is not extending any other class,then by default that class internally extends object class.\n",
    "\n",
    "class A:\n",
    "    pass\n",
    "class B(A):\n",
    "    pass\n",
    "class C(B):\n",
    "    pass\n",
    "class D:\n",
    "    pass\n",
    "\n",
    "print(B.__bases__) #to know the base class of B\n",
    "print(A.__bases__) #to know the base class of A, by default i.e object class\n",
    "print(C.__bases__)\n",
    "print(D.__bases__)\n",
    "#help(object)       #to know about object class\n",
    "#print(dir(object)) #to know the properties of object class\n",
    "#help(object.__hash__)# to know the hash value of object class"
   ]
  },
  {
   "cell_type": "code",
   "execution_count": 59,
   "id": "fb93d2cf",
   "metadata": {},
   "outputs": [
    {
     "name": "stdout",
     "output_type": "stream",
     "text": [
      "from m1.....\n",
      "(<class 'object'>,)\n"
     ]
    }
   ],
   "source": [
    "#Single Inheritence: A derived class with single base class\n",
    "class A:\n",
    "    def m1(self):\n",
    "        print(\"from m1.....\")\n",
    "a1=A()\n",
    "a1.m1()\n",
    "print(A.__bases__)"
   ]
  },
  {
   "cell_type": "code",
   "execution_count": 60,
   "id": "6e5dd2f4",
   "metadata": {},
   "outputs": [
    {
     "name": "stdout",
     "output_type": "stream",
     "text": [
      "x= 10\n",
      "y= 20\n",
      "z= 30\n",
      "(<class '__main__.A'>,)\n",
      "(<class 'object'>,)\n"
     ]
    }
   ],
   "source": [
    "#Program for single inheritence\n",
    "class A:\n",
    "    x=10\n",
    "    def m1(self):\n",
    "        print(\"x=\",A.x)\n",
    "class B(A):\n",
    "    y=20\n",
    "    def m2(self):\n",
    "        z=B.x+B.y\n",
    "        print(\"y=\",B.y)\n",
    "        print(\"z=\",z)\n",
    "b1=B()\n",
    "b1.m1()\n",
    "b1.m2()\n",
    "print(B.__bases__)\n",
    "print(A.__bases__)"
   ]
  },
  {
   "cell_type": "code",
   "execution_count": 91,
   "id": "3afd4ddb",
   "metadata": {},
   "outputs": [
    {
     "name": "stdout",
     "output_type": "stream",
     "text": [
      "x= 10\n",
      "y= 20\n",
      "a= 3.5\n",
      "b= 4.7\n",
      "p= True\n",
      "q= False\n",
      "Integer sum= 30\n",
      "Float sum= 8.2\n",
      "Boolsum= 1\n",
      "(<class 'object'>,)\n",
      "(<class 'object'>,)\n",
      "(<class 'object'>,)\n",
      "(<class '__main__.A'>, <class '__main__.B'>, <class '__main__.C'>)\n"
     ]
    }
   ],
   "source": [
    "#Multiple inheritence:----> a derived class with multiple base classes\n",
    "class A:\n",
    "    x=10\n",
    "    y=20\n",
    "    def m1(self):\n",
    "        print(\"x=\",A.x)\n",
    "        print(\"y=\",A.y)\n",
    "class B:\n",
    "    a=3.5\n",
    "    b=4.7\n",
    "    def m2(self):\n",
    "        print(\"a=\",B.a)\n",
    "        print(\"b=\",B.b)\n",
    "class C:\n",
    "    p=True\n",
    "    q=False\n",
    "    def m3(self):\n",
    "        print(\"p=\",C.p)\n",
    "        print(\"q=\",C.q)\n",
    "class D(A,B,C):\n",
    "    def m4(self):\n",
    "        intsum=D.x+D.y\n",
    "        floatsum=D.a+D.b\n",
    "        boolsum=D.p+D.q\n",
    "        print(\"Integer sum=\",intsum)\n",
    "        print(\"Float sum=\",floatsum)\n",
    "        print(\"Boolsum=\",boolsum)\n",
    "d1=D()\n",
    "d1.m1()\n",
    "d1.m2()\n",
    "d1.m3()\n",
    "d1.m4()\n",
    "print(A.__bases__)\n",
    "print(B.__bases__)\n",
    "print(C.__bases__)\n",
    "print(D.__bases__)"
   ]
  },
  {
   "cell_type": "code",
   "execution_count": 77,
   "id": "b70751a6",
   "metadata": {},
   "outputs": [
    {
     "name": "stdout",
     "output_type": "stream",
     "text": [
      "hello from A\n",
      "x= 10\n",
      "y= 20\n",
      "Integer sum = 30\n",
      "Float sum= 8.2\n"
     ]
    }
   ],
   "source": [
    "#if the base classes have method with same name and using derived class object if u access the method then which base class method will be executed\n",
    "class A:\n",
    "    x=10\n",
    "    y=20\n",
    "    def m1(self):\n",
    "        print(\"hello from A\")\n",
    "        print(\"x=\",A.x)\n",
    "        print(\"y=\",A.y)\n",
    "class B:\n",
    "    a=3.5\n",
    "    b=4.7\n",
    "    def m1(self):\n",
    "        print(\"hello from B\")\n",
    "        print(\"a=\",B.a)\n",
    "        print(\"b=\",B.b)\n",
    "class C(A,B):\n",
    "    def m2(self):\n",
    "        intsum=C.x+C.y\n",
    "        floatsum=C.a+C.b\n",
    "        print(\"Integer sum =\",intsum)\n",
    "        print(\"Float sum=\",floatsum)\n",
    "c1=C()\n",
    "c1.m1()\n",
    "#here m1 of class A is executed beacause while inherting we inherite A first C(A,B).\n",
    "#but if we want to execute class B m1() then say C(B,A) \n",
    "c1.m2()"
   ]
  },
  {
   "cell_type": "code",
   "execution_count": 92,
   "id": "2877e12f",
   "metadata": {},
   "outputs": [
    {
     "name": "stdout",
     "output_type": "stream",
     "text": [
      "m= 45\n",
      "m= 55\n",
      "a= 10\n",
      "b= 20\n",
      "z= 30\n",
      "total= 60\n",
      "m= 60\n",
      "Avg= 20.0\n",
      "m= 60\n",
      "m= 60\n",
      "\n",
      "\n",
      "m= 55\n",
      "a= 10\n",
      "b= 20\n",
      "z= 30\n",
      "total= 60\n",
      "m= 60\n",
      "\n",
      "\n",
      "m= 55\n",
      "a= 10\n",
      "b= 20\n",
      "(<class '__main__.B'>,)\n",
      "(<class '__main__.A'>,)\n",
      "(<class 'object'>,)\n"
     ]
    }
   ],
   "source": [
    "#Multilevel inheritence:---->deriving a class from another derived class\n",
    "m=45\n",
    "class A:\n",
    "    x=10\n",
    "    y=20\n",
    "    print(\"m=\",m)\n",
    "    def m1(self):\n",
    "        global m    #forward delecration\n",
    "        m=55\n",
    "        print(\"m=\",m)\n",
    "        print(\"a=\",A.x)\n",
    "        print(\"b=\",A.y)\n",
    "class B(A):\n",
    "    z=30\n",
    "    def m2(self):\n",
    "        global m\n",
    "        m=60\n",
    "        total=B.x+B.y+B.z    #local variable\n",
    "        print(\"z=\",B.z)\n",
    "        print(\"total=\",total)\n",
    "        print(\"m=\",m)\n",
    "class C(B):\n",
    "    def m3(self):\n",
    "        avg=(C.x+C.y+C.z)/3\n",
    "        #print(\"total=\",C.total)   #we cannot print local variable of another class\n",
    "        print(\"Avg=\",avg)\n",
    "        print(\"m=\",m)\n",
    "c1=C()\n",
    "c1.m1()\n",
    "c1.m2()\n",
    "c1.m3()\n",
    "#print(\"total=\",c1.total) we cannot print local variable from outside the class\n",
    "print(\"m=\",m)   #latest global value\n",
    "\n",
    "print(\"\\n\")\n",
    "b1=B()\n",
    "b1.m1()\n",
    "b1.m2()\n",
    "print(\"\\n\")\n",
    "a1=A()\n",
    "a1.m1()\n",
    "\n",
    "print(C.__bases__)\n",
    "print(B.__bases__)\n",
    "print(A.__bases__)"
   ]
  },
  {
   "cell_type": "code",
   "execution_count": 25,
   "id": "53b30e37",
   "metadata": {},
   "outputs": [
    {
     "name": "stdout",
     "output_type": "stream",
     "text": [
      "x= 10\n",
      "y= 20\n",
      "sum= 30\n",
      "diff= 10\n",
      "prod= 200\n",
      "Div= 2.0\n",
      "(<class 'object'>,)\n",
      "(<class '__main__.Arith'>,)\n",
      "(<class '__main__.Arith'>,)\n",
      "(<class '__main__.Arith'>,)\n",
      "(<class '__main__.Arith'>,)\n"
     ]
    }
   ],
   "source": [
    "#Hierarchical Inheritence:----> A base class with multiple derived class\n",
    "class Arith:\n",
    "    x=10\n",
    "    y=20\n",
    "    def m1(self):\n",
    "        print(\"x=\",Arith.x)\n",
    "        print(\"y=\",Arith.y)\n",
    "class Add(Arith):\n",
    "    def m2(self):\n",
    "        sum=Add.x+Add.y\n",
    "        print(\"sum=\",sum)\n",
    "class Sub(Arith):\n",
    "    def m3(self):\n",
    "        diff=Sub.y-Sub.x\n",
    "        print(\"diff=\",diff)\n",
    "class Mul(Arith):\n",
    "    def m4(self):\n",
    "        prod=Mul.x*Mul.y\n",
    "        print(\"prod=\",prod)\n",
    "class Div(Arith):\n",
    "    def m5(self):\n",
    "        div=Div.y/Div.x\n",
    "        print(\"Div=\",div)\n",
    "\n",
    "a=Arith()\n",
    "a.m1()\n",
    "\n",
    "a1=Add()\n",
    "a1.m2()\n",
    "\n",
    "b1=Sub()\n",
    "b1.m3()\n",
    "\n",
    "c1=Mul()\n",
    "c1.m4()\n",
    "\n",
    "d1=Div()\n",
    "d1.m5()\n",
    "\n",
    "print(Arith.__bases__)\n",
    "print(Add.__bases__)\n",
    "print(Sub.__bases__)\n",
    "print(Mul.__bases__)\n",
    "print(Div.__bases__)"
   ]
  },
  {
   "cell_type": "code",
   "execution_count": null,
   "id": "5a496c2a",
   "metadata": {},
   "outputs": [],
   "source": [
    "#Polymorphism:-----> ability to take more than one form\n",
    "#poly means many and morphism means many forms of functionalities or logics\n",
    "#types of polymorphism:---->\n",
    "#1.static poly ex:- method overloading\n",
    "#2.dyanmic poly ex:- method overriding"
   ]
  },
  {
   "cell_type": "code",
   "execution_count": 5,
   "id": "23f4bb07",
   "metadata": {},
   "outputs": [
    {
     "name": "stdout",
     "output_type": "stream",
     "text": [
      "from derived class....\n",
      "from base class....\n"
     ]
    }
   ],
   "source": [
    "#method overiding:----> the concept of defining a method withs same name and same no.of arguments in both super and sub class\n",
    "class x:\n",
    "    def m1(self):\n",
    "        print(\"from base class....\")\n",
    "class y:\n",
    "    def m1(self):\n",
    "        print(\"from derived class....\")\n",
    "y1=y()\n",
    "y1.m1()#here subclass method is called or executed bcoz super class method is overriden,to execute super class method create super class object\n",
    "x1=x()\n",
    "x1.m1()\n",
    "#method overriding is seen only in inheritence"
   ]
  },
  {
   "cell_type": "code",
   "execution_count": 10,
   "id": "be322d68",
   "metadata": {},
   "outputs": [
    {
     "name": "stdout",
     "output_type": "stream",
     "text": [
      "from derived class....\n"
     ]
    },
    {
     "ename": "TypeError",
     "evalue": "m1() takes 1 positional argument but 2 were given",
     "output_type": "error",
     "traceback": [
      "\u001b[1;31m---------------------------------------------------------------------------\u001b[0m",
      "\u001b[1;31mTypeError\u001b[0m                                 Traceback (most recent call last)",
      "Input \u001b[1;32mIn [10]\u001b[0m, in \u001b[0;36m<cell line: 10>\u001b[1;34m()\u001b[0m\n\u001b[0;32m      8\u001b[0m y1\u001b[38;5;241m=\u001b[39my()\n\u001b[0;32m      9\u001b[0m y1\u001b[38;5;241m.\u001b[39mm1()\n\u001b[1;32m---> 10\u001b[0m \u001b[43my1\u001b[49m\u001b[38;5;241;43m.\u001b[39;49m\u001b[43mm1\u001b[49m\u001b[43m(\u001b[49m\u001b[38;5;241;43m10\u001b[39;49m\u001b[43m)\u001b[49m\n",
      "\u001b[1;31mTypeError\u001b[0m: m1() takes 1 positional argument but 2 were given"
     ]
    }
   ],
   "source": [
    "class x:\n",
    "    def m1(self,a):\n",
    "        print(\"from base class....\")\n",
    "        self.p=a\n",
    "class y(x):\n",
    "    def m1(self):\n",
    "        print(\"from derived class....\")\n",
    "y1=y()\n",
    "y1.m1()\n",
    "y1.m1(10)  #error becoz method overloading happen"
   ]
  },
  {
   "cell_type": "code",
   "execution_count": 19,
   "id": "9ed400fa",
   "metadata": {},
   "outputs": [
    {
     "name": "stdout",
     "output_type": "stream",
     "text": [
      "HDFC MINBAL= 1000\n",
      "ICICI MINBAL: 2000\n",
      "RBI MINBAL= 0\n"
     ]
    }
   ],
   "source": [
    "#ex of method overriding\n",
    "class RBI:\n",
    "    def minbalance(self):\n",
    "        minbal=0\n",
    "        print(\"RBI MINBAL=\",minbal)\n",
    "class HDFC(RBI):  #here i wont follow rbi min bal so i does not want super class logic to execute\n",
    "    def minbalance(self):  #so i override the method so that sub class method logic execute\n",
    "        minbal=1000\n",
    "        print(\"HDFC MINBAL=\",minbal)\n",
    "class ICICI(RBI):\n",
    "    def minbalance(self):\n",
    "        minbal=2000\n",
    "        print(\"ICICI MINBAL:\",minbal)\n",
    "class SBI(RBI):\n",
    "    x=10\n",
    "    pass #here it doesn't want to overide,i will follow rbi rules only\n",
    "h1=HDFC()\n",
    "h1.minbalance()\n",
    "\n",
    "i1=ICICI()\n",
    "i1.minbalance()\n",
    "\n",
    "s1=SBI()\n",
    "s1.minbalance()"
   ]
  },
  {
   "cell_type": "code",
   "execution_count": 36,
   "id": "3b5e1d47",
   "metadata": {},
   "outputs": [
    {
     "ename": "AttributeError",
     "evalue": "'object' object has no attribute 'self'",
     "output_type": "error",
     "traceback": [
      "\u001b[1;31m---------------------------------------------------------------------------\u001b[0m",
      "\u001b[1;31mAttributeError\u001b[0m                            Traceback (most recent call last)",
      "Input \u001b[1;32mIn [36]\u001b[0m, in \u001b[0;36m<cell line: 12>\u001b[1;34m()\u001b[0m\n\u001b[0;32m     10\u001b[0m         slef\u001b[38;5;241m.\u001b[39midc\u001b[38;5;241m=\u001b[39midc\n\u001b[0;32m     11\u001b[0m s1\u001b[38;5;241m=\u001b[39m\u001b[38;5;28mobject\u001b[39m()\n\u001b[1;32m---> 12\u001b[0m \u001b[43ms1\u001b[49m\u001b[38;5;241;43m.\u001b[39;49m\u001b[43mself\u001b[49m\n",
      "\u001b[1;31mAttributeError\u001b[0m: 'object' object has no attribute 'self'"
     ]
    }
   ],
   "source": [
    "class object:\n",
    "    def __hash__(self,name,age):\n",
    "        self.name=pranil\n",
    "        self.age=22\n",
    "        print(\"self.name\",name)\n",
    "        print(\"self.age\",age)\n",
    "class int(object):\n",
    "    def __hash__(self,accno,idc):\n",
    "        self.aacno=accno\n",
    "        slef.idc=idc\n",
    "s1=object()\n"
   ]
  },
  {
   "cell_type": "code",
   "execution_count": 5,
   "id": "98980f53",
   "metadata": {},
   "outputs": [
    {
     "name": "stdout",
     "output_type": "stream",
     "text": [
      "from constructor of y....\n"
     ]
    },
    {
     "ename": "TypeError",
     "evalue": "__init__() takes 1 positional argument but 3 were given",
     "output_type": "error",
     "traceback": [
      "\u001b[1;31m---------------------------------------------------------------------------\u001b[0m",
      "\u001b[1;31mTypeError\u001b[0m                                 Traceback (most recent call last)",
      "Input \u001b[1;32mIn [5]\u001b[0m, in \u001b[0;36m<cell line: 12>\u001b[1;34m()\u001b[0m\n\u001b[0;32m     10\u001b[0m         \u001b[38;5;28mprint\u001b[39m(\u001b[38;5;124m\"\u001b[39m\u001b[38;5;124mfrom constructor of y....\u001b[39m\u001b[38;5;124m\"\u001b[39m)\n\u001b[0;32m     11\u001b[0m y1\u001b[38;5;241m=\u001b[39my()\n\u001b[1;32m---> 12\u001b[0m y2\u001b[38;5;241m=\u001b[39m\u001b[43my\u001b[49m\u001b[43m(\u001b[49m\u001b[38;5;241;43m10\u001b[39;49m\u001b[43m,\u001b[49m\u001b[38;5;241;43m20\u001b[39;49m\u001b[43m)\u001b[49m\n",
      "\u001b[1;31mTypeError\u001b[0m: __init__() takes 1 positional argument but 3 were given"
     ]
    }
   ],
   "source": [
    "class x:\n",
    "    def __init__(self,a,b):\n",
    "        print(\"from constructor of x...\")\n",
    "        self.x=a\n",
    "        self.y=b\n",
    "        print(\"x=\",self.x)\n",
    "        print(\"y=\",self.y)\n",
    "class y(x):\n",
    "    def __init__(self):\n",
    "        print(\"from constructor of y....\")\n",
    "y1=y()\n",
    "y2=y(10,20)\n",
    "#constructor overloading not supported, constructor with same name but diff arguments.\n",
    "#method overloading is not supported in python\n",
    "#in overriding the methods arguments should be same"
   ]
  },
  {
   "cell_type": "code",
   "execution_count": 7,
   "id": "7db2d1bb",
   "metadata": {},
   "outputs": [
    {
     "name": "stdout",
     "output_type": "stream",
     "text": [
      "from constructor A....\n",
      "10\n",
      "from constructor B....\n",
      "20\n"
     ]
    },
    {
     "ename": "AttributeError",
     "evalue": "'B' object has no attribute 'x'",
     "output_type": "error",
     "traceback": [
      "\u001b[1;31m---------------------------------------------------------------------------\u001b[0m",
      "\u001b[1;31mAttributeError\u001b[0m                            Traceback (most recent call last)",
      "Input \u001b[1;32mIn [7]\u001b[0m, in \u001b[0;36m<cell line: 16>\u001b[1;34m()\u001b[0m\n\u001b[0;32m     13\u001b[0m b1\u001b[38;5;241m=\u001b[39mB()\n\u001b[0;32m     14\u001b[0m \u001b[38;5;28mprint\u001b[39m(b1\u001b[38;5;241m.\u001b[39my)\n\u001b[1;32m---> 16\u001b[0m \u001b[38;5;28mprint\u001b[39m(\u001b[43mb1\u001b[49m\u001b[38;5;241;43m.\u001b[39;49m\u001b[43mx\u001b[49m)\n",
      "\u001b[1;31mAttributeError\u001b[0m: 'B' object has no attribute 'x'"
     ]
    }
   ],
   "source": [
    "#overriding constructor\n",
    "class A:\n",
    "    def __init__(self):\n",
    "        self.x=10\n",
    "        print(\"from constructor A....\")\n",
    "class B(A):\n",
    "    def __init__(self):\n",
    "        self.y=20\n",
    "        print(\"from constructor B....\")\n",
    "a1=A()\n",
    "print(a1.x)\n",
    "\n",
    "b1=B()\n",
    "print(b1.y)\n",
    "print(b1.x)  #error :- b1 object is not intialzing to x beacuse of method overriding.\n",
    "#using derived class object accessing both base and derived class NSV's for that the sol is by using super() method"
   ]
  },
  {
   "cell_type": "code",
   "execution_count": 12,
   "id": "bac3f4f6",
   "metadata": {},
   "outputs": [
    {
     "name": "stdout",
     "output_type": "stream",
     "text": [
      "from constructor A....\n",
      "from constructor B....\n"
     ]
    }
   ],
   "source": [
    "#super():- this stmt is used to call super class method or constructor through sub class method or constructor\n",
    "class A:\n",
    "    def __init__(self):\n",
    "        print(\"from constructor A....\")\n",
    "class B(A):\n",
    "    def __init__(self):\n",
    "        super().__init__()   #executes super class constructor\n",
    "        print(\"from constructor B....\")\n",
    "b1=B()  #here first super class constructor will execute means class A"
   ]
  },
  {
   "cell_type": "code",
   "execution_count": 17,
   "id": "87c90fa0",
   "metadata": {},
   "outputs": [
    {
     "name": "stdout",
     "output_type": "stream",
     "text": [
      "from constructor A\n",
      "<__main__.B object at 0x000001EA028AFEE0>\n",
      "constructor from B\n",
      "<__main__.B object at 0x000001EA028AFEE0>\n",
      "<__main__.B object at 0x000001EA028AFEE0>\n",
      "10\n",
      "20\n"
     ]
    }
   ],
   "source": [
    "#Accessing NSV of super class constructor from sub class constructor\n",
    "class A:\n",
    "    def __init__(self):\n",
    "        self.x=10\n",
    "        print(\"from constructor A\")\n",
    "        print(self) #for printing class add\n",
    "class B(A):\n",
    "    def __init__(self):\n",
    "        super().__init__()\n",
    "        self.y=20\n",
    "        print(\"constructor from B\")\n",
    "        print(self)\n",
    "b1=B()\n",
    "print(b1)  #print address\n",
    "print(b1.x) \n",
    "print(b1.y)"
   ]
  },
  {
   "cell_type": "code",
   "execution_count": 22,
   "id": "e4e64a13",
   "metadata": {},
   "outputs": [
    {
     "name": "stdout",
     "output_type": "stream",
     "text": [
      "x= 10\n",
      "y= 20\n"
     ]
    }
   ],
   "source": [
    "#sub class method calling super class\n",
    "class A:\n",
    "    def m1(self):\n",
    "        self.x=10\n",
    "        print(\"x=\",self.x)\n",
    "class B(A):\n",
    "    def m1(self):\n",
    "        super().m1()\n",
    "        self.y=20\n",
    "        print(\"y=\",self.y)\n",
    "b1=B()\n",
    "b1.m1()  #first super class value will be printed\n",
    "#for overriding and executing userdefined logic(sub class)only,no need of super\n",
    "#but to execute pre-defined logic(super class) userdefined logic(derived class),we need super"
   ]
  },
  {
   "cell_type": "code",
   "execution_count": 25,
   "id": "5493560b",
   "metadata": {},
   "outputs": [
    {
     "name": "stdout",
     "output_type": "stream",
     "text": [
      "Enter value of x:10\n",
      "Even Number!!!\n"
     ]
    }
   ],
   "source": [
    "x=int(input(\"Enter value of x:\"))\n",
    "class A:\n",
    "    def m1(self):\n",
    "        print(\"Odd Number!!!\")\n",
    "class B(A):\n",
    "    def m1(self):\n",
    "        print(\"Even Number!!!\")\n",
    "a1=A()\n",
    "b1=B()\n",
    "if(x%2==0):\n",
    "    b1.m1()\n",
    "else:\n",
    "    a1.m1()"
   ]
  },
  {
   "cell_type": "code",
   "execution_count": null,
   "id": "8c74cc45",
   "metadata": {},
   "outputs": [],
   "source": []
  }
 ],
 "metadata": {
  "kernelspec": {
   "display_name": "Python 3 (ipykernel)",
   "language": "python",
   "name": "python3"
  },
  "language_info": {
   "codemirror_mode": {
    "name": "ipython",
    "version": 3
   },
   "file_extension": ".py",
   "mimetype": "text/x-python",
   "name": "python",
   "nbconvert_exporter": "python",
   "pygments_lexer": "ipython3",
   "version": "3.9.12"
  }
 },
 "nbformat": 4,
 "nbformat_minor": 5
}
