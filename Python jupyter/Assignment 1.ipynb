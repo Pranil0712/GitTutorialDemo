{
 "cells": [
  {
   "cell_type": "code",
   "execution_count": 35,
   "id": "fe8e5ccf",
   "metadata": {},
   "outputs": [
    {
     "name": "stdout",
     "output_type": "stream",
     "text": [
      "6\n"
     ]
    }
   ],
   "source": [
    "#Write a program to calculate length of a string.\n",
    "\n",
    "x=\"Python\"\n",
    "print(len(x))"
   ]
  },
  {
   "cell_type": "code",
   "execution_count": 38,
   "id": "16a1bc36",
   "metadata": {},
   "outputs": [
    {
     "name": "stdout",
     "output_type": "stream",
     "text": [
      "2\n",
      "3\n",
      "1\n"
     ]
    }
   ],
   "source": [
    "#Write a Python program to count the number of characters (character frequency) in a string.  \n",
    "\n",
    "x=\"google.com\"\n",
    "print(x.count(\"g\"))\n",
    "print(x.count(\"o\"))\n",
    "print(x.count(\"m\"))"
   ]
  },
  {
   "cell_type": "code",
   "execution_count": 41,
   "id": "7dd44287",
   "metadata": {},
   "outputs": [
    {
     "name": "stdout",
     "output_type": "stream",
     "text": [
      "abcing\n",
      "stringly\n"
     ]
    }
   ],
   "source": [
    "#Write a Python program to add 'ing' at the end of a given string (length should be at least 3).\n",
    "#If the given string already ends with 'ing' then add 'ly' instead.\n",
    "#If the string length of the given string is less than 3, leave it unchanged.\n",
    "\n",
    "x=\"abc\"\n",
    "y=\"string\"\n",
    "print(x+\"\"+\"ing\")\n",
    "print(y+\"\"+\"ly\")"
   ]
  },
  {
   "cell_type": "code",
   "execution_count": 11,
   "id": "23a5b79b",
   "metadata": {},
   "outputs": [
    {
     "name": "stdout",
     "output_type": "stream",
     "text": [
      "dbca\n",
      "52341\n"
     ]
    }
   ],
   "source": [
    "#Write a Python program to change a given string to a new string where the first and last chars have been exchanged.\n",
    "\n",
    "def change_sring(str1):\n",
    "      return str1[-1:] + str1[1:-1] + str1[:1]\n",
    "\t  \n",
    "print(change_sring('abcd'))\n",
    "print(change_sring('12345'))"
   ]
  },
  {
   "cell_type": "code",
   "execution_count": 12,
   "id": "296a61e8",
   "metadata": {},
   "outputs": [
    {
     "name": "stdout",
     "output_type": "stream",
     "text": [
      "Enter the StringPranil\n",
      "PRANIL\n",
      "pranil\n"
     ]
    }
   ],
   "source": [
    "#Write a Python script that takes input from the user and displays that input back in upper and lower cases.\n",
    "\n",
    "x=(input(\"Enter the String\"))\n",
    "print(x.upper())\n",
    "print(x.lower())"
   ]
  },
  {
   "cell_type": "code",
   "execution_count": 13,
   "id": "fdf3ad0f",
   "metadata": {},
   "outputs": [
    {
     "name": "stdout",
     "output_type": "stream",
     "text": [
      "3\n",
      "4\n"
     ]
    }
   ],
   "source": [
    "#Write a Python program to count occurrences of a substring in a string.\n",
    "\n",
    "x=\"hello hello hello...how are you?\"\n",
    "print(x.count(\"hello\"))\n",
    "print(x.count(\"h\"))"
   ]
  },
  {
   "cell_type": "code",
   "execution_count": 14,
   "id": "1351268c",
   "metadata": {},
   "outputs": [
    {
     "data": {
      "text/plain": [
       "['P', 'r', 'a', 'n', 'i', 'l']"
      ]
     },
     "execution_count": 14,
     "metadata": {},
     "output_type": "execute_result"
    }
   ],
   "source": [
    "#Write a Python program to convert a string to a list\n",
    "\n",
    "list(\"Pranil\")"
   ]
  },
  {
   "cell_type": "code",
   "execution_count": 17,
   "id": "ab39a5d7",
   "metadata": {},
   "outputs": [
    {
     "name": "stdout",
     "output_type": "stream",
     "text": [
      "durga Classes\n"
     ]
    }
   ],
   "source": [
    "#Write a Python program to lowercase first n characters in a string\n",
    "\n",
    "x=\"Durga Classes\"\n",
    "print(x[:4].lower()+x[4:])"
   ]
  },
  {
   "cell_type": "code",
   "execution_count": 20,
   "id": "040af034",
   "metadata": {},
   "outputs": [
    {
     "name": "stdout",
     "output_type": "stream",
     "text": [
      "Durgasoftsolutions\n"
     ]
    }
   ],
   "source": [
    "#Write a Python program to remove spaces from a given string\n",
    "\n",
    "str1=\"Durga soft solutions\"\n",
    "print(str1.replace(\" \",\"\"))"
   ]
  },
  {
   "cell_type": "code",
   "execution_count": 2,
   "id": "8ccfd35f",
   "metadata": {},
   "outputs": [
    {
     "ename": "SyntaxError",
     "evalue": "invalid syntax (563570240.py, line 2)",
     "output_type": "error",
     "traceback": [
      "\u001b[1;36m  Input \u001b[1;32mIn [2]\u001b[1;36m\u001b[0m\n\u001b[1;33m    def movespacesfront:\u001b[0m\n\u001b[1;37m                       ^\u001b[0m\n\u001b[1;31mSyntaxError\u001b[0m\u001b[1;31m:\u001b[0m invalid syntax\n"
     ]
    }
   ],
   "source": [
    "#Write a Python program to move spaces to the front of a given string.\n",
    "def movespacesfront:\n",
    "    x=\"Good Morning Hyderabad    \"\n",
    "print(move_Spaces_front(\"Good Morning Hyderabad\"))"
   ]
  },
  {
   "cell_type": "code",
   "execution_count": 23,
   "id": "a06876ec",
   "metadata": {},
   "outputs": [
    {
     "name": "stdout",
     "output_type": "stream",
     "text": [
      "u\n"
     ]
    }
   ],
   "source": [
    "#Write a Python program to find the maximum character in a given string\n",
    "\n",
    "x=\"Durga Soft Solutions\"\n",
    "print(max(x))"
   ]
  },
  {
   "cell_type": "code",
   "execution_count": 33,
   "id": "2b11a268",
   "metadata": {},
   "outputs": [
    {
     "name": "stdout",
     "output_type": "stream",
     "text": [
      "Durga\n"
     ]
    }
   ],
   "source": [
    "#Write a Python program to capitalize first and last letters of each word of a given string.\n",
    "\n",
    "x=\"durga\"\n",
    "print(x.capitalize())"
   ]
  },
  {
   "cell_type": "code",
   "execution_count": 4,
   "id": "2a48f9fb",
   "metadata": {},
   "outputs": [
    {
     "ename": "NameError",
     "evalue": "name 's1' is not defined",
     "output_type": "error",
     "traceback": [
      "\u001b[1;31m---------------------------------------------------------------------------\u001b[0m",
      "\u001b[1;31mNameError\u001b[0m                                 Traceback (most recent call last)",
      "Input \u001b[1;32mIn [4]\u001b[0m, in \u001b[0;36m<cell line: 4>\u001b[1;34m()\u001b[0m\n\u001b[0;32m      2\u001b[0m \u001b[38;5;28;01mdef\u001b[39;00m \u001b[38;5;21msum\u001b[39m(x):\n\u001b[0;32m      3\u001b[0m     x\u001b[38;5;241m=\u001b[39m\u001b[38;5;124m\"\u001b[39m\u001b[38;5;124mDurga soft solutions\u001b[39m\u001b[38;5;124m\"\u001b[39m\n\u001b[1;32m----> 4\u001b[0m \u001b[43ms1\u001b[49m\u001b[38;5;241m.\u001b[39mx\n\u001b[0;32m      5\u001b[0m \u001b[38;5;28mprint\u001b[39m(\u001b[38;5;28msum\u001b[39m(x))\n",
      "\u001b[1;31mNameError\u001b[0m: name 's1' is not defined"
     ]
    }
   ],
   "source": [
    "#Write a Python program to compute sum of digits of a given string.\n",
    "def sum_digits_string(str1):\n",
    "    sum_digit = 0\n",
    "    for x in str1:\n",
    "        if x.isdigit() == True:\n",
    "            z = int(x)\n",
    "            sum_digit = sum_digit + z\n",
    "\n",
    "    return sum_digit\n",
    "     \n",
    "print(sum_digits_string(\"123abcd45\"))"
   ]
  },
  {
   "cell_type": "code",
   "execution_count": 3,
   "id": "66f9968b",
   "metadata": {},
   "outputs": [
    {
     "name": "stdout",
     "output_type": "stream",
     "text": [
      "Enter the radius:1.1\n",
      "The Area of circle= 3.8013271108436504\n"
     ]
    }
   ],
   "source": [
    "#Python program which accepts the radius of a circle from the user and compute the area\n",
    "from math import pi \n",
    "r=float(input(\"Enter the radius:\"))\n",
    "print(\"The Area of circle=\",pi*r**2)"
   ]
  },
  {
   "cell_type": "code",
   "execution_count": 7,
   "id": "8c9b39f1",
   "metadata": {},
   "outputs": [
    {
     "name": "stdout",
     "output_type": "stream",
     "text": [
      "Enter your First Name:Pranil\n",
      "Enter your Last Name:Patel\n",
      "Hello Patel Pranil\n"
     ]
    }
   ],
   "source": [
    "#Python program which accepts the user's first and last name and print them in reverse order with a space between them\n",
    "fname=input(\"Enter your First Name:\")\n",
    "lname=input(\"Enter your Last Name:\")\n",
    "print(\"Hello\",lname+\" \"+fname)"
   ]
  },
  {
   "cell_type": "code",
   "execution_count": 9,
   "id": "ad572ee4",
   "metadata": {},
   "outputs": [
    {
     "name": "stdout",
     "output_type": "stream",
     "text": [
      "Red Black\n"
     ]
    }
   ],
   "source": [
    "color_list=[\"Red\",\"Green\",\"White\",\"Black\"]\n",
    "print(color_list[0],color_list[-1])"
   ]
  },
  {
   "cell_type": "code",
   "execution_count": 10,
   "id": "ea0bd5b9",
   "metadata": {},
   "outputs": [
    {
     "name": "stdout",
     "output_type": "stream",
     "text": [
      "Enter the first number:10\n",
      "Enter the second number:20\n",
      "The product of your two number is: 200\n"
     ]
    }
   ],
   "source": [
    "x=int(input(\"Enter the first number:\"))\n",
    "y=int(input(\"Enter the second number:\"))\n",
    "print(\"The product of your two number is:\",x*y)"
   ]
  },
  {
   "cell_type": "code",
   "execution_count": 14,
   "id": "35161e6a",
   "metadata": {},
   "outputs": [
    {
     "name": "stdout",
     "output_type": "stream",
     "text": [
      "My**Name**Is**James\n"
     ]
    }
   ],
   "source": [
    "print(\"My\",\"Name\",\"Is\",\"James\",sep=\"**\")"
   ]
  },
  {
   "cell_type": "code",
   "execution_count": 15,
   "id": "4896aa58",
   "metadata": {},
   "outputs": [
    {
     "name": "stdout",
     "output_type": "stream",
     "text": [
      "10\n"
     ]
    }
   ],
   "source": [
    "num=8\n",
    "print(\"%o\"%num)"
   ]
  },
  {
   "cell_type": "code",
   "execution_count": null,
   "id": "30ef2c6e",
   "metadata": {},
   "outputs": [],
   "source": [
    "num=485.541315\n",
    "print()"
   ]
  },
  {
   "cell_type": "code",
   "execution_count": 17,
   "id": "6056e35d",
   "metadata": {},
   "outputs": [
    {
     "name": "stdout",
     "output_type": "stream",
     "text": [
      "<class 'int'>\n",
      "<class 'str'>\n"
     ]
    }
   ],
   "source": [
    "eno = 111\n",
    "ename = 'Durga'\n",
    "esal = 50000.0\n",
    "print(type(eno))\n",
    "print(type(ename))"
   ]
  },
  {
   "cell_type": "code",
   "execution_count": 19,
   "id": "c3f84add",
   "metadata": {},
   "outputs": [
    {
     "name": "stdout",
     "output_type": "stream",
     "text": [
      "a : 1\n",
      "b : 1\n",
      "c : 2\n"
     ]
    }
   ],
   "source": [
    "a = 0b1010 // 10\n",
    "b = 0B1100 // 12\n",
    "c = a + b\n",
    "print(\"a :\", a)\n",
    "print(\"b :\", b)\n",
    "print(\"c :\", c)"
   ]
  },
  {
   "cell_type": "code",
   "execution_count": 13,
   "id": "836ebf5d",
   "metadata": {},
   "outputs": [
    {
     "name": "stdout",
     "output_type": "stream",
     "text": [
      "6\n"
     ]
    }
   ],
   "source": [
    "def max_of_three(x,y,z):\n",
    "    if x>y and x>z:\n",
    "        return x\n",
    "    if y>z:\n",
    "        return y\n",
    "    else:\n",
    "        return z\n",
    "print(max_of_three(6,5,4))"
   ]
  },
  {
   "cell_type": "code",
   "execution_count": 16,
   "id": "f472b50d",
   "metadata": {},
   "outputs": [
    {
     "name": "stdout",
     "output_type": "stream",
     "text": [
      "20\n"
     ]
    }
   ],
   "source": [
    "def sum(num):\n",
    "    total=0\n",
    "    for x in num:\n",
    "        total+=x\n",
    "    return total\n",
    "print(sum((8,2,3,0,7)))"
   ]
  },
  {
   "cell_type": "code",
   "execution_count": 22,
   "id": "9d43bef6",
   "metadata": {},
   "outputs": [
    {
     "name": "stdout",
     "output_type": "stream",
     "text": [
      "-336\n"
     ]
    }
   ],
   "source": [
    "def product(num):\n",
    "    prod=1\n",
    "    for x in num:\n",
    "        prod*=x\n",
    "    return prod\n",
    "print(product((8,2,3,-1,7)))"
   ]
  },
  {
   "cell_type": "code",
   "execution_count": 7,
   "id": "9ae5d6ed",
   "metadata": {},
   "outputs": [
    {
     "name": "stdout",
     "output_type": "stream",
     "text": [
      "Input number:9\n",
      "362880\n"
     ]
    }
   ],
   "source": [
    "def factorial(n):\n",
    "    if n==0:\n",
    "        return 1\n",
    "    else:\n",
    "        return n*factorial(n-1)\n",
    "n=int(input(\"Input number:\"))\n",
    "print(factorial(n))"
   ]
  },
  {
   "cell_type": "code",
   "execution_count": 11,
   "id": "126fd202",
   "metadata": {},
   "outputs": [
    {
     "name": "stdout",
     "output_type": "stream",
     "text": [
      "5 is in the range\n",
      "12 the number is outside the range\n"
     ]
    }
   ],
   "source": [
    "def test_range(n):\n",
    "    if n in range(3,9):\n",
    "        print(\"%s is in the range\"%str(n))  #here %s is the n value to input in string\n",
    "    else:\n",
    "        print(\"%s the number is outside the range\"%str(n))\n",
    "test_range(5)\n",
    "test_range(12)"
   ]
  },
  {
   "cell_type": "code",
   "execution_count": 17,
   "id": "a7166636",
   "metadata": {},
   "outputs": [
    {
     "name": "stdout",
     "output_type": "stream",
     "text": [
      "original string: The quick Brown Fox\n",
      "no.of upper case character: 1\n",
      "no.of lower case character: 0\n",
      "original string: The quick Brown Fox\n",
      "no.of upper case character: 1\n",
      "no.of lower case character: 1\n",
      "original string: The quick Brown Fox\n",
      "no.of upper case character: 1\n",
      "no.of lower case character: 2\n",
      "original string: The quick Brown Fox\n",
      "no.of upper case character: 1\n",
      "no.of lower case character: 2\n",
      "original string: The quick Brown Fox\n",
      "no.of upper case character: 1\n",
      "no.of lower case character: 3\n",
      "original string: The quick Brown Fox\n",
      "no.of upper case character: 1\n",
      "no.of lower case character: 4\n",
      "original string: The quick Brown Fox\n",
      "no.of upper case character: 1\n",
      "no.of lower case character: 5\n",
      "original string: The quick Brown Fox\n",
      "no.of upper case character: 1\n",
      "no.of lower case character: 6\n",
      "original string: The quick Brown Fox\n",
      "no.of upper case character: 1\n",
      "no.of lower case character: 7\n",
      "original string: The quick Brown Fox\n",
      "no.of upper case character: 1\n",
      "no.of lower case character: 7\n",
      "original string: The quick Brown Fox\n",
      "no.of upper case character: 2\n",
      "no.of lower case character: 7\n",
      "original string: The quick Brown Fox\n",
      "no.of upper case character: 2\n",
      "no.of lower case character: 8\n",
      "original string: The quick Brown Fox\n",
      "no.of upper case character: 2\n",
      "no.of lower case character: 9\n",
      "original string: The quick Brown Fox\n",
      "no.of upper case character: 2\n",
      "no.of lower case character: 10\n",
      "original string: The quick Brown Fox\n",
      "no.of upper case character: 2\n",
      "no.of lower case character: 11\n",
      "original string: The quick Brown Fox\n",
      "no.of upper case character: 2\n",
      "no.of lower case character: 11\n",
      "original string: The quick Brown Fox\n",
      "no.of upper case character: 3\n",
      "no.of lower case character: 11\n",
      "original string: The quick Brown Fox\n",
      "no.of upper case character: 3\n",
      "no.of lower case character: 12\n",
      "original string: The quick Brown Fox\n",
      "no.of upper case character: 3\n",
      "no.of lower case character: 13\n"
     ]
    }
   ],
   "source": [
    "def string_test(s):\n",
    "    d={\"upper_case\":0,\"lower_case\":0}\n",
    "    for c in s:\n",
    "        if c.isupper():\n",
    "            d[\"upper_case\"]+=1\n",
    "        elif c.islower():\n",
    "            d[\"lower_case\"]+=1\n",
    "        print(\"original string:\",s)\n",
    "        print(\"no.of upper case character:\",d[\"upper_case\"])\n",
    "        print(\"no.of lower case character:\",d[\"lower_case\"])\n",
    "string_test('The quick Brown Fox')"
   ]
  },
  {
   "cell_type": "code",
   "execution_count": null,
   "id": "8fa98e84",
   "metadata": {},
   "outputs": [],
   "source": []
  }
 ],
 "metadata": {
  "kernelspec": {
   "display_name": "Python 3 (ipykernel)",
   "language": "python",
   "name": "python3"
  },
  "language_info": {
   "codemirror_mode": {
    "name": "ipython",
    "version": 3
   },
   "file_extension": ".py",
   "mimetype": "text/x-python",
   "name": "python",
   "nbconvert_exporter": "python",
   "pygments_lexer": "ipython3",
   "version": "3.9.12"
  }
 },
 "nbformat": 4,
 "nbformat_minor": 5
}
