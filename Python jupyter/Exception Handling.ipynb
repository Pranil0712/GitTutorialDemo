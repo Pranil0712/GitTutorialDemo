{
 "cells": [
  {
   "cell_type": "code",
   "execution_count": null,
   "id": "0a3235eb",
   "metadata": {},
   "outputs": [],
   "source": [
    "#Errors and Exceptions:"
   ]
  },
  {
   "cell_type": "code",
   "execution_count": null,
   "id": "0dcadfd8",
   "metadata": {},
   "outputs": [],
   "source": [
    "#Error 2 types:----\n",
    "#1) syntax error\n",
    "#2) run-time error"
   ]
  },
  {
   "cell_type": "code",
   "execution_count": null,
   "id": "95771ec3",
   "metadata": {},
   "outputs": [],
   "source": [
    "#syntax error:- the error occurs due to wrong syntaxes\n",
    "def display()  #syntax error---> missing colon\n",
    "print(\"hello\") #wrong indentation"
   ]
  },
  {
   "cell_type": "code",
   "execution_count": null,
   "id": "f1ab2767",
   "metadata": {},
   "outputs": [],
   "source": [
    "#run-time error:- errors that occurs at run-time,i.e during the execution of the program.\n",
    "x=[10,20,30,40,50]\n",
    "#print(x[9])        index error\n",
    "#x.remove(90)       value error\n",
    "#print(y)           name error\n",
    "#y=list(10)         type error\n",
    "#z=list(\"hello\",\"world\")  type error"
   ]
  },
  {
   "cell_type": "code",
   "execution_count": null,
   "id": "511f601c",
   "metadata": {},
   "outputs": [],
   "source": [
    "y=(10,20,30,40,50)\n",
    "#y.append(60)           attribute error\n",
    "#f=open('sample5.txt')  file not found error"
   ]
  },
  {
   "cell_type": "code",
   "execution_count": 1,
   "id": "c5917fe0",
   "metadata": {},
   "outputs": [
    {
     "ename": "ZeroDivisionError",
     "evalue": "division by zero",
     "output_type": "error",
     "traceback": [
      "\u001b[1;31m---------------------------------------------------------------------------\u001b[0m",
      "\u001b[1;31mZeroDivisionError\u001b[0m                         Traceback (most recent call last)",
      "Input \u001b[1;32mIn [1]\u001b[0m, in \u001b[0;36m<cell line: 3>\u001b[1;34m()\u001b[0m\n\u001b[0;32m      1\u001b[0m x\u001b[38;5;241m=\u001b[39m\u001b[38;5;241m10\u001b[39m\n\u001b[0;32m      2\u001b[0m y\u001b[38;5;241m=\u001b[39m\u001b[38;5;241m0\u001b[39m\n\u001b[1;32m----> 3\u001b[0m z\u001b[38;5;241m=\u001b[39m\u001b[43mx\u001b[49m\u001b[38;5;241;43m/\u001b[39;49m\u001b[43my\u001b[49m\n",
      "\u001b[1;31mZeroDivisionError\u001b[0m: division by zero"
     ]
    }
   ],
   "source": [
    "x=10\n",
    "y=0\n",
    "z=x/y  #we will get ZeroDivsionError"
   ]
  },
  {
   "cell_type": "code",
   "execution_count": 2,
   "id": "9f0bd75f",
   "metadata": {},
   "outputs": [
    {
     "name": "stdout",
     "output_type": "stream",
     "text": [
      "['ArithmeticError', 'AssertionError', 'AttributeError', 'BaseException', 'BlockingIOError', 'BrokenPipeError', 'BufferError', 'BytesWarning', 'ChildProcessError', 'ConnectionAbortedError', 'ConnectionError', 'ConnectionRefusedError', 'ConnectionResetError', 'DeprecationWarning', 'EOFError', 'Ellipsis', 'EnvironmentError', 'Exception', 'False', 'FileExistsError', 'FileNotFoundError', 'FloatingPointError', 'FutureWarning', 'GeneratorExit', 'IOError', 'ImportError', 'ImportWarning', 'IndentationError', 'IndexError', 'InterruptedError', 'IsADirectoryError', 'KeyError', 'KeyboardInterrupt', 'LookupError', 'MemoryError', 'ModuleNotFoundError', 'NameError', 'None', 'NotADirectoryError', 'NotImplemented', 'NotImplementedError', 'OSError', 'OverflowError', 'PendingDeprecationWarning', 'PermissionError', 'ProcessLookupError', 'RecursionError', 'ReferenceError', 'ResourceWarning', 'RuntimeError', 'RuntimeWarning', 'StopAsyncIteration', 'StopIteration', 'SyntaxError', 'SyntaxWarning', 'SystemError', 'SystemExit', 'TabError', 'TimeoutError', 'True', 'TypeError', 'UnboundLocalError', 'UnicodeDecodeError', 'UnicodeEncodeError', 'UnicodeError', 'UnicodeTranslateError', 'UnicodeWarning', 'UserWarning', 'ValueError', 'Warning', 'WindowsError', 'ZeroDivisionError', '__IPYTHON__', '__build_class__', '__debug__', '__doc__', '__import__', '__loader__', '__name__', '__package__', '__spec__', 'abs', 'all', 'any', 'ascii', 'bin', 'bool', 'breakpoint', 'bytearray', 'bytes', 'callable', 'chr', 'classmethod', 'compile', 'complex', 'copyright', 'credits', 'delattr', 'dict', 'dir', 'display', 'divmod', 'enumerate', 'eval', 'exec', 'execfile', 'filter', 'float', 'format', 'frozenset', 'get_ipython', 'getattr', 'globals', 'hasattr', 'hash', 'help', 'hex', 'id', 'input', 'int', 'isinstance', 'issubclass', 'iter', 'len', 'license', 'list', 'locals', 'map', 'max', 'memoryview', 'min', 'next', 'object', 'oct', 'open', 'ord', 'pow', 'print', 'property', 'range', 'repr', 'reversed', 'round', 'runfile', 'set', 'setattr', 'slice', 'sorted', 'staticmethod', 'str', 'sum', 'super', 'tuple', 'type', 'vars', 'zip']\n"
     ]
    }
   ],
   "source": [
    "#for every error pre-defined classes are available,these classes are called Exception classes\n",
    "#we can see all the pre-defined exeception classes within a module called as __builtins__\n",
    "print(dir(__builtins__))"
   ]
  },
  {
   "cell_type": "code",
   "execution_count": null,
   "id": "9f10c5ed",
   "metadata": {},
   "outputs": [],
   "source": [
    "#Types of exceptions:\n",
    "#1) pre-defined exception---->raised automatically and we need to handle.\n",
    "#2) user-defined exception---->we need to raise and we need to handle."
   ]
  },
  {
   "cell_type": "code",
   "execution_count": null,
   "id": "819cb4ee",
   "metadata": {},
   "outputs": [],
   "source": [
    "#for exception handling we have to got two blocks:---\n",
    "#1) try block --- when we get error in try block then it's go to except block.\n",
    "#2) except block ---> except block syntax: \n",
    "#except(Exception class name):\n",
    "    .........................\n",
    "    .........................\n",
    "    .........................\n",
    "#we can also display user-friendly msg in except block."
   ]
  },
  {
   "cell_type": "code",
   "execution_count": 3,
   "id": "6ed061de",
   "metadata": {},
   "outputs": [
    {
     "name": "stdout",
     "output_type": "stream",
     "text": [
      "enter first no:10\n",
      "enter second no:0\n",
      "2nd No cannot be zero\n"
     ]
    }
   ],
   "source": [
    "x=int(input(\"enter first no:\"))\n",
    "y=int(input(\"enter second no:\"))\n",
    "try:\n",
    "    z=x/y\n",
    "    print(z)\n",
    "except(ZeroDivisionError):\n",
    "    print(\"2nd No cannot be zero\")"
   ]
  },
  {
   "cell_type": "code",
   "execution_count": 6,
   "id": "acae5e60",
   "metadata": {},
   "outputs": [
    {
     "name": "stdout",
     "output_type": "stream",
     "text": [
      "enter first no:10\n",
      "enter second no:two\n",
      "Enter numerical values only\n"
     ]
    }
   ],
   "source": [
    "try:\n",
    "    x=int(input(\"enter first no:\"))\n",
    "    y=int(input(\"enter second no:\"))\n",
    "    z=x/y\n",
    "    print(z)\n",
    "except(ValueError):\n",
    "    print(\"Enter numerical values only\")   #if this except block can't handle this error then it goes to next block\n",
    "except(NameError):\n",
    "    print(\"variable is not defined\")\n",
    "except:\n",
    "    print(\"error occured\")  #if all error not handle then this (default except) can handle any type of exception\n",
    "#there is no chance of getting two error.\n",
    "#default except block should be always at last."
   ]
  },
  {
   "cell_type": "code",
   "execution_count": 1,
   "id": "a029e52b",
   "metadata": {},
   "outputs": [
    {
     "name": "stdout",
     "output_type": "stream",
     "text": [
      "hello....\n",
      "variable is not defined\n"
     ]
    }
   ],
   "source": [
    "#NameError\n",
    "try:\n",
    "    print(\"hello....\")\n",
    "    print(x)    \n",
    "    print(\"Good morning...\")\n",
    "    print(9/10)\n",
    "except(NameError):\n",
    "    print(\"variable is not defined\")\n",
    "except:\n",
    "    print(\"Error\")"
   ]
  },
  {
   "cell_type": "code",
   "execution_count": 6,
   "id": "cc3689c2",
   "metadata": {},
   "outputs": [
    {
     "name": "stdout",
     "output_type": "stream",
     "text": [
      "hello....\n",
      "variable is not defined\n",
      "Good morning...\n"
     ]
    }
   ],
   "source": [
    "try:\n",
    "    print(\"hello....\")\n",
    "    print(x)\n",
    "    print(9/0)\n",
    "except(NameError):\n",
    "    print(\"variable is not defined\")\n",
    "    print(\"Good morning...\")\n",
    "except:\n",
    "    print(\"Error\")"
   ]
  },
  {
   "cell_type": "code",
   "execution_count": 5,
   "id": "162822f6",
   "metadata": {},
   "outputs": [
    {
     "name": "stdout",
     "output_type": "stream",
     "text": [
      "hello....\n",
      "10\n",
      "Error\n"
     ]
    }
   ],
   "source": [
    "x=10\n",
    "try:\n",
    "    print(\"hello....\")\n",
    "    print(x)\n",
    "    print(9/0)\n",
    "    print(\"Good morning...\")\n",
    "except(NameError):\n",
    "    print(\"variable is not defined\")\n",
    "except:\n",
    "    print(\"Error\")\n",
    "#here it will not print good morning because error is occuring before good morning then direct last except block get executed."
   ]
  },
  {
   "cell_type": "code",
   "execution_count": 1,
   "id": "f635461f",
   "metadata": {},
   "outputs": [
    {
     "name": "stdout",
     "output_type": "stream",
     "text": [
      "Enter first value:10\n",
      "Enter second value:2\n",
      "5.0\n",
      "Welcome to python world\n",
      "end\n"
     ]
    }
   ],
   "source": [
    "#implementing try,except and finally\n",
    "try:\n",
    "    x=int(input(\"Enter first value:\"))\n",
    "    y=int(input(\"Enter second value:\"))\n",
    "    z=x/y\n",
    "    print(z)\n",
    "except(ZeroDivisionError):\n",
    "    print(\"2nd number can't be divided\")\n",
    "finally:\n",
    "    print(\"Welcome to python world\")\n",
    "print(\"end\")"
   ]
  },
  {
   "cell_type": "code",
   "execution_count": 2,
   "id": "ef988ba5",
   "metadata": {},
   "outputs": [
    {
     "name": "stdout",
     "output_type": "stream",
     "text": [
      "Enter first value:10\n",
      "Enter second value:0\n",
      "2nd number can't be divided\n",
      "Welcome to python world\n",
      "end\n"
     ]
    }
   ],
   "source": [
    "try:\n",
    "    x=int(input(\"Enter first value:\"))\n",
    "    y=int(input(\"Enter second value:\"))\n",
    "    z=x/y\n",
    "    print(z)\n",
    "except(ZeroDivisionError):\n",
    "    print(\"2nd number can't be divided\")\n",
    "finally:\n",
    "    print(\"Welcome to python world\")\n",
    "print(\"end\")"
   ]
  },
  {
   "cell_type": "code",
   "execution_count": 3,
   "id": "b648d68d",
   "metadata": {},
   "outputs": [
    {
     "name": "stdout",
     "output_type": "stream",
     "text": [
      "Enter first value:10\n",
      "Enter second value:two\n",
      "Welcome to python world\n"
     ]
    },
    {
     "ename": "ValueError",
     "evalue": "invalid literal for int() with base 10: 'two'",
     "output_type": "error",
     "traceback": [
      "\u001b[1;31m---------------------------------------------------------------------------\u001b[0m",
      "\u001b[1;31mValueError\u001b[0m                                Traceback (most recent call last)",
      "Input \u001b[1;32mIn [3]\u001b[0m, in \u001b[0;36m<cell line: 1>\u001b[1;34m()\u001b[0m\n\u001b[0;32m      1\u001b[0m \u001b[38;5;28;01mtry\u001b[39;00m:\n\u001b[0;32m      2\u001b[0m     x\u001b[38;5;241m=\u001b[39m\u001b[38;5;28mint\u001b[39m(\u001b[38;5;28minput\u001b[39m(\u001b[38;5;124m\"\u001b[39m\u001b[38;5;124mEnter first value:\u001b[39m\u001b[38;5;124m\"\u001b[39m))\n\u001b[1;32m----> 3\u001b[0m     y\u001b[38;5;241m=\u001b[39m\u001b[38;5;28;43mint\u001b[39;49m\u001b[43m(\u001b[49m\u001b[38;5;28;43minput\u001b[39;49m\u001b[43m(\u001b[49m\u001b[38;5;124;43m\"\u001b[39;49m\u001b[38;5;124;43mEnter second value:\u001b[39;49m\u001b[38;5;124;43m\"\u001b[39;49m\u001b[43m)\u001b[49m\u001b[43m)\u001b[49m\n\u001b[0;32m      4\u001b[0m     z\u001b[38;5;241m=\u001b[39mx\u001b[38;5;241m/\u001b[39my\n\u001b[0;32m      5\u001b[0m     \u001b[38;5;28mprint\u001b[39m(z)\n",
      "\u001b[1;31mValueError\u001b[0m: invalid literal for int() with base 10: 'two'"
     ]
    }
   ],
   "source": [
    "#here error will occur, till it's print finally block....\n",
    "try:\n",
    "    x=int(input(\"Enter first value:\"))\n",
    "    y=int(input(\"Enter second value:\"))\n",
    "    z=x/y\n",
    "    print(z)\n",
    "except(ZeroDivisionError):\n",
    "    print(\"2nd number can't be divided\")\n",
    "finally:\n",
    "    print(\"Welcome to python world\")\n",
    "print(\"end\")"
   ]
  },
  {
   "cell_type": "code",
   "execution_count": 3,
   "id": "5683f2fa",
   "metadata": {},
   "outputs": [
    {
     "name": "stdout",
     "output_type": "stream",
     "text": [
      "Enter your Age:12\n",
      "The age is less,not eligible to vote\n"
     ]
    }
   ],
   "source": [
    "try:\n",
    "    age=int(input(\"Enter your Age:\"))\n",
    "    if age<18:\n",
    "        raise ValueError\n",
    "    else:\n",
    "        print(\"you are eligible\")\n",
    "except ValueError:\n",
    "    print(\"The age is less,not eligible to vote\")"
   ]
  },
  {
   "cell_type": "code",
   "execution_count": 11,
   "id": "910c426d",
   "metadata": {},
   "outputs": [
    {
     "name": "stdout",
     "output_type": "stream",
     "text": [
      "Enter a:10\n",
      "Enter b:two\n",
      "Enter numerical values only\n",
      "a= 10\n",
      "b= 11\n"
     ]
    }
   ],
   "source": [
    "#Zero division error:\n",
    "try:\n",
    "    a=int(input(\"Enter a:\"))\n",
    "    b=int(input(\"Enter b:\"))\n",
    "    if b==0:\n",
    "        raise ZeroDivisionError\n",
    "    else:\n",
    "        print(\"a/b=\",a/b)\n",
    "except (ValueError):\n",
    "    print(\"Enter numerical values only\")\n",
    "except (ZeroDivisionError):\n",
    "    print(\"The value of b cannot be 0\")\n",
    "finally:\n",
    "    try:\n",
    "        print(\"a=\",a)\n",
    "        print(\"b=\",b)\n",
    "    except:\n",
    "        print(\"Invalid Input\")"
   ]
  },
  {
   "cell_type": "code",
   "execution_count": 13,
   "id": "36e34135",
   "metadata": {},
   "outputs": [
    {
     "name": "stdout",
     "output_type": "stream",
     "text": [
      "Enter the marks:101\n",
      "101 are out of range\n"
     ]
    }
   ],
   "source": [
    "#Value error\n",
    "try:\n",
    "    marks=int(input('Enter the marks:'))\n",
    "    if (marks>100):\n",
    "        raise ValueError\n",
    "except(ValueError):\n",
    "    print(marks,\"are out of range\")\n",
    "else:\n",
    "    print(\"Marks:\",marks)"
   ]
  },
  {
   "cell_type": "code",
   "execution_count": 16,
   "id": "e6d43cda",
   "metadata": {},
   "outputs": [
    {
     "name": "stdout",
     "output_type": "stream",
     "text": [
      "File doesnt exist\n",
      "File not opened\n"
     ]
    }
   ],
   "source": [
    "#try except finally block\n",
    "#File not found error:\n",
    "try:\n",
    "    f=None\n",
    "    f=open(\"C:/data/demo1.txt\",\"r\")\n",
    "    if (f!=None):\n",
    "        print(\"File opend successfully\")\n",
    "        print(f.read())\n",
    "    else:\n",
    "        raise FileNotFoundError\n",
    "except(FileNotFoundError):\n",
    "    print(\"File doesnt exist\")\n",
    "except:   #this block is for any other error.\n",
    "    print(\"Error\")\n",
    "finally:\n",
    "    if(f!=None):\n",
    "        f.close()\n",
    "        print(\"File closed successfully\")\n",
    "    else:   #if file not found else will execute\n",
    "        print(\"File not opened\")"
   ]
  },
  {
   "cell_type": "code",
   "execution_count": 21,
   "id": "6b186120",
   "metadata": {},
   "outputs": [
    {
     "name": "stdout",
     "output_type": "stream",
     "text": [
      "Enter a Number:12\n",
      "This value is too large,try again\n",
      "Enter a Number:5\n",
      "This value is too small,try again\n",
      "Enter a Number:16\n",
      "This value is too large,try again\n",
      "Enter a Number:9\n",
      "This value is too small,try again\n",
      "Enter a Number:10\n",
      "Congrats!! You guessed it correctly....\n"
     ]
    }
   ],
   "source": [
    "#program to guess a number\n",
    "class Error(Exception):  #Error is userdefined class that extends pred-defined class Exception\n",
    "    \"\"\"Base class for other exception\"\"\"\n",
    "    pass\n",
    "class ValueTooSmallError(Error):  #ValueTooSmallError is a userdefined class that extends another user-defined class(Error) which extends pre-defined class Exception\n",
    "    \"\"\"Raised when the i/p value is too large\"\"\"\n",
    "    pass\n",
    "class ValueTooLargeError(Error):\n",
    "    \"\"\"Raised when the i/p value is too small\"\"\"\n",
    "    pass\n",
    "number=10\n",
    "while True:     #infinte while loop\n",
    "    try:\n",
    "        x=int(input(\"Enter a Number:\"))\n",
    "        if x<number:\n",
    "            raise ValueTooSmallError\n",
    "        elif x>number:\n",
    "            raise ValueTooLargeError\n",
    "        break\n",
    "    except(ValueTooSmallError):\n",
    "        print(\"This value is too small,try again\")\n",
    "    except(ValueTooLargeError):\n",
    "        print(\"This value is too large,try again\")\n",
    "print(\"Congrats!! You guessed it correctly....\")"
   ]
  },
  {
   "cell_type": "code",
   "execution_count": null,
   "id": "12f79385",
   "metadata": {},
   "outputs": [],
   "source": []
  }
 ],
 "metadata": {
  "kernelspec": {
   "display_name": "Python 3 (ipykernel)",
   "language": "python",
   "name": "python3"
  },
  "language_info": {
   "codemirror_mode": {
    "name": "ipython",
    "version": 3
   },
   "file_extension": ".py",
   "mimetype": "text/x-python",
   "name": "python",
   "nbconvert_exporter": "python",
   "pygments_lexer": "ipython3",
   "version": "3.9.12"
  }
 },
 "nbformat": 4,
 "nbformat_minor": 5
}
